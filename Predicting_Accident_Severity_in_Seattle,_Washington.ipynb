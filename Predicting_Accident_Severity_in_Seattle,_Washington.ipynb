{
 "cells": [
  {
   "cell_type": "markdown",
   "metadata": {},
   "source": [
    "# <center>Predicting Vehicle Accident Severity in Seattle, Washington</center>"
   ]
  },
  {
   "cell_type": "markdown",
   "metadata": {},
   "source": [
    "## <center>Christopher Bates</center>\n",
    "### <center>12 October 2020</center>"
   ]
  },
  {
   "cell_type": "markdown",
   "metadata": {},
   "source": [
    "\n",
    "\n",
    "\n",
    "\n",
    "\n",
    "\n",
    "\n",
    "\n"
   ]
  },
  {
   "cell_type": "markdown",
   "metadata": {},
   "source": [
    "## Introduction"
   ]
  },
  {
   "cell_type": "markdown",
   "metadata": {},
   "source": [
    "### Background"
   ]
  },
  {
   "cell_type": "markdown",
   "metadata": {},
   "source": [
    "Personal transportation plays a critical role in the lives of nearly every resident of the United States. \n",
    "With the continued growth of suburbs and increasing commuting times, it is essential for commuters to have safe, reliable modes of transportation.\n",
    "Ride-sharing services like Uber, as well as fleets of bicycles and electric scooters for rent, have certainly provided more travel options.\n",
    "But these \"greener\" modes of transportation are not without risk.\n",
    "In 2017, according to the Centers for Disease Control and Prevention, motor vehicle accidents alone accounted for 40,231 fatalites, \n",
    "not to mention many times this number of severe injuries.\n",
    "Could the increased use of bicycles, scooters, and ride-sharing services actually increase the frequency of serious or fatal accidents\n",
    "between motor vehicles and the more vulnerable pedestrians or cyclists?\n",
    "Commuters certainly deserve to know the risks involved in their daily transit behaviors.\n",
    "Machine learning technologies can quantify these risks, allowing commuters to make informed decisions based on travel conditions and traffic data."
   ]
  },
  {
   "cell_type": "markdown",
   "metadata": {},
   "source": [
    "### Problem"
   ]
  },
  {
   "cell_type": "markdown",
   "metadata": {},
   "source": [
    "The goal for each model is to predict the severity of an accident, where the severity is defined by one of four classes:\n",
    "<ul>\n",
    "    <li>property damage, but no injuries and no fatalities;</li>\n",
    "    <li>at least on injury, but no serious injuries and no fatalites;</li>\n",
    "    <li>at least one serious injury, but no fatalites;</li>\n",
    "    <li>at least one fatality.</li>\n",
    "</ul>\n",
    "Each model will receive data regarding a set of moter vehicle accidents.\n",
    "For each incident, the model will be aware of the weather, road, and lighting conditions at the time and location of the motor vehicle accident.\n",
    "The input to the model will also include the number of people involved in the accident and the nature of their involvement,\n",
    "the number and types of vehicles and the nature of their involvement."
   ]
  },
  {
   "cell_type": "markdown",
   "metadata": {},
   "source": [
    "### Interest"
   ]
  },
  {
   "cell_type": "markdown",
   "metadata": {},
   "source": [
    "When an accident is initially reported to first responders, it can be helpful to have an accurate prediction of the severity of the accident.\n",
    "Such  an \"accident severity forecast\" could allowing emergency rooms and hospital staff to allocate their resources more efficiently.\n",
    "Furthermore, these accident severity forecasts can enable city planners, engineers, and architects to design traffic safer transit systems \n",
    "Since the advent of autonomous vehicles, it is certain that accident severity models can be used to self-driving cars to choose safer routes\n",
    "based on weather and traffic conditions, including densities of pedestrians, cyclists, and other vehicles.\n",
    "Smart vehicles involved in an accident could generate an accident severity forcast based on  the telemetry collected\n",
    "by their sensor arrays, and communicate the details of the incident to first responders,\n",
    "allowing them to assist appropriately, including with the use of autonomous emergency vehicles."
   ]
  },
  {
   "cell_type": "markdown",
   "metadata": {},
   "source": [
    "## Data Acquisition and Cleaning"
   ]
  },
  {
   "cell_type": "markdown",
   "metadata": {},
   "source": [
    "### Data Sources"
   ]
  },
  {
   "cell_type": "markdown",
   "metadata": {},
   "source": [
    "All of the data used in the training, testing, and validation of our machine learning models was obtained from the \n",
    "[City of Seattle's Open Data Portal](https://data-seattlecitygis.opendata.arcgis.com/datasets/collisions) free of charge. \n",
    "Accorinding to the website, the data set includes all types of collisions in a timeframe starting in 2004 through the present.\n",
    "Because the data set available on this website may change over time,\n",
    "we downloaded the collisions data set once and performed all training, testing, and validation with the same locally stored data set."
   ]
  },
  {
   "cell_type": "markdown",
   "metadata": {},
   "source": [
    "### Data Cleaning"
   ]
  },
  {
   "cell_type": "markdown",
   "metadata": {},
   "source": [
    "### Feature Selection"
   ]
  },
  {
   "cell_type": "markdown",
   "metadata": {},
   "source": [
    "## Exploratory Data Analysis"
   ]
  },
  {
   "cell_type": "markdown",
   "metadata": {},
   "source": []
  },
  {
   "cell_type": "markdown",
   "metadata": {},
   "source": []
  },
  {
   "cell_type": "markdown",
   "metadata": {},
   "source": []
  },
  {
   "cell_type": "markdown",
   "metadata": {},
   "source": [
    "## Classification Models"
   ]
  },
  {
   "cell_type": "markdown",
   "metadata": {},
   "source": []
  },
  {
   "cell_type": "markdown",
   "metadata": {},
   "source": []
  },
  {
   "cell_type": "markdown",
   "metadata": {},
   "source": []
  },
  {
   "cell_type": "markdown",
   "metadata": {},
   "source": [
    "## Conclusions"
   ]
  },
  {
   "cell_type": "markdown",
   "metadata": {},
   "source": []
  },
  {
   "cell_type": "markdown",
   "metadata": {},
   "source": []
  },
  {
   "cell_type": "markdown",
   "metadata": {},
   "source": []
  },
  {
   "cell_type": "markdown",
   "metadata": {},
   "source": [
    "## Future Investigations"
   ]
  },
  {
   "cell_type": "markdown",
   "metadata": {},
   "source": [
    "predict the number of minor injuries, severe injuries, and fatalities"
   ]
  },
  {
   "cell_type": "markdown",
   "metadata": {},
   "source": []
  },
  {
   "cell_type": "markdown",
   "metadata": {},
   "source": []
  },
  {
   "cell_type": "markdown",
   "metadata": {},
   "source": [
    "## Acknowledgements"
   ]
  },
  {
   "cell_type": "markdown",
   "metadata": {},
   "source": []
  },
  {
   "cell_type": "markdown",
   "metadata": {},
   "source": []
  },
  {
   "cell_type": "markdown",
   "metadata": {},
   "source": []
  }
 ],
 "metadata": {
  "kernelspec": {
   "display_name": "Python 3",
   "language": "python",
   "name": "python3"
  },
  "language_info": {
   "codemirror_mode": {
    "name": "ipython",
    "version": 3
   },
   "file_extension": ".py",
   "mimetype": "text/x-python",
   "name": "python",
   "nbconvert_exporter": "python",
   "pygments_lexer": "ipython3",
   "version": "3.8.3"
  }
 },
 "nbformat": 4,
 "nbformat_minor": 4
}
