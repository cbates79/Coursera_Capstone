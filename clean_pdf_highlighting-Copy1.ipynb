{
 "cells": [
  {
   "cell_type": "code",
   "execution_count": 1,
   "metadata": {},
   "outputs": [],
   "source": [
    "# This Python 3 script copies the text between certain tags in a PDF .annot file\n",
    "# to a new file."
   ]
  },
  {
   "cell_type": "code",
   "execution_count": 2,
   "metadata": {},
   "outputs": [],
   "source": [
    "# Import packages and modules for XML processing.\n",
    "import io\n",
    "import itertools\n",
    "import xml\n",
    "import xml.etree\n",
    "import xml.etree.ElementTree\n",
    "import xml.etree.ElementTree as ET\n",
    "import numpy as np\n",
    "import os\n",
    "import pandas as pd\n",
    "import sys\n",
    "import timeit\n",
    "import warnings\n",
    "from timeit import default_timer"
   ]
  },
  {
   "cell_type": "code",
   "execution_count": 3,
   "metadata": {},
   "outputs": [
    {
     "name": "stdout",
     "output_type": "stream",
     "text": [
      "Current working directory:\n",
      "/home/chris/Documents/Linda Garcia/Reframing Organizations Artistry Choice and Leadership by Lee G Bolman Terrence E Deal - 2017 - Edition 6 - Folder\n"
     ]
    }
   ],
   "source": [
    "# Store the current working directory's path as a string, and print it.\n",
    "current_working_directory_str = os.getcwd()\n",
    "print('Current working directory:\\n%s' % (current_working_directory_str))"
   ]
  },
  {
   "cell_type": "code",
   "execution_count": 4,
   "metadata": {},
   "outputs": [
    {
     "name": "stdout",
     "output_type": "stream",
     "text": [
      "Current working directory's contents:\n",
      "'Reframing Organizations Artistry Choice and Leadership by Lee G Bolman Terrence E Deal - 2017 - Edition 6.pdf.annot', '.ipynb_checkpoints', 'Reframing Organizations Artistry Choice and Leadership by Lee G Bolman Terrence E Deal - 2017 - Edition 6.pdf.annot.xml', 'Reframing Organizations Artistry, Choice, and Leadership by Lee G. Bolman Terrence E Deal - 2017 - Edition 6.pdf', 'clean_pdf_highlighting.ipynb', 'Reframing Organizations Artistry Choice and Leadership by Lee G Bolman Terrence E Deal - 2017 - Edition 6.pdf.annot.xhtml'\n"
     ]
    }
   ],
   "source": [
    "# Store the contents of the current working directory as a list and print the list's elements.\n",
    "# For improved aesthetics, print the list without its brackets using slicing.\n",
    "current_working_directory_contents_list = os.listdir()\n",
    "print('Current working directory\\'s contents:\\n%s' % str(current_working_directory_contents_list)[1: -1])"
   ]
  },
  {
   "cell_type": "code",
   "execution_count": 5,
   "metadata": {},
   "outputs": [
    {
     "name": "stdout",
     "output_type": "stream",
     "text": [
      "PDF annotation document's path:\n",
      "/home/chris/Documents/Linda Garcia/Reframing Organizations Artistry Choice and Leadership by Lee G Bolman Terrence E Deal - 2017 - Edition 6 - Folder/Reframing Organizations Artistry Choice and Leadership by Lee G Bolman Terrence E Deal - 2017 - Edition 6.pdf.annot.xml\n"
     ]
    }
   ],
   "source": [
    "# Store the path of the XML PDF annotation document as a string and print the path string.\n",
    "xml_pdf_annotation_document_path = os.path.realpath('Reframing Organizations Artistry Choice and Leadership by Lee G Bolman Terrence E Deal - 2017 - Edition 6.pdf.annot.xml')\n",
    "print('PDF annotation document\\'s path:\\n%s' % (xml_pdf_annotation_document_path))"
   ]
  },
  {
   "cell_type": "code",
   "execution_count": 6,
   "metadata": {},
   "outputs": [],
   "source": [
    "# Open the XML PDF annotation document in read-only mode and read the entire file into a string.\n",
    "input_file_stream = open(xml_pdf_annotation_document_path, mode='rt', encoding='utf-8')\n",
    "xml_pdf_annotation_document_as_string = input_file_stream.read()"
   ]
  },
  {
   "cell_type": "code",
   "execution_count": 7,
   "metadata": {},
   "outputs": [],
   "source": [
    "# Print the string that stores the contents of the document.\n",
    "#print(xml_pdf_annotation_document_as_string)"
   ]
  },
  {
   "cell_type": "code",
   "execution_count": 8,
   "metadata": {},
   "outputs": [],
   "source": [
    "# Close the XML PDF annotation document.\n",
    "input_file_stream.close()"
   ]
  },
  {
   "cell_type": "code",
   "execution_count": 9,
   "metadata": {},
   "outputs": [
    {
     "name": "stdout",
     "output_type": "stream",
     "text": [
      "PDF annotation document's directory:\n",
      "/home/chris/Documents/Linda Garcia/Reframing Organizations Artistry Choice and Leadership by Lee G Bolman Terrence E Deal - 2017 - Edition 6 - Folder\n"
     ]
    }
   ],
   "source": [
    "# Store the directory component of the PDF annotation document's path.\n",
    "# This will also be the directory path for the extracted annotation data file.\n",
    "pdf_annotation_document_directory = os.path.dirname(xml_pdf_annotation_document_path)\n",
    "print('PDF annotation document\\'s directory:\\n%s' % (pdf_annotation_document_directory))"
   ]
  },
  {
   "cell_type": "code",
   "execution_count": 10,
   "metadata": {},
   "outputs": [
    {
     "name": "stdout",
     "output_type": "stream",
     "text": [
      "Unique timestamp suffix: 17502370\n"
     ]
    }
   ],
   "source": [
    "# Generate a unique positive integer using the operating system's clock, and store this integer as a string.\n",
    "unique_time_stamp_suffix = np.int(os.times()[4])\n",
    "print('Unique timestamp suffix: %d' % unique_time_stamp_suffix)"
   ]
  },
  {
   "cell_type": "code",
   "execution_count": 11,
   "metadata": {},
   "outputs": [
    {
     "name": "stdout",
     "output_type": "stream",
     "text": [
      "Extracted annotation data output file path:\n",
      "/home/chris/Documents/Linda Garcia/Reframing Organizations Artistry Choice and Leadership by Lee G Bolman Terrence E Deal - 2017 - Edition 6 - Folder\\extracted_annotation_data_output_file17502370.txt\n"
     ]
    }
   ],
   "source": [
    "# Construct the path for the extracted annotation data output file using the following concatenation of strings:\n",
    "# <extracted_annotation_data_output_file_path> = <annotation_output_file_directory_as_a_string> + '/' +\n",
    "#                                             + 'extracted_annotation_data_file' + '/' + <unique_integer_as_a_string>\n",
    "extracted_annotation_data_output_file_path = str(pdf_annotation_document_directory) + '\\extracted_annotation_data_output_file' +\\\n",
    "                                             str(unique_time_stamp_suffix) + '.txt'\n",
    "print('Extracted annotation data output file path:\\n%s' % (extracted_annotation_data_output_file_path))"
   ]
  },
  {
   "cell_type": "code",
   "execution_count": 12,
   "metadata": {},
   "outputs": [],
   "source": [
    "# Open the extracted annotation data output file in writing mode.\n",
    "output_file_stream = open(extracted_annotation_data_output_file_path, mode='w', encoding='utf-8')"
   ]
  },
  {
   "cell_type": "code",
   "execution_count": 13,
   "metadata": {},
   "outputs": [
    {
     "name": "stdout",
     "output_type": "stream",
     "text": [
      "<Element '{http://ns.adobe.com/digitaleditions/annotations}annotationSet' at 0x7f596cae00e0>\n"
     ]
    }
   ],
   "source": [
    "# Import the data directly from the string which now stores the entire XML PDF annotations file contents.\n",
    "#root = ET.fromstring(xml_pdf_annotation_document_as_string)\n",
    "tree = ET.parse(xml_pdf_annotation_document_path)\n",
    "root = tree.getroot()\n",
    "print(root)"
   ]
  },
  {
   "cell_type": "code",
   "execution_count": 14,
   "metadata": {},
   "outputs": [],
   "source": [
    "tag_list = ['title', 'text']"
   ]
  },
  {
   "cell_type": "code",
   "execution_count": 15,
   "metadata": {},
   "outputs": [],
   "source": [
    "# Iterate recursively over all the sub-tree below the root.\n",
    "# If the tag word is in the given list, then the node's text is printed.\n",
    "# If the tag word is not in the given list, then nothing occurs.\n",
    "for i in root.iter():\n",
    "    tag_string = (i.tag).rsplit(sep='}', maxsplit=1)[-1]\n",
    "    text_string = i.text\n",
    "    if (tag_string in tag_list):\n",
    "        if text_string is None:\n",
    "            pass\n",
    "        else:\n",
    "            # Write the tag and a linefeed to the output file stream.\n",
    "            #output_file_stream.write(tag_string + '\\n')\n",
    "            \n",
    "            # Write the text and a linefeed to the output file stream.\n",
    "            output_file_stream.write(text_string + '\\n')\n",
    "            \n",
    "            if tag_string in ['text']:\n",
    "                output_file_stream.write('\\n\\n')\n",
    "            \n",
    "            #print('tag: %s' % tag_string)\n",
    "            #print('text: %s' % text_string)\n",
    "            #print('text type: %s' % type(text_string))\n",
    "            #print(type(text_string) in [type('NoneType')])\n",
    "            #print('text as list of characters:', text_string.split())"
   ]
  },
  {
   "cell_type": "code",
   "execution_count": 16,
   "metadata": {},
   "outputs": [
    {
     "name": "stdout",
     "output_type": "stream",
     "text": [
      "Extracted annotations are in: \n",
      "/home/chris/Documents/Linda Garcia/Reframing Organizations Artistry Choice and Leadership by Lee G Bolman Terrence E Deal - 2017 - Edition 6 - Folder\\extracted_annotation_data_output_file17502370.txt\n"
     ]
    }
   ],
   "source": [
    "print('Extracted annotations are in: \\n%s' % (extracted_annotation_data_output_file_path))"
   ]
  },
  {
   "cell_type": "code",
   "execution_count": 17,
   "metadata": {},
   "outputs": [],
   "source": [
    "# Close the output file stream.\n",
    "output_file_stream.close()"
   ]
  }
 ],
 "metadata": {
  "kernelspec": {
   "display_name": "Python 3",
   "language": "python",
   "name": "python3"
  },
  "language_info": {
   "codemirror_mode": {
    "name": "ipython",
    "version": 3
   },
   "file_extension": ".py",
   "mimetype": "text/x-python",
   "name": "python",
   "nbconvert_exporter": "python",
   "pygments_lexer": "ipython3",
   "version": "3.8.3"
  }
 },
 "nbformat": 4,
 "nbformat_minor": 4
}
