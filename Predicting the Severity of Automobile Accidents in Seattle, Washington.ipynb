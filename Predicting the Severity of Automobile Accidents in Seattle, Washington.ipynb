{
 "cells": [
  {
   "cell_type": "markdown",
   "metadata": {},
   "source": [
    "### Predicting the Severity of Automobile Accidents in Seattle, Washington ###"
   ]
  },
  {
   "cell_type": "markdown",
   "metadata": {},
   "source": [
    "In this first week, you will discover your\n",
    "project objectives, find your dataset that you will use for this capstone project, and publish your\n",
    "dataset on GitHub.\n",
    "\n",
    "In the second week, you will build your machine\n",
    "learning solution.\n",
    "\n",
    "In the third week,\n",
    "you will finalize your model and be ready\n",
    "to submit your work.\n",
    "\n",
    "To complete capstone,\n",
    "you will be working on a case study which is to predict the severity\n",
    "of an accident.\n",
    "Now, wouldn't it be great if there were something in place that could warn you, \n",
    "given the weather and the road conditions,\n",
    "about the possibility of you getting into a car accident and how severe it would be,\n",
    "so that you would drive more carefully or even change your travel plans?\n",
    "Let's use our shared data for Seattle, Washington as an example of how to deal with the accidents data."
   ]
  },
  {
   "cell_type": "code",
   "execution_count": 1,
   "metadata": {},
   "outputs": [],
   "source": [
    "# Import packages.\n",
    "import pandas as pd\n",
    "import numpy as np\n",
    "import itertools\n",
    "import matplotlib.pyplot as plt\n",
    "from matplotlib.ticker import NullFormatter\n",
    "import matplotlib.ticker as ticker\n",
    "from sklearn import preprocessing\n",
    "%matplotlib inline"
   ]
  },
  {
   "cell_type": "code",
   "execution_count": 2,
   "metadata": {},
   "outputs": [],
   "source": [
    "# Set maximum number of columns and rows to display.\n",
    "pd.set_option('display.max_columns', None)\n",
    "pd.set_option('display.max_rows', 100)"
   ]
  },
  {
   "cell_type": "code",
   "execution_count": 3,
   "metadata": {},
   "outputs": [],
   "source": [
    "# Read the Collisions Data CSV file and store it as a DataFrame.\n",
    "# Attribute information URL: https://www.seattle.gov/Documents/Departments/SDOT/GIS/Collisions_OD.pdf\n",
    "url=\"http://data-seattlecitygis.opendata.arcgis.com/datasets/5b5c745e0f1f48e7a53acec63a0022ab_0.csv?outSR={%22latestWkid%22:2926,%22wkid%22:2926}\"\n",
    "df=pd.read_csv(url, low_memory=False)"
   ]
  },
  {
   "cell_type": "raw",
   "metadata": {},
   "source": [
    "# Print a concise, technical summary of the collisions DataFrame.\n",
    "df.info()"
   ]
  },
  {
   "cell_type": "code",
   "execution_count": 5,
   "metadata": {},
   "outputs": [],
   "source": [
    "# Store all the numeric type columns of the collisions DataFrame in a new\n",
    "# DataFrame, and stores all the object type columns in another new DataFrame.\n",
    "\n",
    "df_numeric = df.select_dtypes(include=\"number\")\n",
    "df_object = df.select_dtypes(include=\"object\")"
   ]
  },
  {
   "cell_type": "raw",
   "metadata": {},
   "source": [
    "print(\"Number of numeric type columns in collisions DataFrame:\", df_numeric.columns.size)\n",
    "df_numeric.head()"
   ]
  },
  {
   "cell_type": "raw",
   "metadata": {},
   "source": [
    "print(\"Number of object type columns in collisions DataFrame:\", df_object.columns.size)\n",
    "df_object.head()"
   ]
  },
  {
   "cell_type": "code",
   "execution_count": 8,
   "metadata": {},
   "outputs": [
    {
     "name": "stdout",
     "output_type": "stream",
     "text": [
      "                  X\n",
      "count  2.137970e+05\n",
      "mean   1.271148e+06\n",
      "std    7.361248e+03\n",
      "min    1.249026e+06\n",
      "25%    1.266677e+06\n",
      "50%    1.271142e+06\n",
      "75%    1.276030e+06\n",
      "max    1.293052e+06\n",
      "\n",
      "X relative frequency:\n",
      "NaN             0.033756\n",
      "1.271306e+06    0.001338\n",
      "1.268354e+06    0.001274\n",
      "1.271692e+06    0.001247\n",
      "1.268385e+06    0.001220\n",
      "                  ...   \n",
      "1.274071e+06    0.000005\n",
      "1.282934e+06    0.000005\n",
      "1.263309e+06    0.000005\n",
      "1.256243e+06    0.000005\n",
      "1.257777e+06    0.000005\n",
      "Name: X, Length: 24968, dtype: float64\n",
      "\n",
      "X value count:\n",
      "NaN             7469\n",
      "1.271306e+06     296\n",
      "1.268354e+06     282\n",
      "1.271692e+06     276\n",
      "1.268385e+06     270\n",
      "                ... \n",
      "1.274071e+06       1\n",
      "1.282934e+06       1\n",
      "1.263309e+06       1\n",
      "1.256243e+06       1\n",
      "1.257777e+06       1\n",
      "Name: X, Length: 24968, dtype: int64\n",
      "\n",
      "\n"
     ]
    }
   ],
   "source": [
    "# For each column in the numeric DataFrame, print a description of the column.\n",
    "for column in list(df_numeric.columns)[0:1]:\n",
    "    #print(column)\n",
    "    print(df_numeric[[column]].describe(include=\"all\"))\n",
    "    print()\n",
    "    print(column, \"relative frequency:\")\n",
    "    print(df_numeric[column].value_counts(normalize=True, dropna=False))\n",
    "    print()\n",
    "    print(column, \"value count:\")\n",
    "    print(df_numeric[column].value_counts(normalize=False, dropna=False))\n",
    "    print()\n",
    "    print()"
   ]
  },
  {
   "cell_type": "code",
   "execution_count": 9,
   "metadata": {},
   "outputs": [
    {
     "name": "stdout",
     "output_type": "stream",
     "text": [
      "       REPORTNO\n",
      "count    221266\n",
      "unique   221263\n",
      "top     1776526\n",
      "freq          2\n",
      "\n",
      "REPORTNO relative frequency:\n",
      "1776526    0.000009\n",
      "1782439    0.000009\n",
      "1780512    0.000009\n",
      "3566718    0.000005\n",
      "3767766    0.000005\n",
      "             ...   \n",
      "3573201    0.000005\n",
      "3811368    0.000005\n",
      "3549381    0.000005\n",
      "EA40785    0.000005\n",
      "C753301    0.000005\n",
      "Name: REPORTNO, Length: 221263, dtype: float64\n",
      "\n",
      "REPORTNO value count:\n",
      "1776526    2\n",
      "1782439    2\n",
      "1780512    2\n",
      "3566718    1\n",
      "3767766    1\n",
      "          ..\n",
      "3573201    1\n",
      "3811368    1\n",
      "3549381    1\n",
      "EA40785    1\n",
      "C753301    1\n",
      "Name: REPORTNO, Length: 221263, dtype: int64\n",
      "\n",
      "\n"
     ]
    }
   ],
   "source": [
    "# For each column in the object DataFrame, print a description of the column.\n",
    "for column in list(df_object.columns)[0:1]:\n",
    "    print(df_object[[column]].describe(include=\"all\"))\n",
    "    print()\n",
    "    print(column, \"relative frequency:\")\n",
    "    print(df_object[column].value_counts(normalize=True, dropna=False))\n",
    "    print()\n",
    "    print(column, \"value count:\")\n",
    "    print(df_object[column].value_counts(normalize=False, dropna=False))\n",
    "    print()\n",
    "    print()"
   ]
  },
  {
   "cell_type": "raw",
   "metadata": {},
   "source": [
    "df_object[[\"SEVERITYCODE\"]].describe(include='all')"
   ]
  },
  {
   "cell_type": "raw",
   "metadata": {},
   "source": [
    "df[\"SEVERITYCODE\"].value_counts(dropna=False)"
   ]
  },
  {
   "cell_type": "raw",
   "metadata": {},
   "source": [
    "df[\"SEVERITYCODE\"].value_counts(normalize=True, dropna=False)"
   ]
  },
  {
   "cell_type": "raw",
   "metadata": {},
   "source": [
    "df[df[\"SEVERITYCODE\"].isnull() == True]"
   ]
  },
  {
   "cell_type": "raw",
   "metadata": {},
   "source": [
    "# Drop columns from the DataFrame that contain identifiers/keys with have no predictive value.\n",
    "id_columns = ['OBJECTID', 'INCKEY', 'COLDETKEY', 'REPORTNO', 'EXCEPTRSNCODE', 'SDOTCOLNUM', ]\n",
    "df.drop(columns=id_columns, inplace=True)"
   ]
  },
  {
   "cell_type": "raw",
   "metadata": {},
   "source": [
    "# Compare two columns of DataFrame that have similar names.\n",
    "pd.Series(df[\"SEVERITYCODE\"] == df[\"SEVERITYCODE.1\"]).value_counts()"
   ]
  },
  {
   "cell_type": "raw",
   "metadata": {},
   "source": [
    "# Columns SEVERITYCODE and SEVERITYCODE.1 are redundant,\n",
    "# so drop column SEVERITYCODE.1 from the DataFrame.\n",
    "df.drop(columns=\"SEVERITYCODE.1\", inplace=True)"
   ]
  },
  {
   "cell_type": "raw",
   "metadata": {},
   "source": [
    "# Identify missing data in the DataFrame.\n",
    "missing_data = df.isnull()\n",
    "\n",
    "print(\"True corresponds to NaN in the Collisions DataFrame.\")\n",
    "print(\"False corresponds to actual data in the Collisions DataFrame.\")\n",
    "\n",
    "print()\n",
    "# Count missing values in each column.\n",
    "for column in missing_data.columns.values.tolist():\n",
    "    print(column, \":\", sep='')\n",
    "    #print(\"Absolute frequencies of NaN (not normalized):\")\n",
    "    #print(missing_data[column].value_counts())\n",
    "    print(\"Relative frequencies of NaN (normalized):\")\n",
    "    print (missing_data[column].value_counts(normalize=True))\n",
    "    print()    "
   ]
  },
  {
   "cell_type": "raw",
   "metadata": {},
   "source": [
    "# Deal with missing data.\n",
    "# Print relative frequency of each unique value for each column of the DataFrame.\n",
    "for column in df.columns.values.tolist():\n",
    "    print(column, \":\", sep='')\n",
    "    print(\"Relative frequencies of values including NaN (normalized):\")\n",
    "    print(df[column].value_counts(normalize=True, dropna=False))\n",
    "    print(\"Frequencies of values including NaN (not normalized):\")\n",
    "    print(df[column].value_counts(dropna=False))\n",
    "    print()    "
   ]
  },
  {
   "cell_type": "raw",
   "metadata": {},
   "source": [
    "# Correct data format.\n"
   ]
  },
  {
   "cell_type": "raw",
   "metadata": {},
   "source": [
    "# Clean up time series\n",
    "#df[\"INCDTTM\"].value_counts().head(60)#ascending=True)"
   ]
  }
 ],
 "metadata": {
  "kernelspec": {
   "display_name": "Python 3",
   "language": "python",
   "name": "python3"
  },
  "language_info": {
   "codemirror_mode": {
    "name": "ipython",
    "version": 3
   },
   "file_extension": ".py",
   "mimetype": "text/x-python",
   "name": "python",
   "nbconvert_exporter": "python",
   "pygments_lexer": "ipython3",
   "version": "3.8.3"
  }
 },
 "nbformat": 4,
 "nbformat_minor": 4
}
