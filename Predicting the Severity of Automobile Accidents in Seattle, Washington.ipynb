{
 "cells": [
  {
   "cell_type": "markdown",
   "metadata": {},
   "source": [
    "### Predicting the Severity of Automobile Accidents in Seattle, Washington ###"
   ]
  },
  {
   "cell_type": "code",
   "execution_count": 1,
   "metadata": {},
   "outputs": [],
   "source": [
    "# Import packages and modules.\n",
    "import io\n",
    "import itertools\n",
    "import matplotlib as mpl\n",
    "import matplotlib.image as mpimg\n",
    "import matplotlib.pyplot as plt\n",
    "import matplotlib.ticker as ticker\n",
    "import numpy as np\n",
    "import os\n",
    "import pandas as pd\n",
    "import pylab as pl\n",
    "import scipy\n",
    "import scipy.optimize as opt\n",
    "import seaborn as sns\n",
    "import sklearn\n",
    "import sys\n",
    "from matplotlib.ticker import NullFormatter\n",
    "from scipy import optimize\n",
    "from scipy.optimize import curve_fit\n",
    "from scipy.sparse import csr_matrix\n",
    "from sklearn import linear_model\n",
    "from sklearn import metrics\n",
    "from sklearn import pipeline\n",
    "from sklearn import preprocessing\n",
    "from sklearn import svm\n",
    "from sklearn import tree\n",
    "from sklearn.linear_model import LinearRegression\n",
    "from sklearn.linear_model import LogisticRegression\n",
    "from sklearn.metrics import accuracy_score\n",
    "from sklearn.metrics import balanced_accuracy_score\n",
    "from sklearn.metrics import classification_report\n",
    "from sklearn.metrics import confusion_matrix\n",
    "from sklearn.metrics import f1_score\n",
    "from sklearn.metrics import jaccard_score\n",
    "from sklearn.metrics import log_loss\n",
    "from sklearn.metrics import plot_confusion_matrix\n",
    "from sklearn.metrics import r2_score\n",
    "from sklearn.model_selection import train_test_split\n",
    "from sklearn.neighbors import KNeighborsClassifier\n",
    "from sklearn.pipeline import make_pipeline\n",
    "from sklearn.pipeline import Pipeline\n",
    "from sklearn.preprocessing import OneHotEncoder\n",
    "from sklearn.preprocessing import PolynomialFeatures\n",
    "from sklearn.preprocessing import StandardScaler\n",
    "from sklearn.svm import LinearSVC\n",
    "from sklearn.svm import SVC\n",
    "from sklearn.tree import DecisionTreeClassifier\n",
    "%matplotlib inline"
   ]
  },
  {
   "cell_type": "markdown",
   "metadata": {},
   "source": [
    "In this first week, you will discover your\n",
    "project objectives, find your dataset that you will use for this capstone project, and publish your\n",
    "dataset on GitHub.\n",
    "\n",
    "In the second week, you will build your machine\n",
    "learning solution.\n",
    "\n",
    "In the third week,\n",
    "you will finalize your model and be ready\n",
    "to submit your work.\n",
    "\n",
    "To complete capstone,\n",
    "you will be working on a case study which is to predict the severity\n",
    "of an accident.\n",
    "Now, wouldn't it be great if there were something in place that could warn you, \n",
    "given the weather and the road conditions,\n",
    "about the possibility of you getting into a car accident and how severe it would be,\n",
    "so that you would drive more carefully or even change your travel plans?\n",
    "Let's use our shared data for Seattle, Washington as an example of how to deal with the accidents data."
   ]
  },
  {
   "cell_type": "code",
   "execution_count": 2,
   "metadata": {},
   "outputs": [],
   "source": [
    "# This function takes no arguments and returns an integer representing\n",
    "# the system time elapsed in seconds from a fixed instant of time.\n",
    "# This function requires the os package to be imported.\n",
    "# Specifically, it uses built-in function times() from module posix.\n",
    "def time_now():\n",
    "    return os.times()[4]"
   ]
  },
  {
   "cell_type": "code",
   "execution_count": 3,
   "metadata": {},
   "outputs": [],
   "source": [
    "# Define a global variable to store the starting time for this notebook.\n",
    "global notebook_start_time \n",
    "notebook_start_time = time_now()"
   ]
  },
  {
   "cell_type": "code",
   "execution_count": 4,
   "metadata": {},
   "outputs": [],
   "source": [
    "# This function computes the time elapsed in seconds from the \n",
    "# time represented by the first parameter (start_time)\n",
    "# to the time represented by the second parameter (end_time)\n",
    "# This function requires the os package to be imported.\n",
    "def elapsed_time(start_time = notebook_start_time):\n",
    "    return time_now() - start_time   "
   ]
  },
  {
   "cell_type": "code",
   "execution_count": 5,
   "metadata": {},
   "outputs": [],
   "source": [
    "# This function prints the time elapsed in seconds from the \n",
    "# time represented by the first parameter (start_time)\n",
    "# to the time represented by the second parameter (end_time)\n",
    "# This function requires the os package to be imported.\n",
    "def print_elapsed_time(start_time = notebook_start_time):\n",
    "    print(\"Elapsed time is\", elapsed_time(start_time), \"seconds.\")\n",
    "    return None"
   ]
  },
  {
   "cell_type": "code",
   "execution_count": 6,
   "metadata": {},
   "outputs": [
    {
     "name": "stdout",
     "output_type": "stream",
     "text": [
      "Elapsed time is 0.3199999965727329 seconds.\n"
     ]
    }
   ],
   "source": [
    "print_elapsed_time()"
   ]
  },
  {
   "cell_type": "code",
   "execution_count": 7,
   "metadata": {},
   "outputs": [
    {
     "name": "stdout",
     "output_type": "stream",
     "text": [
      "Setting display options...\n",
      "max_info_columns: 1000\n",
      "colheader_justify: right\n",
      "max_info_rows: 1000000\n",
      "column_space: 1000\n",
      "max_rows: 1000000\n",
      "precision: 9\n",
      "max_seq_items: 1000000000000\n",
      "show_dimensions: True\n",
      "max_categories: 100\n",
      "memory_usage: True\n",
      "max_columns: 1000\n",
      "max_colwidth: 1000\n",
      "float_format: <function <lambda> at 0x7f84c61b21f0>\n"
     ]
    }
   ],
   "source": [
    "# Create a list of display options.\n",
    "list_of_display_options_fully_qualified_names = str(\\\n",
    "\"pd.options.display.chop_threshold, pd.options.display.float_format, pd.options.display.max_info_columns, pd.options.display.notebook_repr_html, \\\n",
    "pd.options.display.colheader_justify, pd.options.display.html, pd.options.display.max_info_rows, pd.options.display.pprint_nest_depth, \\\n",
    "pd.options.display.column_space, pd.options.display.large_repr, pd.options.display.max_rows, pd.options.display.precision, \\\n",
    "pd.options.display.date_dayfirst, pd.options.display.latex, pd.options.display.max_seq_items, pd.options.display.show_dimensions, \\\n",
    "pd.options.display.date_yearfirst, pd.options.display.max_categories, pd.options.display.memory_usage, pd.options.display.unicode, \\\n",
    "pd.options.display.encoding, pd.options.display.max_columns, pd.options.display.min_rows, pd.options.display.width, \\\n",
    "pd.options.display.expand_frame_repr, pd.options.display.max_colwidth, pd.options.display.multi_sparse\").split(sep=', ')\n",
    "\n",
    "# Initialize an empty list to store all the short names for display options.\n",
    "list_of_display_options_short_names = list()\n",
    "# For each fully qualified option name,\n",
    "# get the option's short name and add it to the list of short names.\n",
    "for fully_qualified_option_name in list_of_display_options_fully_qualified_names:\n",
    "    # Get short option name.\n",
    "    short_option_name = fully_qualified_option_name.split(sep='.')[-1]\n",
    "    \n",
    "    # Add short option name to list of display option short names.\n",
    "    list_of_display_options_short_names.append(short_option_name)\n",
    "\n",
    "# Define dictionary of display option settings.\n",
    "dict_of_display_option_settings_short_names=\\\n",
    "{\"max_info_columns\": 1000,\\\n",
    "\"colheader_justify\": \"right\",\\\n",
    "\"max_info_rows\": 1000000,\\\n",
    "\"column_space\": 1000,\\\n",
    "\"max_rows\": 1000000,\\\n",
    "\"precision\": 9,\\\n",
    "\"max_seq_items\": 1000000000000,\\\n",
    "\"show_dimensions\": True,\\\n",
    "\"max_categories\": 100,\\\n",
    "\"memory_usage\": True,\\\n",
    "\"max_columns\": 1000,\\\n",
    "\"max_colwidth\": 1000,\\\n",
    "\"float_format\": lambda x: '%.9f' % x}\n",
    "\n",
    "# Set pandas display options using dictionary of short names,\n",
    "# and display the options/value pairs.\n",
    "print(\"Setting display options...\")\n",
    "for key in list(dict_of_display_option_settings_short_names.keys()):\n",
    "    # Set display option.\n",
    "    pd.set_option(key, dict_of_display_option_settings_short_names[key])\n",
    "    # Print display option name and value.\n",
    "    print(key, \": \", pd.get_option(key), sep='')"
   ]
  },
  {
   "cell_type": "code",
   "execution_count": 8,
   "metadata": {},
   "outputs": [],
   "source": [
    "# Attribute Information URL: https://www.seattle.gov/Documents/Departments/SDOT/GIS/Collisions_OD.pdf\n",
    "# Read the Collisions Data CSV file and store it as a DataFrame.\n",
    "# url=\"https://opendata.arcgis.com/datasets/5b5c745e0f1f48e7a53acec63a0022ab_0.csv\" # HTTPError at 202009151050, using local copy of .csv instead.\n",
    "# print(os.listdir(\"..\")) # Print list of contents of current working directory.\n",
    "local_path_to_csv = \"../Collisions.csv\"\n",
    "df=pd.read_csv(local_path_to_csv, low_memory=False)"
   ]
  },
  {
   "cell_type": "code",
   "execution_count": 9,
   "metadata": {},
   "outputs": [
    {
     "data": {
      "text/html": [
       "<div>\n",
       "<style scoped>\n",
       "    .dataframe tbody tr th:only-of-type {\n",
       "        vertical-align: middle;\n",
       "    }\n",
       "\n",
       "    .dataframe tbody tr th {\n",
       "        vertical-align: top;\n",
       "    }\n",
       "\n",
       "    .dataframe thead th {\n",
       "        text-align: right;\n",
       "    }\n",
       "</style>\n",
       "<table border=\"1\" class=\"dataframe\">\n",
       "  <thead>\n",
       "    <tr style=\"text-align: right;\">\n",
       "      <th></th>\n",
       "      <th>X</th>\n",
       "      <th>Y</th>\n",
       "      <th>OBJECTID</th>\n",
       "      <th>INCKEY</th>\n",
       "      <th>COLDETKEY</th>\n",
       "      <th>REPORTNO</th>\n",
       "      <th>STATUS</th>\n",
       "      <th>ADDRTYPE</th>\n",
       "      <th>INTKEY</th>\n",
       "      <th>LOCATION</th>\n",
       "      <th>EXCEPTRSNCODE</th>\n",
       "      <th>EXCEPTRSNDESC</th>\n",
       "      <th>SEVERITYCODE</th>\n",
       "      <th>SEVERITYDESC</th>\n",
       "      <th>COLLISIONTYPE</th>\n",
       "      <th>PERSONCOUNT</th>\n",
       "      <th>PEDCOUNT</th>\n",
       "      <th>PEDCYLCOUNT</th>\n",
       "      <th>VEHCOUNT</th>\n",
       "      <th>INJURIES</th>\n",
       "      <th>SERIOUSINJURIES</th>\n",
       "      <th>FATALITIES</th>\n",
       "      <th>INCDATE</th>\n",
       "      <th>INCDTTM</th>\n",
       "      <th>JUNCTIONTYPE</th>\n",
       "      <th>SDOT_COLCODE</th>\n",
       "      <th>SDOT_COLDESC</th>\n",
       "      <th>INATTENTIONIND</th>\n",
       "      <th>UNDERINFL</th>\n",
       "      <th>WEATHER</th>\n",
       "      <th>ROADCOND</th>\n",
       "      <th>LIGHTCOND</th>\n",
       "      <th>PEDROWNOTGRNT</th>\n",
       "      <th>SDOTCOLNUM</th>\n",
       "      <th>SPEEDING</th>\n",
       "      <th>ST_COLCODE</th>\n",
       "      <th>ST_COLDESC</th>\n",
       "      <th>SEGLANEKEY</th>\n",
       "      <th>CROSSWALKKEY</th>\n",
       "      <th>HITPARKEDCAR</th>\n",
       "    </tr>\n",
       "  </thead>\n",
       "  <tbody>\n",
       "    <tr>\n",
       "      <th>0</th>\n",
       "      <td>-122.320757054</td>\n",
       "      <td>47.609407946</td>\n",
       "      <td>1</td>\n",
       "      <td>328476</td>\n",
       "      <td>329976</td>\n",
       "      <td>EA08706</td>\n",
       "      <td>Matched</td>\n",
       "      <td>Block</td>\n",
       "      <td>nan</td>\n",
       "      <td>BROADWAY BETWEEN E COLUMBIA ST AND BOYLSTON AVE</td>\n",
       "      <td></td>\n",
       "      <td>NaN</td>\n",
       "      <td>1</td>\n",
       "      <td>Property Damage Only Collision</td>\n",
       "      <td>Sideswipe</td>\n",
       "      <td>2</td>\n",
       "      <td>0</td>\n",
       "      <td>0</td>\n",
       "      <td>2</td>\n",
       "      <td>0</td>\n",
       "      <td>0</td>\n",
       "      <td>0</td>\n",
       "      <td>2020/01/22 00:00:00+00</td>\n",
       "      <td>1/22/2020 3:21:00 PM</td>\n",
       "      <td>Mid-Block (not related to intersection)</td>\n",
       "      <td>11.000000000</td>\n",
       "      <td>MOTOR VEHICLE STRUCK MOTOR VEHICLE, FRONT END AT ANGLE</td>\n",
       "      <td>NaN</td>\n",
       "      <td>N</td>\n",
       "      <td>Raining</td>\n",
       "      <td>Wet</td>\n",
       "      <td>Dark - Street Lights On</td>\n",
       "      <td>NaN</td>\n",
       "      <td>nan</td>\n",
       "      <td>NaN</td>\n",
       "      <td>11</td>\n",
       "      <td>From same direction - both going straight - both moving - sideswipe</td>\n",
       "      <td>0</td>\n",
       "      <td>0</td>\n",
       "      <td>N</td>\n",
       "    </tr>\n",
       "    <tr>\n",
       "      <th>1</th>\n",
       "      <td>-122.319560827</td>\n",
       "      <td>47.662220664</td>\n",
       "      <td>2</td>\n",
       "      <td>328142</td>\n",
       "      <td>329642</td>\n",
       "      <td>EA06882</td>\n",
       "      <td>Matched</td>\n",
       "      <td>Block</td>\n",
       "      <td>nan</td>\n",
       "      <td>8TH AVE NE BETWEEN NE 45TH E ST AND NE 47TH ST</td>\n",
       "      <td></td>\n",
       "      <td>NaN</td>\n",
       "      <td>1</td>\n",
       "      <td>Property Damage Only Collision</td>\n",
       "      <td>Parked Car</td>\n",
       "      <td>2</td>\n",
       "      <td>0</td>\n",
       "      <td>0</td>\n",
       "      <td>2</td>\n",
       "      <td>0</td>\n",
       "      <td>0</td>\n",
       "      <td>0</td>\n",
       "      <td>2020/01/07 00:00:00+00</td>\n",
       "      <td>1/7/2020 8:00:00 AM</td>\n",
       "      <td>Mid-Block (not related to intersection)</td>\n",
       "      <td>15.000000000</td>\n",
       "      <td>MOTOR VEHICLE STRUCK MOTOR VEHICLE, RIGHT SIDE SIDESWIPE</td>\n",
       "      <td>NaN</td>\n",
       "      <td>N</td>\n",
       "      <td>Clear</td>\n",
       "      <td>Dry</td>\n",
       "      <td>Daylight</td>\n",
       "      <td>NaN</td>\n",
       "      <td>nan</td>\n",
       "      <td>NaN</td>\n",
       "      <td>32</td>\n",
       "      <td>One parked--one moving</td>\n",
       "      <td>0</td>\n",
       "      <td>0</td>\n",
       "      <td>Y</td>\n",
       "    </tr>\n",
       "    <tr>\n",
       "      <th>2</th>\n",
       "      <td>-122.327524508</td>\n",
       "      <td>47.604393273</td>\n",
       "      <td>3</td>\n",
       "      <td>20700</td>\n",
       "      <td>20700</td>\n",
       "      <td>1181833</td>\n",
       "      <td>Unmatched</td>\n",
       "      <td>Block</td>\n",
       "      <td>nan</td>\n",
       "      <td>JAMES ST BETWEEN 6TH AVE AND 7TH AVE</td>\n",
       "      <td>NaN</td>\n",
       "      <td>NaN</td>\n",
       "      <td>0</td>\n",
       "      <td>Unknown</td>\n",
       "      <td>NaN</td>\n",
       "      <td>0</td>\n",
       "      <td>0</td>\n",
       "      <td>0</td>\n",
       "      <td>0</td>\n",
       "      <td>0</td>\n",
       "      <td>0</td>\n",
       "      <td>0</td>\n",
       "      <td>2004/01/30 00:00:00+00</td>\n",
       "      <td>1/30/2004</td>\n",
       "      <td>Mid-Block (but intersection related)</td>\n",
       "      <td>11.000000000</td>\n",
       "      <td>MOTOR VEHICLE STRUCK MOTOR VEHICLE, FRONT END AT ANGLE</td>\n",
       "      <td>NaN</td>\n",
       "      <td>NaN</td>\n",
       "      <td>NaN</td>\n",
       "      <td>NaN</td>\n",
       "      <td>NaN</td>\n",
       "      <td>NaN</td>\n",
       "      <td>4030032.000000000</td>\n",
       "      <td>NaN</td>\n",
       "      <td>NaN</td>\n",
       "      <td>NaN</td>\n",
       "      <td>0</td>\n",
       "      <td>0</td>\n",
       "      <td>N</td>\n",
       "    </tr>\n",
       "    <tr>\n",
       "      <th>3</th>\n",
       "      <td>-122.327524934</td>\n",
       "      <td>47.708621579</td>\n",
       "      <td>4</td>\n",
       "      <td>332126</td>\n",
       "      <td>333626</td>\n",
       "      <td>M16001640</td>\n",
       "      <td>Unmatched</td>\n",
       "      <td>Block</td>\n",
       "      <td>nan</td>\n",
       "      <td>NE NORTHGATE WAY BETWEEN 1ST AVE NE AND NE NORTHGATE DR</td>\n",
       "      <td></td>\n",
       "      <td>NaN</td>\n",
       "      <td>0</td>\n",
       "      <td>Unknown</td>\n",
       "      <td>NaN</td>\n",
       "      <td>0</td>\n",
       "      <td>0</td>\n",
       "      <td>0</td>\n",
       "      <td>0</td>\n",
       "      <td>0</td>\n",
       "      <td>0</td>\n",
       "      <td>0</td>\n",
       "      <td>2016/01/23 00:00:00+00</td>\n",
       "      <td>1/23/2016</td>\n",
       "      <td>Mid-Block (not related to intersection)</td>\n",
       "      <td>11.000000000</td>\n",
       "      <td>MOTOR VEHICLE STRUCK MOTOR VEHICLE, FRONT END AT ANGLE</td>\n",
       "      <td>NaN</td>\n",
       "      <td>NaN</td>\n",
       "      <td>NaN</td>\n",
       "      <td>NaN</td>\n",
       "      <td>NaN</td>\n",
       "      <td>NaN</td>\n",
       "      <td>nan</td>\n",
       "      <td>NaN</td>\n",
       "      <td></td>\n",
       "      <td>NaN</td>\n",
       "      <td>0</td>\n",
       "      <td>0</td>\n",
       "      <td>N</td>\n",
       "    </tr>\n",
       "    <tr>\n",
       "      <th>4</th>\n",
       "      <td>-122.292120049</td>\n",
       "      <td>47.559009080</td>\n",
       "      <td>5</td>\n",
       "      <td>328238</td>\n",
       "      <td>329738</td>\n",
       "      <td>3857118</td>\n",
       "      <td>Unmatched</td>\n",
       "      <td>Block</td>\n",
       "      <td>nan</td>\n",
       "      <td>M L KING JR ER WAY S BETWEEN S ANGELINE ST AND S EDMUNDS ST</td>\n",
       "      <td></td>\n",
       "      <td>NaN</td>\n",
       "      <td>0</td>\n",
       "      <td>Unknown</td>\n",
       "      <td>NaN</td>\n",
       "      <td>0</td>\n",
       "      <td>0</td>\n",
       "      <td>0</td>\n",
       "      <td>0</td>\n",
       "      <td>0</td>\n",
       "      <td>0</td>\n",
       "      <td>0</td>\n",
       "      <td>2020/01/26 00:00:00+00</td>\n",
       "      <td>1/26/2020</td>\n",
       "      <td>Mid-Block (not related to intersection)</td>\n",
       "      <td>28.000000000</td>\n",
       "      <td>MOTOR VEHICLE RAN OFF ROAD - HIT FIXED OBJECT</td>\n",
       "      <td>NaN</td>\n",
       "      <td>NaN</td>\n",
       "      <td>NaN</td>\n",
       "      <td>NaN</td>\n",
       "      <td>NaN</td>\n",
       "      <td>NaN</td>\n",
       "      <td>nan</td>\n",
       "      <td>NaN</td>\n",
       "      <td></td>\n",
       "      <td>NaN</td>\n",
       "      <td>0</td>\n",
       "      <td>0</td>\n",
       "      <td>N</td>\n",
       "    </tr>\n",
       "  </tbody>\n",
       "</table>\n",
       "<p>5 rows × 40 columns</p>\n",
       "</div>"
      ],
      "text/plain": [
       "               X            Y  OBJECTID  INCKEY  COLDETKEY   REPORTNO  \\\n",
       "0 -122.320757054 47.609407946         1  328476     329976    EA08706   \n",
       "1 -122.319560827 47.662220664         2  328142     329642    EA06882   \n",
       "2 -122.327524508 47.604393273         3   20700      20700    1181833   \n",
       "3 -122.327524934 47.708621579         4  332126     333626  M16001640   \n",
       "4 -122.292120049 47.559009080         5  328238     329738    3857118   \n",
       "\n",
       "      STATUS ADDRTYPE  INTKEY  \\\n",
       "0    Matched    Block     nan   \n",
       "1    Matched    Block     nan   \n",
       "2  Unmatched    Block     nan   \n",
       "3  Unmatched    Block     nan   \n",
       "4  Unmatched    Block     nan   \n",
       "\n",
       "                                                      LOCATION EXCEPTRSNCODE  \\\n",
       "0              BROADWAY BETWEEN E COLUMBIA ST AND BOYLSTON AVE                 \n",
       "1               8TH AVE NE BETWEEN NE 45TH E ST AND NE 47TH ST                 \n",
       "2                         JAMES ST BETWEEN 6TH AVE AND 7TH AVE           NaN   \n",
       "3      NE NORTHGATE WAY BETWEEN 1ST AVE NE AND NE NORTHGATE DR                 \n",
       "4  M L KING JR ER WAY S BETWEEN S ANGELINE ST AND S EDMUNDS ST                 \n",
       "\n",
       "  EXCEPTRSNDESC SEVERITYCODE                    SEVERITYDESC COLLISIONTYPE  \\\n",
       "0           NaN            1  Property Damage Only Collision     Sideswipe   \n",
       "1           NaN            1  Property Damage Only Collision    Parked Car   \n",
       "2           NaN            0                         Unknown           NaN   \n",
       "3           NaN            0                         Unknown           NaN   \n",
       "4           NaN            0                         Unknown           NaN   \n",
       "\n",
       "   PERSONCOUNT  PEDCOUNT  PEDCYLCOUNT  VEHCOUNT  INJURIES  SERIOUSINJURIES  \\\n",
       "0            2         0            0         2         0                0   \n",
       "1            2         0            0         2         0                0   \n",
       "2            0         0            0         0         0                0   \n",
       "3            0         0            0         0         0                0   \n",
       "4            0         0            0         0         0                0   \n",
       "\n",
       "   FATALITIES                 INCDATE               INCDTTM  \\\n",
       "0           0  2020/01/22 00:00:00+00  1/22/2020 3:21:00 PM   \n",
       "1           0  2020/01/07 00:00:00+00   1/7/2020 8:00:00 AM   \n",
       "2           0  2004/01/30 00:00:00+00             1/30/2004   \n",
       "3           0  2016/01/23 00:00:00+00             1/23/2016   \n",
       "4           0  2020/01/26 00:00:00+00             1/26/2020   \n",
       "\n",
       "                              JUNCTIONTYPE  SDOT_COLCODE  \\\n",
       "0  Mid-Block (not related to intersection)  11.000000000   \n",
       "1  Mid-Block (not related to intersection)  15.000000000   \n",
       "2     Mid-Block (but intersection related)  11.000000000   \n",
       "3  Mid-Block (not related to intersection)  11.000000000   \n",
       "4  Mid-Block (not related to intersection)  28.000000000   \n",
       "\n",
       "                                               SDOT_COLDESC INATTENTIONIND  \\\n",
       "0    MOTOR VEHICLE STRUCK MOTOR VEHICLE, FRONT END AT ANGLE            NaN   \n",
       "1  MOTOR VEHICLE STRUCK MOTOR VEHICLE, RIGHT SIDE SIDESWIPE            NaN   \n",
       "2    MOTOR VEHICLE STRUCK MOTOR VEHICLE, FRONT END AT ANGLE            NaN   \n",
       "3    MOTOR VEHICLE STRUCK MOTOR VEHICLE, FRONT END AT ANGLE            NaN   \n",
       "4             MOTOR VEHICLE RAN OFF ROAD - HIT FIXED OBJECT            NaN   \n",
       "\n",
       "  UNDERINFL  WEATHER ROADCOND                LIGHTCOND PEDROWNOTGRNT  \\\n",
       "0         N  Raining      Wet  Dark - Street Lights On           NaN   \n",
       "1         N    Clear      Dry                 Daylight           NaN   \n",
       "2       NaN      NaN      NaN                      NaN           NaN   \n",
       "3       NaN      NaN      NaN                      NaN           NaN   \n",
       "4       NaN      NaN      NaN                      NaN           NaN   \n",
       "\n",
       "         SDOTCOLNUM SPEEDING ST_COLCODE  \\\n",
       "0               nan      NaN         11   \n",
       "1               nan      NaN         32   \n",
       "2 4030032.000000000      NaN        NaN   \n",
       "3               nan      NaN              \n",
       "4               nan      NaN              \n",
       "\n",
       "                                                            ST_COLDESC  \\\n",
       "0  From same direction - both going straight - both moving - sideswipe   \n",
       "1                                               One parked--one moving   \n",
       "2                                                                  NaN   \n",
       "3                                                                  NaN   \n",
       "4                                                                  NaN   \n",
       "\n",
       "   SEGLANEKEY  CROSSWALKKEY HITPARKEDCAR  \n",
       "0           0             0            N  \n",
       "1           0             0            Y  \n",
       "2           0             0            N  \n",
       "3           0             0            N  \n",
       "4           0             0            N  \n",
       "\n",
       "[5 rows x 40 columns]"
      ]
     },
     "execution_count": 9,
     "metadata": {},
     "output_type": "execute_result"
    }
   ],
   "source": [
    "# View the first few rows of the collisions DataFrame.\n",
    "df.head()"
   ]
  },
  {
   "cell_type": "code",
   "execution_count": 10,
   "metadata": {},
   "outputs": [
    {
     "name": "stdout",
     "output_type": "stream",
     "text": [
      "<class 'pandas.core.frame.DataFrame'>\n",
      "RangeIndex: 221389 entries, 0 to 221388\n",
      "Data columns (total 40 columns):\n",
      " #   Column           Non-Null Count   Dtype  \n",
      "---  ------           --------------   -----  \n",
      " 0   X                213918 non-null  float64\n",
      " 1   Y                213918 non-null  float64\n",
      " 2   OBJECTID         221389 non-null  int64  \n",
      " 3   INCKEY           221389 non-null  int64  \n",
      " 4   COLDETKEY        221389 non-null  int64  \n",
      " 5   REPORTNO         221389 non-null  object \n",
      " 6   STATUS           221389 non-null  object \n",
      " 7   ADDRTYPE         217677 non-null  object \n",
      " 8   INTKEY           71884 non-null   float64\n",
      " 9   LOCATION         216801 non-null  object \n",
      " 10  EXCEPTRSNCODE    100986 non-null  object \n",
      " 11  EXCEPTRSNDESC    11779 non-null   object \n",
      " 12  SEVERITYCODE     221388 non-null  object \n",
      " 13  SEVERITYDESC     221389 non-null  object \n",
      " 14  COLLISIONTYPE    195159 non-null  object \n",
      " 15  PERSONCOUNT      221389 non-null  int64  \n",
      " 16  PEDCOUNT         221389 non-null  int64  \n",
      " 17  PEDCYLCOUNT      221389 non-null  int64  \n",
      " 18  VEHCOUNT         221389 non-null  int64  \n",
      " 19  INJURIES         221389 non-null  int64  \n",
      " 20  SERIOUSINJURIES  221389 non-null  int64  \n",
      " 21  FATALITIES       221389 non-null  int64  \n",
      " 22  INCDATE          221389 non-null  object \n",
      " 23  INCDTTM          221389 non-null  object \n",
      " 24  JUNCTIONTYPE     209417 non-null  object \n",
      " 25  SDOT_COLCODE     221388 non-null  float64\n",
      " 26  SDOT_COLDESC     221388 non-null  object \n",
      " 27  INATTENTIONIND   30188 non-null   object \n",
      " 28  UNDERINFL        195179 non-null  object \n",
      " 29  WEATHER          194969 non-null  object \n",
      " 30  ROADCOND         195050 non-null  object \n",
      " 31  LIGHTCOND        194880 non-null  object \n",
      " 32  PEDROWNOTGRNT    5192 non-null    object \n",
      " 33  SDOTCOLNUM       127205 non-null  float64\n",
      " 34  SPEEDING         9928 non-null    object \n",
      " 35  ST_COLCODE       211976 non-null  object \n",
      " 36  ST_COLDESC       195159 non-null  object \n",
      " 37  SEGLANEKEY       221389 non-null  int64  \n",
      " 38  CROSSWALKKEY     221389 non-null  int64  \n",
      " 39  HITPARKEDCAR     221389 non-null  object \n",
      "dtypes: float64(5), int64(12), object(23)\n",
      "memory usage: 67.6+ MB\n"
     ]
    }
   ],
   "source": [
    "df.info()"
   ]
  },
  {
   "cell_type": "markdown",
   "metadata": {},
   "source": [
    "<h2 id=\"data_wrangling\">Data Wrangling</h2>\n",
    "\n",
    "Steps for working with missing data:\n",
    "<ol>\n",
    "    <li>Identify missing data.</li>\n",
    "    <li>Deal with missing data.</li>\n",
    "    <li>Correct data format.</li>\n",
    "</ol>"
   ]
  },
  {
   "cell_type": "markdown",
   "metadata": {},
   "source": [
    "<h3 id=\"identifying_missing_data\">Identifying Missing Data</h3>\n",
    "\n",
    "The metadata document that accompanied the data set indicates that certain columns have \"sentinel\" values\n",
    "that indicate an unknown or missing value. Each of these missing values will first be converted into NaN.\n",
    "Subsequently, the NaN values will be dropped from the DataFrame."
   ]
  },
  {
   "cell_type": "code",
   "execution_count": 11,
   "metadata": {},
   "outputs": [],
   "source": [
    "# If any row of the collisions DataFrame contains a sentinel value representing \"unknown\",\n",
    "# then replace it with NaN. \n",
    "# Sentinels for \"unknown\" are listed in the metadata document that accompanies the dataset.\n",
    "df_unknowns_converted_to_nan = df.replace(to_replace=\\\n",
    "{\"EXCEPTRSNCODE\": \" \",\\\n",
    " \"EXCEPTRSNDESC\": \"Not Enough Information, or Insufficient Location Information\",\\\n",
    " \"SEVERITYCODE\": \"0\",\\\n",
    " \"SEVERITYDESC\": \"Unknown\",\\\n",
    " \"JUNCTIONTYPE\": \"Unknown\",\\\n",
    " \"WEATHER\": \"Unknown\",\\\n",
    " \"ROADCOND\": \"Unknown\",\\\n",
    " \"LIGHTCOND\": \"Unknown\",\\\n",
    " \"SDOT_COLCODE\": float(0),\\\n",
    " \"SDOT_COLDESC\": \"NOT ENOUGH INFORMATION / NOT APPLICABLE\",\\\n",
    " \"ST_COLCODE\": \" \",\\\n",
    " \"ST_COLDESC\": \"Not stated\"},\\\n",
    "value=np.nan, inplace=False, limit=None, regex=False, method='pad')\n",
    "\n",
    "df_unknowns_converted_to_nan.replace(to_replace={\"ST_COLCODE\": \"0\", }, value=np.nan, inplace=True, limit=None, regex=False, method='pad')"
   ]
  },
  {
   "cell_type": "markdown",
   "metadata": {},
   "source": [
    "<h3 id=\"deal_with_missing_data\">Deal with Missing Data</h3>\n",
    "\n",
    "<ol>\n",
    "    <li>Drop the Data\n",
    "        <ol>\n",
    "            <li>Drop entire row.</li>\n",
    "            <li>Drop entire column.</li>\n",
    "        </ol>\n",
    "    </li>\n",
    "    <li>Replace the Data\n",
    "        <ol>\n",
    "            <li>Replace data by mean.</li>\n",
    "            <li>Replace data by frequency.</li>\n",
    "            <li>Replace data based on other functions.</li>\n",
    "        </ol>\n",
    "    </li>\n",
    "        \n",
    "</ol>"
   ]
  },
  {
   "cell_type": "markdown",
   "metadata": {},
   "source": [
    "Whole columns should be dropped only if most entries in the column are empty."
   ]
  },
  {
   "cell_type": "code",
   "execution_count": 12,
   "metadata": {},
   "outputs": [],
   "source": [
    "# Initialize a list to store the labels for the columns with missing data.\n",
    "list_of_columns_with_missing_data = list()\n",
    "\n",
    "# For each column in the collisions DataFrame,\n",
    "# if the column contains at least one NaN, \n",
    "# then add the column's label to the list.\n",
    "for column in list(df_unknowns_converted_to_nan.columns):\n",
    "    if df_unknowns_converted_to_nan[column].hasnans:\n",
    "        list_of_columns_with_missing_data.append(column)"
   ]
  },
  {
   "cell_type": "code",
   "execution_count": 13,
   "metadata": {},
   "outputs": [
    {
     "name": "stdout",
     "output_type": "stream",
     "text": [
      "['X', 'Y', 'OBJECTID', 'INCKEY', 'COLDETKEY', 'REPORTNO', 'STATUS', 'ADDRTYPE', 'INTKEY', 'LOCATION', 'EXCEPTRSNCODE', 'EXCEPTRSNDESC', 'SEVERITYCODE', 'SEVERITYDESC', 'COLLISIONTYPE', 'PERSONCOUNT', 'PEDCOUNT', 'PEDCYLCOUNT', 'VEHCOUNT', 'INJURIES', 'SERIOUSINJURIES', 'FATALITIES', 'INCDATE', 'INCDTTM', 'JUNCTIONTYPE', 'SDOT_COLCODE', 'SDOT_COLDESC', 'INATTENTIONIND', 'UNDERINFL', 'WEATHER', 'ROADCOND', 'LIGHTCOND', 'PEDROWNOTGRNT', 'SDOTCOLNUM', 'SPEEDING', 'ST_COLCODE', 'ST_COLDESC', 'SEGLANEKEY', 'CROSSWALKKEY', 'HITPARKEDCAR']\n"
     ]
    }
   ],
   "source": [
    "print(list(df.columns))"
   ]
  },
  {
   "cell_type": "code",
   "execution_count": 14,
   "metadata": {},
   "outputs": [],
   "source": [
    "# Drop any column from the collisions DataFrame if it satisfies at least one of the following conditions:\n",
    "# 1) more than 15% of the column's data is NaN;\n",
    "# 2) the column only contains unique identification keys, or information not useful for model building;\n",
    "# 3) the column's data is categorical but does not fit into a small (< 15) number of categories;\n",
    "# 4) information in the column is redundant because it is already represented by another column;\n",
    "# 5) it is not clear how to interpret the column's data.\n",
    "list_of_columns_to_drop = [\"ADDRTYPE\",\\\n",
    "                           \"STATUS\",\\\n",
    "                           \"OBJECTID\",\\\n",
    "                           \"INCKEY\",\\\n",
    "                           \"COLDETKEY\",\\\n",
    "                           \"REPORTNO\",\\\n",
    "                           \"INTKEY\",\\\n",
    "                           \"LOCATION\",\\\n",
    "                           \"EXCEPTRSNCODE\",\\\n",
    "                           \"EXCEPTRSNDESC\",\\\n",
    "                           \"SEVERITYDESC\",\\\n",
    "                           \"INCDATE\",\\\n",
    "                           \"INCDTTM\",\\\n",
    "                           \"JUNCTIONTYPE\",\\\n",
    "                           \"SDOT_COLCODE\",\\\n",
    "                           \"SDOT_COLDESC\",\\\n",
    "                           \"INATTENTIONIND\",\\\n",
    "                           \"UNDERINFL\",\\\n",
    "                           \"PEDROWNOTGRNT\",\\\n",
    "                           \"SDOTCOLNUM\",\\\n",
    "                           \"SPEEDING\",\\\n",
    "                           \"ST_COLCODE\",\\\n",
    "                           \"ST_COLDESC\",\\\n",
    "                           \"SEGLANEKEY\",\\\n",
    "                           \"CROSSWALKKEY\",\\\n",
    "                           \"HITPARKEDCAR\"]"
   ]
  },
  {
   "cell_type": "code",
   "execution_count": 15,
   "metadata": {},
   "outputs": [],
   "source": [
    "# Drop the selected columns from the DataFrame after converting unknowns to NaN.\n",
    "# Store the result in a new DataFrame.\n",
    "df_drop_columns = df_unknowns_converted_to_nan.drop(columns=list_of_columns_to_drop, inplace=False)"
   ]
  },
  {
   "cell_type": "code",
   "execution_count": 16,
   "metadata": {},
   "outputs": [],
   "source": [
    "# Drop any row that contains at least one NaN.\n",
    "df_drop_columns_and_rows = df_drop_columns.dropna(axis=\"index\", how=\"any\", thresh=None, subset=None, inplace=False)"
   ]
  },
  {
   "cell_type": "code",
   "execution_count": 17,
   "metadata": {},
   "outputs": [
    {
     "name": "stdout",
     "output_type": "stream",
     "text": [
      "Elapsed time is 18.559999998658895 seconds.\n"
     ]
    }
   ],
   "source": [
    "print_elapsed_time()"
   ]
  },
  {
   "cell_type": "markdown",
   "metadata": {},
   "source": [
    "<h3 id=\"correct_data_format\">Correct Data Format</h3>\n",
    "\n",
    "Ensure that each data type is appropriate for the corresponding feature.\n",
    "Cast columns of type \"object\" as type \"category\", but leave all other column types unaltered."
   ]
  },
  {
   "cell_type": "code",
   "execution_count": 18,
   "metadata": {},
   "outputs": [],
   "source": [
    "# Create new DataFrame to store converted data types.\n",
    "df_converted = pd.DataFrame()\n",
    "\n",
    "for column in list(df_drop_columns_and_rows.columns):\n",
    "    if (df_drop_columns_and_rows[column].dtype in [np.dtype('object')]):\n",
    "        df_converted[column] = df_drop_columns_and_rows[column].astype('category')\n",
    "    # Copy all other columns to new DataFrame without changing their types.\n",
    "    else:\n",
    "        df_converted[column] = df_drop_columns_and_rows[column]"
   ]
  },
  {
   "cell_type": "code",
   "execution_count": 19,
   "metadata": {},
   "outputs": [
    {
     "name": "stdout",
     "output_type": "stream",
     "text": [
      "Elapsed time is 19.099999997764826 seconds.\n"
     ]
    }
   ],
   "source": [
    "print_elapsed_time()"
   ]
  },
  {
   "cell_type": "code",
   "execution_count": 20,
   "metadata": {},
   "outputs": [],
   "source": [
    "# Cast columns \"INCDTTM\" to type datetime.\n",
    "    #if column in [\"INCDTTM\"]:\n",
    "    #    df_converted[column] = pd.to_datetime(df_drop_columns_and_rows[column], infer_datetime_format=True)\n",
    "    # Cast columns of type object to type category"
   ]
  },
  {
   "cell_type": "code",
   "execution_count": 21,
   "metadata": {},
   "outputs": [],
   "source": [
    "# Create DataFrame of categorical columns.\n",
    "df_categorical = df_converted.select_dtypes(include=\"category\")"
   ]
  },
  {
   "cell_type": "markdown",
   "metadata": {},
   "source": [
    "<h2 id=\"Feature Selection\"> Feature selection</h2>"
   ]
  },
  {
   "cell_type": "markdown",
   "metadata": {},
   "source": [
    "#### Features before One Hot Encoding"
   ]
  },
  {
   "cell_type": "code",
   "execution_count": 22,
   "metadata": {},
   "outputs": [
    {
     "data": {
      "text/plain": [
       "['SEVERITYCODE', 'COLLISIONTYPE', 'WEATHER', 'ROADCOND', 'LIGHTCOND']"
      ]
     },
     "execution_count": 22,
     "metadata": {},
     "output_type": "execute_result"
    }
   ],
   "source": [
    "list(df_categorical.columns)"
   ]
  },
  {
   "cell_type": "code",
   "execution_count": 23,
   "metadata": {},
   "outputs": [
    {
     "data": {
      "text/html": [
       "<div>\n",
       "<style scoped>\n",
       "    .dataframe tbody tr th:only-of-type {\n",
       "        vertical-align: middle;\n",
       "    }\n",
       "\n",
       "    .dataframe tbody tr th {\n",
       "        vertical-align: top;\n",
       "    }\n",
       "\n",
       "    .dataframe thead th {\n",
       "        text-align: right;\n",
       "    }\n",
       "</style>\n",
       "<table border=\"1\" class=\"dataframe\">\n",
       "  <thead>\n",
       "    <tr style=\"text-align: right;\">\n",
       "      <th></th>\n",
       "      <th>SEVERITYCODE</th>\n",
       "      <th>COLLISIONTYPE</th>\n",
       "      <th>WEATHER</th>\n",
       "      <th>ROADCOND</th>\n",
       "      <th>LIGHTCOND</th>\n",
       "    </tr>\n",
       "  </thead>\n",
       "  <tbody>\n",
       "    <tr>\n",
       "      <th>0</th>\n",
       "      <td>1</td>\n",
       "      <td>Sideswipe</td>\n",
       "      <td>Raining</td>\n",
       "      <td>Wet</td>\n",
       "      <td>Dark - Street Lights On</td>\n",
       "    </tr>\n",
       "    <tr>\n",
       "      <th>1</th>\n",
       "      <td>1</td>\n",
       "      <td>Parked Car</td>\n",
       "      <td>Clear</td>\n",
       "      <td>Dry</td>\n",
       "      <td>Daylight</td>\n",
       "    </tr>\n",
       "    <tr>\n",
       "      <th>5</th>\n",
       "      <td>1</td>\n",
       "      <td>Rear Ended</td>\n",
       "      <td>Clear</td>\n",
       "      <td>Dry</td>\n",
       "      <td>Daylight</td>\n",
       "    </tr>\n",
       "    <tr>\n",
       "      <th>6</th>\n",
       "      <td>1</td>\n",
       "      <td>Other</td>\n",
       "      <td>Clear</td>\n",
       "      <td>Wet</td>\n",
       "      <td>Daylight</td>\n",
       "    </tr>\n",
       "    <tr>\n",
       "      <th>8</th>\n",
       "      <td>1</td>\n",
       "      <td>Sideswipe</td>\n",
       "      <td>Overcast</td>\n",
       "      <td>Dry</td>\n",
       "      <td>Daylight</td>\n",
       "    </tr>\n",
       "    <tr>\n",
       "      <th>9</th>\n",
       "      <td>1</td>\n",
       "      <td>Sideswipe</td>\n",
       "      <td>Clear</td>\n",
       "      <td>Dry</td>\n",
       "      <td>Daylight</td>\n",
       "    </tr>\n",
       "    <tr>\n",
       "      <th>10</th>\n",
       "      <td>1</td>\n",
       "      <td>Rear Ended</td>\n",
       "      <td>Overcast</td>\n",
       "      <td>Dry</td>\n",
       "      <td>Daylight</td>\n",
       "    </tr>\n",
       "    <tr>\n",
       "      <th>11</th>\n",
       "      <td>1</td>\n",
       "      <td>Angles</td>\n",
       "      <td>Overcast</td>\n",
       "      <td>Dry</td>\n",
       "      <td>Daylight</td>\n",
       "    </tr>\n",
       "    <tr>\n",
       "      <th>12</th>\n",
       "      <td>1</td>\n",
       "      <td>Parked Car</td>\n",
       "      <td>Clear</td>\n",
       "      <td>Wet</td>\n",
       "      <td>Dark - Street Lights On</td>\n",
       "    </tr>\n",
       "    <tr>\n",
       "      <th>13</th>\n",
       "      <td>2</td>\n",
       "      <td>Parked Car</td>\n",
       "      <td>Overcast</td>\n",
       "      <td>Dry</td>\n",
       "      <td>Dark - Street Lights On</td>\n",
       "    </tr>\n",
       "  </tbody>\n",
       "</table>\n",
       "<p>10 rows × 5 columns</p>\n",
       "</div>"
      ],
      "text/plain": [
       "   SEVERITYCODE COLLISIONTYPE   WEATHER ROADCOND                LIGHTCOND\n",
       "0             1     Sideswipe   Raining      Wet  Dark - Street Lights On\n",
       "1             1    Parked Car     Clear      Dry                 Daylight\n",
       "5             1    Rear Ended     Clear      Dry                 Daylight\n",
       "6             1         Other     Clear      Wet                 Daylight\n",
       "8             1     Sideswipe  Overcast      Dry                 Daylight\n",
       "9             1     Sideswipe     Clear      Dry                 Daylight\n",
       "10            1    Rear Ended  Overcast      Dry                 Daylight\n",
       "11            1        Angles  Overcast      Dry                 Daylight\n",
       "12            1    Parked Car     Clear      Wet  Dark - Street Lights On\n",
       "13            2    Parked Car  Overcast      Dry  Dark - Street Lights On\n",
       "\n",
       "[10 rows x 5 columns]"
      ]
     },
     "execution_count": 23,
     "metadata": {},
     "output_type": "execute_result"
    }
   ],
   "source": [
    "df_categorical.head(10)"
   ]
  },
  {
   "cell_type": "code",
   "execution_count": 24,
   "metadata": {},
   "outputs": [],
   "source": [
    "features = df_categorical[[\"COLLISIONTYPE\", \"WEATHER\", \"ROADCOND\", \"LIGHTCOND\"]]\n",
    "#features = df_categorical[[\"WEATHER\", \"ROADCOND\", \"LIGHTCOND\"]]\n",
    "#features = df_categorical[[\"COLLISIONTYPE\", \"WEATHER\"]]"
   ]
  },
  {
   "cell_type": "code",
   "execution_count": 25,
   "metadata": {},
   "outputs": [],
   "source": [
    "list_of_features = list(features.columns)"
   ]
  },
  {
   "cell_type": "code",
   "execution_count": 26,
   "metadata": {},
   "outputs": [
    {
     "name": "stdout",
     "output_type": "stream",
     "text": [
      "SEVERITYCODE relative frequencies:\n",
      "1    0.657943120\n",
      "2    0.323036911\n",
      "2b   0.017111571\n",
      "3    0.001908397\n",
      "Name: SEVERITYCODE, Length: 4, dtype: float64\n"
     ]
    }
   ],
   "source": [
    "print(\"SEVERITYCODE relative frequencies:\")\n",
    "print(df_categorical[\"SEVERITYCODE\"].value_counts(normalize=True, dropna=False))"
   ]
  },
  {
   "cell_type": "code",
   "execution_count": 27,
   "metadata": {},
   "outputs": [
    {
     "name": "stdout",
     "output_type": "stream",
     "text": [
      "COLLISIONTYPE  SEVERITYCODE\n",
      "Angles         1              0.594234777\n",
      "               2              0.392278305\n",
      "               2b             0.012763371\n",
      "               3              0.000723547\n",
      "Cycles         2              0.815928270\n",
      "               1              0.108649789\n",
      "               2b             0.071026723\n",
      "               3              0.004395218\n",
      "Head On        1              0.530622010\n",
      "               2              0.412918660\n",
      "               2b             0.047368421\n",
      "               3              0.009090909\n",
      "Left Turn      1              0.587973761\n",
      "               2              0.391399417\n",
      "               2b             0.019460641\n",
      "               3              0.001166181\n",
      "Other          1              0.714686327\n",
      "               2              0.259758469\n",
      "               2b             0.021665385\n",
      "               3              0.003889819\n",
      "Parked Car     1              0.918220226\n",
      "               2              0.077850326\n",
      "               2b             0.003722634\n",
      "               3              0.000206813\n",
      "Pedestrian     2              0.783114395\n",
      "               2b             0.111932129\n",
      "               1              0.087438424\n",
      "               3              0.017515052\n",
      "Rear Ended     1              0.559608596\n",
      "               2              0.433362234\n",
      "               2b             0.006688549\n",
      "               3              0.000340621\n",
      "Right Turn     1              0.781613244\n",
      "               2              0.210989785\n",
      "               2b             0.007044734\n",
      "               3              0.000352237\n",
      "Sideswipe      1              0.857733142\n",
      "               2              0.137618364\n",
      "               2b             0.004074605\n",
      "               3              0.000573888\n",
      "Name: SEVERITYCODE, Length: 40, dtype: float64\n",
      "\n",
      "WEATHER                   SEVERITYCODE\n",
      "Blowing Sand/Dirt         1              0.697674419\n",
      "                          2              0.302325581\n",
      "Clear                     1              0.658077439\n",
      "                          2              0.322127760\n",
      "                          2b             0.017818946\n",
      "                          3              0.001975855\n",
      "Fog/Smog/Smoke            1              0.658135283\n",
      "                          2              0.330895795\n",
      "                          2b             0.005484461\n",
      "                          3              0.005484461\n",
      "Other                     1              0.664031621\n",
      "                          2              0.304347826\n",
      "                          2b             0.019762846\n",
      "                          3              0.011857708\n",
      "Overcast                  1              0.666005655\n",
      "                          2              0.316036870\n",
      "                          2b             0.016047887\n",
      "                          3              0.001909588\n",
      "Partly Cloudy             1              0.500000000\n",
      "                          2              0.400000000\n",
      "                          3              0.100000000\n",
      "Raining                   1              0.646966479\n",
      "                          2              0.335549604\n",
      "                          2b             0.015944839\n",
      "                          3              0.001539077\n",
      "Severe Crosswind          1              0.680000000\n",
      "                          2              0.280000000\n",
      "                          3              0.040000000\n",
      "Sleet/Hail/Freezing Rain  1              0.734513274\n",
      "                          2              0.247787611\n",
      "                          2b             0.017699115\n",
      "Snowing                   1              0.791817088\n",
      "                          2              0.196149218\n",
      "                          2b             0.012033694\n",
      "Name: SEVERITYCODE, Length: 34, dtype: float64\n",
      "\n",
      "ROADCOND        SEVERITYCODE\n",
      "Dry             1              0.658776113\n",
      "                2              0.321501557\n",
      "                2b             0.017630077\n",
      "                3              0.002092254\n",
      "Ice             1              0.743589744\n",
      "                2              0.239926740\n",
      "                2b             0.015567766\n",
      "                3              0.000915751\n",
      "Oil             1              0.600000000\n",
      "                2              0.400000000\n",
      "Other           1              0.588235294\n",
      "                2              0.382352941\n",
      "                2b             0.029411765\n",
      "Sand/Mud/Dirt   1              0.644067797\n",
      "                2              0.355932203\n",
      "Snow/Slush      1              0.806413302\n",
      "                2              0.185273159\n",
      "                2b             0.008313539\n",
      "Standing Water  1              0.707070707\n",
      "                2              0.262626263\n",
      "                2b             0.030303030\n",
      "Wet             1              0.651135677\n",
      "                2              0.331462130\n",
      "                2b             0.015912428\n",
      "                3              0.001489766\n",
      "Name: SEVERITYCODE, Length: 25, dtype: float64\n",
      "\n",
      "LIGHTCOND                 SEVERITYCODE\n",
      "Dark - No Street Lights   1              0.752898551\n",
      "                          2              0.228260870\n",
      "                          2b             0.018115942\n",
      "                          3              0.000724638\n",
      "Dark - Street Lights Off  1              0.701077199\n",
      "                          2              0.270197487\n",
      "                          2b             0.025134650\n",
      "                          3              0.003590664\n",
      "Dark - Street Lights On   1              0.676700795\n",
      "                          2              0.299564224\n",
      "                          2b             0.020794551\n",
      "                          3              0.002940430\n",
      "Dark - Unknown Lighting   1              0.619047619\n",
      "                          2              0.380952381\n",
      "Dawn                      1              0.644199346\n",
      "                          2              0.329656863\n",
      "                          2b             0.024101307\n",
      "                          3              0.002042484\n",
      "Daylight                  1              0.649236936\n",
      "                          2              0.334033687\n",
      "                          2b             0.015278852\n",
      "                          3              0.001450524\n",
      "Dusk                      1              0.647953830\n",
      "                          2              0.331234697\n",
      "                          2b             0.018363064\n",
      "                          3              0.002448409\n",
      "Other                     1              0.754491018\n",
      "                          2              0.227544910\n",
      "                          2b             0.017964072\n",
      "Name: SEVERITYCODE, Length: 29, dtype: float64\n",
      "\n"
     ]
    }
   ],
   "source": [
    "for feature in list_of_features:\n",
    "    print(df_categorical.groupby(feature)[\"SEVERITYCODE\"].value_counts(normalize=True, dropna=False))\n",
    "    print()"
   ]
  },
  {
   "cell_type": "code",
   "execution_count": 28,
   "metadata": {},
   "outputs": [
    {
     "name": "stdout",
     "output_type": "stream",
     "text": [
      "SEVERITYCODE  COLLISIONTYPE\n",
      "1             Parked Car      0.274835960\n",
      "              Angles          0.181567358\n",
      "              Rear Ended      0.159813233\n",
      "              Other           0.139730461\n",
      "              Sideswipe       0.132169576\n",
      "              Left Turn       0.071337613\n",
      "              Right Turn      0.019622928\n",
      "              Head On         0.009807043\n",
      "              Pedestrian      0.005650767\n",
      "              Cycles          0.005465061\n",
      "2             Rear Ended      0.252066786\n",
      "              Angles          0.244123845\n",
      "              Other           0.103438339\n",
      "              Pedestrian      0.103078115\n",
      "              Left Turn       0.096720160\n",
      "              Cycles          0.083589993\n",
      "              Parked Car      0.047459520\n",
      "              Sideswipe       0.043190865\n",
      "              Head On         0.015543668\n",
      "              Right Turn      0.010788711\n",
      "2b            Pedestrian      0.278136688\n",
      "              Other           0.162869772\n",
      "              Angles          0.149948997\n",
      "              Cycles          0.137368242\n",
      "              Left Turn       0.090785447\n",
      "              Rear Ended      0.073444407\n",
      "              Parked Car      0.042842571\n",
      "              Head On         0.033662020\n",
      "              Sideswipe       0.024141448\n",
      "              Right Turn      0.006800408\n",
      "3             Pedestrian      0.390243902\n",
      "              Other           0.262195122\n",
      "              Angles          0.076219512\n",
      "              Cycles          0.076219512\n",
      "              Head On         0.057926829\n",
      "              Left Turn       0.048780488\n",
      "              Rear Ended      0.033536585\n",
      "              Sideswipe       0.030487805\n",
      "              Parked Car      0.021341463\n",
      "              Right Turn      0.003048780\n",
      "Name: COLLISIONTYPE, Length: 40, dtype: float64\n",
      "\n",
      "SEVERITYCODE  WEATHER                 \n",
      "1             Clear                      0.642073893\n",
      "              Raining                    0.185865124\n",
      "              Overcast                   0.160379194\n",
      "              Snowing                    0.005818786\n",
      "              Fog/Smog/Smoke             0.003183531\n",
      "              Other                      0.001485648\n",
      "              Sleet/Hail/Freezing Rain   0.000733981\n",
      "              Blowing Sand/Dirt          0.000265294\n",
      "              Severe Crosswind           0.000150333\n",
      "              Partly Cloudy              0.000044216\n",
      "2             Clear                      0.640136165\n",
      "              Raining                    0.196340124\n",
      "              Overcast                   0.155004413\n",
      "              Fog/Smog/Smoke             0.003260028\n",
      "              Snowing                    0.002935826\n",
      "              Other                      0.001386863\n",
      "              Sleet/Hail/Freezing Rain   0.000504314\n",
      "              Blowing Sand/Dirt          0.000234146\n",
      "              Severe Crosswind           0.000126078\n",
      "              Partly Cloudy              0.000072045\n",
      "2b            Clear                      0.668480109\n",
      "              Raining                    0.176130568\n",
      "              Overcast                   0.148588915\n",
      "              Snowing                    0.003400204\n",
      "              Other                      0.001700102\n",
      "              Fog/Smog/Smoke             0.001020061\n",
      "              Sleet/Hail/Freezing Rain   0.000680041\n",
      "3             Clear                      0.664634146\n",
      "              Overcast                   0.158536585\n",
      "              Raining                    0.152439024\n",
      "              Fog/Smog/Smoke             0.009146341\n",
      "              Other                      0.009146341\n",
      "              Partly Cloudy              0.003048780\n",
      "              Severe Crosswind           0.003048780\n",
      "Name: WEATHER, Length: 34, dtype: float64\n",
      "\n",
      "SEVERITYCODE  ROADCOND      \n",
      "1             Dry              0.718372508\n",
      "              Wet              0.266691427\n",
      "              Ice              0.007180630\n",
      "              Snow/Slush       0.006004492\n",
      "              Standing Water   0.000619020\n",
      "              Other            0.000530588\n",
      "              Sand/Mud/Dirt    0.000336039\n",
      "              Oil              0.000265294\n",
      "2             Dry              0.714054142\n",
      "              Wet              0.276507988\n",
      "              Ice              0.004718935\n",
      "              Snow/Slush       0.002809748\n",
      "              Other            0.000702437\n",
      "              Standing Water   0.000468291\n",
      "              Sand/Mud/Dirt    0.000378235\n",
      "              Oil              0.000360224\n",
      "2b            Dry              0.739204352\n",
      "              Wet              0.250595036\n",
      "              Ice              0.005780347\n",
      "              Snow/Slush       0.002380143\n",
      "              Other            0.001020061\n",
      "              Standing Water   0.001020061\n",
      "3             Dry              0.786585366\n",
      "              Wet              0.210365854\n",
      "              Ice              0.003048780\n",
      "Name: ROADCOND, Length: 25, dtype: float64\n",
      "\n",
      "SEVERITYCODE  LIGHTCOND               \n",
      "1             Daylight                   0.653083603\n",
      "              Dark - Street Lights On    0.282883217\n",
      "              Dusk                       0.032763835\n",
      "              Dawn                       0.013945632\n",
      "              Dark - No Street Lights    0.009188023\n",
      "              Dark - Street Lights Off   0.006906493\n",
      "              Other                      0.001114236\n",
      "              Dark - Unknown Lighting    0.000114961\n",
      "2             Daylight                   0.684371679\n",
      "              Dark - Street Lights On    0.255056645\n",
      "              Dusk                       0.034113218\n",
      "              Dawn                       0.014535041\n",
      "              Dark - No Street Lights    0.005673529\n",
      "              Dark - Street Lights Off   0.005421372\n",
      "              Other                      0.000684426\n",
      "              Dark - Unknown Lighting    0.000144090\n",
      "2b            Daylight                   0.590955457\n",
      "              Dark - Street Lights On    0.334240054\n",
      "              Dusk                       0.035702142\n",
      "              Dawn                       0.020061204\n",
      "              Dark - Street Lights Off   0.009520571\n",
      "              Dark - No Street Lights    0.008500510\n",
      "              Other                      0.001020061\n",
      "3             Daylight                   0.503048780\n",
      "              Dark - Street Lights On    0.423780488\n",
      "              Dusk                       0.042682927\n",
      "              Dawn                       0.015243902\n",
      "              Dark - Street Lights Off   0.012195122\n",
      "              Dark - No Street Lights    0.003048780\n",
      "Name: LIGHTCOND, Length: 29, dtype: float64\n",
      "\n"
     ]
    }
   ],
   "source": [
    "for feature in list_of_features:\n",
    "    print(df_categorical.groupby(\"SEVERITYCODE\")[feature].value_counts(normalize=True, dropna=False))\n",
    "    #print(df_categorical.groupby(\"SEVERITYCODE\")[feature].value_counts(normalize=False, dropna=False))\n",
    "    print()"
   ]
  },
  {
   "cell_type": "code",
   "execution_count": 29,
   "metadata": {},
   "outputs": [
    {
     "data": {
      "text/html": [
       "<div>\n",
       "<style scoped>\n",
       "    .dataframe tbody tr th:only-of-type {\n",
       "        vertical-align: middle;\n",
       "    }\n",
       "\n",
       "    .dataframe tbody tr th {\n",
       "        vertical-align: top;\n",
       "    }\n",
       "\n",
       "    .dataframe thead th {\n",
       "        text-align: right;\n",
       "    }\n",
       "</style>\n",
       "<table border=\"1\" class=\"dataframe\">\n",
       "  <thead>\n",
       "    <tr style=\"text-align: right;\">\n",
       "      <th></th>\n",
       "      <th>COLLISIONTYPE</th>\n",
       "      <th>WEATHER</th>\n",
       "      <th>ROADCOND</th>\n",
       "      <th>LIGHTCOND</th>\n",
       "    </tr>\n",
       "  </thead>\n",
       "  <tbody>\n",
       "    <tr>\n",
       "      <th>0</th>\n",
       "      <td>Sideswipe</td>\n",
       "      <td>Raining</td>\n",
       "      <td>Wet</td>\n",
       "      <td>Dark - Street Lights On</td>\n",
       "    </tr>\n",
       "    <tr>\n",
       "      <th>1</th>\n",
       "      <td>Parked Car</td>\n",
       "      <td>Clear</td>\n",
       "      <td>Dry</td>\n",
       "      <td>Daylight</td>\n",
       "    </tr>\n",
       "    <tr>\n",
       "      <th>5</th>\n",
       "      <td>Rear Ended</td>\n",
       "      <td>Clear</td>\n",
       "      <td>Dry</td>\n",
       "      <td>Daylight</td>\n",
       "    </tr>\n",
       "    <tr>\n",
       "      <th>6</th>\n",
       "      <td>Other</td>\n",
       "      <td>Clear</td>\n",
       "      <td>Wet</td>\n",
       "      <td>Daylight</td>\n",
       "    </tr>\n",
       "    <tr>\n",
       "      <th>8</th>\n",
       "      <td>Sideswipe</td>\n",
       "      <td>Overcast</td>\n",
       "      <td>Dry</td>\n",
       "      <td>Daylight</td>\n",
       "    </tr>\n",
       "    <tr>\n",
       "      <th>9</th>\n",
       "      <td>Sideswipe</td>\n",
       "      <td>Clear</td>\n",
       "      <td>Dry</td>\n",
       "      <td>Daylight</td>\n",
       "    </tr>\n",
       "    <tr>\n",
       "      <th>10</th>\n",
       "      <td>Rear Ended</td>\n",
       "      <td>Overcast</td>\n",
       "      <td>Dry</td>\n",
       "      <td>Daylight</td>\n",
       "    </tr>\n",
       "    <tr>\n",
       "      <th>11</th>\n",
       "      <td>Angles</td>\n",
       "      <td>Overcast</td>\n",
       "      <td>Dry</td>\n",
       "      <td>Daylight</td>\n",
       "    </tr>\n",
       "    <tr>\n",
       "      <th>12</th>\n",
       "      <td>Parked Car</td>\n",
       "      <td>Clear</td>\n",
       "      <td>Wet</td>\n",
       "      <td>Dark - Street Lights On</td>\n",
       "    </tr>\n",
       "    <tr>\n",
       "      <th>13</th>\n",
       "      <td>Parked Car</td>\n",
       "      <td>Overcast</td>\n",
       "      <td>Dry</td>\n",
       "      <td>Dark - Street Lights On</td>\n",
       "    </tr>\n",
       "  </tbody>\n",
       "</table>\n",
       "<p>10 rows × 4 columns</p>\n",
       "</div>"
      ],
      "text/plain": [
       "   COLLISIONTYPE   WEATHER ROADCOND                LIGHTCOND\n",
       "0      Sideswipe   Raining      Wet  Dark - Street Lights On\n",
       "1     Parked Car     Clear      Dry                 Daylight\n",
       "5     Rear Ended     Clear      Dry                 Daylight\n",
       "6          Other     Clear      Wet                 Daylight\n",
       "8      Sideswipe  Overcast      Dry                 Daylight\n",
       "9      Sideswipe     Clear      Dry                 Daylight\n",
       "10    Rear Ended  Overcast      Dry                 Daylight\n",
       "11        Angles  Overcast      Dry                 Daylight\n",
       "12    Parked Car     Clear      Wet  Dark - Street Lights On\n",
       "13    Parked Car  Overcast      Dry  Dark - Street Lights On\n",
       "\n",
       "[10 rows x 4 columns]"
      ]
     },
     "execution_count": 29,
     "metadata": {},
     "output_type": "execute_result"
    }
   ],
   "source": [
    "features.head(10)"
   ]
  },
  {
   "cell_type": "code",
   "execution_count": 30,
   "metadata": {},
   "outputs": [
    {
     "name": "stdout",
     "output_type": "stream",
     "text": [
      "Elapsed time is 21.449999999254942 seconds.\n"
     ]
    }
   ],
   "source": [
    "print_elapsed_time()"
   ]
  },
  {
   "cell_type": "markdown",
   "metadata": {},
   "source": [
    "Let's define a feature set X."
   ]
  },
  {
   "cell_type": "code",
   "execution_count": 31,
   "metadata": {},
   "outputs": [],
   "source": [
    "X = features"
   ]
  },
  {
   "cell_type": "code",
   "execution_count": 32,
   "metadata": {},
   "outputs": [
    {
     "data": {
      "text/plain": [
       "(171872, 4)"
      ]
     },
     "execution_count": 32,
     "metadata": {},
     "output_type": "execute_result"
    }
   ],
   "source": [
    "X.shape"
   ]
  },
  {
   "cell_type": "code",
   "execution_count": 33,
   "metadata": {},
   "outputs": [
    {
     "name": "stdout",
     "output_type": "stream",
     "text": [
      "<class 'pandas.core.frame.DataFrame'>\n",
      "Int64Index: 171872 entries, 0 to 221388\n",
      "Data columns (total 4 columns):\n",
      " #   Column         Non-Null Count   Dtype   \n",
      "---  ------         --------------   -----   \n",
      " 0   COLLISIONTYPE  171872 non-null  category\n",
      " 1   WEATHER        171872 non-null  category\n",
      " 2   ROADCOND       171872 non-null  category\n",
      " 3   LIGHTCOND      171872 non-null  category\n",
      "dtypes: category(4)\n",
      "memory usage: 2.0 MB\n"
     ]
    }
   ],
   "source": [
    "X.info()"
   ]
  },
  {
   "cell_type": "markdown",
   "metadata": {},
   "source": [
    "We also define the labels for the target variable, SEVERITYCODE:"
   ]
  },
  {
   "cell_type": "code",
   "execution_count": 34,
   "metadata": {},
   "outputs": [],
   "source": [
    "y = df_categorical[\"SEVERITYCODE\"].to_numpy()"
   ]
  },
  {
   "cell_type": "code",
   "execution_count": 35,
   "metadata": {},
   "outputs": [
    {
     "data": {
      "text/plain": [
       "(171872,)"
      ]
     },
     "execution_count": 35,
     "metadata": {},
     "output_type": "execute_result"
    }
   ],
   "source": [
    "y.shape"
   ]
  },
  {
   "cell_type": "code",
   "execution_count": 36,
   "metadata": {},
   "outputs": [
    {
     "name": "stdout",
     "output_type": "stream",
     "text": [
      "Elapsed time is 22.0 seconds.\n"
     ]
    }
   ],
   "source": [
    "print_elapsed_time()"
   ]
  },
  {
   "cell_type": "markdown",
   "metadata": {},
   "source": [
    "## Split the Data into Training and Testing Sets"
   ]
  },
  {
   "cell_type": "code",
   "execution_count": 37,
   "metadata": {},
   "outputs": [],
   "source": [
    "X_train, X_test, y_train, y_test = train_test_split(X, y, test_size=0.2, random_state=4)"
   ]
  },
  {
   "cell_type": "code",
   "execution_count": 38,
   "metadata": {},
   "outputs": [
    {
     "name": "stdout",
     "output_type": "stream",
     "text": [
      "Elapsed time is 22.219999998807907 seconds.\n"
     ]
    }
   ],
   "source": [
    "print_elapsed_time()"
   ]
  },
  {
   "cell_type": "markdown",
   "metadata": {},
   "source": [
    "## Encode Categorical Features as a One-Hot Numeric Array"
   ]
  },
  {
   "cell_type": "markdown",
   "metadata": {},
   "source": [
    "#### Use one hot encoding technique to convert categorical varables to binary variables and append them to the features DataFrame "
   ]
  },
  {
   "cell_type": "raw",
   "metadata": {},
   "source": [
    "# For each feature of the features DataFrame,\n",
    "# get dummy encoding for the feature,\n",
    "# prefix the category column labels with the feature label and a '_' separator,\n",
    "# and concatenate the one-hot encoded columns to the features DataFrame.\n",
    "for feature in list(features.columns):\n",
    "    features = pd.concat([features, pd.get_dummies(features[feature], prefix=feature, prefix_sep='_', dummy_na=False, columns=feature, sparse=False, drop_first=False)], axis=1)"
   ]
  },
  {
   "cell_type": "raw",
   "metadata": {},
   "source": [
    "### DELETE BEFORE PRODUCTION CODE\n",
    "# NOTE: OneHotEncoder(*, categories='auto', drop=None, sparse=True, dtype=<class 'numpy.float64'>, handle_unknown='error')"
   ]
  },
  {
   "cell_type": "code",
   "execution_count": 39,
   "metadata": {},
   "outputs": [
    {
     "name": "stdout",
     "output_type": "stream",
     "text": [
      "Fitting OneHotEncoder to training data...\n",
      "Completed in 0.13000000268220901 seconds.\n",
      "[array(['Angles', 'Cycles', 'Head On', 'Left Turn', 'Other', 'Parked Car',\n",
      "       'Pedestrian', 'Rear Ended', 'Right Turn', 'Sideswipe'],\n",
      "      dtype=object), array(['Blowing Sand/Dirt', 'Clear', 'Fog/Smog/Smoke', 'Other',\n",
      "       'Overcast', 'Partly Cloudy', 'Raining', 'Severe Crosswind',\n",
      "       'Sleet/Hail/Freezing Rain', 'Snowing'], dtype=object), array(['Dry', 'Ice', 'Oil', 'Other', 'Sand/Mud/Dirt', 'Snow/Slush',\n",
      "       'Standing Water', 'Wet'], dtype=object), array(['Dark - No Street Lights', 'Dark - Street Lights Off',\n",
      "       'Dark - Street Lights On', 'Dark - Unknown Lighting', 'Dawn',\n",
      "       'Daylight', 'Dusk', 'Other'], dtype=object)]\n"
     ]
    }
   ],
   "source": [
    "# Create a OneHotEncoder and fit it to the features of the training data.\n",
    "# OneHotEncoder will transform the data into a sparse matrix since the parameter sparse=True by default.\n",
    "start_time = time_now()\n",
    "print(\"Fitting OneHotEncoder to training data...\")\n",
    "encoder = OneHotEncoder()\n",
    "encoder.fit(X_train)\n",
    "print(\"Completed in\", elapsed_time(start_time), \"seconds.\")\n",
    "# Display the categories of the encoder.\n",
    "print(encoder.categories_)"
   ]
  },
  {
   "cell_type": "code",
   "execution_count": 40,
   "metadata": {},
   "outputs": [
    {
     "name": "stdout",
     "output_type": "stream",
     "text": [
      "\n",
      "Completed in 0.5100000016391277 seconds.\n"
     ]
    }
   ],
   "source": [
    "# Transform the training data features using OneHotEncoder.\n",
    "start_time = time_now()\n",
    "print()\n",
    "X_train_one_hot_encoded = encoder.transform(X_train)\n",
    "print(\"Completed in\", elapsed_time(start_time), \"seconds.\")"
   ]
  },
  {
   "cell_type": "code",
   "execution_count": 41,
   "metadata": {},
   "outputs": [
    {
     "data": {
      "text/plain": [
       "scipy.sparse.csr.csr_matrix"
      ]
     },
     "execution_count": 41,
     "metadata": {},
     "output_type": "execute_result"
    }
   ],
   "source": [
    "type(X_train_one_hot_encoded)"
   ]
  },
  {
   "cell_type": "code",
   "execution_count": 42,
   "metadata": {},
   "outputs": [
    {
     "data": {
      "text/plain": [
       "(137497, 4)"
      ]
     },
     "execution_count": 42,
     "metadata": {},
     "output_type": "execute_result"
    }
   ],
   "source": [
    "X_train.shape"
   ]
  },
  {
   "cell_type": "code",
   "execution_count": 43,
   "metadata": {},
   "outputs": [
    {
     "data": {
      "text/plain": [
       "(137497, 36)"
      ]
     },
     "execution_count": 43,
     "metadata": {},
     "output_type": "execute_result"
    }
   ],
   "source": [
    "X_train_one_hot_encoded.shape"
   ]
  },
  {
   "cell_type": "code",
   "execution_count": 44,
   "metadata": {},
   "outputs": [
    {
     "name": "stdout",
     "output_type": "stream",
     "text": [
      "\n",
      "Completed in 0.14999999850988388 seconds.\n"
     ]
    }
   ],
   "source": [
    "# Transform the test data features using the same instance of the OneHotEncoder\n",
    "# that was applied to the training data features.\n",
    "start_time = time_now()\n",
    "print()\n",
    "X_test_one_hot_encoded = encoder.transform(X_test)\n",
    "print(\"Completed in\", elapsed_time(start_time), \"seconds.\")"
   ]
  },
  {
   "cell_type": "code",
   "execution_count": 45,
   "metadata": {},
   "outputs": [
    {
     "data": {
      "text/plain": [
       "scipy.sparse.csr.csr_matrix"
      ]
     },
     "execution_count": 45,
     "metadata": {},
     "output_type": "execute_result"
    }
   ],
   "source": [
    "type(X_test_one_hot_encoded)"
   ]
  },
  {
   "cell_type": "code",
   "execution_count": 46,
   "metadata": {},
   "outputs": [
    {
     "data": {
      "text/plain": [
       "(34375, 4)"
      ]
     },
     "execution_count": 46,
     "metadata": {},
     "output_type": "execute_result"
    }
   ],
   "source": [
    "X_test.shape"
   ]
  },
  {
   "cell_type": "code",
   "execution_count": 47,
   "metadata": {},
   "outputs": [
    {
     "data": {
      "text/plain": [
       "(34375, 36)"
      ]
     },
     "execution_count": 47,
     "metadata": {},
     "output_type": "execute_result"
    }
   ],
   "source": [
    "X_test_one_hot_encoded.shape"
   ]
  },
  {
   "cell_type": "raw",
   "metadata": {},
   "source": [
    "# scipy.sparse.csr.csr_matrix : compressed sparse row matrix"
   ]
  },
  {
   "cell_type": "code",
   "execution_count": 48,
   "metadata": {},
   "outputs": [
    {
     "name": "stdout",
     "output_type": "stream",
     "text": [
      "Elapsed time is 23.87999999895692 seconds.\n"
     ]
    }
   ],
   "source": [
    "print_elapsed_time()"
   ]
  },
  {
   "cell_type": "markdown",
   "metadata": {},
   "source": [
    "## Transform the Data "
   ]
  },
  {
   "cell_type": "markdown",
   "metadata": {},
   "source": [
    "We normalize the data by transforming it so that it is compatible\n",
    "with the machine learning estimators we use in this notebook.\n",
    "We use special care with sparse matrix data so as to not destroy the\n",
    "structure."
   ]
  },
  {
   "cell_type": "code",
   "execution_count": 49,
   "metadata": {},
   "outputs": [],
   "source": [
    "# Construct a StandardScaler applicable to sparse CSR or CSC matrix data.\n",
    "# Pass with_mean=False to the constructor to avoid breaking the sparsity structure\n",
    "# of the data.\n",
    "# To avoid unnecessary memory copies, use CSR or CSC representation upstream.\n",
    "scaler = StandardScaler(with_mean=False)"
   ]
  },
  {
   "cell_type": "code",
   "execution_count": 50,
   "metadata": {},
   "outputs": [
    {
     "name": "stdout",
     "output_type": "stream",
     "text": [
      "Elapsed time is 0.05999999865889549 seconds.\n"
     ]
    }
   ],
   "source": [
    "# Fit and transform the sparse one-hot encoded training data,\n",
    "# and store the transformed data.\n",
    "start_time = time_now()\n",
    "X_train_transformed = scaler.fit_transform(X_train_one_hot_encoded)\n",
    "print_elapsed_time(start_time)"
   ]
  },
  {
   "cell_type": "code",
   "execution_count": 51,
   "metadata": {},
   "outputs": [
    {
     "data": {
      "text/plain": [
       "(137497, 36)"
      ]
     },
     "execution_count": 51,
     "metadata": {},
     "output_type": "execute_result"
    }
   ],
   "source": [
    "X_train_transformed.shape"
   ]
  },
  {
   "cell_type": "code",
   "execution_count": 52,
   "metadata": {},
   "outputs": [
    {
     "name": "stdout",
     "output_type": "stream",
     "text": [
      "Elapsed time is 0.010000001639127731 seconds.\n"
     ]
    }
   ],
   "source": [
    "# Transform the sparse one-hot encoded test data\n",
    "# using the same StandardScaler instance that was used to\n",
    "# transform the sparse, one-hot encoded training data.\n",
    "start_time = time_now()\n",
    "X_test_transformed = scaler.transform(X_test_one_hot_encoded)\n",
    "print_elapsed_time(start_time)"
   ]
  },
  {
   "cell_type": "code",
   "execution_count": 53,
   "metadata": {},
   "outputs": [
    {
     "data": {
      "text/plain": [
       "(34375, 36)"
      ]
     },
     "execution_count": 53,
     "metadata": {},
     "output_type": "execute_result"
    }
   ],
   "source": [
    "X_test_transformed.shape"
   ]
  },
  {
   "cell_type": "code",
   "execution_count": 54,
   "metadata": {},
   "outputs": [
    {
     "name": "stdout",
     "output_type": "stream",
     "text": [
      "Elapsed time is 24.449999999254942 seconds.\n"
     ]
    }
   ],
   "source": [
    "print_elapsed_time()"
   ]
  },
  {
   "cell_type": "markdown",
   "metadata": {},
   "source": [
    "# Classification "
   ]
  },
  {
   "cell_type": "markdown",
   "metadata": {},
   "source": [
    "We split the normalized data and target labels into a training test and a test set.\n",
    "We use the training set to build an accurate model.\n",
    "Afterwards, we use the test set to report the accuracy of the model.\n",
    "\n",
    "We apply the following algorithms to produce various kinds of models.\n",
    "- K Nearest Neighbor(KNN)\n",
    "- Decision Tree\n",
    "- Support Vector Machine\n",
    "- Logistic Regression"
   ]
  },
  {
   "cell_type": "markdown",
   "metadata": {},
   "source": [
    "## Build a K-Nearest Neighbors (KNN) Model\n",
    "For each integer $1 \\le k \\le 50$, we build a KNN classifier with $k$ neighbors and compute the Jaccard score\n",
    "for the classifier. The best value of $k$ corresponds to classifier with maximum Jaccard score.\n",
    "The upper bound of $50$ was chosen as a matter of convenience, since each KNN classifier requires significant\n",
    "system resources to construct."
   ]
  },
  {
   "cell_type": "code",
   "execution_count": 55,
   "metadata": {},
   "outputs": [
    {
     "name": "stdout",
     "output_type": "stream",
     "text": [
      "For number of neighbors k = 1, accuracy = 0.6193163636363637 in 679.4400000013411 seconds.\n",
      "For number of neighbors k = 2, accuracy = 0.6748218181818182 in 679.339999999851 seconds.\n",
      "For number of neighbors k = 3, accuracy = 0.6773818181818182 in 702.1999999992549 seconds.\n",
      "For number of neighbors k = 4, accuracy = 0.7005090909090909 in 818.3099999986589 seconds.\n",
      "For number of neighbors k = 5, accuracy = 0.6916654545454546 in 815.75 seconds.\n",
      "For number of neighbors k = 6, accuracy = 0.7009745454545454 in 842.7400000020862 seconds.\n",
      "For number of neighbors k = 7, accuracy = 0.6973090909090909 in 831.7299999967217 seconds.\n",
      "For number of neighbors k = 8, accuracy = 0.7044072727272728 in 816.7200000025332 seconds.\n",
      "For number of neighbors k = 9, accuracy = 0.7015854545454545 in 816.3799999989569 seconds.\n",
      "For number of neighbors k = 10, accuracy = 0.7072 in 816.679999999702 seconds.\n",
      "For number of neighbors k = 11, accuracy = 0.7038836363636364 in 826.4900000020862 seconds.\n",
      "For number of neighbors k = 12, accuracy = 0.7081018181818182 in 822.910000000149 seconds.\n",
      "For number of neighbors k = 13, accuracy = 0.70688 in 1014.2399999983609 seconds.\n",
      "For number of neighbors k = 14, accuracy = 0.7082763636363636 in 844.320000000298 seconds.\n",
      "For number of neighbors k = 15, accuracy = 0.7085381818181818 in 818.0300000011921 seconds.\n",
      "For number of neighbors k = 16, accuracy = 0.7094109090909091 in 816.9799999967217 seconds.\n",
      "For number of neighbors k = 17, accuracy = 0.6918690909090909 in 821.9000000022352 seconds.\n",
      "For number of neighbors k = 18, accuracy = 0.7094690909090909 in 819.0599999986589 seconds.\n",
      "For number of neighbors k = 19, accuracy = 0.7096436363636364 in 818.8300000019372 seconds.\n",
      "For number of neighbors k = 20, accuracy = 0.7102254545454545 in 819.089999999851 seconds.\n",
      "For number of neighbors k = 21, accuracy = 0.7105745454545455 in 818.25 seconds.\n",
      "For number of neighbors k = 22, accuracy = 0.71072 in 819.5099999979138 seconds.\n",
      "For number of neighbors k = 23, accuracy = 0.7107781818181819 in 822.3300000019372 seconds.\n",
      "For number of neighbors k = 24, accuracy = 0.7095272727272727 in 820.0399999991059 seconds.\n",
      "For number of neighbors k = 25, accuracy = 0.6942836363636363 in 819.1200000010431 seconds.\n",
      "For number of neighbors k = 26, accuracy = 0.7095272727272727 in 818.769999999553 seconds.\n",
      "For number of neighbors k = 27, accuracy = 0.7108363636363636 in 819.160000000149 seconds.\n",
      "For number of neighbors k = 28, accuracy = 0.7095854545454545 in 819.019999999553 seconds.\n",
      "For number of neighbors k = 29, accuracy = 0.7109527272727273 in 820.8799999989569 seconds.\n",
      "For number of neighbors k = 30, accuracy = 0.7109236363636363 in 818.1999999992549 seconds.\n",
      "For number of neighbors k = 31, accuracy = 0.7109236363636363 in 818.679999999702 seconds.\n",
      "For number of neighbors k = 32, accuracy = 0.7117672727272727 in 818.5600000023842 seconds.\n",
      "For number of neighbors k = 33, accuracy = 0.7119709090909091 in 817.519999999553 seconds.\n",
      "For number of neighbors k = 34, accuracy = 0.71232 in 818.0799999982119 seconds.\n",
      "For number of neighbors k = 35, accuracy = 0.7122618181818182 in 819.230000000447 seconds.\n",
      "For number of neighbors k = 36, accuracy = 0.7129018181818182 in 818.339999999851 seconds.\n",
      "For number of neighbors k = 37, accuracy = 0.7129018181818182 in 818.8999999985099 seconds.\n",
      "For number of neighbors k = 38, accuracy = 0.7128145454545455 in 817.9600000008941 seconds.\n",
      "For number of neighbors k = 39, accuracy = 0.7122327272727272 in 817.75 seconds.\n",
      "For number of neighbors k = 40, accuracy = 0.7124363636363636 in 817.7199999988079 seconds.\n",
      "For number of neighbors k = 41, accuracy = 0.7123490909090909 in 817.8300000019372 seconds.\n",
      "For number of neighbors k = 42, accuracy = 0.7130472727272728 in 818.160000000149 seconds.\n",
      "For number of neighbors k = 43, accuracy = 0.71232 in 817.890000000596 seconds.\n",
      "For number of neighbors k = 44, accuracy = 0.7129890909090909 in 820.2799999974668 seconds.\n",
      "For number of neighbors k = 45, accuracy = 0.7128436363636363 in 819.6700000017881 seconds.\n",
      "For number of neighbors k = 46, accuracy = 0.7129890909090909 in 818.5099999979138 seconds.\n",
      "For number of neighbors k = 47, accuracy = 0.7125527272727272 in 817.910000000149 seconds.\n",
      "For number of neighbors k = 48, accuracy = 0.7126109090909091 in 818.1300000026822 seconds.\n",
      "For number of neighbors k = 49, accuracy = 0.6961163636363636 in 819.019999999553 seconds.\n",
      "For number of neighbors k = 50, accuracy = 0.7129890909090909 in 819.5299999974668 seconds.\n",
      "\n",
      "Elapsed time to find optimum KNN classifier: 40806.099999997765 seconds.\n"
     ]
    }
   ],
   "source": [
    "# Calculate the accuracy of KNN for different numbers of neighbors k, \n",
    "# and select the value of k that maximizes Jaccard score.\n",
    "Ks = 51\n",
    "mean_acc = np.zeros(Ks - 1)\n",
    "std_acc = np.zeros(Ks - 1)\n",
    "time_on_enter_for_loop = time_now()\n",
    "for n in range(1, Ks):\n",
    "    single_pass_start_time = time_now()\n",
    "    print(\"For number of neighbors k = \", n, \", \", sep=\"\", end=\"\")\n",
    "    # Train Model and Predict\n",
    "    knn_clf = KNeighborsClassifier(n_neighbors = n, weights=\"uniform\", algorithm=\"brute\", leaf_size=30, p=1, metric=\"minkowski\", metric_params=None, n_jobs=-1)\n",
    "    knn_clf.fit(X_train_transformed, y_train)\n",
    "    y_knn_predictions = knn_clf.predict(X_test_transformed)\n",
    "    mean_acc[n - 1] = accuracy_score(y_test, y_knn_predictions)\n",
    "    std_acc[n - 1] = np.std(y_test == y_knn_predictions) / np.sqrt(Ks)\n",
    "    print(\"accuracy = \", mean_acc[n - 1], sep='', end='')\n",
    "    single_pass_end_time = time_now()\n",
    "    single_pass_elapsed_time = single_pass_end_time - single_pass_start_time\n",
    "    print(\" in\", single_pass_elapsed_time, \"seconds.\")\n",
    "\n",
    "print()\n",
    "print(\"Elapsed time to find optimum KNN classifier:\", elapsed_time(time_on_enter_for_loop), \"seconds.\")"
   ]
  },
  {
   "cell_type": "raw",
   "metadata": {},
   "source": [
    "# For efficiency, store a copy of the best KNeighborsClassifer. "
   ]
  },
  {
   "cell_type": "code",
   "execution_count": 56,
   "metadata": {},
   "outputs": [
    {
     "data": {
      "image/png": "[encoded data removed]",
      "text/plain": [
       "<Figure size 432x288 with 1 Axes>"
      ]
     },
     "metadata": {
      "needs_background": "light"
     },
     "output_type": "display_data"
    }
   ],
   "source": [
    "# Plot model accuracy for different number of neighbors k\n",
    "plt.plot(range(1, Ks), mean_acc, 'g')\n",
    "plt.fill_between(range(1, Ks), mean_acc - 1 * std_acc, mean_acc + 1 * std_acc, alpha=0.10)\n",
    "plt.legend(('Accuracy ', '+/- 3 std. dev.'))\n",
    "plt.ylabel('Accuracy ')\n",
    "plt.xlabel('Number of Neighbors (k)')\n",
    "plt.tight_layout()\n",
    "plt.show()"
   ]
  },
  {
   "cell_type": "code",
   "execution_count": 57,
   "metadata": {},
   "outputs": [
    {
     "name": "stdout",
     "output_type": "stream",
     "text": [
      "The best accuracy was 0.7130472727272728 with a number of neighbors k = 42\n"
     ]
    }
   ],
   "source": [
    "# Report best accuracy and corresponding value for k.\n",
    "print( \"The best accuracy was\", mean_acc.max(), \"with a number of neighbors k =\", mean_acc.argmax()+1) "
   ]
  },
  {
   "cell_type": "code",
   "execution_count": 58,
   "metadata": {},
   "outputs": [
    {
     "name": "stdout",
     "output_type": "stream",
     "text": [
      "Building KNeighborsClassifier with k = 42  neighbors...\n",
      "Completed in 0.5500000007450581 seconds.\n"
     ]
    }
   ],
   "source": [
    "# Build the most accurate KNN model by using a value of k that maximizes the Jaccard score.\n",
    "k_best = mean_acc.argmax() + 1\n",
    "print(\"Building KNeighborsClassifier with k =\", k_best, \" neighbors...\")\n",
    "start_time = time_now()\n",
    "knn_clf = KNeighborsClassifier(n_neighbors = k_best, weights=\"uniform\", algorithm=\"brute\", leaf_size=30, p=1, metric=\"minkowski\", metric_params=None, n_jobs=-1)\n",
    "knn_clf.fit(X_train_transformed, y_train)\n",
    "print(\"Completed in\", elapsed_time(start_time), \"seconds.\")"
   ]
  },
  {
   "cell_type": "code",
   "execution_count": 59,
   "metadata": {},
   "outputs": [
    {
     "name": "stdout",
     "output_type": "stream",
     "text": [
      "Elapsed time is 40832.47999999672 seconds.\n"
     ]
    }
   ],
   "source": [
    "print_elapsed_time()"
   ]
  },
  {
   "cell_type": "markdown",
   "metadata": {},
   "source": [
    "## Evaluate the K Nearest Neighbor Model"
   ]
  },
  {
   "cell_type": "markdown",
   "metadata": {},
   "source": [
    "# Build a Decision Tree Model"
   ]
  },
  {
   "cell_type": "code",
   "execution_count": 60,
   "metadata": {},
   "outputs": [
    {
     "name": "stdout",
     "output_type": "stream",
     "text": [
      "Built Decision Tree Model in 3.219999998807907 seconds.\n",
      "\n"
     ]
    }
   ],
   "source": [
    "# Build a decision tree model from the training data previously generated.\n",
    "start_time = time_now()\n",
    "decision_tree = DecisionTreeClassifier(criterion=\"entropy\")\n",
    "decision_tree.fit(X_train_transformed, y_train)\n",
    "print(\"Built Decision Tree Model in\", elapsed_time(start_time), \"seconds.\")\n",
    "print()"
   ]
  },
  {
   "cell_type": "code",
   "execution_count": 61,
   "metadata": {},
   "outputs": [
    {
     "name": "stdout",
     "output_type": "stream",
     "text": [
      "Elapsed time is 40835.849999997765 seconds.\n"
     ]
    }
   ],
   "source": [
    "print_elapsed_time()"
   ]
  },
  {
   "cell_type": "markdown",
   "metadata": {},
   "source": [
    "# Build a Support Vector Machine Model"
   ]
  },
  {
   "cell_type": "raw",
   "metadata": {},
   "source": [
    "# Build a support vector machine model from the training data previously generated using C-Support Vector Classification.\n",
    "start_time = time_now()\n",
    "svm_clf = SVC(kernel='rbf', gamma='auto')\n",
    "svm_clf.fit(X_train_transformed, y_train)\n",
    "print(\"Built Support Vector Machine Model in\", elapsed_time(start_time), \"seconds.\")\n",
    "print()"
   ]
  },
  {
   "cell_type": "code",
   "execution_count": 62,
   "metadata": {},
   "outputs": [],
   "source": [
    "# Build a support vector machine using "
   ]
  },
  {
   "cell_type": "code",
   "execution_count": 63,
   "metadata": {},
   "outputs": [
    {
     "name": "stdout",
     "output_type": "stream",
     "text": [
      "Built Linear Support Vector Machine Model in 3.4899999983608723 seconds.\n",
      "\n"
     ]
    }
   ],
   "source": [
    "# Build a support vector machine model from the training data previously generated using Linear Support Vector Classification.\n",
    "start_time = time_now()\n",
    "linear_svm_clf = LinearSVC(dual=False)\n",
    "linear_svm_clf.fit(X_train_transformed, y_train)\n",
    "print(\"Built Linear Support Vector Machine Model in\", elapsed_time(start_time), \"seconds.\")\n",
    "print()"
   ]
  },
  {
   "cell_type": "code",
   "execution_count": 64,
   "metadata": {},
   "outputs": [
    {
     "name": "stdout",
     "output_type": "stream",
     "text": [
      "Elapsed time is 40839.699999999255 seconds.\n"
     ]
    }
   ],
   "source": [
    "print_elapsed_time()"
   ]
  },
  {
   "cell_type": "markdown",
   "metadata": {},
   "source": [
    "# Build a Logistic Regression Model"
   ]
  },
  {
   "cell_type": "code",
   "execution_count": 65,
   "metadata": {},
   "outputs": [
    {
     "name": "stdout",
     "output_type": "stream",
     "text": [
      "Built Logistic Regression Model in 3.75 seconds.\n",
      "\n"
     ]
    }
   ],
   "source": [
    "# Build a logistic regression model from the training data previously generated.\n",
    "start_time = time_now()\n",
    "lr = LogisticRegression(n_jobs=-1).fit(X_train_transformed, y_train)\n",
    "print(\"Built Logistic Regression Model in\", elapsed_time(start_time), \"seconds.\")\n",
    "print()"
   ]
  },
  {
   "cell_type": "code",
   "execution_count": 66,
   "metadata": {},
   "outputs": [
    {
     "name": "stdout",
     "output_type": "stream",
     "text": [
      "Elapsed time is 40843.609999999404 seconds.\n"
     ]
    }
   ],
   "source": [
    "print_elapsed_time()"
   ]
  },
  {
   "cell_type": "markdown",
   "metadata": {},
   "source": [
    "# Evaluate the Various Models"
   ]
  },
  {
   "cell_type": "code",
   "execution_count": 67,
   "metadata": {},
   "outputs": [
    {
     "data": {
      "text/plain": [
       "1    0.661323636\n",
       "2    0.320116364\n",
       "2b   0.016436364\n",
       "3    0.002123636\n",
       "Length: 4, dtype: float64"
      ]
     },
     "execution_count": 67,
     "metadata": {},
     "output_type": "execute_result"
    }
   ],
   "source": [
    "pd.Series(y_test).value_counts(normalize=True, dropna=False)"
   ]
  },
  {
   "cell_type": "code",
   "execution_count": 68,
   "metadata": {},
   "outputs": [
    {
     "name": "stdout",
     "output_type": "stream",
     "text": [
      "Running command: y_knn_predictions = knn_clf.predict(X_test_transformed)\n",
      "Completed in 823.5799999982119 seconds.\n",
      "\n"
     ]
    }
   ],
   "source": [
    "start_time = time_now()\n",
    "# Apply KNN to the test set, generate predictions for KNN.\n",
    "print(\"Running command: y_knn_predictions = knn_clf.predict(X_test_transformed)\")\n",
    "y_knn_predictions = knn_clf.predict(X_test_transformed)\n",
    "print(\"Completed in\", elapsed_time(start_time), \"seconds.\")\n",
    "print()"
   ]
  },
  {
   "cell_type": "code",
   "execution_count": 69,
   "metadata": {},
   "outputs": [
    {
     "data": {
      "text/plain": [
       "(34375,)"
      ]
     },
     "execution_count": 69,
     "metadata": {},
     "output_type": "execute_result"
    }
   ],
   "source": [
    "y_knn_predictions.shape"
   ]
  },
  {
   "cell_type": "code",
   "execution_count": 70,
   "metadata": {},
   "outputs": [
    {
     "data": {
      "text/plain": [
       "1   0.922443636\n",
       "2   0.077556364\n",
       "Length: 2, dtype: float64"
      ]
     },
     "execution_count": 70,
     "metadata": {},
     "output_type": "execute_result"
    }
   ],
   "source": [
    "pd.Series(y_knn_predictions).value_counts(normalize=True, dropna=False)"
   ]
  },
  {
   "cell_type": "code",
   "execution_count": 71,
   "metadata": {},
   "outputs": [
    {
     "name": "stdout",
     "output_type": "stream",
     "text": [
      "Running command: y_tree_predictions = decision_tree.predict(X_test_transformed)\n",
      "Completed in 0.019999999552965164 seconds\n",
      "\n"
     ]
    }
   ],
   "source": [
    "# Apply Decision Tree to the test set, generate predictions for Decision Tree.\n",
    "print(\"Running command: y_tree_predictions = decision_tree.predict(X_test_transformed)\")\n",
    "start_time = time_now()\n",
    "y_tree_predictions = decision_tree.predict(X_test_transformed)\n",
    "print(\"Completed in\", elapsed_time(start_time), \"seconds\")\n",
    "print()"
   ]
  },
  {
   "cell_type": "code",
   "execution_count": 72,
   "metadata": {},
   "outputs": [
    {
     "data": {
      "text/plain": [
       "1    0.919243636\n",
       "2    0.080698182\n",
       "2b   0.000058182\n",
       "Length: 3, dtype: float64"
      ]
     },
     "execution_count": 72,
     "metadata": {},
     "output_type": "execute_result"
    }
   ],
   "source": [
    "pd.Series(y_tree_predictions).value_counts(normalize=True, dropna=False)"
   ]
  },
  {
   "cell_type": "raw",
   "metadata": {},
   "source": [
    "# Apply SVM to the test set, generate predictions for SVM.\n",
    "print(\"Running command: y_svm_predictions = svm_clf.predict(X_test_transformed)\")\n",
    "start_time = time_now()\n",
    "y_svm_predictions = svm_clf.predict(X_test_transformed)\n",
    "print(\"Completed in\", elapsed_time(start_time), \"seconds.\")\n",
    "print()"
   ]
  },
  {
   "cell_type": "raw",
   "metadata": {},
   "source": [
    "pd.Series(y_svm_predictions).value_counts(normalize=True, dropna=False)"
   ]
  },
  {
   "cell_type": "code",
   "execution_count": 73,
   "metadata": {},
   "outputs": [
    {
     "name": "stdout",
     "output_type": "stream",
     "text": [
      "Running command: y_linear_svm_predictions = linear_svm_clf.predict(X_test_transformed)\n",
      "Completed in 0.010000001639127731 seconds.\n",
      "\n"
     ]
    }
   ],
   "source": [
    "# Apply Linear SVM to the test set, generate predictions for Linear SVM.\n",
    "print(\"Running command: y_linear_svm_predictions = linear_svm_clf.predict(X_test_transformed)\")\n",
    "start_time = time_now()\n",
    "y_linear_svm_predictions = linear_svm_clf.predict(X_test_transformed)\n",
    "print(\"Completed in\", elapsed_time(start_time), \"seconds.\")\n",
    "print()"
   ]
  },
  {
   "cell_type": "code",
   "execution_count": 74,
   "metadata": {},
   "outputs": [
    {
     "data": {
      "text/plain": [
       "1   0.925061818\n",
       "2   0.074938182\n",
       "Length: 2, dtype: float64"
      ]
     },
     "execution_count": 74,
     "metadata": {},
     "output_type": "execute_result"
    }
   ],
   "source": [
    "pd.Series(y_linear_svm_predictions).value_counts(normalize=True, dropna=False)"
   ]
  },
  {
   "cell_type": "code",
   "execution_count": 75,
   "metadata": {},
   "outputs": [
    {
     "name": "stdout",
     "output_type": "stream",
     "text": [
      "Running command: y_lr_predictions = lr.predict(X_test_transformed)\n",
      "Completed in 0.009999997913837433 seconds.\n",
      "\n",
      "Running command: y_lr_probabilities = lr.predict_proba(X_test_transformed)\n",
      "Completed in 0.019999999552965164 seconds.\n",
      "\n"
     ]
    }
   ],
   "source": [
    "# Apply Logistic Regression to the test set, generate predictions and probabilities for Logistic Regression.\n",
    "print(\"Running command: y_lr_predictions = lr.predict(X_test_transformed)\")\n",
    "start_time = time_now()\n",
    "y_lr_predictions = lr.predict(X_test_transformed)\n",
    "print(\"Completed in\", elapsed_time(start_time), \"seconds.\")\n",
    "print()\n",
    "\n",
    "print(\"Running command: y_lr_probabilities = lr.predict_proba(X_test_transformed)\")\n",
    "start_time = time_now()\n",
    "y_lr_probabilities = lr.predict_proba(X_test_transformed)\n",
    "print(\"Completed in\", elapsed_time(start_time), \"seconds.\")\n",
    "print()"
   ]
  },
  {
   "cell_type": "code",
   "execution_count": 76,
   "metadata": {},
   "outputs": [
    {
     "data": {
      "text/plain": [
       "1   0.925003636\n",
       "2   0.074996364\n",
       "Length: 2, dtype: float64"
      ]
     },
     "execution_count": 76,
     "metadata": {},
     "output_type": "execute_result"
    }
   ],
   "source": [
    "pd.Series(y_lr_predictions).value_counts(normalize=True, dropna=False)"
   ]
  },
  {
   "cell_type": "raw",
   "metadata": {},
   "source": [
    "# Create and fit a label encoder for the target labels.\n",
    "le = preprocessing.LabelEncoder()\n",
    "le.fit(y_test)\n",
    "# Transform the labels of the target test set into dummy labels.\n",
    "y_test_lr_dummies = le.transform(y_test)\n",
    "y_lr_predictions_dummies = le.transform(y_lr_predictions)"
   ]
  },
  {
   "cell_type": "code",
   "execution_count": 77,
   "metadata": {},
   "outputs": [],
   "source": [
    "# Define numpy arrays to store the results of tests of the various algorithms.\n",
    "# index = 0 => KNN score\n",
    "# index = 1 => Decision Tree\n",
    "# index = 2 => Linear SVM\n",
    "# index = 3 => Logistic Regression\n",
    "jaccard = np.zeros((4,4))\n",
    "f1 = np.zeros((4,4))\n",
    "logloss = np.zeros((4,4))\n",
    "logloss[0] = np.nan\n",
    "logloss[1] = np.nan\n",
    "logloss[2] = np.nan"
   ]
  },
  {
   "cell_type": "code",
   "execution_count": 78,
   "metadata": {},
   "outputs": [
    {
     "name": "stdout",
     "output_type": "stream",
     "text": [
      "KNN Jaccard score is [0.70014365 0.18058554 0.         0.        ]\n",
      "KNN F1-score is [0.82362882 0.30592538 0.         0.        ]\n",
      "\n"
     ]
    }
   ],
   "source": [
    "# For KNN model, compute Jaccard score.\n",
    "jaccard[0] = jaccard_score(y_test, y_knn_predictions, labels=[\"1\", \"2\", \"2b\", \"3\"], average=None)\n",
    "print(\"KNN Jaccard score is\", jaccard[0,:])\n",
    "# For KNN model, compute F1-score.\n",
    "f1[0] = f1_score(y_test, y_knn_predictions, average=None)\n",
    "print(\"KNN F1-score is\", f1[0])\n",
    "print()"
   ]
  },
  {
   "cell_type": "code",
   "execution_count": 79,
   "metadata": {},
   "outputs": [
    {
     "name": "stdout",
     "output_type": "stream",
     "text": [
      "Decision Tree Jaccard score is:  [0.69952141 0.18357529 0.00176678 0.        ]\n",
      "Decision Tree F1-score is:  [0.82319812 0.31020467 0.00352734 0.        ]\n",
      "\n"
     ]
    }
   ],
   "source": [
    "# For Decision Tree model, compute Jaccard score.\n",
    "jaccard[1] = jaccard_score(y_test, y_tree_predictions, labels=[\"1\", \"2\", \"2b\", \"3\"], average=None)\n",
    "print(\"Decision Tree Jaccard score is: \", jaccard[1])\n",
    "# For Decision Tree model, compute F1-score.\n",
    "f1[1] = f1_score(y_test, y_tree_predictions, average=None)\n",
    "print(\"Decision Tree F1-score is: \", f1[1])\n",
    "print()"
   ]
  },
  {
   "cell_type": "raw",
   "metadata": {},
   "source": [
    "# For SVM algorithm, compute Jaccard score.\n",
    "jaccard[2] = jaccard_score(y_test, y_svm_predictions, labels=[\"1\", \"2\", \"2b\", \"3\"], average=None)\n",
    "print(\"SVM Jaccard score is\", jaccard[2])\n",
    "# For SVM algorithm, compute F1-score.\n",
    "f1[2] = f1_score(y_test, y_svm_predictions, average=None)\n",
    "print(\"SVM F1-score is\", f1[2])\n",
    "print()"
   ]
  },
  {
   "cell_type": "code",
   "execution_count": 80,
   "metadata": {},
   "outputs": [
    {
     "name": "stdout",
     "output_type": "stream",
     "text": [
      "Linear SVM Jaccard score is [0.70088269 0.17800139 0.         0.        ]\n",
      "Linear SVM F1-score is [0.82413995 0.30220913 0.         0.        ]\n",
      "Linear SVM mean accuracy is 0.7133963636363636\n",
      "\n"
     ]
    }
   ],
   "source": [
    "# For Linear SVM algorithm, compute Jaccard score and mean accuracy.\n",
    "jaccard[2] = jaccard_score(y_test, y_linear_svm_predictions, labels=[\"1\", \"2\", \"2b\", \"3\"], average=None)\n",
    "linear_svm_mean_accuracy = linear_svm_clf.score(X_test_transformed, y_test)\n",
    "print(\"Linear SVM Jaccard score is\", jaccard[2])\n",
    "# For Linear SVM algorithm, compute F1-score.\n",
    "f1[2] = f1_score(y_test, y_linear_svm_predictions, average=None)\n",
    "print(\"Linear SVM F1-score is\", f1[2])\n",
    "print(\"Linear SVM mean accuracy is\", linear_svm_mean_accuracy)\n",
    "print()"
   ]
  },
  {
   "cell_type": "code",
   "execution_count": 81,
   "metadata": {},
   "outputs": [
    {
     "name": "stdout",
     "output_type": "stream",
     "text": [
      "Logistic Regression Jaccard similarity score is [0.70082031 0.17797051 0.         0.        ]\n",
      "Logistic Regression F1-score is [0.82409683 0.30216463 0.         0.        ]\n",
      "Logistic Regression log loss is [0.60296076 0.60296076 0.60296076 0.60296076]\n"
     ]
    }
   ],
   "source": [
    "# For logistic regression algorithm, compute Jaccard score.\n",
    "jaccard[3] = jaccard_score(y_test, y_lr_predictions, labels=[\"1\", \"2\", \"2b\", \"3\"], average=None)\n",
    "print(\"Logistic Regression Jaccard similarity score is\", jaccard[3])\n",
    "# For logistic regression algorithm, compute F1-score.\n",
    "f1[3] = f1_score(y_test, y_lr_predictions, average=None)\n",
    "print(\"Logistic Regression F1-score is\", f1[3])\n",
    "# For logistic regression algorithm, compute log loss.\n",
    "logloss[3] = log_loss(y_test, y_lr_probabilities)\n",
    "print(\"Logistic Regression log loss is\", logloss[3])"
   ]
  },
  {
   "cell_type": "raw",
   "metadata": {},
   "source": [
    "report_df = pd.DataFrame(data={'Algorithm':['KNN', 'Decision Tree', 'SVM', 'LogisticRegression'],\n",
    "                               'Jaccard':jaccard,\n",
    "                               'F1-score':f1,\n",
    "                               'LogLoss':logloss})\n",
    "\n",
    "report_df[['Algorithm', 'Jaccard', 'F1-score', 'LogLoss']].style.hide_index()"
   ]
  },
  {
   "cell_type": "raw",
   "metadata": {},
   "source": [
    "###  DELETE BEFORE PRODUCTION CODE\n",
    "# NOTE: classification_report(y_true, y_pred, *, labels=None, target_names=None, sample_weight=None, digits=2, output_dict=False, zero_division='warn')\n",
    "# NOTE: confusion_matrix(y_true, y_pred, *, labels=None, sample_weight=None, normalize=None)"
   ]
  },
  {
   "cell_type": "code",
   "execution_count": 82,
   "metadata": {},
   "outputs": [
    {
     "name": "stderr",
     "output_type": "stream",
     "text": [
      "/home/chris/anaconda3/lib/python3.8/site-packages/sklearn/metrics/_classification.py:1221: UndefinedMetricWarning: Precision and F-score are ill-defined and being set to 0.0 in labels with no predicted samples. Use `zero_division` parameter to control this behavior.\n",
      "  _warn_prf(average, modifier, msg_start, len(result))\n"
     ]
    },
    {
     "name": "stdout",
     "output_type": "stream",
     "text": [
      "              precision    recall  f1-score   support\n",
      "\n",
      "           1       0.71      0.99      0.82     22733\n",
      "           2       0.78      0.19      0.31     11004\n",
      "          2b       0.00      0.00      0.00       565\n",
      "           3       0.00      0.00      0.00        73\n",
      "\n",
      "    accuracy                           0.71     34375\n",
      "   macro avg       0.37      0.29      0.28     34375\n",
      "weighted avg       0.72      0.71      0.64     34375\n",
      "\n",
      "[[0.65221818 0.00910545 0.         0.        ]\n",
      " [0.25928727 0.06082909 0.         0.        ]\n",
      " [0.00971636 0.00672    0.         0.        ]\n",
      " [0.00122182 0.00090182 0.         0.        ]]\n"
     ]
    }
   ],
   "source": [
    "# Classification report and Confusion matrix for KNN\n",
    "print(classification_report(y_test, y_knn_predictions, labels=[\"1\", \"2\", \"2b\", \"3\"], target_names=[\"1\", \"2\", \"2b\", \"3\"]))\n",
    "print(confusion_matrix(y_test, y_knn_predictions, labels=[\"1\", \"2\", \"2b\", \"3\"], normalize=\"all\"))"
   ]
  },
  {
   "cell_type": "code",
   "execution_count": 83,
   "metadata": {},
   "outputs": [
    {
     "name": "stdout",
     "output_type": "stream",
     "text": [
      "              precision    recall  f1-score   support\n",
      "\n",
      "           1       0.71      0.98      0.82     22733\n",
      "           2       0.77      0.19      0.31     11004\n",
      "          2b       0.50      0.00      0.00       565\n",
      "           3       0.00      0.00      0.00        73\n",
      "\n",
      "    accuracy                           0.71     34375\n",
      "   macro avg       0.49      0.29      0.28     34375\n",
      "weighted avg       0.72      0.71      0.64     34375\n",
      "\n",
      "[[6.50560000e-01 1.07636364e-02 0.00000000e+00 0.00000000e+00]\n",
      " [2.57920000e-01 6.21672727e-02 2.90909091e-05 0.00000000e+00]\n",
      " [9.54181818e-03 6.86545455e-03 2.90909091e-05 0.00000000e+00]\n",
      " [1.22181818e-03 9.01818182e-04 0.00000000e+00 0.00000000e+00]]\n"
     ]
    }
   ],
   "source": [
    "# Classification report and Confusion matrix for Decision Tree\n",
    "print(classification_report(y_test, y_tree_predictions, labels=[\"1\", \"2\", \"2b\", \"3\"], target_names=[\"1\", \"2\", \"2b\", \"3\"]))\n",
    "print(confusion_matrix(y_test, y_tree_predictions, labels=[\"1\", \"2\", \"2b\", \"3\"], normalize=\"all\"))"
   ]
  },
  {
   "cell_type": "raw",
   "metadata": {},
   "source": [
    "# Classification report and Confusion matrix for SVM.\n",
    "print(classification_report(y_test, y_svm_predictions, labels=[\"1\", \"2\", \"2b\", \"3\"], target_names=[\"1\", \"2\", \"2b\", \"3\"]))\n",
    "print(confusion_matrix(y_test, y_svm_predictions, labels=[\"1\", \"2\", \"2b\", \"3\"], normalize=\"all\"))"
   ]
  },
  {
   "cell_type": "code",
   "execution_count": 84,
   "metadata": {},
   "outputs": [
    {
     "name": "stdout",
     "output_type": "stream",
     "text": [
      "              precision    recall  f1-score   support\n",
      "\n",
      "           1       0.71      0.99      0.82     22733\n",
      "           2       0.80      0.19      0.30     11004\n",
      "          2b       0.00      0.00      0.00       565\n",
      "           3       0.00      0.00      0.00        73\n",
      "\n",
      "    accuracy                           0.71     34375\n",
      "   macro avg       0.38      0.29      0.28     34375\n",
      "weighted avg       0.72      0.71      0.64     34375\n",
      "\n",
      "[[0.65370182 0.00762182 0.         0.        ]\n",
      " [0.26042182 0.05969455 0.         0.        ]\n",
      " [0.00968727 0.00674909 0.         0.        ]\n",
      " [0.00125091 0.00087273 0.         0.        ]]\n"
     ]
    }
   ],
   "source": [
    "# Classification report and Confusion matrix for Linear SVM.\n",
    "print(classification_report(y_test, y_linear_svm_predictions, labels=[\"1\", \"2\", \"2b\", \"3\"], target_names=[\"1\", \"2\", \"2b\", \"3\"]))\n",
    "print(confusion_matrix(y_test, y_linear_svm_predictions, labels=[\"1\", \"2\", \"2b\", \"3\"], normalize=\"all\"))"
   ]
  },
  {
   "cell_type": "code",
   "execution_count": 85,
   "metadata": {},
   "outputs": [
    {
     "name": "stdout",
     "output_type": "stream",
     "text": [
      "              precision    recall  f1-score   support\n",
      "\n",
      "           1       0.71      0.99      0.82     22733\n",
      "           2       0.80      0.19      0.30     11004\n",
      "          2b       0.00      0.00      0.00       565\n",
      "           3       0.00      0.00      0.00        73\n",
      "\n",
      "    accuracy                           0.71     34375\n",
      "   macro avg       0.38      0.29      0.28     34375\n",
      "weighted avg       0.72      0.71      0.64     34375\n",
      "\n",
      "[[0.65364364 0.00768    0.         0.        ]\n",
      " [0.26042182 0.05969455 0.         0.        ]\n",
      " [0.00968727 0.00674909 0.         0.        ]\n",
      " [0.00125091 0.00087273 0.         0.        ]]\n"
     ]
    }
   ],
   "source": [
    "# Classification report and Confusion matrix for Logisitic Regression\n",
    "print(classification_report(y_test, y_lr_predictions, labels=[\"1\", \"2\", \"2b\", \"3\"], target_names=[\"1\", \"2\", \"2b\", \"3\"]))\n",
    "print(confusion_matrix(y_test, y_lr_predictions, labels=[\"1\", \"2\", \"2b\", \"3\"], normalize=\"all\"))"
   ]
  },
  {
   "cell_type": "code",
   "execution_count": 86,
   "metadata": {},
   "outputs": [
    {
     "name": "stdout",
     "output_type": "stream",
     "text": [
      "Notebook total elapsed time: 41689.97999999672 seconds.\n"
     ]
    }
   ],
   "source": [
    "print(\"Notebook total elapsed time:\", elapsed_time(), \"seconds.\")"
   ]
  }
 ],
 "metadata": {
  "kernelspec": {
   "display_name": "Python 3",
   "language": "python",
   "name": "python3"
  },
  "language_info": {
   "codemirror_mode": {
    "name": "ipython",
    "version": 3
   },
   "file_extension": ".py",
   "mimetype": "text/x-python",
   "name": "python",
   "nbconvert_exporter": "python",
   "pygments_lexer": "ipython3",
   "version": "3.8.3"
  }
 },
 "nbformat": 4,
 "nbformat_minor": 4
}
