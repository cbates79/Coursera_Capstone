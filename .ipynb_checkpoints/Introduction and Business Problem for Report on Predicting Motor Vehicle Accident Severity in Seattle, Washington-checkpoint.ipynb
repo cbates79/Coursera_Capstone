{
 "cells": [
  {
   "cell_type": "markdown",
   "metadata": {},
   "source": [
    "# <center>Predicting Motor Vehicle Accident Severity in Seattle, Washington</center>"
   ]
  },
  {
   "cell_type": "markdown",
   "metadata": {},
   "source": [
    "## <center>Christopher Bates</center>\n",
    "### <center>30 November 2020</center>"
   ]
  },
  {
   "cell_type": "markdown",
   "metadata": {},
   "source": [
    "\n",
    "\n",
    "\n",
    "\n",
    "\n",
    "\n",
    "\n",
    "\n"
   ]
  },
  {
   "cell_type": "markdown",
   "metadata": {},
   "source": [
    "## I. Introduction"
   ]
  },
  {
   "cell_type": "markdown",
   "metadata": {},
   "source": [
    "### Background\n",
    "Personal transportation plays a critical role in the lives of nearly every resident of the United States. \n",
    "With the continued growth of suburbs and increasing commuting times, it is essential for commuters to have safe, reliable modes of transportation.\n",
    "Ride-sharing services like Uber, as well as fleets of bicycles and electric scooters for rent, have certainly provided more travel options.\n",
    "But these \"greener\" modes of transportation are not without risk.\n",
    "In 2017, according to the Centers for Disease Control and Prevention, motor vehicle accidents alone accounted for 40,231 fatalites, \n",
    "not to mention many times this number of severe injuries.\n",
    "Could the increased use of bicycles, scooters, and ride-sharing services actually increase the frequency of serious or fatal accidents\n",
    "between motor vehicles and the more vulnerable pedestrians or cyclists?\n",
    "Commuters certainly deserve to know the risks involved in their daily transit behaviors.\n",
    "Machine learning technologies can quantify these risks, allowing commuters to make informed decisions based on travel conditions and traffic data."
   ]
  },
  {
   "cell_type": "markdown",
   "metadata": {},
   "source": [
    "### Problem\n",
    "The goal of this project is to predict the severity of a given motor vehicle accident in Seattle, Washington, given certain data related to the accident.\n",
    "Our models will classify each accident into exactly one of two categories:\n",
    "<ol>\n",
    "    <li>Minor Accidents</li>\n",
    "    <ul>\n",
    "        <li>property damage, but no injuries and no fatalities;</li>\n",
    "        <li>at least one injury, but no serious injuries and no fatalites;</li>\n",
    "    </ul>\n",
    "    <li>Major Accidents</li>\n",
    "    <ul>\n",
    "        <li>at least one serious injury, but no fatalites;</li>\n",
    "       <li>at least one fatality.</li>\n",
    "    </ul>\n",
    " </ol>\n",
    "Each model will receive data regarding a set of moter vehicle accidents.\n",
    "For each incident, the model will take into account the weather, road, and lighting conditions at the time and location of the motor vehicle accident.\n",
    "Input to the model will also include the number of people involved in the accident and the nature of their involvement,\n",
    "the number and types of vehicles and the nature of their involvement."
   ]
  },
  {
   "cell_type": "markdown",
   "metadata": {},
   "source": [
    "### Interest\n",
    "When an accident is initially reported to first responders, it can be helpful to have an accurate prediction of the severity of the accident.\n",
    "Such  an \"accident severity forecast\" could allowing emergency rooms and hospital staff to allocate their resources more efficiently.\n",
    "Furthermore, these accident severity forecasts can enable city planners, engineers, and architects to design traffic safer transit systems\n",
    "and roadways by identifying locations with a higher frequencies of accidents with serious injuries or fatalites.\n",
    "\n",
    "With the advent of autonomous vehicles, it is possible for accident severity models to aid in the selection safer routes based on weather and traffic conditions. \n",
    "In the event an autonomous vehicles is involved in an accident, the onboad system could communicate data to first responders and local hospitals,\n",
    "allowing them to formulate an efficient, effective response driven by accident severity models."
   ]
  }
 ],
 "metadata": {
  "kernelspec": {
   "display_name": "Python 3",
   "language": "python",
   "name": "python3"
  },
  "language_info": {
   "codemirror_mode": {
    "name": "ipython",
    "version": 3
   },
   "file_extension": ".py",
   "mimetype": "text/x-python",
   "name": "python",
   "nbconvert_exporter": "python",
   "pygments_lexer": "ipython3",
   "version": "3.8.3"
  }
 },
 "nbformat": 4,
 "nbformat_minor": 4
}
