{
 "cells": [
  {
   "cell_type": "markdown",
   "metadata": {},
   "source": [
    "# Computing the Period of a Simple Shuffling Technique for a Deck of Cards"
   ]
  },
  {
   "cell_type": "markdown",
   "metadata": {},
   "source": [
    "In this Python notebook, we implement a very simple algorithm for shuffling a standard 52-card deck.\n",
    "This implementation is represented by a $52 x 52$ permutation matrix.\n",
    "We use the Numpy library to compute the following features of the permutation matrix:\n",
    "<ul>\n",
    "    <li>the eigenvalues and normalized eigenvectors of the permutation matrix,</li>\n",
    "    <li>compute the singular value decomposition of the permutation matrix,</li>\n",
    "    <li>cojmpute</li>\n",
    " </ul>"
   ]
  },
  {
   "cell_type": "code",
   "execution_count": 1,
   "metadata": {},
   "outputs": [],
   "source": [
    "# Import packages and modules.\n",
    "import io\n",
    "import itertools\n",
    "import matplotlib as mpl\n",
    "import matplotlib.image as mpimg\n",
    "import matplotlib.pyplot as plt\n",
    "import matplotlib.ticker as ticker\n",
    "import numpy as np\n",
    "import os\n",
    "import pandas as pd\n",
    "import pylab as pl\n",
    "import scipy\n",
    "import scipy.optimize as opt\n",
    "import seaborn as sns\n",
    "import sklearn\n",
    "import sys\n",
    "import timeit\n",
    "import warnings\n",
    "from matplotlib.ticker import NullFormatter\n",
    "from numpy.linalg import eig\n",
    "from scipy import optimize\n",
    "from scipy.optimize import curve_fit\n",
    "from scipy.sparse import csc_matrix\n",
    "from scipy.sparse import csr_matrix\n",
    "from sklearn import linear_model\n",
    "from sklearn import metrics\n",
    "from sklearn import pipeline\n",
    "from sklearn import preprocessing\n",
    "from sklearn import svm\n",
    "from sklearn import tree\n",
    "from sklearn import utils\n",
    "from sklearn.linear_model import LinearRegression\n",
    "from sklearn.linear_model import LogisticRegression\n",
    "from sklearn.metrics import accuracy_score\n",
    "from sklearn.metrics import balanced_accuracy_score\n",
    "from sklearn.metrics import classification_report\n",
    "from sklearn.metrics import confusion_matrix\n",
    "from sklearn.metrics import f1_score\n",
    "from sklearn.metrics import jaccard_score\n",
    "from sklearn.metrics import log_loss\n",
    "from sklearn.metrics import plot_confusion_matrix\n",
    "from sklearn.metrics import recall_score\n",
    "from sklearn.metrics import r2_score\n",
    "from sklearn.model_selection import GridSearchCV\n",
    "from sklearn.model_selection import GroupKFold\n",
    "from sklearn.model_selection import KFold\n",
    "from sklearn.model_selection import LeaveOneOut\n",
    "from sklearn.model_selection import RepeatedKFold\n",
    "from sklearn.model_selection import StratifiedKFold\n",
    "from sklearn.model_selection import RepeatedStratifiedKFold\n",
    "from sklearn.model_selection import cross_val_predict\n",
    "from sklearn.model_selection import cross_val_score\n",
    "from sklearn.model_selection import cross_validate\n",
    "from sklearn.model_selection import train_test_split\n",
    "from sklearn.neighbors import KNeighborsClassifier\n",
    "from sklearn.pipeline import make_pipeline\n",
    "from sklearn.pipeline import Pipeline\n",
    "from sklearn.preprocessing import OneHotEncoder\n",
    "from sklearn.preprocessing import PolynomialFeatures\n",
    "from sklearn.preprocessing import StandardScaler\n",
    "from sklearn.svm import LinearSVC\n",
    "from sklearn.svm import SVC\n",
    "from sklearn.tree import DecisionTreeClassifier\n",
    "from sklearn.tree import export_text\n",
    "from sklearn.tree import plot_tree\n",
    "from sklearn.utils import resample\n",
    "from sklearn.utils import shuffle\n",
    "from sklearn.exceptions import ConvergenceWarning\n",
    "from timeit import default_timer\n",
    "%matplotlib inline"
   ]
  },
  {
   "cell_type": "code",
   "execution_count": 2,
   "metadata": {},
   "outputs": [
    {
     "data": {
      "text/plain": [
       "{'edgeitems': 10,\n",
       " 'threshold': 1000,\n",
       " 'floatmode': 'maxprec',\n",
       " 'precision': 3,\n",
       " 'suppress': True,\n",
       " 'linewidth': 500,\n",
       " 'nanstr': 'nan',\n",
       " 'infstr': 'inf',\n",
       " 'sign': '-',\n",
       " 'formatter': None,\n",
       " 'legacy': False}"
      ]
     },
     "execution_count": 2,
     "metadata": {},
     "output_type": "execute_result"
    }
   ],
   "source": [
    "np.set_printoptions(edgeitems=10)\n",
    "np.set_printoptions(precision=3)\n",
    "np.set_printoptions(suppress=True)\n",
    "np.set_printoptions(linewidth=500)\n",
    "np.get_printoptions()"
   ]
  },
  {
   "cell_type": "code",
   "execution_count": 3,
   "metadata": {},
   "outputs": [],
   "source": [
    "# Print entire matrix with no abbreviation, within system limits.\n",
    "np.set_printoptions(threshold=sys.maxsize)"
   ]
  },
  {
   "cell_type": "code",
   "execution_count": 4,
   "metadata": {},
   "outputs": [],
   "source": [
    "def left_hand_shuffle(k):\n",
    "    return 1 + 2 * int(k)"
   ]
  },
  {
   "cell_type": "code",
   "execution_count": 5,
   "metadata": {},
   "outputs": [
    {
     "data": {
      "text/plain": [
       "1"
      ]
     },
     "execution_count": 5,
     "metadata": {},
     "output_type": "execute_result"
    }
   ],
   "source": [
    "left_hand_shuffle(0)"
   ]
  },
  {
   "cell_type": "code",
   "execution_count": 6,
   "metadata": {},
   "outputs": [
    {
     "data": {
      "text/plain": [
       "3"
      ]
     },
     "execution_count": 6,
     "metadata": {},
     "output_type": "execute_result"
    }
   ],
   "source": [
    "left_hand_shuffle(1)"
   ]
  },
  {
   "cell_type": "code",
   "execution_count": 7,
   "metadata": {},
   "outputs": [
    {
     "data": {
      "text/plain": [
       "49"
      ]
     },
     "execution_count": 7,
     "metadata": {},
     "output_type": "execute_result"
    }
   ],
   "source": [
    "left_hand_shuffle(24)"
   ]
  },
  {
   "cell_type": "code",
   "execution_count": 8,
   "metadata": {},
   "outputs": [
    {
     "data": {
      "text/plain": [
       "51"
      ]
     },
     "execution_count": 8,
     "metadata": {},
     "output_type": "execute_result"
    }
   ],
   "source": [
    "left_hand_shuffle(25)"
   ]
  },
  {
   "cell_type": "code",
   "execution_count": 9,
   "metadata": {},
   "outputs": [],
   "source": [
    "def right_hand_shuffle(k):\n",
    "    return int(2 + 2 * (int(k) - 27))"
   ]
  },
  {
   "cell_type": "code",
   "execution_count": 10,
   "metadata": {},
   "outputs": [
    {
     "data": {
      "text/plain": [
       "0"
      ]
     },
     "execution_count": 10,
     "metadata": {},
     "output_type": "execute_result"
    }
   ],
   "source": [
    "right_hand_shuffle(26)"
   ]
  },
  {
   "cell_type": "code",
   "execution_count": 11,
   "metadata": {},
   "outputs": [
    {
     "data": {
      "text/plain": [
       "2"
      ]
     },
     "execution_count": 11,
     "metadata": {},
     "output_type": "execute_result"
    }
   ],
   "source": [
    "right_hand_shuffle(27)"
   ]
  },
  {
   "cell_type": "code",
   "execution_count": 12,
   "metadata": {},
   "outputs": [
    {
     "data": {
      "text/plain": [
       "48"
      ]
     },
     "execution_count": 12,
     "metadata": {},
     "output_type": "execute_result"
    }
   ],
   "source": [
    "right_hand_shuffle(50)"
   ]
  },
  {
   "cell_type": "code",
   "execution_count": 13,
   "metadata": {},
   "outputs": [
    {
     "data": {
      "text/plain": [
       "50"
      ]
     },
     "execution_count": 13,
     "metadata": {},
     "output_type": "execute_result"
    }
   ],
   "source": [
    "right_hand_shuffle(51)"
   ]
  },
  {
   "cell_type": "code",
   "execution_count": 14,
   "metadata": {},
   "outputs": [],
   "source": [
    "top_half_deck_indices = np.array(range(0, 26))"
   ]
  },
  {
   "cell_type": "code",
   "execution_count": 15,
   "metadata": {},
   "outputs": [
    {
     "name": "stdout",
     "output_type": "stream",
     "text": [
      "[ 0  1  2  3  4  5  6  7  8  9 10 11 12 13 14 15 16 17 18 19 20 21 22 23 24 25]\n",
      "<class 'numpy.ndarray'>\n",
      "(26,)\n"
     ]
    }
   ],
   "source": [
    "print(top_half_deck_indices)\n",
    "print(type(top_half_deck_indices))\n",
    "print(top_half_deck_indices.shape)"
   ]
  },
  {
   "cell_type": "code",
   "execution_count": 16,
   "metadata": {},
   "outputs": [],
   "source": [
    "bottom_half_deck_indices = np.array(range(26, 52))"
   ]
  },
  {
   "cell_type": "code",
   "execution_count": 17,
   "metadata": {},
   "outputs": [
    {
     "name": "stdout",
     "output_type": "stream",
     "text": [
      "[26 27 28 29 30 31 32 33 34 35 36 37 38 39 40 41 42 43 44 45 46 47 48 49 50 51]\n",
      "<class 'numpy.ndarray'>\n",
      "(26,)\n"
     ]
    }
   ],
   "source": [
    "print(bottom_half_deck_indices)\n",
    "print(type(bottom_half_deck_indices))\n",
    "print(bottom_half_deck_indices.shape)"
   ]
  },
  {
   "cell_type": "code",
   "execution_count": 18,
   "metadata": {},
   "outputs": [],
   "source": [
    "def shuffle_index_function(k):\n",
    "    if 0 <= int(k) and int(k) <= 25:\n",
    "        return left_hand_shuffle(int(k))\n",
    "    elif 26 <= int(k) and int(k) <= 51:\n",
    "        return right_hand_shuffle(int(k))"
   ]
  },
  {
   "cell_type": "code",
   "execution_count": 19,
   "metadata": {},
   "outputs": [
    {
     "data": {
      "text/plain": [
       "1"
      ]
     },
     "execution_count": 19,
     "metadata": {},
     "output_type": "execute_result"
    }
   ],
   "source": [
    "shuffle_index_function(0)"
   ]
  },
  {
   "cell_type": "code",
   "execution_count": 20,
   "metadata": {},
   "outputs": [
    {
     "data": {
      "text/plain": [
       "3"
      ]
     },
     "execution_count": 20,
     "metadata": {},
     "output_type": "execute_result"
    }
   ],
   "source": [
    "shuffle_index_function(1)"
   ]
  },
  {
   "cell_type": "code",
   "execution_count": 21,
   "metadata": {},
   "outputs": [
    {
     "data": {
      "text/plain": [
       "49"
      ]
     },
     "execution_count": 21,
     "metadata": {},
     "output_type": "execute_result"
    }
   ],
   "source": [
    "shuffle_index_function(24)"
   ]
  },
  {
   "cell_type": "code",
   "execution_count": 22,
   "metadata": {},
   "outputs": [
    {
     "data": {
      "text/plain": [
       "51"
      ]
     },
     "execution_count": 22,
     "metadata": {},
     "output_type": "execute_result"
    }
   ],
   "source": [
    "shuffle_index_function(25)"
   ]
  },
  {
   "cell_type": "code",
   "execution_count": 23,
   "metadata": {},
   "outputs": [
    {
     "data": {
      "text/plain": [
       "0"
      ]
     },
     "execution_count": 23,
     "metadata": {},
     "output_type": "execute_result"
    }
   ],
   "source": [
    "shuffle_index_function(26)"
   ]
  },
  {
   "cell_type": "code",
   "execution_count": 24,
   "metadata": {},
   "outputs": [
    {
     "data": {
      "text/plain": [
       "2"
      ]
     },
     "execution_count": 24,
     "metadata": {},
     "output_type": "execute_result"
    }
   ],
   "source": [
    "shuffle_index_function(27)"
   ]
  },
  {
   "cell_type": "code",
   "execution_count": 25,
   "metadata": {},
   "outputs": [
    {
     "data": {
      "text/plain": [
       "48"
      ]
     },
     "execution_count": 25,
     "metadata": {},
     "output_type": "execute_result"
    }
   ],
   "source": [
    "shuffle_index_function(50)"
   ]
  },
  {
   "cell_type": "code",
   "execution_count": 26,
   "metadata": {},
   "outputs": [
    {
     "data": {
      "text/plain": [
       "50"
      ]
     },
     "execution_count": 26,
     "metadata": {},
     "output_type": "execute_result"
    }
   ],
   "source": [
    "shuffle_index_function(51)"
   ]
  },
  {
   "cell_type": "code",
   "execution_count": 27,
   "metadata": {},
   "outputs": [
    {
     "name": "stdout",
     "output_type": "stream",
     "text": [
      "[1. 1. 1. 1. 1. 1. 1. 1. 1. 1. 1. 1. 1. 1. 1. 1. 1. 1. 1. 1. 1. 1. 1. 1. 1. 1. 1. 1. 1. 1. 1. 1. 1. 1. 1. 1. 1. 1. 1. 1. 1. 1. 1. 1. 1. 1. 1. 1. 1. 1. 1. 1.]\n",
      "(52,)\n",
      "<class 'numpy.ndarray'>\n"
     ]
    }
   ],
   "source": [
    "all_ones = np.asarray(np.reshape(np.ones((1,52)), (52)))\n",
    "print(all_ones)\n",
    "print(all_ones.shape)\n",
    "print(type(all_ones))"
   ]
  },
  {
   "cell_type": "code",
   "execution_count": 28,
   "metadata": {},
   "outputs": [
    {
     "name": "stdout",
     "output_type": "stream",
     "text": [
      "[ 0  1  2  3  4  5  6  7  8  9 10 11 12 13 14 15 16 17 18 19 20 21 22 23 24 25 26 27 28 29 30 31 32 33 34 35 36 37 38 39 40 41 42 43 44 45 46 47 48 49 50 51]\n",
      "(52,)\n",
      "<class 'numpy.ndarray'>\n",
      "0\n",
      "51\n"
     ]
    }
   ],
   "source": [
    "deck_indices = np.asarray(np.reshape(np.array(list(range(0,52))), (52)))\n",
    "print(deck_indices)\n",
    "print(deck_indices.shape)\n",
    "print(type(deck_indices))\n",
    "print(deck_indices[0])\n",
    "print(deck_indices[51])"
   ]
  },
  {
   "cell_type": "code",
   "execution_count": 29,
   "metadata": {},
   "outputs": [
    {
     "name": "stdout",
     "output_type": "stream",
     "text": [
      "[ 1  3  5  7  9 11 13 15 17 19 21 23 25 27 29 31 33 35 37 39 41 43 45 47 49 51  0  2  4  6  8 10 12 14 16 18 20 22 24 26 28 30 32 34 36 38 40 42 44 46 48 50]\n",
      "(52,)\n",
      "<class 'numpy.ndarray'>\n"
     ]
    }
   ],
   "source": [
    "shuffled_indices = np.asarray(list(map(shuffle_index_function, deck_indices)))\n",
    "print(shuffled_indices)\n",
    "print(shuffled_indices.shape)\n",
    "print(type(shuffled_indices))\n",
    "shuffling_permutation_csr_matrix = csr_matrix((all_ones, (deck_indices, shuffled_indices)))"
   ]
  },
  {
   "cell_type": "code",
   "execution_count": 30,
   "metadata": {},
   "outputs": [
    {
     "name": "stdout",
     "output_type": "stream",
     "text": [
      "<class 'scipy.sparse.csr.csr_matrix'>\n",
      "  (0, 1)\t1.0\n",
      "  (1, 3)\t1.0\n",
      "  (2, 5)\t1.0\n",
      "  (3, 7)\t1.0\n",
      "  (4, 9)\t1.0\n",
      "  (5, 11)\t1.0\n",
      "  (6, 13)\t1.0\n",
      "  (7, 15)\t1.0\n",
      "  (8, 17)\t1.0\n",
      "  (9, 19)\t1.0\n",
      "  (10, 21)\t1.0\n",
      "  (11, 23)\t1.0\n",
      "  (12, 25)\t1.0\n",
      "  (13, 27)\t1.0\n",
      "  (14, 29)\t1.0\n",
      "  (15, 31)\t1.0\n",
      "  (16, 33)\t1.0\n",
      "  (17, 35)\t1.0\n",
      "  (18, 37)\t1.0\n",
      "  (19, 39)\t1.0\n",
      "  (20, 41)\t1.0\n",
      "  (21, 43)\t1.0\n",
      "  (22, 45)\t1.0\n",
      "  (23, 47)\t1.0\n",
      "  (24, 49)\t1.0\n",
      "  :\t:\n",
      "  (27, 2)\t1.0\n",
      "  (28, 4)\t1.0\n",
      "  (29, 6)\t1.0\n",
      "  (30, 8)\t1.0\n",
      "  (31, 10)\t1.0\n",
      "  (32, 12)\t1.0\n",
      "  (33, 14)\t1.0\n",
      "  (34, 16)\t1.0\n",
      "  (35, 18)\t1.0\n",
      "  (36, 20)\t1.0\n",
      "  (37, 22)\t1.0\n",
      "  (38, 24)\t1.0\n",
      "  (39, 26)\t1.0\n",
      "  (40, 28)\t1.0\n",
      "  (41, 30)\t1.0\n",
      "  (42, 32)\t1.0\n",
      "  (43, 34)\t1.0\n",
      "  (44, 36)\t1.0\n",
      "  (45, 38)\t1.0\n",
      "  (46, 40)\t1.0\n",
      "  (47, 42)\t1.0\n",
      "  (48, 44)\t1.0\n",
      "  (49, 46)\t1.0\n",
      "  (50, 48)\t1.0\n",
      "  (51, 50)\t1.0\n"
     ]
    }
   ],
   "source": [
    "print(type(shuffling_permutation_csr_matrix))\n",
    "print(shuffling_permutation_csr_matrix)"
   ]
  },
  {
   "cell_type": "code",
   "execution_count": 31,
   "metadata": {},
   "outputs": [
    {
     "name": "stdout",
     "output_type": "stream",
     "text": [
      "<class 'numpy.matrix'>\n",
      "(52, 52)\n",
      "[[0. 1. 0. 0. 0. 0. 0. 0. 0. 0. 0. 0. 0. 0. 0. 0. 0. 0. 0. 0. 0. 0. 0. 0. 0. 0. 0. 0. 0. 0. 0. 0. 0. 0. 0. 0. 0. 0. 0. 0. 0. 0. 0. 0. 0. 0. 0. 0. 0. 0. 0. 0.]\n",
      " [0. 0. 0. 1. 0. 0. 0. 0. 0. 0. 0. 0. 0. 0. 0. 0. 0. 0. 0. 0. 0. 0. 0. 0. 0. 0. 0. 0. 0. 0. 0. 0. 0. 0. 0. 0. 0. 0. 0. 0. 0. 0. 0. 0. 0. 0. 0. 0. 0. 0. 0. 0.]\n",
      " [0. 0. 0. 0. 0. 1. 0. 0. 0. 0. 0. 0. 0. 0. 0. 0. 0. 0. 0. 0. 0. 0. 0. 0. 0. 0. 0. 0. 0. 0. 0. 0. 0. 0. 0. 0. 0. 0. 0. 0. 0. 0. 0. 0. 0. 0. 0. 0. 0. 0. 0. 0.]\n",
      " [0. 0. 0. 0. 0. 0. 0. 1. 0. 0. 0. 0. 0. 0. 0. 0. 0. 0. 0. 0. 0. 0. 0. 0. 0. 0. 0. 0. 0. 0. 0. 0. 0. 0. 0. 0. 0. 0. 0. 0. 0. 0. 0. 0. 0. 0. 0. 0. 0. 0. 0. 0.]\n",
      " [0. 0. 0. 0. 0. 0. 0. 0. 0. 1. 0. 0. 0. 0. 0. 0. 0. 0. 0. 0. 0. 0. 0. 0. 0. 0. 0. 0. 0. 0. 0. 0. 0. 0. 0. 0. 0. 0. 0. 0. 0. 0. 0. 0. 0. 0. 0. 0. 0. 0. 0. 0.]\n",
      " [0. 0. 0. 0. 0. 0. 0. 0. 0. 0. 0. 1. 0. 0. 0. 0. 0. 0. 0. 0. 0. 0. 0. 0. 0. 0. 0. 0. 0. 0. 0. 0. 0. 0. 0. 0. 0. 0. 0. 0. 0. 0. 0. 0. 0. 0. 0. 0. 0. 0. 0. 0.]\n",
      " [0. 0. 0. 0. 0. 0. 0. 0. 0. 0. 0. 0. 0. 1. 0. 0. 0. 0. 0. 0. 0. 0. 0. 0. 0. 0. 0. 0. 0. 0. 0. 0. 0. 0. 0. 0. 0. 0. 0. 0. 0. 0. 0. 0. 0. 0. 0. 0. 0. 0. 0. 0.]\n",
      " [0. 0. 0. 0. 0. 0. 0. 0. 0. 0. 0. 0. 0. 0. 0. 1. 0. 0. 0. 0. 0. 0. 0. 0. 0. 0. 0. 0. 0. 0. 0. 0. 0. 0. 0. 0. 0. 0. 0. 0. 0. 0. 0. 0. 0. 0. 0. 0. 0. 0. 0. 0.]\n",
      " [0. 0. 0. 0. 0. 0. 0. 0. 0. 0. 0. 0. 0. 0. 0. 0. 0. 1. 0. 0. 0. 0. 0. 0. 0. 0. 0. 0. 0. 0. 0. 0. 0. 0. 0. 0. 0. 0. 0. 0. 0. 0. 0. 0. 0. 0. 0. 0. 0. 0. 0. 0.]\n",
      " [0. 0. 0. 0. 0. 0. 0. 0. 0. 0. 0. 0. 0. 0. 0. 0. 0. 0. 0. 1. 0. 0. 0. 0. 0. 0. 0. 0. 0. 0. 0. 0. 0. 0. 0. 0. 0. 0. 0. 0. 0. 0. 0. 0. 0. 0. 0. 0. 0. 0. 0. 0.]\n",
      " [0. 0. 0. 0. 0. 0. 0. 0. 0. 0. 0. 0. 0. 0. 0. 0. 0. 0. 0. 0. 0. 1. 0. 0. 0. 0. 0. 0. 0. 0. 0. 0. 0. 0. 0. 0. 0. 0. 0. 0. 0. 0. 0. 0. 0. 0. 0. 0. 0. 0. 0. 0.]\n",
      " [0. 0. 0. 0. 0. 0. 0. 0. 0. 0. 0. 0. 0. 0. 0. 0. 0. 0. 0. 0. 0. 0. 0. 1. 0. 0. 0. 0. 0. 0. 0. 0. 0. 0. 0. 0. 0. 0. 0. 0. 0. 0. 0. 0. 0. 0. 0. 0. 0. 0. 0. 0.]\n",
      " [0. 0. 0. 0. 0. 0. 0. 0. 0. 0. 0. 0. 0. 0. 0. 0. 0. 0. 0. 0. 0. 0. 0. 0. 0. 1. 0. 0. 0. 0. 0. 0. 0. 0. 0. 0. 0. 0. 0. 0. 0. 0. 0. 0. 0. 0. 0. 0. 0. 0. 0. 0.]\n",
      " [0. 0. 0. 0. 0. 0. 0. 0. 0. 0. 0. 0. 0. 0. 0. 0. 0. 0. 0. 0. 0. 0. 0. 0. 0. 0. 0. 1. 0. 0. 0. 0. 0. 0. 0. 0. 0. 0. 0. 0. 0. 0. 0. 0. 0. 0. 0. 0. 0. 0. 0. 0.]\n",
      " [0. 0. 0. 0. 0. 0. 0. 0. 0. 0. 0. 0. 0. 0. 0. 0. 0. 0. 0. 0. 0. 0. 0. 0. 0. 0. 0. 0. 0. 1. 0. 0. 0. 0. 0. 0. 0. 0. 0. 0. 0. 0. 0. 0. 0. 0. 0. 0. 0. 0. 0. 0.]\n",
      " [0. 0. 0. 0. 0. 0. 0. 0. 0. 0. 0. 0. 0. 0. 0. 0. 0. 0. 0. 0. 0. 0. 0. 0. 0. 0. 0. 0. 0. 0. 0. 1. 0. 0. 0. 0. 0. 0. 0. 0. 0. 0. 0. 0. 0. 0. 0. 0. 0. 0. 0. 0.]\n",
      " [0. 0. 0. 0. 0. 0. 0. 0. 0. 0. 0. 0. 0. 0. 0. 0. 0. 0. 0. 0. 0. 0. 0. 0. 0. 0. 0. 0. 0. 0. 0. 0. 0. 1. 0. 0. 0. 0. 0. 0. 0. 0. 0. 0. 0. 0. 0. 0. 0. 0. 0. 0.]\n",
      " [0. 0. 0. 0. 0. 0. 0. 0. 0. 0. 0. 0. 0. 0. 0. 0. 0. 0. 0. 0. 0. 0. 0. 0. 0. 0. 0. 0. 0. 0. 0. 0. 0. 0. 0. 1. 0. 0. 0. 0. 0. 0. 0. 0. 0. 0. 0. 0. 0. 0. 0. 0.]\n",
      " [0. 0. 0. 0. 0. 0. 0. 0. 0. 0. 0. 0. 0. 0. 0. 0. 0. 0. 0. 0. 0. 0. 0. 0. 0. 0. 0. 0. 0. 0. 0. 0. 0. 0. 0. 0. 0. 1. 0. 0. 0. 0. 0. 0. 0. 0. 0. 0. 0. 0. 0. 0.]\n",
      " [0. 0. 0. 0. 0. 0. 0. 0. 0. 0. 0. 0. 0. 0. 0. 0. 0. 0. 0. 0. 0. 0. 0. 0. 0. 0. 0. 0. 0. 0. 0. 0. 0. 0. 0. 0. 0. 0. 0. 1. 0. 0. 0. 0. 0. 0. 0. 0. 0. 0. 0. 0.]\n",
      " [0. 0. 0. 0. 0. 0. 0. 0. 0. 0. 0. 0. 0. 0. 0. 0. 0. 0. 0. 0. 0. 0. 0. 0. 0. 0. 0. 0. 0. 0. 0. 0. 0. 0. 0. 0. 0. 0. 0. 0. 0. 1. 0. 0. 0. 0. 0. 0. 0. 0. 0. 0.]\n",
      " [0. 0. 0. 0. 0. 0. 0. 0. 0. 0. 0. 0. 0. 0. 0. 0. 0. 0. 0. 0. 0. 0. 0. 0. 0. 0. 0. 0. 0. 0. 0. 0. 0. 0. 0. 0. 0. 0. 0. 0. 0. 0. 0. 1. 0. 0. 0. 0. 0. 0. 0. 0.]\n",
      " [0. 0. 0. 0. 0. 0. 0. 0. 0. 0. 0. 0. 0. 0. 0. 0. 0. 0. 0. 0. 0. 0. 0. 0. 0. 0. 0. 0. 0. 0. 0. 0. 0. 0. 0. 0. 0. 0. 0. 0. 0. 0. 0. 0. 0. 1. 0. 0. 0. 0. 0. 0.]\n",
      " [0. 0. 0. 0. 0. 0. 0. 0. 0. 0. 0. 0. 0. 0. 0. 0. 0. 0. 0. 0. 0. 0. 0. 0. 0. 0. 0. 0. 0. 0. 0. 0. 0. 0. 0. 0. 0. 0. 0. 0. 0. 0. 0. 0. 0. 0. 0. 1. 0. 0. 0. 0.]\n",
      " [0. 0. 0. 0. 0. 0. 0. 0. 0. 0. 0. 0. 0. 0. 0. 0. 0. 0. 0. 0. 0. 0. 0. 0. 0. 0. 0. 0. 0. 0. 0. 0. 0. 0. 0. 0. 0. 0. 0. 0. 0. 0. 0. 0. 0. 0. 0. 0. 0. 1. 0. 0.]\n",
      " [0. 0. 0. 0. 0. 0. 0. 0. 0. 0. 0. 0. 0. 0. 0. 0. 0. 0. 0. 0. 0. 0. 0. 0. 0. 0. 0. 0. 0. 0. 0. 0. 0. 0. 0. 0. 0. 0. 0. 0. 0. 0. 0. 0. 0. 0. 0. 0. 0. 0. 0. 1.]\n",
      " [1. 0. 0. 0. 0. 0. 0. 0. 0. 0. 0. 0. 0. 0. 0. 0. 0. 0. 0. 0. 0. 0. 0. 0. 0. 0. 0. 0. 0. 0. 0. 0. 0. 0. 0. 0. 0. 0. 0. 0. 0. 0. 0. 0. 0. 0. 0. 0. 0. 0. 0. 0.]\n",
      " [0. 0. 1. 0. 0. 0. 0. 0. 0. 0. 0. 0. 0. 0. 0. 0. 0. 0. 0. 0. 0. 0. 0. 0. 0. 0. 0. 0. 0. 0. 0. 0. 0. 0. 0. 0. 0. 0. 0. 0. 0. 0. 0. 0. 0. 0. 0. 0. 0. 0. 0. 0.]\n",
      " [0. 0. 0. 0. 1. 0. 0. 0. 0. 0. 0. 0. 0. 0. 0. 0. 0. 0. 0. 0. 0. 0. 0. 0. 0. 0. 0. 0. 0. 0. 0. 0. 0. 0. 0. 0. 0. 0. 0. 0. 0. 0. 0. 0. 0. 0. 0. 0. 0. 0. 0. 0.]\n",
      " [0. 0. 0. 0. 0. 0. 1. 0. 0. 0. 0. 0. 0. 0. 0. 0. 0. 0. 0. 0. 0. 0. 0. 0. 0. 0. 0. 0. 0. 0. 0. 0. 0. 0. 0. 0. 0. 0. 0. 0. 0. 0. 0. 0. 0. 0. 0. 0. 0. 0. 0. 0.]\n",
      " [0. 0. 0. 0. 0. 0. 0. 0. 1. 0. 0. 0. 0. 0. 0. 0. 0. 0. 0. 0. 0. 0. 0. 0. 0. 0. 0. 0. 0. 0. 0. 0. 0. 0. 0. 0. 0. 0. 0. 0. 0. 0. 0. 0. 0. 0. 0. 0. 0. 0. 0. 0.]\n",
      " [0. 0. 0. 0. 0. 0. 0. 0. 0. 0. 1. 0. 0. 0. 0. 0. 0. 0. 0. 0. 0. 0. 0. 0. 0. 0. 0. 0. 0. 0. 0. 0. 0. 0. 0. 0. 0. 0. 0. 0. 0. 0. 0. 0. 0. 0. 0. 0. 0. 0. 0. 0.]\n",
      " [0. 0. 0. 0. 0. 0. 0. 0. 0. 0. 0. 0. 1. 0. 0. 0. 0. 0. 0. 0. 0. 0. 0. 0. 0. 0. 0. 0. 0. 0. 0. 0. 0. 0. 0. 0. 0. 0. 0. 0. 0. 0. 0. 0. 0. 0. 0. 0. 0. 0. 0. 0.]\n",
      " [0. 0. 0. 0. 0. 0. 0. 0. 0. 0. 0. 0. 0. 0. 1. 0. 0. 0. 0. 0. 0. 0. 0. 0. 0. 0. 0. 0. 0. 0. 0. 0. 0. 0. 0. 0. 0. 0. 0. 0. 0. 0. 0. 0. 0. 0. 0. 0. 0. 0. 0. 0.]\n",
      " [0. 0. 0. 0. 0. 0. 0. 0. 0. 0. 0. 0. 0. 0. 0. 0. 1. 0. 0. 0. 0. 0. 0. 0. 0. 0. 0. 0. 0. 0. 0. 0. 0. 0. 0. 0. 0. 0. 0. 0. 0. 0. 0. 0. 0. 0. 0. 0. 0. 0. 0. 0.]\n",
      " [0. 0. 0. 0. 0. 0. 0. 0. 0. 0. 0. 0. 0. 0. 0. 0. 0. 0. 1. 0. 0. 0. 0. 0. 0. 0. 0. 0. 0. 0. 0. 0. 0. 0. 0. 0. 0. 0. 0. 0. 0. 0. 0. 0. 0. 0. 0. 0. 0. 0. 0. 0.]\n",
      " [0. 0. 0. 0. 0. 0. 0. 0. 0. 0. 0. 0. 0. 0. 0. 0. 0. 0. 0. 0. 1. 0. 0. 0. 0. 0. 0. 0. 0. 0. 0. 0. 0. 0. 0. 0. 0. 0. 0. 0. 0. 0. 0. 0. 0. 0. 0. 0. 0. 0. 0. 0.]\n",
      " [0. 0. 0. 0. 0. 0. 0. 0. 0. 0. 0. 0. 0. 0. 0. 0. 0. 0. 0. 0. 0. 0. 1. 0. 0. 0. 0. 0. 0. 0. 0. 0. 0. 0. 0. 0. 0. 0. 0. 0. 0. 0. 0. 0. 0. 0. 0. 0. 0. 0. 0. 0.]\n",
      " [0. 0. 0. 0. 0. 0. 0. 0. 0. 0. 0. 0. 0. 0. 0. 0. 0. 0. 0. 0. 0. 0. 0. 0. 1. 0. 0. 0. 0. 0. 0. 0. 0. 0. 0. 0. 0. 0. 0. 0. 0. 0. 0. 0. 0. 0. 0. 0. 0. 0. 0. 0.]\n",
      " [0. 0. 0. 0. 0. 0. 0. 0. 0. 0. 0. 0. 0. 0. 0. 0. 0. 0. 0. 0. 0. 0. 0. 0. 0. 0. 1. 0. 0. 0. 0. 0. 0. 0. 0. 0. 0. 0. 0. 0. 0. 0. 0. 0. 0. 0. 0. 0. 0. 0. 0. 0.]\n",
      " [0. 0. 0. 0. 0. 0. 0. 0. 0. 0. 0. 0. 0. 0. 0. 0. 0. 0. 0. 0. 0. 0. 0. 0. 0. 0. 0. 0. 1. 0. 0. 0. 0. 0. 0. 0. 0. 0. 0. 0. 0. 0. 0. 0. 0. 0. 0. 0. 0. 0. 0. 0.]\n",
      " [0. 0. 0. 0. 0. 0. 0. 0. 0. 0. 0. 0. 0. 0. 0. 0. 0. 0. 0. 0. 0. 0. 0. 0. 0. 0. 0. 0. 0. 0. 1. 0. 0. 0. 0. 0. 0. 0. 0. 0. 0. 0. 0. 0. 0. 0. 0. 0. 0. 0. 0. 0.]\n",
      " [0. 0. 0. 0. 0. 0. 0. 0. 0. 0. 0. 0. 0. 0. 0. 0. 0. 0. 0. 0. 0. 0. 0. 0. 0. 0. 0. 0. 0. 0. 0. 0. 1. 0. 0. 0. 0. 0. 0. 0. 0. 0. 0. 0. 0. 0. 0. 0. 0. 0. 0. 0.]\n",
      " [0. 0. 0. 0. 0. 0. 0. 0. 0. 0. 0. 0. 0. 0. 0. 0. 0. 0. 0. 0. 0. 0. 0. 0. 0. 0. 0. 0. 0. 0. 0. 0. 0. 0. 1. 0. 0. 0. 0. 0. 0. 0. 0. 0. 0. 0. 0. 0. 0. 0. 0. 0.]\n",
      " [0. 0. 0. 0. 0. 0. 0. 0. 0. 0. 0. 0. 0. 0. 0. 0. 0. 0. 0. 0. 0. 0. 0. 0. 0. 0. 0. 0. 0. 0. 0. 0. 0. 0. 0. 0. 1. 0. 0. 0. 0. 0. 0. 0. 0. 0. 0. 0. 0. 0. 0. 0.]\n",
      " [0. 0. 0. 0. 0. 0. 0. 0. 0. 0. 0. 0. 0. 0. 0. 0. 0. 0. 0. 0. 0. 0. 0. 0. 0. 0. 0. 0. 0. 0. 0. 0. 0. 0. 0. 0. 0. 0. 1. 0. 0. 0. 0. 0. 0. 0. 0. 0. 0. 0. 0. 0.]\n",
      " [0. 0. 0. 0. 0. 0. 0. 0. 0. 0. 0. 0. 0. 0. 0. 0. 0. 0. 0. 0. 0. 0. 0. 0. 0. 0. 0. 0. 0. 0. 0. 0. 0. 0. 0. 0. 0. 0. 0. 0. 1. 0. 0. 0. 0. 0. 0. 0. 0. 0. 0. 0.]\n",
      " [0. 0. 0. 0. 0. 0. 0. 0. 0. 0. 0. 0. 0. 0. 0. 0. 0. 0. 0. 0. 0. 0. 0. 0. 0. 0. 0. 0. 0. 0. 0. 0. 0. 0. 0. 0. 0. 0. 0. 0. 0. 0. 1. 0. 0. 0. 0. 0. 0. 0. 0. 0.]\n",
      " [0. 0. 0. 0. 0. 0. 0. 0. 0. 0. 0. 0. 0. 0. 0. 0. 0. 0. 0. 0. 0. 0. 0. 0. 0. 0. 0. 0. 0. 0. 0. 0. 0. 0. 0. 0. 0. 0. 0. 0. 0. 0. 0. 0. 1. 0. 0. 0. 0. 0. 0. 0.]\n",
      " [0. 0. 0. 0. 0. 0. 0. 0. 0. 0. 0. 0. 0. 0. 0. 0. 0. 0. 0. 0. 0. 0. 0. 0. 0. 0. 0. 0. 0. 0. 0. 0. 0. 0. 0. 0. 0. 0. 0. 0. 0. 0. 0. 0. 0. 0. 1. 0. 0. 0. 0. 0.]\n",
      " [0. 0. 0. 0. 0. 0. 0. 0. 0. 0. 0. 0. 0. 0. 0. 0. 0. 0. 0. 0. 0. 0. 0. 0. 0. 0. 0. 0. 0. 0. 0. 0. 0. 0. 0. 0. 0. 0. 0. 0. 0. 0. 0. 0. 0. 0. 0. 0. 1. 0. 0. 0.]\n",
      " [0. 0. 0. 0. 0. 0. 0. 0. 0. 0. 0. 0. 0. 0. 0. 0. 0. 0. 0. 0. 0. 0. 0. 0. 0. 0. 0. 0. 0. 0. 0. 0. 0. 0. 0. 0. 0. 0. 0. 0. 0. 0. 0. 0. 0. 0. 0. 0. 0. 0. 1. 0.]]\n"
     ]
    }
   ],
   "source": [
    "shuffling_permutation_matrix = np.matrix(shuffling_permutation_csr_matrix.toarray())\n",
    "print(type(shuffling_permutation_matrix))\n",
    "print(shuffling_permutation_matrix.shape)\n",
    "print(str(shuffling_permutation_matrix))"
   ]
  },
  {
   "cell_type": "code",
   "execution_count": 42,
   "metadata": {},
   "outputs": [
    {
     "name": "stdout",
     "output_type": "stream",
     "text": [
      "-1.0\n"
     ]
    }
   ],
   "source": [
    "print(np.linalg.det(shuffling_permutation_matrix))"
   ]
  },
  {
   "cell_type": "code",
   "execution_count": 32,
   "metadata": {},
   "outputs": [],
   "source": [
    "eigenvalues_of_shuffling_permutation_matrix, eigenvectors_of_shuffling_permutation_matrix = eig(shuffling_permutation_matrix)"
   ]
  },
  {
   "cell_type": "code",
   "execution_count": 33,
   "metadata": {},
   "outputs": [
    {
     "name": "stdout",
     "output_type": "stream",
     "text": [
      "(1, 52)\n",
      "<class 'numpy.matrix'>\n"
     ]
    },
    {
     "data": {
      "text/plain": [
       "matrix([[-1.   +0.j   , -0.993+0.121j, -0.993-0.121j, -0.971+0.239j, -0.971-0.239j, -0.935+0.355j, -0.935-0.355j, -0.885+0.465j, -0.885-0.465j, -0.823+0.568j, -0.823-0.568j, -0.749+0.663j, -0.749-0.663j, -0.663+0.749j, -0.663-0.749j, -0.568+0.823j, -0.568-0.823j, -0.465+0.885j, -0.465-0.885j, -0.355+0.935j, -0.355-0.935j, -0.239+0.971j, -0.239-0.971j, -0.121+0.993j, -0.121-0.993j,  0.   +1.j   ,  0.   -1.j   ,  0.121+0.993j,  0.121-0.993j,  0.239+0.971j,  0.239-0.971j,  0.355+0.935j,\n",
       "          0.355-0.935j,  0.465+0.885j,  0.465-0.885j,  0.568+0.823j,  0.568-0.823j,  0.663+0.749j,  0.663-0.749j,  0.749+0.663j,  0.749-0.663j,  0.823+0.568j,  0.823-0.568j,  1.   +0.j   ,  0.993+0.121j,  0.993-0.121j,  0.971+0.239j,  0.971-0.239j,  0.935+0.355j,  0.935-0.355j,  0.885+0.465j,  0.885-0.465j]])"
      ]
     },
     "execution_count": 33,
     "metadata": {},
     "output_type": "execute_result"
    }
   ],
   "source": [
    "eigenvalues_of_shuffling_permutation_matrix = np.matrix(eigenvalues_of_shuffling_permutation_matrix)\n",
    "print(eigenvalues_of_shuffling_permutation_matrix.shape)\n",
    "print(type(eigenvalues_of_shuffling_permutation_matrix))\n",
    "eigenvalues_of_shuffling_permutation_matrix"
   ]
  },
  {
   "cell_type": "code",
   "execution_count": 34,
   "metadata": {},
   "outputs": [
    {
     "name": "stdout",
     "output_type": "stream",
     "text": [
      "(52, 52)\n",
      "<class 'numpy.matrix'>\n",
      "[[ 0.139+0.j     0.138+0.017j  0.138-0.017j -0.104-0.092j -0.104+0.092j -0.017-0.138j -0.017+0.138j -0.049+0.13j  -0.049-0.13j   0.033-0.135j  0.033+0.135j  0.017-0.138j  0.017+0.138j  0.114-0.079j  0.114+0.079j -0.079+0.114j -0.079-0.114j -0.138+0.017j -0.138-0.017j  0.123+0.064j  0.123-0.064j  0.114+0.079j  0.114-0.079j  0.079-0.114j  0.079+0.114j -0.   -0.139j -0.   +0.139j  0.017+0.138j  0.017-0.138j  0.123-0.064j  0.123+0.064j  0.079+0.114j  0.079-0.114j -0.064+0.123j -0.064-0.123j\n",
      "  -0.135-0.033j -0.135+0.033j  0.114-0.079j  0.114+0.079j -0.079+0.114j -0.079-0.114j -0.079-0.114j -0.079+0.114j -0.139+0.j    -0.123+0.064j -0.123-0.064j  0.123+0.064j  0.123-0.064j -0.139+0.j    -0.139-0.j     0.017+0.138j  0.017-0.138j]\n",
      " [-0.139+0.j    -0.139+0.j    -0.139-0.j     0.123+0.064j  0.123-0.064j  0.064+0.123j  0.064-0.123j -0.017-0.138j -0.017+0.138j  0.049+0.13j   0.049-0.13j   0.079+0.114j  0.079-0.114j -0.017+0.138j -0.017-0.138j -0.049-0.13j  -0.049+0.13j   0.049-0.13j   0.049+0.13j  -0.104+0.092j -0.104-0.092j -0.104+0.092j -0.104-0.092j  0.104+0.092j  0.104-0.092j  0.139-0.j     0.139+0.j    -0.135+0.033j -0.135-0.033j  0.092+0.104j  0.092-0.104j -0.079+0.114j -0.079-0.114j -0.139-0.j    -0.139+0.j\n",
      "  -0.049-0.13j  -0.049+0.13j   0.135+0.033j  0.135-0.033j -0.135+0.033j -0.135-0.033j -0.   -0.139j -0.   +0.139j -0.139+0.j    -0.13 +0.049j -0.13 -0.049j  0.104+0.092j  0.104-0.092j -0.13 -0.049j -0.13 +0.049j -0.049+0.13j  -0.049-0.13j ]\n",
      " [-0.139+0.j     0.049+0.13j   0.049-0.13j  -0.135+0.033j -0.135-0.033j  0.   +0.139j  0.   -0.139j -0.139-0.j    -0.139+0.j    -0.079-0.114j -0.079+0.114j -0.049+0.13j  -0.049-0.13j   0.104+0.092j  0.104-0.092j  0.017+0.138j  0.017-0.138j  0.135+0.033j  0.135-0.033j -0.049+0.13j  -0.049-0.13j   0.139+0.j     0.139-0.j    -0.123+0.064j -0.123-0.064j  0.139-0.j     0.139+0.j     0.079+0.114j  0.079-0.114j -0.138-0.017j -0.138+0.017j -0.123+0.064j -0.123-0.064j -0.017+0.138j -0.017-0.138j\n",
      "   0.079+0.114j  0.079-0.114j  0.049+0.13j   0.049-0.13j  -0.049+0.13j  -0.049-0.13j  -0.033+0.135j -0.033-0.135j -0.139+0.j     0.   -0.139j  0.   +0.139j -0.017-0.138j -0.017+0.138j -0.138+0.017j -0.138-0.017j -0.135-0.033j -0.135+0.033j]\n",
      " [ 0.139+0.j     0.138-0.017j  0.138+0.017j -0.135-0.033j -0.135+0.033j -0.104-0.092j -0.104+0.092j  0.079+0.114j  0.079-0.114j -0.114-0.079j -0.114+0.079j -0.135-0.033j -0.135+0.033j -0.092-0.104j -0.092+0.104j  0.135+0.033j  0.135-0.033j  0.092+0.104j  0.092-0.104j -0.049-0.13j  -0.049+0.13j  -0.064-0.123j -0.064+0.123j -0.104+0.092j -0.104-0.092j  0.   +0.139j  0.   -0.139j -0.049-0.13j  -0.049+0.13j  -0.079+0.114j -0.079-0.114j -0.135-0.033j -0.135+0.033j -0.064-0.123j -0.064+0.123j\n",
      "   0.079-0.114j  0.079+0.114j  0.064+0.123j  0.064-0.123j -0.123-0.064j -0.123+0.064j  0.079-0.114j  0.079+0.114j -0.139+0.j    -0.135+0.033j -0.135-0.033j  0.079+0.114j  0.079-0.114j -0.104-0.092j -0.104+0.092j -0.104+0.092j -0.104-0.092j]\n",
      " [-0.139+0.j    -0.104-0.092j -0.104+0.092j -0.049+0.13j  -0.049-0.13j  -0.138-0.017j -0.138+0.017j  0.049+0.13j   0.049-0.13j   0.017-0.138j  0.017+0.138j  0.079-0.114j  0.079+0.114j  0.123+0.064j  0.123-0.064j -0.104-0.092j -0.104+0.092j  0.079-0.114j  0.079+0.114j -0.135-0.033j -0.135+0.033j -0.079-0.114j -0.079+0.114j -0.139+0.j    -0.139-0.j    -0.139+0.j    -0.139-0.j     0.123+0.064j  0.123-0.064j  0.092-0.104j  0.092+0.104j  0.049+0.13j   0.049-0.13j  -0.135+0.033j -0.135-0.033j\n",
      "   0.017-0.138j  0.017+0.138j  0.017+0.138j  0.017-0.138j  0.017-0.138j  0.017+0.138j  0.064+0.123j  0.064-0.123j -0.139+0.j    -0.064+0.123j -0.064-0.123j  0.104-0.092j  0.104+0.092j  0.033+0.135j  0.033-0.135j  0.079-0.114j  0.079+0.114j]\n",
      " [ 0.139+0.j    -0.064-0.123j -0.064+0.123j  0.123-0.064j  0.123+0.064j -0.049-0.13j  -0.049+0.13j   0.123-0.064j  0.123+0.064j  0.13 +0.049j  0.13 -0.049j -0.049-0.13j  -0.049+0.13j  -0.138+0.017j -0.138-0.017j -0.123-0.064j -0.123+0.064j -0.092+0.104j -0.092-0.104j -0.104-0.092j -0.104+0.092j -0.033+0.135j -0.033-0.135j -0.049-0.13j  -0.049+0.13j   0.   +0.139j  0.   -0.139j -0.104+0.092j -0.104-0.092j -0.017-0.138j -0.017+0.138j -0.104-0.092j -0.104+0.092j -0.13 +0.049j -0.13 -0.049j\n",
      "  -0.049+0.13j  -0.049-0.13j  -0.064+0.123j -0.064-0.123j -0.123+0.064j -0.123-0.064j -0.104+0.092j -0.104-0.092j -0.139+0.j     0.017-0.138j  0.017+0.138j  0.017-0.138j  0.017+0.138j -0.135-0.033j -0.135+0.033j -0.104-0.092j -0.104+0.092j]\n",
      " [ 0.139+0.j    -0.   -0.139j -0.   +0.139j  0.123+0.064j  0.123-0.064j  0.123-0.064j  0.123+0.064j  0.017+0.138j  0.017-0.138j -0.13 +0.049j -0.13 -0.049j  0.079+0.114j  0.079-0.114j  0.138+0.017j  0.138-0.017j  0.049+0.13j   0.049-0.13j   0.13 +0.049j  0.13 -0.049j -0.104+0.092j -0.104-0.092j  0.092+0.104j  0.092-0.104j -0.104-0.092j -0.104+0.092j -0.   +0.139j -0.   -0.139j -0.135+0.033j -0.135-0.033j  0.104-0.092j  0.104+0.092j  0.079-0.114j  0.079+0.114j  0.   -0.139j  0.   +0.139j\n",
      "  -0.049-0.13j  -0.049+0.13j   0.033-0.135j  0.033+0.135j  0.135-0.033j  0.135+0.033j  0.139+0.j     0.139-0.j    -0.139+0.j    -0.049-0.13j  -0.049+0.13j  -0.104-0.092j -0.104+0.092j -0.049+0.13j  -0.049-0.13j  -0.049+0.13j  -0.049-0.13j ]\n",
      " [-0.139+0.j    -0.135+0.033j -0.135-0.033j  0.139+0.j     0.139-0.j     0.13 +0.049j  0.13 -0.049j -0.123-0.064j -0.123+0.064j  0.139+0.j     0.139-0.j     0.123-0.064j  0.123+0.064j  0.139+0.j     0.139-0.j    -0.104+0.092j -0.104-0.092j -0.135+0.033j -0.135-0.033j  0.139+0.j     0.139-0.j     0.135-0.033j  0.135+0.033j -0.079-0.114j -0.079+0.114j -0.139+0.j    -0.139-0.j     0.123-0.064j  0.123+0.064j -0.13 -0.049j -0.13 +0.049j -0.017-0.138j -0.017+0.138j  0.079-0.114j  0.079+0.114j\n",
      "   0.139+0.j     0.139-0.j    -0.049+0.13j  -0.049-0.13j  -0.049-0.13j  -0.049+0.13j   0.13 -0.049j  0.13 +0.049j -0.139+0.j    -0.138+0.017j -0.138-0.017j  0.049+0.13j   0.049-0.13j  -0.064-0.123j -0.064+0.123j -0.135+0.033j -0.135-0.033j]\n",
      " [ 0.139+0.j    -0.092+0.104j -0.092-0.104j -0.049+0.13j  -0.049-0.13j   0.017-0.138j  0.017+0.138j -0.049-0.13j  -0.049+0.13j  -0.138-0.017j -0.138+0.017j  0.079-0.114j  0.079+0.114j -0.064+0.123j -0.064-0.123j  0.104+0.092j  0.104-0.092j -0.114-0.079j -0.114+0.079j -0.135-0.033j -0.135+0.033j  0.114-0.079j  0.114+0.079j  0.139-0.j     0.139+0.j     0.   +0.139j  0.   -0.139j  0.123+0.064j  0.123-0.064j  0.104+0.092j  0.104-0.092j -0.049-0.13j  -0.049+0.13j   0.033+0.135j  0.033-0.135j\n",
      "   0.017-0.138j  0.017+0.138j -0.138+0.017j -0.138-0.017j -0.017+0.138j -0.017-0.138j  0.123-0.064j  0.123+0.064j -0.139+0.j     0.123+0.064j  0.123-0.064j -0.104+0.092j -0.104-0.092j -0.135+0.033j -0.135-0.033j  0.079-0.114j  0.079+0.114j]\n",
      " [ 0.139+0.j     0.114+0.079j  0.114-0.079j  0.017-0.138j  0.017+0.138j  0.135-0.033j  0.135+0.033j -0.104-0.092j -0.104+0.092j  0.064+0.123j  0.064-0.123j  0.017+0.138j  0.017-0.138j -0.13 +0.049j -0.13 -0.049j  0.135-0.033j  0.135+0.033j  0.064+0.123j  0.064-0.123j  0.079-0.114j  0.079+0.114j  0.13 -0.049j  0.13 +0.049j  0.017-0.138j  0.017+0.138j -0.   -0.139j -0.   +0.139j -0.049+0.13j  -0.049-0.13j   0.123+0.064j  0.123-0.064j -0.104+0.092j -0.104-0.092j -0.092-0.104j -0.092+0.104j\n",
      "   0.123-0.064j  0.123+0.064j -0.092+0.104j -0.092-0.104j  0.104-0.092j  0.104+0.092j -0.017+0.138j -0.017-0.138j -0.139+0.j    -0.079+0.114j -0.079-0.114j  0.123-0.064j  0.123+0.064j -0.017+0.138j -0.017-0.138j  0.123-0.064j  0.123+0.064j]\n",
      " [ 0.139+0.j     0.114-0.079j  0.114+0.079j -0.104+0.092j -0.104-0.092j -0.104+0.092j -0.104-0.092j  0.079-0.114j  0.079+0.114j  0.033+0.135j  0.033-0.135j  0.123+0.064j  0.123-0.064j  0.114+0.079j  0.114-0.079j -0.123+0.064j -0.123-0.064j -0.13 +0.049j -0.13 -0.049j  0.123-0.064j  0.123+0.064j  0.064-0.123j  0.064+0.123j -0.135+0.033j -0.135-0.033j -0.   +0.139j -0.   -0.139j -0.104-0.092j -0.104+0.092j  0.049+0.13j   0.049-0.13j  -0.049+0.13j  -0.049-0.13j  -0.092+0.104j -0.092-0.104j\n",
      "  -0.135+0.033j -0.135-0.033j -0.033-0.135j -0.033+0.135j  0.135+0.033j  0.135-0.033j  0.017+0.138j  0.017-0.138j -0.139+0.j    -0.135-0.033j -0.135+0.033j -0.049+0.13j  -0.049-0.13j   0.079-0.114j  0.079+0.114j -0.049-0.13j  -0.049+0.13j ]\n",
      " [-0.139+0.j     0.079+0.114j  0.079-0.114j -0.104+0.092j -0.104-0.092j  0.092+0.104j  0.092-0.104j -0.079+0.114j -0.079-0.114j -0.135+0.033j -0.135-0.033j  0.123+0.064j  0.123-0.064j  0.079-0.114j  0.079+0.114j  0.123-0.064j  0.123+0.064j -0.049-0.13j  -0.049+0.13j   0.123-0.064j  0.123+0.064j -0.123-0.064j -0.123+0.064j  0.135-0.033j  0.135+0.033j -0.139+0.j    -0.139-0.j    -0.104-0.092j -0.104+0.092j  0.13 -0.049j  0.13 +0.049j  0.049-0.13j   0.049+0.13j  -0.104-0.092j -0.104+0.092j\n",
      "  -0.135+0.033j -0.135-0.033j -0.135+0.033j -0.135-0.033j -0.135-0.033j -0.135+0.033j -0.138+0.017j -0.138-0.017j -0.139+0.j     0.033-0.135j  0.033+0.135j  0.049-0.13j   0.049+0.13j  -0.114-0.079j -0.114+0.079j -0.049-0.13j  -0.049+0.13j ]\n",
      " [ 0.139+0.j    -0.13 -0.049j -0.13 +0.049j -0.049-0.13j  -0.049+0.13j  -0.079+0.114j -0.079-0.114j -0.135+0.033j -0.135-0.033j -0.138+0.017j -0.138-0.017j  0.139+0.j     0.139-0.j    -0.064-0.123j -0.064+0.123j -0.079-0.114j -0.079+0.114j -0.064+0.123j -0.064-0.123j -0.135+0.033j -0.135-0.033j  0.138+0.017j  0.138-0.017j -0.049+0.13j  -0.049-0.13j   0.   -0.139j  0.   +0.139j  0.017-0.138j  0.017+0.138j  0.139+0.j     0.139-0.j     0.017-0.138j  0.017+0.138j -0.138+0.017j -0.138-0.017j\n",
      "   0.017+0.138j  0.017-0.138j  0.092+0.104j  0.092-0.104j  0.104+0.092j  0.104-0.092j  0.135-0.033j  0.135+0.033j -0.139+0.j     0.104-0.092j  0.104+0.092j  0.139+0.j     0.139-0.j     0.104-0.092j  0.104+0.092j  0.123+0.064j  0.123-0.064j]\n",
      " [-0.139+0.j     0.017+0.138j  0.017-0.138j -0.135-0.033j -0.135+0.033j -0.092+0.104j -0.092-0.104j -0.079-0.114j -0.079+0.114j  0.079-0.114j  0.079+0.114j -0.135-0.033j -0.135+0.033j -0.104+0.092j -0.104-0.092j -0.135-0.033j -0.135+0.033j -0.104+0.092j -0.104-0.092j -0.049-0.13j  -0.049+0.13j  -0.123+0.064j -0.123-0.064j  0.104-0.092j  0.104+0.092j -0.139-0.j    -0.139+0.j    -0.049-0.13j  -0.049+0.13j   0.114+0.079j  0.114-0.079j  0.135+0.033j  0.135-0.033j  0.123-0.064j  0.123+0.064j\n",
      "   0.079-0.114j  0.079+0.114j  0.123-0.064j  0.123+0.064j  0.123+0.064j  0.123-0.064j  0.114+0.079j  0.114-0.079j -0.139+0.j    -0.033-0.135j -0.033+0.135j -0.079-0.114j -0.079+0.114j -0.092+0.104j -0.092-0.104j -0.104+0.092j -0.104-0.092j]\n",
      " [ 0.139+0.j     0.033-0.135j  0.033+0.135j  0.079+0.114j  0.079-0.114j  0.135+0.033j  0.135-0.033j -0.104+0.092j -0.104-0.092j -0.092-0.104j -0.092+0.104j -0.104+0.092j -0.104-0.092j -0.033+0.135j -0.033-0.135j -0.139-0.j    -0.139+0.j    -0.114+0.079j -0.114-0.079j  0.017-0.138j  0.017+0.138j -0.13 -0.049j -0.13 +0.049j  0.123+0.064j  0.123-0.064j  0.   -0.139j  0.   +0.139j  0.139-0.j     0.139+0.j    -0.135+0.033j -0.135-0.033j -0.135+0.033j -0.135-0.033j -0.114+0.079j -0.114-0.079j\n",
      "  -0.104+0.092j -0.104-0.092j -0.138-0.017j -0.138+0.017j -0.017-0.138j -0.017+0.138j  0.049-0.13j   0.049+0.13j  -0.139+0.j    -0.079-0.114j -0.079+0.114j -0.135-0.033j -0.135+0.033j  0.049+0.13j   0.049-0.13j   0.079+0.114j  0.079-0.114j]\n",
      " [ 0.139+0.j     0.13 -0.049j  0.13 +0.049j -0.135+0.033j -0.135-0.033j -0.139-0.j    -0.139+0.j     0.139+0.j     0.139-0.j    -0.114+0.079j -0.114-0.079j -0.049+0.13j  -0.049-0.13j  -0.092+0.104j -0.092-0.104j -0.017-0.138j -0.017+0.138j  0.033-0.135j  0.033+0.135j -0.049+0.13j  -0.049-0.13j  -0.   +0.139j -0.   -0.139j  0.123-0.064j  0.123+0.064j -0.   -0.139j -0.   +0.139j  0.079+0.114j  0.079-0.114j  0.017-0.138j  0.017+0.138j  0.123-0.064j  0.123+0.064j  0.138+0.017j  0.138-0.017j\n",
      "   0.079+0.114j  0.079-0.114j -0.13 +0.049j -0.13 -0.049j  0.049-0.13j   0.049+0.13j   0.135+0.033j  0.135-0.033j -0.139+0.j    -0.139-0.j    -0.139+0.j     0.017+0.138j  0.017-0.138j -0.017-0.138j -0.017+0.138j -0.135-0.033j -0.135+0.033j]\n",
      " [ 0.139+0.j     0.064-0.123j  0.064+0.123j  0.017+0.138j  0.017-0.138j  0.079+0.114j  0.079-0.114j -0.135-0.033j -0.135+0.033j  0.064-0.123j  0.064+0.123j -0.104-0.092j -0.104+0.092j -0.13 -0.049j -0.13 +0.049j  0.049-0.13j   0.049+0.13j   0.   -0.139j  0.   +0.139j  0.079+0.114j  0.079-0.114j  0.138-0.017j  0.138+0.017j -0.135-0.033j -0.135+0.033j -0.   +0.139j -0.   -0.139j -0.135-0.033j -0.135+0.033j  0.135+0.033j  0.135-0.033j  0.123+0.064j  0.123-0.064j  0.13 +0.049j  0.13 -0.049j\n",
      "   0.123+0.064j  0.123-0.064j  0.   +0.139j  0.   -0.139j -0.139+0.j    -0.139-0.j    -0.104-0.092j -0.104+0.092j -0.139+0.j    -0.104-0.092j -0.104+0.092j -0.135+0.033j -0.135-0.033j  0.123+0.064j  0.123-0.064j  0.139-0.j     0.139+0.j   ]\n",
      " [-0.139+0.j     0.079-0.114j  0.079+0.114j  0.017-0.138j  0.017+0.138j  0.033+0.135j  0.033-0.135j  0.104+0.092j  0.104-0.092j  0.123-0.064j  0.123+0.064j  0.017+0.138j  0.017-0.138j -0.049-0.13j  -0.049+0.13j  -0.135+0.033j -0.135-0.033j  0.123-0.064j  0.123+0.064j  0.079-0.114j  0.079+0.114j  0.049+0.13j   0.049-0.13j  -0.017+0.138j -0.017-0.138j -0.139+0.j    -0.139-0.j    -0.049+0.13j  -0.049-0.13j  -0.064+0.123j -0.064-0.123j  0.104-0.092j  0.104+0.092j -0.104+0.092j -0.104-0.092j\n",
      "   0.123-0.064j  0.123+0.064j -0.104-0.092j -0.104+0.092j -0.104+0.092j -0.104-0.092j  0.138+0.017j  0.138-0.017j -0.139+0.j     0.114+0.079j  0.114-0.079j -0.123+0.064j -0.123-0.064j -0.138-0.017j -0.138+0.017j  0.123-0.064j  0.123+0.064j]\n",
      " [-0.139+0.j     0.049-0.13j   0.049+0.13j  -0.049-0.13j  -0.049+0.13j   0.114+0.079j  0.114-0.079j  0.135-0.033j  0.135+0.033j -0.017-0.138j -0.017+0.138j  0.139+0.j     0.139-0.j    -0.123+0.064j -0.123-0.064j  0.079+0.114j  0.079-0.114j -0.123-0.064j -0.123+0.064j -0.135+0.033j -0.135-0.033j  0.017-0.138j  0.017+0.138j  0.049-0.13j   0.049+0.13j   0.139-0.j     0.139+0.j     0.017-0.138j  0.017+0.138j  0.   -0.139j  0.   +0.139j -0.017+0.138j -0.017-0.138j -0.017-0.138j -0.017+0.138j\n",
      "   0.017+0.138j  0.017-0.138j  0.104-0.092j  0.104+0.092j -0.104-0.092j -0.104+0.092j  0.033+0.135j  0.033-0.135j -0.139+0.j     0.092+0.104j  0.092-0.104j -0.139-0.j    -0.139+0.j    -0.092-0.104j -0.092+0.104j  0.123+0.064j  0.123-0.064j]\n",
      " [-0.139+0.j    -0.123-0.064j -0.123+0.064j  0.017+0.138j  0.017-0.138j -0.114+0.079j -0.114-0.079j  0.135+0.033j  0.135-0.033j -0.123-0.064j -0.123+0.064j -0.104-0.092j -0.104+0.092j  0.049-0.13j   0.049+0.13j  -0.049+0.13j  -0.049-0.13j  -0.139-0.j    -0.139+0.j     0.079+0.114j  0.079-0.114j  0.017+0.138j  0.017-0.138j  0.135+0.033j  0.135-0.033j  0.139-0.j     0.139+0.j    -0.135-0.033j -0.135+0.033j -0.033+0.135j -0.033-0.135j -0.123-0.064j -0.123+0.064j  0.049-0.13j   0.049+0.13j\n",
      "   0.123+0.064j  0.123-0.064j -0.139+0.j    -0.139-0.j     0.139-0.j     0.139+0.j    -0.092+0.104j -0.092-0.104j -0.139+0.j    -0.092+0.104j -0.092-0.104j  0.135-0.033j  0.135+0.033j -0.064+0.123j -0.064-0.123j  0.139-0.j     0.139+0.j   ]\n",
      " [-0.139+0.j     0.123-0.064j  0.123+0.064j  0.123-0.064j  0.123+0.064j -0.13 +0.049j -0.13 -0.049j -0.123+0.064j -0.123-0.064j -0.049+0.13j  -0.049-0.13j  -0.049-0.13j  -0.049+0.13j   0.017+0.138j  0.017-0.138j  0.123+0.064j  0.123-0.064j -0.104-0.092j -0.104+0.092j -0.104-0.092j -0.104+0.092j  0.135+0.033j  0.135-0.033j  0.049+0.13j   0.049-0.13j  -0.139+0.j    -0.139-0.j    -0.104+0.092j -0.104-0.092j -0.138+0.017j -0.138-0.017j  0.104+0.092j  0.104-0.092j -0.049-0.13j  -0.049+0.13j\n",
      "  -0.049+0.13j  -0.049-0.13j   0.123+0.064j  0.123-0.064j  0.123-0.064j  0.123+0.064j -0.092-0.104j -0.092+0.104j -0.139+0.j     0.138+0.017j  0.138-0.017j -0.017+0.138j -0.017-0.138j -0.033+0.135j -0.033-0.135j -0.104-0.092j -0.104+0.092j]\n",
      " [-0.139+0.j    -0.104+0.092j -0.104-0.092j  0.079-0.114j  0.079+0.114j  0.064-0.123j  0.064+0.123j -0.017+0.138j -0.017-0.138j -0.104-0.092j -0.104+0.092j -0.135+0.033j -0.135-0.033j -0.135+0.033j -0.135-0.033j  0.017-0.138j  0.017+0.138j  0.017-0.138j  0.017+0.138j  0.017+0.138j  0.017-0.138j  0.104+0.092j  0.104-0.092j -0.017-0.138j -0.017+0.138j -0.139-0.j    -0.139+0.j     0.079-0.114j  0.079+0.114j -0.114+0.079j -0.114-0.079j -0.139+0.j    -0.139-0.j    -0.135-0.033j -0.135+0.033j\n",
      "  -0.104-0.092j -0.104+0.092j  0.079-0.114j  0.079+0.114j  0.079+0.114j  0.079-0.114j -0.064+0.123j -0.064-0.123j -0.139+0.j    -0.13 -0.049j -0.13 +0.049j -0.079+0.114j -0.079-0.114j  0.114-0.079j  0.114+0.079j  0.017-0.138j  0.017+0.138j]\n",
      " [-0.139+0.j     0.017-0.138j  0.017+0.138j -0.104-0.092j -0.104+0.092j  0.138-0.017j  0.138+0.017j  0.049-0.13j   0.049+0.13j  -0.135-0.033j -0.135+0.033j  0.017-0.138j  0.017+0.138j  0.079+0.114j  0.079-0.114j  0.079-0.114j  0.079+0.114j  0.017+0.138j  0.017-0.138j  0.123+0.064j  0.123-0.064j -0.079+0.114j -0.079-0.114j -0.079+0.114j -0.079-0.114j -0.139+0.j    -0.139-0.j     0.017+0.138j  0.017-0.138j  0.064+0.123j  0.064-0.123j -0.079-0.114j -0.079+0.114j  0.123+0.064j  0.123-0.064j\n",
      "  -0.135-0.033j -0.135+0.033j  0.079+0.114j  0.079-0.114j  0.079-0.114j  0.079+0.114j -0.114+0.079j -0.114-0.079j -0.139+0.j     0.064+0.123j  0.064-0.123j -0.123-0.064j -0.123+0.064j -0.   -0.139j -0.   +0.139j  0.017+0.138j  0.017-0.138j]\n",
      " [ 0.139+0.j    -0.092-0.104j -0.092+0.104j  0.079-0.114j  0.079+0.114j -0.123-0.064j -0.123+0.064j  0.017-0.138j  0.017+0.138j  0.092-0.104j  0.092+0.104j -0.135+0.033j -0.135-0.033j  0.033+0.135j  0.033-0.135j -0.017+0.138j -0.017-0.138j  0.138+0.017j  0.138-0.017j  0.017+0.138j  0.017-0.138j  0.092-0.104j  0.092+0.104j  0.017+0.138j  0.017-0.138j  0.   -0.139j  0.   +0.139j  0.079-0.114j  0.079+0.114j  0.079+0.114j  0.079-0.114j  0.139+0.j     0.139-0.j     0.033-0.135j  0.033+0.135j\n",
      "  -0.104-0.092j -0.104+0.092j -0.114-0.079j -0.114+0.079j -0.079-0.114j -0.079+0.114j -0.123-0.064j -0.123+0.064j -0.139+0.j     0.049-0.13j   0.049+0.13j   0.079-0.114j  0.079+0.114j -0.079-0.114j -0.079+0.114j  0.017-0.138j  0.017+0.138j]\n",
      " [ 0.139+0.j     0.033+0.135j  0.033-0.135j  0.139-0.j     0.139+0.j    -0.049+0.13j  -0.049-0.13j   0.123+0.064j  0.123-0.064j -0.   -0.139j -0.   +0.139j  0.123-0.064j  0.123+0.064j  0.   +0.139j  0.   -0.139j  0.104-0.092j  0.104+0.092j  0.033+0.135j  0.033-0.135j  0.139-0.j     0.139+0.j     0.033+0.135j  0.033-0.135j  0.079+0.114j  0.079-0.114j  0.   +0.139j  0.   -0.139j  0.123-0.064j  0.123+0.064j  0.049-0.13j   0.049+0.13j   0.017+0.138j  0.017-0.138j -0.114-0.079j -0.114+0.079j\n",
      "   0.139-0.j     0.139+0.j    -0.13 -0.049j -0.13 +0.049j  0.049+0.13j   0.049-0.13j  -0.049-0.13j  -0.049+0.13j  -0.139+0.j     0.017+0.138j  0.017-0.138j -0.049-0.13j  -0.049+0.13j   0.123-0.064j  0.123+0.064j -0.135+0.033j -0.135-0.033j]\n",
      " [-0.139+0.j     0.135+0.033j  0.135-0.033j  0.079+0.114j  0.079-0.114j  0.033-0.135j  0.033+0.135j  0.104-0.092j  0.104+0.092j  0.104-0.092j  0.104+0.092j -0.104+0.092j -0.104-0.092j  0.135+0.033j  0.135-0.033j  0.139+0.j     0.139-0.j    -0.079-0.114j -0.079+0.114j  0.017-0.138j  0.017+0.138j -0.049+0.13j  -0.049-0.13j  -0.123-0.064j -0.123+0.064j  0.139-0.j     0.139+0.j     0.139+0.j     0.139-0.j     0.033+0.135j  0.033-0.135j  0.135-0.033j  0.135+0.033j -0.079-0.114j -0.079+0.114j\n",
      "  -0.104+0.092j -0.104-0.092j -0.017+0.138j -0.017-0.138j  0.017+0.138j  0.017-0.138j  0.13 +0.049j  0.13 -0.049j -0.139+0.j     0.114-0.079j  0.114+0.079j  0.135+0.033j  0.135-0.033j  0.13 -0.049j  0.13 +0.049j  0.079+0.114j  0.079-0.114j]\n",
      " [-0.139+0.j    -0.135-0.033j -0.135+0.033j  0.079+0.114j  0.079-0.114j -0.033+0.135j -0.033-0.135j  0.104-0.092j  0.104+0.092j -0.104+0.092j -0.104-0.092j -0.104+0.092j -0.104-0.092j -0.135-0.033j -0.135+0.033j  0.139-0.j     0.139+0.j     0.079+0.114j  0.079-0.114j  0.017-0.138j  0.017+0.138j  0.049-0.13j   0.049+0.13j  -0.123-0.064j -0.123+0.064j -0.139+0.j    -0.139-0.j     0.139-0.j     0.139+0.j    -0.033-0.135j -0.033+0.135j  0.135-0.033j  0.135+0.033j  0.079+0.114j  0.079-0.114j\n",
      "  -0.104+0.092j -0.104-0.092j  0.017-0.138j  0.017+0.138j  0.017+0.138j  0.017-0.138j -0.13 -0.049j -0.13 +0.049j -0.139+0.j    -0.114+0.079j -0.114-0.079j  0.135+0.033j  0.135-0.033j -0.13 +0.049j -0.13 -0.049j  0.079+0.114j  0.079-0.114j]\n",
      " [ 0.139+0.j    -0.033-0.135j -0.033+0.135j  0.139+0.j     0.139-0.j     0.049-0.13j   0.049+0.13j   0.123+0.064j  0.123-0.064j  0.   +0.139j  0.   -0.139j  0.123-0.064j  0.123+0.064j  0.   -0.139j  0.   +0.139j  0.104-0.092j  0.104+0.092j -0.033-0.135j -0.033+0.135j  0.139-0.j     0.139+0.j    -0.033-0.135j -0.033+0.135j  0.079+0.114j  0.079-0.114j  0.   -0.139j  0.   +0.139j  0.123-0.064j  0.123+0.064j -0.049+0.13j  -0.049-0.13j   0.017+0.138j  0.017-0.138j  0.114+0.079j  0.114-0.079j\n",
      "   0.139+0.j     0.139-0.j     0.13 +0.049j  0.13 -0.049j  0.049+0.13j   0.049-0.13j   0.049+0.13j   0.049-0.13j  -0.139+0.j    -0.017-0.138j -0.017+0.138j -0.049-0.13j  -0.049+0.13j  -0.123+0.064j -0.123-0.064j -0.135+0.033j -0.135-0.033j]\n",
      " [ 0.139+0.j     0.092+0.104j  0.092-0.104j  0.079-0.114j  0.079+0.114j  0.123+0.064j  0.123-0.064j  0.017-0.138j  0.017+0.138j -0.092+0.104j -0.092-0.104j -0.135+0.033j -0.135-0.033j -0.033-0.135j -0.033+0.135j -0.017+0.138j -0.017-0.138j -0.138-0.017j -0.138+0.017j  0.017+0.138j  0.017-0.138j -0.092+0.104j -0.092-0.104j  0.017+0.138j  0.017-0.138j  0.   +0.139j  0.   -0.139j  0.079-0.114j  0.079+0.114j -0.079-0.114j -0.079+0.114j  0.139-0.j     0.139+0.j    -0.033+0.135j -0.033-0.135j\n",
      "  -0.104-0.092j -0.104+0.092j  0.114+0.079j  0.114-0.079j -0.079-0.114j -0.079+0.114j  0.123+0.064j  0.123-0.064j -0.139+0.j    -0.049+0.13j  -0.049-0.13j   0.079-0.114j  0.079+0.114j  0.079+0.114j  0.079-0.114j  0.017-0.138j  0.017+0.138j]\n",
      " [-0.139+0.j    -0.017+0.138j -0.017-0.138j -0.104-0.092j -0.104+0.092j -0.138+0.017j -0.138-0.017j  0.049-0.13j   0.049+0.13j   0.135+0.033j  0.135-0.033j  0.017-0.138j  0.017+0.138j -0.079-0.114j -0.079+0.114j  0.079-0.114j  0.079+0.114j -0.017-0.138j -0.017+0.138j  0.123+0.064j  0.123-0.064j  0.079-0.114j  0.079+0.114j -0.079+0.114j -0.079-0.114j  0.139+0.j     0.139-0.j     0.017+0.138j  0.017-0.138j -0.064-0.123j -0.064+0.123j -0.079-0.114j -0.079+0.114j -0.123-0.064j -0.123+0.064j\n",
      "  -0.135-0.033j -0.135+0.033j -0.079-0.114j -0.079+0.114j  0.079-0.114j  0.079+0.114j  0.114-0.079j  0.114+0.079j -0.139+0.j    -0.064-0.123j -0.064+0.123j -0.123-0.064j -0.123+0.064j  0.   +0.139j  0.   -0.139j  0.017+0.138j  0.017-0.138j]\n",
      " [-0.139+0.j     0.104-0.092j  0.104+0.092j  0.079-0.114j  0.079+0.114j -0.064+0.123j -0.064-0.123j -0.017+0.138j -0.017-0.138j  0.104+0.092j  0.104-0.092j -0.135+0.033j -0.135-0.033j  0.135-0.033j  0.135+0.033j  0.017-0.138j  0.017+0.138j -0.017+0.138j -0.017-0.138j  0.017+0.138j  0.017-0.138j -0.104-0.092j -0.104+0.092j -0.017-0.138j -0.017+0.138j  0.139-0.j     0.139+0.j     0.079-0.114j  0.079+0.114j  0.114-0.079j  0.114+0.079j -0.139+0.j    -0.139-0.j     0.135+0.033j  0.135-0.033j\n",
      "  -0.104-0.092j -0.104+0.092j -0.079+0.114j -0.079-0.114j  0.079+0.114j  0.079-0.114j  0.064-0.123j  0.064+0.123j -0.139+0.j     0.13 +0.049j  0.13 -0.049j -0.079+0.114j -0.079-0.114j -0.114+0.079j -0.114-0.079j  0.017-0.138j  0.017+0.138j]\n",
      " [-0.139+0.j    -0.123+0.064j -0.123-0.064j  0.123-0.064j  0.123+0.064j  0.13 -0.049j  0.13 +0.049j -0.123+0.064j -0.123-0.064j  0.049-0.13j   0.049+0.13j  -0.049-0.13j  -0.049+0.13j  -0.017-0.138j -0.017+0.138j  0.123+0.064j  0.123-0.064j  0.104+0.092j  0.104-0.092j -0.104-0.092j -0.104+0.092j -0.135-0.033j -0.135+0.033j  0.049+0.13j   0.049-0.13j   0.139-0.j     0.139+0.j    -0.104+0.092j -0.104-0.092j  0.138-0.017j  0.138+0.017j  0.104+0.092j  0.104-0.092j  0.049+0.13j   0.049-0.13j\n",
      "  -0.049+0.13j  -0.049-0.13j  -0.123-0.064j -0.123+0.064j  0.123-0.064j  0.123+0.064j  0.092+0.104j  0.092-0.104j -0.139+0.j    -0.138-0.017j -0.138+0.017j -0.017+0.138j -0.017-0.138j  0.033-0.135j  0.033+0.135j -0.104-0.092j -0.104+0.092j]\n",
      " [-0.139+0.j     0.123+0.064j  0.123-0.064j  0.017+0.138j  0.017-0.138j  0.114-0.079j  0.114+0.079j  0.135+0.033j  0.135-0.033j  0.123+0.064j  0.123-0.064j -0.104-0.092j -0.104+0.092j -0.049+0.13j  -0.049-0.13j  -0.049+0.13j  -0.049-0.13j   0.139+0.j     0.139-0.j     0.079+0.114j  0.079-0.114j -0.017-0.138j -0.017+0.138j  0.135+0.033j  0.135-0.033j -0.139-0.j    -0.139+0.j    -0.135-0.033j -0.135+0.033j  0.033-0.135j  0.033+0.135j -0.123-0.064j -0.123+0.064j -0.049+0.13j  -0.049-0.13j\n",
      "   0.123+0.064j  0.123-0.064j  0.139+0.j     0.139-0.j     0.139+0.j     0.139-0.j     0.092-0.104j  0.092+0.104j -0.139+0.j     0.092-0.104j  0.092+0.104j  0.135-0.033j  0.135+0.033j  0.064-0.123j  0.064+0.123j  0.139+0.j     0.139-0.j   ]\n",
      " [-0.139+0.j    -0.049+0.13j  -0.049-0.13j  -0.049-0.13j  -0.049+0.13j  -0.114-0.079j -0.114+0.079j  0.135-0.033j  0.135+0.033j  0.017+0.138j  0.017-0.138j  0.139-0.j     0.139+0.j     0.123-0.064j  0.123+0.064j  0.079+0.114j  0.079-0.114j  0.123+0.064j  0.123-0.064j -0.135+0.033j -0.135-0.033j -0.017+0.138j -0.017-0.138j  0.049-0.13j   0.049+0.13j  -0.139-0.j    -0.139+0.j     0.017-0.138j  0.017+0.138j -0.   +0.139j -0.   -0.139j -0.017+0.138j -0.017-0.138j  0.017+0.138j  0.017-0.138j\n",
      "   0.017+0.138j  0.017-0.138j -0.104+0.092j -0.104-0.092j -0.104-0.092j -0.104+0.092j -0.033-0.135j -0.033+0.135j -0.139+0.j    -0.092-0.104j -0.092+0.104j -0.139-0.j    -0.139+0.j     0.092+0.104j  0.092-0.104j  0.123+0.064j  0.123-0.064j]\n",
      " [-0.139+0.j    -0.079+0.114j -0.079-0.114j  0.017-0.138j  0.017+0.138j -0.033-0.135j -0.033+0.135j  0.104+0.092j  0.104-0.092j -0.123+0.064j -0.123-0.064j  0.017+0.138j  0.017-0.138j  0.049+0.13j   0.049-0.13j  -0.135+0.033j -0.135-0.033j -0.123+0.064j -0.123-0.064j  0.079-0.114j  0.079+0.114j -0.049-0.13j  -0.049+0.13j  -0.017+0.138j -0.017-0.138j  0.139+0.j     0.139-0.j    -0.049+0.13j  -0.049-0.13j   0.064-0.123j  0.064+0.123j  0.104-0.092j  0.104+0.092j  0.104-0.092j  0.104+0.092j\n",
      "   0.123-0.064j  0.123+0.064j  0.104+0.092j  0.104-0.092j -0.104+0.092j -0.104-0.092j -0.138-0.017j -0.138+0.017j -0.139+0.j    -0.114-0.079j -0.114+0.079j -0.123+0.064j -0.123-0.064j  0.138+0.017j  0.138-0.017j  0.123-0.064j  0.123+0.064j]\n",
      " [ 0.139+0.j    -0.064+0.123j -0.064-0.123j  0.017+0.138j  0.017-0.138j -0.079-0.114j -0.079+0.114j -0.135-0.033j -0.135+0.033j -0.064+0.123j -0.064-0.123j -0.104-0.092j -0.104+0.092j  0.13 +0.049j  0.13 -0.049j  0.049-0.13j   0.049+0.13j  -0.   +0.139j -0.   -0.139j  0.079+0.114j  0.079-0.114j -0.138+0.017j -0.138-0.017j -0.135-0.033j -0.135+0.033j -0.   -0.139j -0.   +0.139j -0.135-0.033j -0.135+0.033j -0.135-0.033j -0.135+0.033j  0.123+0.064j  0.123-0.064j -0.13 -0.049j -0.13 +0.049j\n",
      "   0.123+0.064j  0.123-0.064j -0.   -0.139j -0.   +0.139j -0.139+0.j    -0.139-0.j     0.104+0.092j  0.104-0.092j -0.139+0.j     0.104+0.092j  0.104-0.092j -0.135+0.033j -0.135-0.033j -0.123-0.064j -0.123+0.064j  0.139-0.j     0.139+0.j   ]\n",
      " [ 0.139+0.j    -0.13 +0.049j -0.13 -0.049j -0.135+0.033j -0.135-0.033j  0.139+0.j     0.139-0.j     0.139+0.j     0.139-0.j     0.114-0.079j  0.114+0.079j -0.049+0.13j  -0.049-0.13j   0.092-0.104j  0.092+0.104j -0.017-0.138j -0.017+0.138j -0.033+0.135j -0.033-0.135j -0.049+0.13j  -0.049-0.13j   0.   -0.139j  0.   +0.139j  0.123-0.064j  0.123+0.064j  0.   +0.139j  0.   -0.139j  0.079+0.114j  0.079-0.114j -0.017+0.138j -0.017-0.138j  0.123-0.064j  0.123+0.064j -0.138-0.017j -0.138+0.017j\n",
      "   0.079+0.114j  0.079-0.114j  0.13 -0.049j  0.13 +0.049j  0.049-0.13j   0.049+0.13j  -0.135-0.033j -0.135+0.033j -0.139+0.j     0.139+0.j     0.139-0.j     0.017+0.138j  0.017-0.138j  0.017+0.138j  0.017-0.138j -0.135-0.033j -0.135+0.033j]\n",
      " [ 0.139+0.j    -0.033+0.135j -0.033-0.135j  0.079+0.114j  0.079-0.114j -0.135-0.033j -0.135+0.033j -0.104+0.092j -0.104-0.092j  0.092+0.104j  0.092-0.104j -0.104+0.092j -0.104-0.092j  0.033-0.135j  0.033+0.135j -0.139+0.j    -0.139-0.j     0.114-0.079j  0.114+0.079j  0.017-0.138j  0.017+0.138j  0.13 +0.049j  0.13 -0.049j  0.123+0.064j  0.123-0.064j  0.   +0.139j  0.   -0.139j  0.139-0.j     0.139+0.j     0.135-0.033j  0.135+0.033j -0.135+0.033j -0.135-0.033j  0.114-0.079j  0.114+0.079j\n",
      "  -0.104+0.092j -0.104-0.092j  0.138+0.017j  0.138-0.017j -0.017-0.138j -0.017+0.138j -0.049+0.13j  -0.049-0.13j  -0.139+0.j     0.079+0.114j  0.079-0.114j -0.135-0.033j -0.135+0.033j -0.049-0.13j  -0.049+0.13j   0.079+0.114j  0.079-0.114j]\n",
      " [-0.139+0.j    -0.017-0.138j -0.017+0.138j -0.135-0.033j -0.135+0.033j  0.092-0.104j  0.092+0.104j -0.079-0.114j -0.079+0.114j -0.079+0.114j -0.079-0.114j -0.135-0.033j -0.135+0.033j  0.104-0.092j  0.104+0.092j -0.135-0.033j -0.135+0.033j  0.104-0.092j  0.104+0.092j -0.049-0.13j  -0.049+0.13j   0.123-0.064j  0.123+0.064j  0.104-0.092j  0.104+0.092j  0.139-0.j     0.139+0.j    -0.049-0.13j  -0.049+0.13j  -0.114-0.079j -0.114+0.079j  0.135+0.033j  0.135-0.033j -0.123+0.064j -0.123-0.064j\n",
      "   0.079-0.114j  0.079+0.114j -0.123+0.064j -0.123-0.064j  0.123+0.064j  0.123-0.064j -0.114-0.079j -0.114+0.079j -0.139+0.j     0.033+0.135j  0.033-0.135j -0.079-0.114j -0.079+0.114j  0.092-0.104j  0.092+0.104j -0.104+0.092j -0.104-0.092j]\n",
      " [ 0.139+0.j     0.13 +0.049j  0.13 -0.049j -0.049-0.13j  -0.049+0.13j   0.079-0.114j  0.079+0.114j -0.135+0.033j -0.135-0.033j  0.138-0.017j  0.138+0.017j  0.139+0.j     0.139-0.j     0.064+0.123j  0.064-0.123j -0.079-0.114j -0.079+0.114j  0.064-0.123j  0.064+0.123j -0.135+0.033j -0.135-0.033j -0.138-0.017j -0.138+0.017j -0.049+0.13j  -0.049-0.13j   0.   +0.139j  0.   -0.139j  0.017-0.138j  0.017+0.138j -0.139-0.j    -0.139+0.j     0.017-0.138j  0.017+0.138j  0.138-0.017j  0.138+0.017j\n",
      "   0.017+0.138j  0.017-0.138j -0.092-0.104j -0.092+0.104j  0.104+0.092j  0.104-0.092j -0.135+0.033j -0.135-0.033j -0.139+0.j    -0.104+0.092j -0.104-0.092j  0.139+0.j     0.139-0.j    -0.104+0.092j -0.104-0.092j  0.123+0.064j  0.123-0.064j]\n",
      " [-0.139+0.j    -0.079-0.114j -0.079+0.114j -0.104+0.092j -0.104-0.092j -0.092-0.104j -0.092+0.104j -0.079+0.114j -0.079-0.114j  0.135-0.033j  0.135+0.033j  0.123+0.064j  0.123-0.064j -0.079+0.114j -0.079-0.114j  0.123-0.064j  0.123+0.064j  0.049+0.13j   0.049-0.13j   0.123-0.064j  0.123+0.064j  0.123+0.064j  0.123-0.064j  0.135-0.033j  0.135+0.033j  0.139-0.j     0.139+0.j    -0.104-0.092j -0.104+0.092j -0.13 +0.049j -0.13 -0.049j  0.049-0.13j   0.049+0.13j   0.104+0.092j  0.104-0.092j\n",
      "  -0.135+0.033j -0.135-0.033j  0.135-0.033j  0.135+0.033j -0.135-0.033j -0.135+0.033j  0.138-0.017j  0.138+0.017j -0.139+0.j    -0.033+0.135j -0.033-0.135j  0.049-0.13j   0.049+0.13j   0.114+0.079j  0.114-0.079j -0.049-0.13j  -0.049+0.13j ]\n",
      " [ 0.139+0.j    -0.114+0.079j -0.114-0.079j -0.104+0.092j -0.104-0.092j  0.104-0.092j  0.104+0.092j  0.079-0.114j  0.079+0.114j -0.033-0.135j -0.033+0.135j  0.123+0.064j  0.123-0.064j -0.114-0.079j -0.114+0.079j -0.123+0.064j -0.123-0.064j  0.13 -0.049j  0.13 +0.049j  0.123-0.064j  0.123+0.064j -0.064+0.123j -0.064-0.123j -0.135+0.033j -0.135-0.033j  0.   -0.139j  0.   +0.139j -0.104-0.092j -0.104+0.092j -0.049-0.13j  -0.049+0.13j  -0.049+0.13j  -0.049-0.13j   0.092-0.104j  0.092+0.104j\n",
      "  -0.135+0.033j -0.135-0.033j  0.033+0.135j  0.033-0.135j  0.135+0.033j  0.135-0.033j -0.017-0.138j -0.017+0.138j -0.139+0.j     0.135+0.033j  0.135-0.033j -0.049+0.13j  -0.049-0.13j  -0.079+0.114j -0.079-0.114j -0.049-0.13j  -0.049+0.13j ]\n",
      " [ 0.139+0.j    -0.114-0.079j -0.114+0.079j  0.017-0.138j  0.017+0.138j -0.135+0.033j -0.135-0.033j -0.104-0.092j -0.104+0.092j -0.064-0.123j -0.064+0.123j  0.017+0.138j  0.017-0.138j  0.13 -0.049j  0.13 +0.049j  0.135-0.033j  0.135+0.033j -0.064-0.123j -0.064+0.123j  0.079-0.114j  0.079+0.114j -0.13 +0.049j -0.13 -0.049j  0.017-0.138j  0.017+0.138j -0.   +0.139j -0.   -0.139j -0.049+0.13j  -0.049-0.13j  -0.123-0.064j -0.123+0.064j -0.104+0.092j -0.104-0.092j  0.092+0.104j  0.092-0.104j\n",
      "   0.123-0.064j  0.123+0.064j  0.092-0.104j  0.092+0.104j  0.104-0.092j  0.104+0.092j  0.017-0.138j  0.017+0.138j -0.139+0.j     0.079-0.114j  0.079+0.114j  0.123-0.064j  0.123+0.064j  0.017-0.138j  0.017+0.138j  0.123-0.064j  0.123+0.064j]\n",
      " [ 0.139+0.j     0.092-0.104j  0.092+0.104j -0.049+0.13j  -0.049-0.13j  -0.017+0.138j -0.017-0.138j -0.049-0.13j  -0.049+0.13j   0.138+0.017j  0.138-0.017j  0.079-0.114j  0.079+0.114j  0.064-0.123j  0.064+0.123j  0.104+0.092j  0.104-0.092j  0.114+0.079j  0.114-0.079j -0.135-0.033j -0.135+0.033j -0.114+0.079j -0.114-0.079j  0.139+0.j     0.139-0.j     0.   -0.139j  0.   +0.139j  0.123+0.064j  0.123-0.064j -0.104-0.092j -0.104+0.092j -0.049-0.13j  -0.049+0.13j  -0.033-0.135j -0.033+0.135j\n",
      "   0.017-0.138j  0.017+0.138j  0.138-0.017j  0.138+0.017j -0.017+0.138j -0.017-0.138j -0.123+0.064j -0.123-0.064j -0.139+0.j    -0.123-0.064j -0.123+0.064j -0.104+0.092j -0.104-0.092j  0.135-0.033j  0.135+0.033j  0.079-0.114j  0.079+0.114j]\n",
      " [-0.139+0.j     0.135-0.033j  0.135+0.033j  0.139+0.j     0.139-0.j    -0.13 -0.049j -0.13 +0.049j -0.123-0.064j -0.123+0.064j -0.139+0.j    -0.139-0.j     0.123-0.064j  0.123+0.064j -0.139+0.j    -0.139-0.j    -0.104+0.092j -0.104-0.092j  0.135-0.033j  0.135+0.033j  0.139+0.j     0.139-0.j    -0.135+0.033j -0.135-0.033j -0.079-0.114j -0.079+0.114j  0.139+0.j     0.139-0.j     0.123-0.064j  0.123+0.064j  0.13 +0.049j  0.13 -0.049j -0.017-0.138j -0.017+0.138j -0.079+0.114j -0.079-0.114j\n",
      "   0.139-0.j     0.139+0.j     0.049-0.13j   0.049+0.13j  -0.049-0.13j  -0.049+0.13j  -0.13 +0.049j -0.13 -0.049j -0.139+0.j     0.138-0.017j  0.138+0.017j  0.049+0.13j   0.049-0.13j   0.064+0.123j  0.064-0.123j -0.135+0.033j -0.135-0.033j]\n",
      " [ 0.139+0.j    -0.   +0.139j -0.   -0.139j  0.123+0.064j  0.123-0.064j -0.123+0.064j -0.123-0.064j  0.017+0.138j  0.017-0.138j  0.13 -0.049j  0.13 +0.049j  0.079+0.114j  0.079-0.114j -0.138-0.017j -0.138+0.017j  0.049+0.13j   0.049-0.13j  -0.13 -0.049j -0.13 +0.049j -0.104+0.092j -0.104-0.092j -0.092-0.104j -0.092+0.104j -0.104-0.092j -0.104+0.092j -0.   -0.139j -0.   +0.139j -0.135+0.033j -0.135-0.033j -0.104+0.092j -0.104-0.092j  0.079-0.114j  0.079+0.114j -0.   +0.139j -0.   -0.139j\n",
      "  -0.049-0.13j  -0.049+0.13j  -0.033+0.135j -0.033-0.135j  0.135-0.033j  0.135+0.033j -0.139+0.j    -0.139-0.j    -0.139+0.j     0.049+0.13j   0.049-0.13j  -0.104-0.092j -0.104+0.092j  0.049-0.13j   0.049+0.13j  -0.049+0.13j  -0.049-0.13j ]\n",
      " [ 0.139+0.j     0.064+0.123j  0.064-0.123j  0.123-0.064j  0.123+0.064j  0.049+0.13j   0.049-0.13j   0.123-0.064j  0.123+0.064j -0.13 -0.049j -0.13 +0.049j -0.049-0.13j  -0.049+0.13j   0.138-0.017j  0.138+0.017j -0.123-0.064j -0.123+0.064j  0.092-0.104j  0.092+0.104j -0.104-0.092j -0.104+0.092j  0.033-0.135j  0.033+0.135j -0.049-0.13j  -0.049+0.13j  -0.   -0.139j -0.   +0.139j -0.104+0.092j -0.104-0.092j  0.017+0.138j  0.017-0.138j -0.104-0.092j -0.104+0.092j  0.13 -0.049j  0.13 +0.049j\n",
      "  -0.049+0.13j  -0.049-0.13j   0.064-0.123j  0.064+0.123j -0.123+0.064j -0.123-0.064j  0.104-0.092j  0.104+0.092j -0.139+0.j    -0.017+0.138j -0.017-0.138j  0.017-0.138j  0.017+0.138j  0.135+0.033j  0.135-0.033j -0.104-0.092j -0.104+0.092j]\n",
      " [-0.139+0.j     0.104+0.092j  0.104-0.092j -0.049+0.13j  -0.049-0.13j   0.138+0.017j  0.138-0.017j  0.049+0.13j   0.049-0.13j  -0.017+0.138j -0.017-0.138j  0.079-0.114j  0.079+0.114j -0.123-0.064j -0.123+0.064j -0.104-0.092j -0.104+0.092j -0.079+0.114j -0.079-0.114j -0.135-0.033j -0.135+0.033j  0.079+0.114j  0.079-0.114j -0.139+0.j    -0.139-0.j     0.139+0.j     0.139-0.j     0.123+0.064j  0.123-0.064j -0.092+0.104j -0.092-0.104j  0.049+0.13j   0.049-0.13j   0.135-0.033j  0.135+0.033j\n",
      "   0.017-0.138j  0.017+0.138j -0.017-0.138j -0.017+0.138j  0.017-0.138j  0.017+0.138j -0.064-0.123j -0.064+0.123j -0.139+0.j     0.064-0.123j  0.064+0.123j  0.104-0.092j  0.104+0.092j -0.033-0.135j -0.033+0.135j  0.079-0.114j  0.079+0.114j]\n",
      " [ 0.139+0.j    -0.138+0.017j -0.138-0.017j -0.135-0.033j -0.135+0.033j  0.104+0.092j  0.104-0.092j  0.079+0.114j  0.079-0.114j  0.114+0.079j  0.114-0.079j -0.135-0.033j -0.135+0.033j  0.092+0.104j  0.092-0.104j  0.135+0.033j  0.135-0.033j -0.092-0.104j -0.092+0.104j -0.049-0.13j  -0.049+0.13j   0.064+0.123j  0.064-0.123j -0.104+0.092j -0.104-0.092j  0.   -0.139j  0.   +0.139j -0.049-0.13j  -0.049+0.13j   0.079-0.114j  0.079+0.114j -0.135-0.033j -0.135+0.033j  0.064+0.123j  0.064-0.123j\n",
      "   0.079-0.114j  0.079+0.114j -0.064-0.123j -0.064+0.123j -0.123-0.064j -0.123+0.064j -0.079+0.114j -0.079-0.114j -0.139+0.j     0.135-0.033j  0.135+0.033j  0.079+0.114j  0.079-0.114j  0.104+0.092j  0.104-0.092j -0.104+0.092j -0.104-0.092j]\n",
      " [-0.139+0.j    -0.049-0.13j  -0.049+0.13j  -0.135+0.033j -0.135-0.033j -0.   -0.139j -0.   +0.139j -0.139+0.j    -0.139-0.j     0.079+0.114j  0.079-0.114j -0.049+0.13j  -0.049-0.13j  -0.104-0.092j -0.104+0.092j  0.017+0.138j  0.017-0.138j -0.135-0.033j -0.135+0.033j -0.049+0.13j  -0.049-0.13j  -0.139-0.j    -0.139+0.j    -0.123+0.064j -0.123-0.064j -0.139+0.j    -0.139-0.j     0.079+0.114j  0.079-0.114j  0.138+0.017j  0.138-0.017j -0.123+0.064j -0.123-0.064j  0.017-0.138j  0.017+0.138j\n",
      "   0.079+0.114j  0.079-0.114j -0.049-0.13j  -0.049+0.13j  -0.049+0.13j  -0.049-0.13j   0.033-0.135j  0.033+0.135j -0.139+0.j     0.   +0.139j  0.   -0.139j -0.017-0.138j -0.017+0.138j  0.138-0.017j  0.138+0.017j -0.135-0.033j -0.135+0.033j]\n",
      " [-0.139+0.j     0.139-0.j     0.139+0.j     0.123+0.064j  0.123-0.064j -0.064-0.123j -0.064+0.123j -0.017-0.138j -0.017+0.138j -0.049-0.13j  -0.049+0.13j   0.079+0.114j  0.079-0.114j  0.017-0.138j  0.017+0.138j -0.049-0.13j  -0.049+0.13j  -0.049+0.13j  -0.049-0.13j  -0.104+0.092j -0.104-0.092j  0.104-0.092j  0.104+0.092j  0.104+0.092j  0.104-0.092j -0.139+0.j    -0.139-0.j    -0.135+0.033j -0.135-0.033j -0.092-0.104j -0.092+0.104j -0.079+0.114j -0.079-0.114j  0.139+0.j     0.139-0.j\n",
      "  -0.049-0.13j  -0.049+0.13j  -0.135-0.033j -0.135+0.033j -0.135+0.033j -0.135-0.033j  0.   +0.139j  0.   -0.139j -0.139+0.j     0.13 -0.049j  0.13 +0.049j  0.104+0.092j  0.104-0.092j  0.13 +0.049j  0.13 -0.049j -0.049+0.13j  -0.049-0.13j ]\n",
      " [ 0.139+0.j    -0.138-0.017j -0.138+0.017j -0.104-0.092j -0.104+0.092j  0.017+0.138j  0.017-0.138j -0.049+0.13j  -0.049-0.13j  -0.033+0.135j -0.033-0.135j  0.017-0.138j  0.017+0.138j -0.114+0.079j -0.114-0.079j -0.079+0.114j -0.079-0.114j  0.138-0.017j  0.138+0.017j  0.123+0.064j  0.123-0.064j -0.114-0.079j -0.114+0.079j  0.079-0.114j  0.079+0.114j  0.   +0.139j  0.   -0.139j  0.017+0.138j  0.017-0.138j -0.123+0.064j -0.123-0.064j  0.079+0.114j  0.079-0.114j  0.064-0.123j  0.064+0.123j\n",
      "  -0.135-0.033j -0.135+0.033j -0.114+0.079j -0.114-0.079j -0.079+0.114j -0.079-0.114j  0.079+0.114j  0.079-0.114j -0.139+0.j     0.123-0.064j  0.123+0.064j  0.123+0.064j  0.123-0.064j  0.139+0.j     0.139-0.j     0.017+0.138j  0.017-0.138j]]\n"
     ]
    }
   ],
   "source": [
    "eigenvectors_of_shuffling_permutation_matrix = np.matrix(eigenvectors_of_shuffling_permutation_matrix)\n",
    "print(eigenvectors_of_shuffling_permutation_matrix.shape)\n",
    "print(type(eigenvectors_of_shuffling_permutation_matrix))\n",
    "print(eigenvectors_of_shuffling_permutation_matrix)"
   ]
  },
  {
   "cell_type": "code",
   "execution_count": 35,
   "metadata": {},
   "outputs": [],
   "source": [
    "maybe_diagonal_matrix = \\\n",
    "eigenvectors_of_shuffling_permutation_matrix.getH() * shuffling_permutation_matrix * eigenvectors_of_shuffling_permutation_matrix"
   ]
  },
  {
   "cell_type": "code",
   "execution_count": 36,
   "metadata": {},
   "outputs": [
    {
     "name": "stdout",
     "output_type": "stream",
     "text": [
      "<class 'numpy.matrix'>\n",
      "(52, 52)\n",
      "[[-1.   +0.j    -0.   -0.j    -0.   +0.j     0.   -0.j     0.   +0.j    -0.   -0.j    -0.   +0.j    -0.   +0.j    -0.   -0.j     0.   -0.j     0.   +0.j    -0.   +0.j    -0.   -0.j     0.   -0.j     0.   +0.j    -0.   +0.j    -0.   -0.j    -0.   -0.j    -0.   +0.j     0.   -0.j     0.   +0.j     0.   -0.j     0.   +0.j    -0.   +0.j    -0.   -0.j    -0.   +0.j    -0.   -0.j     0.   +0.j     0.   -0.j     0.   +0.j     0.   -0.j    -0.   +0.j    -0.   -0.j    -0.   +0.j    -0.   -0.j\n",
      "  -0.   -0.j    -0.   +0.j     0.   +0.j     0.   -0.j     0.   -0.j     0.   +0.j     0.   +0.j     0.   -0.j    -0.   +0.j     0.   -0.j     0.   +0.j     0.   -0.j     0.   +0.j     0.   -0.j     0.   +0.j     0.   -0.j     0.   +0.j   ]\n",
      " [-0.   +0.j    -0.993+0.121j -0.   -0.j     0.   +0.j     0.   -0.j     0.   +0.j     0.   -0.j     0.   -0.j     0.   +0.j     0.   +0.j    -0.   +0.j    -0.   -0.j     0.   -0.j     0.   +0.j     0.   +0.j     0.   +0.j    -0.   +0.j    -0.   +0.j    -0.   +0.j     0.   +0.j    -0.   +0.j     0.   +0.j    -0.   +0.j    -0.   -0.j    -0.   +0.j    -0.   +0.j    -0.   -0.j    -0.   +0.j    -0.   +0.j     0.   +0.j    -0.   +0.j     0.   -0.j     0.   +0.j    -0.   +0.j     0.   +0.j\n",
      "  -0.   -0.j     0.   +0.j    -0.   -0.j    -0.   -0.j    -0.   -0.j    -0.   +0.j     0.   +0.j    -0.   +0.j     0.   +0.j    -0.   -0.j    -0.   -0.j    -0.   +0.j    -0.   +0.j     0.   +0.j     0.   -0.j    -0.   +0.j     0.   +0.j   ]\n",
      " [-0.   -0.j    -0.   +0.j    -0.993-0.121j  0.   +0.j     0.   -0.j     0.   +0.j     0.   -0.j     0.   -0.j     0.   +0.j    -0.   -0.j     0.   -0.j     0.   +0.j    -0.   +0.j     0.   -0.j     0.   -0.j    -0.   -0.j     0.   -0.j    -0.   -0.j    -0.   -0.j    -0.   -0.j     0.   -0.j    -0.   -0.j     0.   -0.j    -0.   -0.j    -0.   +0.j    -0.   +0.j    -0.   -0.j    -0.   -0.j    -0.   -0.j    -0.   -0.j     0.   -0.j     0.   -0.j     0.   +0.j     0.   -0.j    -0.   -0.j\n",
      "   0.   -0.j    -0.   +0.j    -0.   +0.j    -0.   +0.j    -0.   -0.j    -0.   +0.j    -0.   -0.j     0.   -0.j     0.   -0.j    -0.   +0.j    -0.   +0.j    -0.   -0.j    -0.   -0.j     0.   +0.j     0.   -0.j     0.   -0.j    -0.   -0.j   ]\n",
      " [ 0.   -0.j     0.   -0.j     0.   -0.j    -0.971+0.239j -0.   -0.j     0.   -0.j     0.   -0.j     0.   +0.j     0.   -0.j    -0.   -0.j    -0.   +0.j    -0.   +0.j     0.   -0.j     0.   -0.j    -0.   -0.j    -0.   -0.j    -0.   -0.j    -0.   +0.j    -0.   +0.j     0.   +0.j    -0.   +0.j     0.   +0.j    -0.   -0.j    -0.   -0.j     0.   +0.j    -0.   +0.j     0.   +0.j    -0.   +0.j    -0.   -0.j    -0.   -0.j     0.   -0.j     0.   -0.j     0.   +0.j     0.   +0.j     0.   -0.j\n",
      "   0.   -0.j    -0.   +0.j    -0.   -0.j    -0.   -0.j     0.   -0.j    -0.   +0.j     0.   +0.j     0.   +0.j     0.   +0.j     0.   -0.j     0.   +0.j     0.   +0.j     0.   +0.j    -0.   +0.j     0.   +0.j    -0.   -0.j    -0.   -0.j   ]\n",
      " [ 0.   +0.j     0.   +0.j     0.   +0.j    -0.   +0.j    -0.971-0.239j  0.   +0.j     0.   +0.j     0.   +0.j     0.   -0.j    -0.   -0.j    -0.   +0.j     0.   +0.j    -0.   -0.j    -0.   +0.j     0.   +0.j    -0.   +0.j    -0.   +0.j    -0.   -0.j    -0.   -0.j    -0.   -0.j     0.   -0.j    -0.   +0.j     0.   -0.j     0.   -0.j    -0.   +0.j     0.   -0.j    -0.   -0.j    -0.   +0.j    -0.   -0.j     0.   +0.j    -0.   +0.j     0.   -0.j     0.   +0.j     0.   +0.j     0.   -0.j\n",
      "  -0.   -0.j     0.   +0.j    -0.   +0.j    -0.   +0.j    -0.   -0.j     0.   +0.j     0.   -0.j     0.   -0.j     0.   -0.j     0.   -0.j     0.   +0.j     0.   -0.j     0.   -0.j     0.   -0.j    -0.   -0.j    -0.   +0.j    -0.   +0.j   ]\n",
      " [-0.   +0.j     0.   -0.j     0.   -0.j     0.   +0.j     0.   -0.j    -0.935+0.355j  0.   -0.j    -0.   -0.j    -0.   -0.j     0.   +0.j    -0.   -0.j     0.   -0.j    -0.   +0.j    -0.   +0.j    -0.   -0.j    -0.   -0.j     0.   -0.j    -0.   -0.j     0.   +0.j     0.   -0.j    -0.   -0.j     0.   +0.j     0.   +0.j     0.   +0.j    -0.   -0.j     0.   +0.j    -0.   -0.j    -0.   -0.j    -0.   +0.j    -0.   -0.j     0.   -0.j     0.   +0.j    -0.   -0.j    -0.   +0.j     0.   +0.j\n",
      "  -0.   +0.j    -0.   +0.j     0.   +0.j    -0.   -0.j     0.   -0.j     0.   -0.j     0.   +0.j    -0.   +0.j    -0.   -0.j     0.   +0.j     0.   +0.j    -0.   -0.j    -0.   -0.j    -0.   -0.j    -0.   -0.j    -0.   -0.j    -0.   -0.j   ]\n",
      " [-0.   -0.j     0.   +0.j     0.   +0.j     0.   +0.j     0.   -0.j     0.   +0.j    -0.935-0.355j -0.   +0.j    -0.   +0.j    -0.   +0.j     0.   -0.j    -0.   -0.j     0.   +0.j    -0.   +0.j    -0.   -0.j     0.   +0.j    -0.   +0.j     0.   -0.j    -0.   +0.j    -0.   +0.j     0.   +0.j     0.   -0.j     0.   -0.j    -0.   +0.j     0.   -0.j    -0.   +0.j     0.   -0.j    -0.   -0.j    -0.   +0.j     0.   +0.j    -0.   +0.j    -0.   +0.j     0.   -0.j     0.   -0.j    -0.   -0.j\n",
      "  -0.   -0.j    -0.   -0.j    -0.   +0.j     0.   -0.j     0.   +0.j     0.   +0.j    -0.   -0.j     0.   -0.j    -0.   +0.j     0.   -0.j     0.   -0.j    -0.   +0.j    -0.   +0.j    -0.   +0.j    -0.   +0.j    -0.   +0.j    -0.   +0.j   ]\n",
      " [-0.   +0.j     0.   -0.j     0.   +0.j     0.   -0.j     0.   -0.j    -0.   +0.j    -0.   -0.j    -0.885+0.465j -0.   +0.j    -0.   +0.j    -0.   -0.j    -0.   -0.j     0.   -0.j    -0.   -0.j    -0.   -0.j     0.   -0.j    -0.   -0.j    -0.   -0.j    -0.   +0.j     0.   -0.j    -0.   -0.j     0.   +0.j     0.   -0.j     0.   -0.j    -0.   +0.j    -0.   +0.j    -0.   -0.j    -0.   -0.j    -0.   +0.j     0.   -0.j    -0.   +0.j    -0.   +0.j    -0.   +0.j    -0.   +0.j    -0.   -0.j\n",
      "  -0.   -0.j     0.   +0.j     0.   +0.j     0.   -0.j     0.   +0.j    -0.   +0.j    -0.   +0.j     0.   +0.j     0.   -0.j     0.   +0.j     0.   +0.j    -0.   -0.j     0.   -0.j     0.   +0.j     0.   -0.j    -0.   +0.j    -0.   +0.j   ]\n",
      " [-0.   -0.j     0.   -0.j     0.   +0.j     0.   +0.j     0.   +0.j    -0.   +0.j    -0.   -0.j    -0.   -0.j    -0.885-0.465j -0.   +0.j    -0.   -0.j     0.   +0.j    -0.   +0.j    -0.   +0.j    -0.   +0.j    -0.   +0.j     0.   +0.j    -0.   -0.j    -0.   +0.j    -0.   +0.j     0.   +0.j     0.   +0.j     0.   -0.j    -0.   -0.j     0.   +0.j    -0.   +0.j    -0.   -0.j    -0.   -0.j    -0.   +0.j    -0.   -0.j     0.   +0.j    -0.   -0.j    -0.   -0.j    -0.   +0.j    -0.   -0.j\n",
      "   0.   -0.j    -0.   +0.j     0.   +0.j     0.   -0.j    -0.   -0.j     0.   -0.j     0.   -0.j    -0.   -0.j     0.   +0.j     0.   -0.j     0.   -0.j     0.   +0.j    -0.   +0.j     0.   +0.j     0.   -0.j    -0.   -0.j    -0.   -0.j   ]\n",
      " [ 0.   -0.j    -0.   -0.j    -0.   +0.j     0.   +0.j    -0.   +0.j     0.   -0.j    -0.   +0.j    -0.   +0.j    -0.   -0.j    -0.823+0.568j -0.   +0.j     0.   -0.j    -0.   -0.j    -0.   +0.j    -0.   +0.j    -0.   +0.j    -0.   +0.j     0.   +0.j    -0.   +0.j     0.   -0.j    -0.   -0.j    -0.   +0.j     0.   +0.j     0.   +0.j    -0.   -0.j     0.   +0.j     0.   -0.j     0.   -0.j     0.   +0.j    -0.   -0.j    -0.   -0.j    -0.   +0.j    -0.   +0.j     0.   -0.j     0.   +0.j\n",
      "   0.   +0.j     0.   -0.j    -0.   +0.j    -0.   -0.j     0.   -0.j    -0.   +0.j     0.   -0.j    -0.   -0.j    -0.   +0.j    -0.   -0.j     0.   +0.j    -0.   +0.j    -0.   -0.j    -0.   -0.j     0.   -0.j     0.   +0.j    -0.   -0.j   ]\n",
      " [ 0.   +0.j    -0.   -0.j    -0.   +0.j    -0.   -0.j     0.   -0.j    -0.   -0.j     0.   +0.j    -0.   +0.j    -0.   -0.j    -0.   -0.j    -0.823-0.568j -0.   +0.j     0.   +0.j    -0.   -0.j    -0.   -0.j    -0.   -0.j    -0.   -0.j    -0.   -0.j     0.   -0.j    -0.   +0.j     0.   +0.j     0.   -0.j    -0.   -0.j    -0.   +0.j     0.   -0.j     0.   +0.j     0.   -0.j     0.   -0.j     0.   +0.j    -0.   +0.j    -0.   +0.j    -0.   -0.j    -0.   -0.j     0.   -0.j     0.   +0.j\n",
      "   0.   +0.j     0.   -0.j    -0.   +0.j    -0.   -0.j    -0.   -0.j     0.   +0.j    -0.   +0.j     0.   +0.j    -0.   -0.j     0.   -0.j    -0.   +0.j    -0.   +0.j    -0.   -0.j     0.   +0.j    -0.   +0.j    -0.   +0.j     0.   -0.j   ]\n",
      " [-0.   +0.j     0.   +0.j    -0.   -0.j    -0.   +0.j     0.   -0.j     0.   -0.j     0.   +0.j     0.   +0.j     0.   -0.j     0.   -0.j    -0.   +0.j    -0.749+0.663j  0.   -0.j    -0.   -0.j     0.   -0.j     0.   +0.j    -0.   -0.j    -0.   -0.j    -0.   +0.j     0.   +0.j     0.   -0.j     0.   -0.j    -0.   -0.j    -0.   +0.j     0.   -0.j     0.   -0.j     0.   -0.j    -0.   -0.j     0.   +0.j     0.   +0.j    -0.   +0.j     0.   -0.j     0.   +0.j     0.   +0.j     0.   -0.j\n",
      "   0.   +0.j    -0.   -0.j    -0.   -0.j    -0.   +0.j     0.   -0.j    -0.   -0.j    -0.   +0.j     0.   -0.j     0.   -0.j    -0.   +0.j     0.   -0.j    -0.   +0.j    -0.   +0.j    -0.   +0.j     0.   -0.j    -0.   +0.j     0.   +0.j   ]\n",
      " [-0.   -0.j    -0.   +0.j     0.   -0.j     0.   +0.j    -0.   -0.j     0.   -0.j     0.   +0.j     0.   +0.j     0.   -0.j    -0.   -0.j     0.   +0.j     0.   +0.j    -0.749-0.663j  0.   +0.j    -0.   +0.j    -0.   +0.j     0.   -0.j    -0.   -0.j    -0.   +0.j     0.   +0.j     0.   -0.j    -0.   +0.j     0.   +0.j     0.   +0.j    -0.   -0.j     0.   +0.j     0.   +0.j     0.   -0.j    -0.   +0.j    -0.   -0.j     0.   -0.j     0.   -0.j     0.   +0.j     0.   +0.j     0.   -0.j\n",
      "  -0.   +0.j     0.   -0.j    -0.   -0.j    -0.   +0.j    -0.   +0.j     0.   +0.j     0.   +0.j    -0.   -0.j     0.   +0.j     0.   +0.j    -0.   -0.j    -0.   -0.j    -0.   -0.j     0.   +0.j    -0.   -0.j     0.   -0.j    -0.   -0.j   ]\n",
      " [ 0.   -0.j     0.   -0.j    -0.   +0.j     0.   -0.j    -0.   -0.j    -0.   -0.j    -0.   -0.j     0.   +0.j    -0.   -0.j    -0.   +0.j    -0.   +0.j     0.   +0.j    -0.   -0.j    -0.663+0.749j  0.   +0.j    -0.   +0.j    -0.   -0.j     0.   -0.j     0.   +0.j     0.   +0.j    -0.   -0.j    -0.   +0.j    -0.   +0.j    -0.   -0.j    -0.   +0.j     0.   -0.j     0.   -0.j    -0.   -0.j    -0.   -0.j     0.   -0.j    -0.   -0.j    -0.   +0.j    -0.   -0.j    -0.   +0.j     0.   -0.j\n",
      "  -0.   +0.j     0.   +0.j     0.   +0.j     0.   +0.j     0.   +0.j     0.   +0.j     0.   +0.j    -0.   +0.j     0.   -0.j     0.   -0.j    -0.   +0.j     0.   -0.j    -0.   +0.j    -0.   -0.j    -0.   -0.j     0.   +0.j     0.   +0.j   ]\n",
      " [ 0.   +0.j    -0.   -0.j     0.   +0.j    -0.   +0.j     0.   +0.j    -0.   +0.j    -0.   +0.j    -0.   +0.j     0.   -0.j    -0.   -0.j    -0.   -0.j    -0.   +0.j     0.   -0.j     0.   -0.j    -0.663-0.749j -0.   +0.j    -0.   -0.j     0.   -0.j     0.   +0.j    -0.   +0.j     0.   -0.j    -0.   -0.j    -0.   -0.j    -0.   -0.j    -0.   +0.j     0.   +0.j     0.   +0.j    -0.   +0.j    -0.   +0.j    -0.   +0.j     0.   +0.j    -0.   +0.j    -0.   -0.j     0.   +0.j    -0.   -0.j\n",
      "   0.   -0.j    -0.   -0.j     0.   -0.j     0.   -0.j     0.   -0.j     0.   -0.j    -0.   -0.j     0.   -0.j     0.   +0.j    -0.   -0.j     0.   +0.j    -0.   -0.j     0.   +0.j    -0.   +0.j    -0.   +0.j     0.   -0.j     0.   -0.j   ]\n",
      " [-0.   -0.j     0.   -0.j     0.   +0.j     0.   +0.j    -0.   +0.j    -0.   +0.j    -0.   -0.j     0.   -0.j    -0.   +0.j     0.   +0.j    -0.   +0.j    -0.   -0.j    -0.   +0.j    -0.   +0.j    -0.   -0.j    -0.568+0.823j -0.   +0.j     0.   -0.j    -0.   +0.j     0.   +0.j     0.   -0.j     0.   +0.j     0.   -0.j    -0.   -0.j     0.   +0.j     0.   -0.j     0.   +0.j     0.   -0.j     0.   -0.j     0.   +0.j    -0.   -0.j    -0.   +0.j     0.   +0.j    -0.   -0.j    -0.   +0.j\n",
      "  -0.   -0.j     0.   +0.j    -0.   +0.j     0.   -0.j    -0.   -0.j    -0.   -0.j     0.   +0.j     0.   -0.j     0.   +0.j     0.   +0.j     0.   -0.j     0.   +0.j     0.   +0.j     0.   +0.j     0.   -0.j    -0.   +0.j     0.   -0.j   ]\n",
      " [-0.   +0.j     0.   -0.j     0.   +0.j    -0.   -0.j     0.   -0.j    -0.   +0.j    -0.   -0.j    -0.   -0.j     0.   +0.j    -0.   -0.j     0.   -0.j    -0.   -0.j    -0.   +0.j    -0.   +0.j    -0.   -0.j    -0.   -0.j    -0.568-0.823j -0.   -0.j     0.   +0.j     0.   +0.j     0.   -0.j     0.   +0.j     0.   -0.j     0.   -0.j    -0.   +0.j     0.   -0.j     0.   +0.j     0.   +0.j     0.   +0.j    -0.   +0.j     0.   -0.j     0.   -0.j    -0.   -0.j    -0.   -0.j    -0.   +0.j\n",
      "   0.   -0.j    -0.   +0.j     0.   +0.j    -0.   -0.j    -0.   +0.j    -0.   +0.j     0.   +0.j     0.   -0.j     0.   -0.j     0.   +0.j     0.   -0.j     0.   -0.j     0.   -0.j     0.   +0.j     0.   -0.j     0.   +0.j    -0.   -0.j   ]\n",
      " [-0.   +0.j    -0.   +0.j     0.   -0.j    -0.   +0.j    -0.   -0.j     0.   +0.j     0.   +0.j     0.   +0.j    -0.   +0.j    -0.   -0.j    -0.   -0.j     0.   +0.j    -0.   +0.j    -0.   -0.j     0.   -0.j    -0.   -0.j     0.   -0.j    -0.465+0.885j -0.   +0.j    -0.   +0.j    -0.   +0.j     0.   +0.j    -0.   -0.j     0.   +0.j    -0.   +0.j    -0.   +0.j    -0.   -0.j    -0.   +0.j    -0.   +0.j    -0.   -0.j     0.   +0.j     0.   -0.j     0.   +0.j     0.   -0.j     0.   -0.j\n",
      "   0.   -0.j     0.   -0.j    -0.   -0.j     0.   -0.j    -0.   +0.j     0.   -0.j    -0.   +0.j     0.   -0.j    -0.   -0.j    -0.   -0.j     0.   +0.j    -0.   -0.j    -0.   -0.j     0.   +0.j     0.   +0.j     0.   +0.j     0.   +0.j   ]\n",
      " [-0.   -0.j     0.   +0.j    -0.   -0.j    -0.   +0.j    -0.   -0.j     0.   -0.j     0.   -0.j    -0.   -0.j     0.   -0.j    -0.   +0.j    -0.   +0.j    -0.   -0.j     0.   -0.j     0.   +0.j    -0.   +0.j     0.   +0.j    -0.   +0.j    -0.   -0.j    -0.465-0.885j -0.   -0.j    -0.   -0.j    -0.   +0.j     0.   -0.j    -0.   -0.j     0.   -0.j    -0.   +0.j    -0.   -0.j    -0.   -0.j    -0.   -0.j     0.   -0.j    -0.   +0.j     0.   -0.j     0.   +0.j     0.   +0.j     0.   +0.j\n",
      "   0.   +0.j     0.   +0.j     0.   +0.j    -0.   +0.j     0.   +0.j    -0.   -0.j     0.   +0.j    -0.   -0.j    -0.   +0.j     0.   -0.j    -0.   +0.j    -0.   +0.j    -0.   +0.j     0.   -0.j     0.   -0.j     0.   -0.j     0.   -0.j   ]\n",
      " [ 0.   -0.j    -0.   +0.j     0.   +0.j     0.   +0.j    -0.   +0.j     0.   -0.j    -0.   +0.j     0.   -0.j    -0.   +0.j     0.   -0.j     0.   -0.j    -0.   -0.j    -0.   +0.j    -0.   +0.j    -0.   -0.j    -0.   -0.j     0.   -0.j     0.   +0.j     0.   +0.j    -0.355+0.935j -0.   +0.j     0.   -0.j    -0.   +0.j     0.   -0.j    -0.   -0.j    -0.   +0.j    -0.   +0.j    -0.   +0.j    -0.   +0.j    -0.   +0.j     0.   +0.j     0.   -0.j    -0.   +0.j     0.   +0.j     0.   +0.j\n",
      "   0.   +0.j     0.   -0.j     0.   +0.j    -0.   -0.j    -0.   +0.j    -0.   +0.j     0.   +0.j    -0.   +0.j    -0.   -0.j    -0.   +0.j     0.   +0.j    -0.   -0.j     0.   -0.j     0.   -0.j     0.   +0.j    -0.   +0.j    -0.   -0.j   ]\n",
      " [ 0.   +0.j     0.   -0.j    -0.   -0.j    -0.   -0.j     0.   -0.j    -0.   -0.j     0.   +0.j    -0.   -0.j     0.   +0.j     0.   +0.j     0.   +0.j    -0.   -0.j    -0.   +0.j    -0.   +0.j    -0.   -0.j     0.   +0.j    -0.   +0.j     0.   -0.j     0.   -0.j    -0.   -0.j    -0.355-0.935j -0.   -0.j     0.   +0.j    -0.   +0.j     0.   +0.j    -0.   -0.j    -0.   -0.j    -0.   -0.j    -0.   -0.j     0.   -0.j    -0.   -0.j    -0.   -0.j     0.   +0.j     0.   -0.j     0.   -0.j\n",
      "   0.   +0.j     0.   -0.j    -0.   +0.j     0.   -0.j    -0.   -0.j    -0.   -0.j    -0.   -0.j     0.   -0.j    -0.   +0.j     0.   -0.j    -0.   -0.j     0.   +0.j    -0.   +0.j     0.   -0.j     0.   +0.j    -0.   +0.j    -0.   -0.j   ]\n",
      " [ 0.   -0.j    -0.   +0.j     0.   -0.j     0.   -0.j    -0.   +0.j    -0.   -0.j     0.   +0.j    -0.   -0.j    -0.   +0.j    -0.   +0.j     0.   +0.j     0.   -0.j     0.   -0.j    -0.   +0.j     0.   +0.j    -0.   -0.j    -0.   +0.j    -0.   +0.j     0.   -0.j    -0.   -0.j     0.   -0.j    -0.239+0.971j -0.   -0.j     0.   -0.j    -0.   -0.j     0.   -0.j     0.   -0.j     0.   -0.j     0.   -0.j     0.   -0.j     0.   +0.j    -0.   +0.j     0.   +0.j     0.   +0.j    -0.   -0.j\n",
      "  -0.   +0.j     0.   -0.j    -0.   -0.j     0.   -0.j    -0.   +0.j    -0.   +0.j     0.   -0.j    -0.   +0.j     0.   +0.j    -0.   -0.j    -0.   -0.j    -0.   +0.j    -0.   +0.j    -0.   -0.j    -0.   +0.j    -0.   -0.j    -0.   +0.j   ]\n",
      " [ 0.   +0.j     0.   +0.j    -0.   -0.j    -0.   -0.j     0.   +0.j     0.   -0.j    -0.   +0.j    -0.   -0.j    -0.   +0.j     0.   -0.j    -0.   -0.j     0.   +0.j     0.   +0.j     0.   -0.j    -0.   -0.j    -0.   -0.j    -0.   +0.j     0.   +0.j    -0.   -0.j     0.   +0.j    -0.   +0.j    -0.   +0.j    -0.239-0.971j -0.   +0.j     0.   +0.j     0.   +0.j     0.   +0.j     0.   +0.j     0.   +0.j     0.   -0.j     0.   +0.j     0.   -0.j    -0.   -0.j    -0.   +0.j     0.   -0.j\n",
      "   0.   +0.j    -0.   -0.j     0.   +0.j    -0.   +0.j    -0.   -0.j    -0.   -0.j    -0.   -0.j     0.   +0.j     0.   -0.j    -0.   +0.j    -0.   +0.j    -0.   -0.j    -0.   -0.j    -0.   -0.j    -0.   +0.j    -0.   -0.j    -0.   +0.j   ]\n",
      " [ 0.   +0.j    -0.   -0.j    -0.   +0.j     0.   -0.j    -0.   +0.j    -0.   -0.j     0.   -0.j    -0.   -0.j    -0.   +0.j     0.   -0.j     0.   +0.j    -0.   +0.j    -0.   -0.j     0.   +0.j    -0.   -0.j     0.   -0.j    -0.   -0.j    -0.   -0.j     0.   -0.j     0.   -0.j     0.   -0.j    -0.   -0.j     0.   +0.j    -0.121+0.993j  0.   -0.j     0.   -0.j    -0.   +0.j    -0.   -0.j     0.   +0.j     0.   +0.j    -0.   +0.j     0.   +0.j    -0.   -0.j     0.   -0.j    -0.   +0.j\n",
      "  -0.   -0.j     0.   +0.j    -0.   +0.j    -0.   -0.j    -0.   +0.j    -0.   +0.j     0.   -0.j    -0.   +0.j    -0.   -0.j     0.   -0.j    -0.   -0.j     0.   +0.j    -0.   +0.j     0.   +0.j     0.   +0.j    -0.   +0.j     0.   -0.j   ]\n",
      " [ 0.   -0.j    -0.   -0.j    -0.   +0.j    -0.   -0.j     0.   +0.j     0.   +0.j    -0.   +0.j    -0.   -0.j    -0.   +0.j     0.   -0.j     0.   +0.j    -0.   +0.j    -0.   -0.j    -0.   +0.j     0.   -0.j    -0.   +0.j     0.   +0.j     0.   +0.j    -0.   +0.j     0.   +0.j     0.   +0.j     0.   -0.j    -0.   +0.j    -0.   +0.j    -0.121-0.993j -0.   -0.j     0.   +0.j     0.   +0.j    -0.   +0.j    -0.   -0.j     0.   -0.j    -0.   +0.j     0.   -0.j    -0.   -0.j     0.   +0.j\n",
      "   0.   -0.j    -0.   +0.j    -0.   +0.j    -0.   -0.j    -0.   -0.j    -0.   -0.j    -0.   -0.j     0.   +0.j    -0.   +0.j    -0.   +0.j     0.   +0.j    -0.   -0.j    -0.   -0.j     0.   -0.j     0.   -0.j     0.   +0.j    -0.   -0.j   ]\n",
      " [-0.   +0.j     0.   +0.j     0.   -0.j     0.   -0.j    -0.   +0.j    -0.   +0.j    -0.   -0.j     0.   +0.j     0.   -0.j     0.   +0.j     0.   +0.j    -0.   +0.j     0.   +0.j     0.   -0.j    -0.   -0.j    -0.   -0.j    -0.   -0.j     0.   +0.j     0.   +0.j    -0.   +0.j     0.   -0.j    -0.   -0.j    -0.   +0.j    -0.   -0.j     0.   -0.j     0.   +1.j    -0.   +0.j    -0.   +0.j     0.   +0.j    -0.   +0.j     0.   -0.j     0.   +0.j    -0.   -0.j    -0.   -0.j    -0.   -0.j\n",
      "  -0.   +0.j    -0.   -0.j    -0.   +0.j    -0.   +0.j    -0.   +0.j     0.   +0.j    -0.   +0.j     0.   +0.j    -0.   +0.j    -0.   -0.j     0.   -0.j     0.   -0.j     0.   +0.j     0.   +0.j    -0.   +0.j    -0.   +0.j    -0.   -0.j   ]\n",
      " [-0.   -0.j     0.   +0.j     0.   -0.j    -0.   -0.j     0.   +0.j    -0.   +0.j    -0.   -0.j     0.   +0.j     0.   -0.j     0.   -0.j     0.   -0.j     0.   -0.j    -0.   -0.j    -0.   +0.j     0.   +0.j    -0.   +0.j    -0.   +0.j     0.   -0.j     0.   -0.j     0.   +0.j    -0.   -0.j    -0.   -0.j    -0.   +0.j     0.   +0.j    -0.   +0.j    -0.   -0.j     0.   -1.j     0.   -0.j    -0.   -0.j     0.   +0.j    -0.   -0.j    -0.   +0.j     0.   -0.j    -0.   +0.j    -0.   +0.j\n",
      "  -0.   +0.j    -0.   -0.j    -0.   -0.j    -0.   -0.j     0.   -0.j    -0.   -0.j     0.   -0.j    -0.   -0.j    -0.   -0.j     0.   +0.j    -0.   +0.j     0.   -0.j     0.   -0.j    -0.   -0.j     0.   -0.j    -0.   +0.j    -0.   -0.j   ]\n",
      " [-0.   -0.j     0.   +0.j     0.   +0.j    -0.   +0.j     0.   +0.j     0.   +0.j    -0.   -0.j     0.   +0.j    -0.   -0.j     0.   -0.j    -0.   -0.j     0.   -0.j    -0.   +0.j     0.   -0.j     0.   -0.j     0.   -0.j    -0.   +0.j     0.   +0.j     0.   -0.j     0.   +0.j     0.   -0.j    -0.   -0.j     0.   +0.j     0.   -0.j    -0.   +0.j     0.   +0.j    -0.   -0.j     0.121+0.993j  0.   +0.j    -0.   +0.j    -0.   -0.j    -0.   -0.j     0.   -0.j    -0.   -0.j     0.   -0.j\n",
      "   0.   -0.j     0.   -0.j    -0.   +0.j     0.   +0.j     0.   -0.j     0.   +0.j    -0.   -0.j     0.   -0.j    -0.   +0.j    -0.   -0.j    -0.   -0.j    -0.   -0.j    -0.   +0.j     0.   +0.j     0.   +0.j    -0.   +0.j    -0.   +0.j   ]\n",
      " [-0.   +0.j     0.   -0.j     0.   -0.j     0.   -0.j    -0.   -0.j    -0.   +0.j     0.   -0.j    -0.   +0.j     0.   -0.j    -0.   +0.j     0.   +0.j    -0.   -0.j     0.   +0.j     0.   +0.j     0.   +0.j    -0.   -0.j     0.   +0.j     0.   +0.j     0.   -0.j     0.   +0.j     0.   -0.j     0.   -0.j    -0.   +0.j    -0.   -0.j     0.   +0.j    -0.   +0.j     0.   -0.j     0.   -0.j     0.121-0.993j -0.   +0.j    -0.   -0.j     0.   +0.j    -0.   +0.j     0.   +0.j    -0.   +0.j\n",
      "   0.   +0.j     0.   +0.j     0.   -0.j    -0.   -0.j     0.   -0.j     0.   +0.j     0.   +0.j    -0.   +0.j    -0.   -0.j    -0.   +0.j    -0.   +0.j    -0.   -0.j    -0.   +0.j     0.   -0.j     0.   -0.j    -0.   -0.j    -0.   -0.j   ]\n",
      " [ 0.   +0.j    -0.   +0.j     0.   -0.j     0.   -0.j     0.   +0.j    -0.   +0.j     0.   +0.j     0.   +0.j     0.   -0.j     0.   +0.j     0.   +0.j    -0.   -0.j     0.   -0.j     0.   +0.j     0.   +0.j    -0.   -0.j     0.   +0.j     0.   +0.j    -0.   +0.j     0.   +0.j    -0.   +0.j    -0.   -0.j    -0.   -0.j    -0.   -0.j     0.   -0.j     0.   +0.j    -0.   +0.j     0.   +0.j     0.   +0.j     0.239+0.971j  0.   +0.j     0.   +0.j     0.   -0.j    -0.   -0.j    -0.   +0.j\n",
      "  -0.   -0.j    -0.   -0.j     0.   +0.j     0.   +0.j     0.   +0.j    -0.   -0.j    -0.   -0.j     0.   +0.j    -0.   +0.j     0.   -0.j     0.   +0.j     0.   -0.j     0.   +0.j    -0.   -0.j     0.   +0.j     0.   +0.j     0.   -0.j   ]\n",
      " [ 0.   -0.j     0.   +0.j    -0.   -0.j     0.   -0.j     0.   +0.j     0.   -0.j    -0.   -0.j     0.   +0.j     0.   -0.j     0.   -0.j     0.   -0.j     0.   +0.j    -0.   +0.j     0.   -0.j     0.   -0.j     0.   -0.j    -0.   +0.j    -0.   +0.j     0.   -0.j    -0.   -0.j     0.   -0.j    -0.   +0.j    -0.   +0.j     0.   +0.j    -0.   +0.j    -0.   -0.j     0.   -0.j     0.   -0.j     0.   -0.j     0.   -0.j     0.239-0.971j  0.   +0.j     0.   -0.j    -0.   -0.j    -0.   +0.j\n",
      "  -0.   +0.j    -0.   +0.j     0.   -0.j     0.   -0.j    -0.   +0.j     0.   -0.j     0.   -0.j    -0.   +0.j    -0.   -0.j     0.   -0.j     0.   +0.j     0.   -0.j     0.   +0.j     0.   -0.j    -0.   +0.j     0.   +0.j     0.   -0.j   ]\n",
      " [ 0.   -0.j     0.   -0.j    -0.   -0.j    -0.   -0.j    -0.   +0.j    -0.   +0.j     0.   +0.j     0.   +0.j     0.   -0.j     0.   +0.j    -0.   -0.j     0.   -0.j    -0.   -0.j     0.   +0.j     0.   +0.j     0.   +0.j    -0.   +0.j    -0.   -0.j    -0.   -0.j    -0.   -0.j     0.   -0.j     0.   +0.j    -0.   +0.j    -0.   +0.j     0.   -0.j    -0.   +0.j     0.   +0.j     0.   -0.j     0.   +0.j    -0.   +0.j    -0.   -0.j     0.355+0.935j  0.   -0.j    -0.   -0.j    -0.   +0.j\n",
      "   0.   -0.j     0.   +0.j    -0.   -0.j    -0.   -0.j    -0.   +0.j    -0.   +0.j     0.   -0.j     0.   -0.j    -0.   -0.j    -0.   +0.j     0.   -0.j    -0.   +0.j     0.   +0.j     0.   +0.j    -0.   +0.j    -0.   +0.j     0.   +0.j   ]\n",
      " [ 0.   +0.j    -0.   +0.j     0.   +0.j    -0.   -0.j    -0.   +0.j     0.   -0.j    -0.   -0.j     0.   +0.j     0.   -0.j    -0.   +0.j     0.   -0.j    -0.   +0.j     0.   +0.j     0.   -0.j     0.   -0.j    -0.   -0.j     0.   -0.j    -0.   +0.j    -0.   +0.j     0.   +0.j    -0.   +0.j    -0.   -0.j     0.   -0.j     0.   +0.j    -0.   -0.j     0.   -0.j    -0.   -0.j     0.   -0.j     0.   +0.j    -0.   +0.j    -0.   -0.j     0.   +0.j     0.355-0.935j -0.   -0.j    -0.   +0.j\n",
      "   0.   -0.j     0.   +0.j    -0.   +0.j    -0.   +0.j    -0.   -0.j    -0.   -0.j     0.   +0.j     0.   +0.j    -0.   +0.j     0.   +0.j    -0.   -0.j     0.   -0.j    -0.   -0.j    -0.   -0.j     0.   -0.j     0.   -0.j    -0.   -0.j   ]\n",
      " [ 0.   +0.j    -0.   -0.j     0.   -0.j    -0.   -0.j     0.   +0.j     0.   -0.j    -0.   +0.j     0.   +0.j     0.   +0.j     0.   +0.j    -0.   -0.j    -0.   +0.j     0.   +0.j     0.   +0.j     0.   +0.j     0.   -0.j    -0.   -0.j    -0.   -0.j     0.   +0.j     0.   -0.j    -0.   -0.j    -0.   +0.j     0.   +0.j    -0.   +0.j     0.   -0.j    -0.   -0.j     0.   +0.j    -0.   -0.j    -0.   +0.j     0.   -0.j    -0.   -0.j    -0.   -0.j    -0.   -0.j     0.465+0.885j -0.   -0.j\n",
      "   0.   +0.j    -0.   +0.j     0.   -0.j     0.   +0.j     0.   -0.j    -0.   -0.j    -0.   +0.j     0.   +0.j     0.   -0.j    -0.   -0.j    -0.   -0.j    -0.   -0.j     0.   -0.j     0.   +0.j    -0.   -0.j    -0.   -0.j     0.   +0.j   ]\n",
      " [ 0.   -0.j     0.   +0.j    -0.   +0.j     0.   -0.j    -0.   +0.j    -0.   -0.j     0.   +0.j     0.   -0.j     0.   -0.j    -0.   +0.j     0.   -0.j     0.   -0.j    -0.   -0.j     0.   -0.j     0.   -0.j    -0.   +0.j     0.   +0.j     0.   -0.j    -0.   +0.j    -0.   +0.j     0.   +0.j     0.   +0.j    -0.   -0.j     0.   +0.j    -0.   -0.j     0.   -0.j    -0.   +0.j    -0.   -0.j    -0.   +0.j    -0.   +0.j     0.   +0.j    -0.   +0.j    -0.   +0.j    -0.   +0.j     0.465-0.885j\n",
      "  -0.   -0.j     0.   -0.j     0.   -0.j     0.   +0.j    -0.   +0.j     0.   +0.j     0.   -0.j    -0.   -0.j     0.   +0.j    -0.   +0.j    -0.   +0.j     0.   +0.j    -0.   +0.j    -0.   +0.j     0.   -0.j     0.   -0.j    -0.   +0.j   ]\n",
      " [ 0.   -0.j    -0.   +0.j    -0.   +0.j     0.   +0.j    -0.   -0.j     0.   +0.j    -0.   -0.j     0.   -0.j    -0.   +0.j     0.   +0.j     0.   -0.j    -0.   +0.j     0.   -0.j     0.   +0.j    -0.   +0.j     0.   -0.j    -0.   +0.j    -0.   -0.j     0.   +0.j    -0.   +0.j    -0.   -0.j     0.   -0.j    -0.   +0.j     0.   -0.j     0.   +0.j     0.   +0.j    -0.   -0.j    -0.   +0.j     0.   +0.j     0.   -0.j    -0.   -0.j    -0.   -0.j     0.   +0.j     0.   +0.j     0.   +0.j\n",
      "   0.568+0.823j  0.   -0.j     0.   +0.j    -0.   -0.j    -0.   +0.j    -0.   -0.j    -0.   -0.j     0.   +0.j    -0.   +0.j     0.   +0.j    -0.   +0.j     0.   -0.j     0.   +0.j    -0.   -0.j     0.   +0.j     0.   -0.j    -0.   -0.j   ]\n",
      " [ 0.   +0.j    -0.   +0.j    -0.   -0.j    -0.   +0.j     0.   -0.j    -0.   +0.j     0.   -0.j    -0.   -0.j     0.   +0.j     0.   +0.j     0.   -0.j     0.   +0.j    -0.   -0.j    -0.   -0.j     0.   -0.j    -0.   -0.j     0.   +0.j     0.   -0.j    -0.   +0.j    -0.   +0.j    -0.   -0.j    -0.   -0.j     0.   +0.j     0.   -0.j     0.   +0.j    -0.   +0.j     0.   -0.j     0.   -0.j    -0.   -0.j    -0.   +0.j     0.   +0.j     0.   -0.j    -0.   +0.j     0.   -0.j     0.   -0.j\n",
      "   0.   +0.j     0.568-0.823j -0.   +0.j     0.   -0.j    -0.   +0.j    -0.   -0.j     0.   -0.j    -0.   +0.j    -0.   -0.j    -0.   -0.j     0.   -0.j     0.   -0.j     0.   +0.j     0.   -0.j    -0.   +0.j    -0.   +0.j     0.   +0.j   ]\n",
      " [ 0.   +0.j    -0.   +0.j     0.   -0.j    -0.   -0.j    -0.   -0.j     0.   +0.j     0.   -0.j     0.   +0.j     0.   +0.j     0.   -0.j     0.   -0.j    -0.   +0.j    -0.   -0.j    -0.   +0.j    -0.   +0.j     0.   +0.j     0.   +0.j    -0.   -0.j     0.   +0.j    -0.   +0.j     0.   -0.j     0.   -0.j    -0.   +0.j     0.   -0.j     0.   +0.j     0.   +0.j    -0.   -0.j     0.   +0.j    -0.   -0.j     0.   +0.j     0.   -0.j     0.   -0.j    -0.   +0.j    -0.   -0.j    -0.   -0.j\n",
      "   0.   +0.j     0.   +0.j     0.663+0.749j  0.   -0.j     0.   +0.j     0.   +0.j     0.   -0.j    -0.   +0.j     0.   +0.j     0.   -0.j     0.   +0.j     0.   -0.j     0.   -0.j     0.   -0.j     0.   -0.j     0.   +0.j     0.   -0.j   ]\n",
      " [ 0.   -0.j     0.   +0.j    -0.   -0.j    -0.   +0.j    -0.   +0.j     0.   +0.j     0.   -0.j     0.   -0.j     0.   -0.j     0.   +0.j     0.   +0.j    -0.   +0.j    -0.   -0.j    -0.   -0.j    -0.   -0.j     0.   -0.j     0.   -0.j     0.   -0.j    -0.   +0.j     0.   +0.j    -0.   -0.j    -0.   -0.j     0.   +0.j     0.   -0.j     0.   +0.j    -0.   +0.j     0.   -0.j    -0.   +0.j     0.   -0.j     0.   +0.j     0.   -0.j    -0.   -0.j     0.   +0.j    -0.   +0.j    -0.   +0.j\n",
      "   0.   -0.j     0.   -0.j     0.   +0.j     0.663-0.749j  0.   -0.j     0.   -0.j    -0.   -0.j     0.   +0.j     0.   -0.j     0.   -0.j     0.   +0.j     0.   +0.j     0.   +0.j     0.   +0.j     0.   +0.j     0.   +0.j     0.   -0.j   ]\n",
      " [ 0.   -0.j    -0.   -0.j    -0.   +0.j    -0.   +0.j    -0.   -0.j     0.   +0.j     0.   +0.j     0.   +0.j    -0.   -0.j    -0.   -0.j    -0.   +0.j    -0.   +0.j     0.   -0.j    -0.   +0.j    -0.   +0.j    -0.   -0.j     0.   -0.j     0.   +0.j     0.   +0.j     0.   +0.j     0.   +0.j     0.   +0.j    -0.   -0.j     0.   +0.j     0.   -0.j    -0.   +0.j    -0.   -0.j    -0.   -0.j    -0.   +0.j    -0.   +0.j     0.   -0.j     0.   -0.j     0.   +0.j    -0.   +0.j    -0.   +0.j\n",
      "   0.   +0.j     0.   -0.j     0.   +0.j     0.   -0.j     0.749+0.663j  0.   -0.j     0.   -0.j    -0.   -0.j    -0.   +0.j     0.   +0.j     0.   -0.j     0.   -0.j     0.   -0.j     0.   -0.j     0.   +0.j     0.   +0.j    -0.   -0.j   ]\n",
      " [ 0.   +0.j    -0.   -0.j    -0.   +0.j    -0.   +0.j    -0.   -0.j     0.   -0.j     0.   -0.j    -0.   +0.j     0.   -0.j    -0.   -0.j    -0.   +0.j     0.   +0.j    -0.   -0.j    -0.   -0.j    -0.   -0.j     0.   +0.j    -0.   +0.j     0.   -0.j     0.   -0.j     0.   -0.j     0.   -0.j    -0.   +0.j     0.   -0.j     0.   +0.j     0.   -0.j    -0.   +0.j    -0.   -0.j    -0.   -0.j    -0.   +0.j     0.   +0.j    -0.   -0.j     0.   -0.j     0.   +0.j    -0.   -0.j    -0.   -0.j\n",
      "   0.   +0.j     0.   -0.j     0.   +0.j     0.   -0.j     0.   +0.j     0.749-0.663j -0.   +0.j     0.   +0.j    -0.   -0.j     0.   +0.j     0.   -0.j     0.   +0.j     0.   +0.j     0.   -0.j     0.   +0.j    -0.   +0.j     0.   -0.j   ]\n",
      " [ 0.   +0.j     0.   -0.j    -0.   -0.j     0.   +0.j     0.   +0.j    -0.   +0.j    -0.   +0.j     0.   -0.j    -0.   +0.j    -0.   +0.j     0.   -0.j     0.   -0.j     0.   +0.j    -0.   +0.j    -0.   -0.j    -0.   +0.j     0.   +0.j     0.   +0.j    -0.   +0.j    -0.   -0.j     0.   -0.j    -0.   -0.j    -0.   -0.j    -0.   +0.j    -0.   -0.j     0.   +0.j     0.   -0.j    -0.   -0.j     0.   +0.j    -0.   -0.j     0.   +0.j    -0.   +0.j     0.   -0.j     0.   -0.j    -0.   +0.j\n",
      "  -0.   -0.j    -0.   -0.j     0.   +0.j    -0.   +0.j     0.   +0.j    -0.   -0.j     0.823+0.568j  0.   -0.j     0.   -0.j    -0.   -0.j     0.   -0.j     0.   +0.j    -0.   -0.j     0.   +0.j    -0.   -0.j    -0.   +0.j     0.   +0.j   ]\n",
      " [ 0.   -0.j    -0.   +0.j     0.   +0.j     0.   -0.j     0.   -0.j    -0.   -0.j    -0.   -0.j    -0.   -0.j     0.   +0.j     0.   +0.j    -0.   -0.j     0.   -0.j     0.   +0.j    -0.   +0.j    -0.   -0.j     0.   -0.j    -0.   -0.j    -0.   -0.j     0.   -0.j     0.   +0.j    -0.   +0.j    -0.   +0.j    -0.   +0.j    -0.   +0.j    -0.   -0.j     0.   +0.j     0.   -0.j     0.   -0.j    -0.   +0.j     0.   -0.j    -0.   +0.j     0.   +0.j    -0.   -0.j    -0.   -0.j     0.   +0.j\n",
      "  -0.   +0.j    -0.   +0.j    -0.   -0.j     0.   -0.j    -0.   +0.j     0.   -0.j     0.   +0.j     0.823-0.568j  0.   +0.j     0.   +0.j    -0.   +0.j    -0.   +0.j     0.   -0.j    -0.   +0.j     0.   -0.j     0.   -0.j    -0.   -0.j   ]\n",
      " [-0.   +0.j     0.   -0.j     0.   +0.j     0.   -0.j     0.   +0.j     0.   +0.j     0.   -0.j     0.   +0.j     0.   -0.j    -0.   -0.j    -0.   +0.j    -0.   +0.j    -0.   -0.j     0.   +0.j     0.   -0.j     0.   -0.j     0.   +0.j    -0.   -0.j    -0.   +0.j    -0.   +0.j    -0.   +0.j    -0.   -0.j    -0.   +0.j    -0.   -0.j    -0.   +0.j     0.   -0.j     0.   +0.j    -0.   +0.j    -0.   -0.j    -0.   +0.j    -0.   -0.j     0.   -0.j     0.   +0.j    -0.   +0.j    -0.   -0.j\n",
      "   0.   -0.j     0.   +0.j     0.   +0.j     0.   -0.j    -0.   -0.j    -0.   +0.j     0.   +0.j     0.   -0.j     1.   +0.j    -0.   -0.j    -0.   +0.j    -0.   +0.j    -0.   -0.j    -0.   +0.j    -0.   -0.j     0.   -0.j     0.   +0.j   ]\n",
      " [ 0.   +0.j    -0.   +0.j    -0.   -0.j     0.   +0.j     0.   +0.j    -0.   -0.j     0.   +0.j     0.   -0.j    -0.   +0.j     0.   +0.j    -0.   +0.j    -0.   -0.j     0.   +0.j     0.   -0.j    -0.   -0.j    -0.   -0.j     0.   +0.j    -0.   +0.j    -0.   +0.j    -0.   -0.j    -0.   +0.j     0.   +0.j     0.   +0.j    -0.   +0.j     0.   -0.j     0.   -0.j     0.   +0.j     0.   -0.j    -0.   -0.j    -0.   +0.j     0.   -0.j    -0.   -0.j     0.   -0.j    -0.   -0.j    -0.   +0.j\n",
      "   0.   +0.j     0.   +0.j     0.   +0.j     0.   +0.j     0.   -0.j     0.   -0.j    -0.   +0.j     0.   -0.j    -0.   -0.j     0.993+0.121j  0.   -0.j     0.   +0.j     0.   +0.j     0.   -0.j     0.   -0.j    -0.   +0.j    -0.   +0.j   ]\n",
      " [ 0.   -0.j    -0.   +0.j    -0.   -0.j     0.   -0.j     0.   -0.j     0.   -0.j    -0.   +0.j    -0.   -0.j     0.   +0.j    -0.   -0.j     0.   -0.j     0.   -0.j    -0.   +0.j    -0.   +0.j     0.   +0.j     0.   -0.j    -0.   +0.j    -0.   -0.j    -0.   -0.j    -0.   -0.j    -0.   +0.j     0.   -0.j     0.   -0.j     0.   +0.j    -0.   -0.j     0.   -0.j     0.   +0.j    -0.   +0.j     0.   +0.j     0.   +0.j    -0.   -0.j     0.   +0.j    -0.   +0.j    -0.   -0.j    -0.   +0.j\n",
      "   0.   -0.j     0.   -0.j     0.   -0.j     0.   -0.j     0.   +0.j     0.   +0.j     0.   +0.j    -0.   -0.j    -0.   +0.j     0.   +0.j     0.993-0.121j  0.   -0.j     0.   -0.j     0.   +0.j     0.   +0.j    -0.   -0.j    -0.   -0.j   ]\n",
      " [ 0.   +0.j    -0.   -0.j    -0.   +0.j     0.   -0.j     0.   +0.j     0.   +0.j    -0.   -0.j     0.   +0.j     0.   -0.j     0.   -0.j     0.   -0.j    -0.   +0.j    -0.   -0.j     0.   +0.j    -0.   -0.j    -0.   -0.j    -0.   +0.j    -0.   +0.j     0.   -0.j    -0.   -0.j     0.   -0.j     0.   -0.j    -0.   -0.j     0.   +0.j    -0.   -0.j     0.   -0.j     0.   +0.j     0.   -0.j     0.   +0.j    -0.   +0.j     0.   +0.j     0.   -0.j    -0.   +0.j    -0.   -0.j    -0.   -0.j\n",
      "   0.   +0.j     0.   -0.j    -0.   +0.j     0.   -0.j    -0.   +0.j     0.   -0.j     0.   +0.j    -0.   +0.j    -0.   -0.j     0.   -0.j     0.   +0.j     0.971+0.239j  0.   -0.j     0.   +0.j     0.   -0.j     0.   +0.j     0.   +0.j   ]\n",
      " [ 0.   -0.j    -0.   -0.j    -0.   +0.j     0.   -0.j     0.   +0.j    -0.   +0.j     0.   -0.j     0.   +0.j     0.   -0.j     0.   +0.j     0.   +0.j    -0.   +0.j    -0.   -0.j    -0.   +0.j     0.   -0.j    -0.   -0.j    -0.   +0.j     0.   +0.j    -0.   -0.j     0.   +0.j    -0.   +0.j    -0.   +0.j     0.   +0.j    -0.   +0.j     0.   -0.j     0.   -0.j     0.   +0.j     0.   -0.j     0.   +0.j     0.   -0.j    -0.   -0.j    -0.   -0.j     0.   +0.j    -0.   +0.j    -0.   +0.j\n",
      "   0.   +0.j     0.   -0.j     0.   +0.j    -0.   -0.j     0.   +0.j    -0.   -0.j    -0.   -0.j     0.   -0.j    -0.   +0.j     0.   -0.j     0.   +0.j     0.   +0.j     0.971-0.239j  0.   +0.j     0.   -0.j     0.   -0.j     0.   -0.j   ]\n",
      " [ 0.   +0.j     0.   -0.j     0.   -0.j     0.   +0.j    -0.   +0.j    -0.   -0.j    -0.   -0.j     0.   +0.j    -0.   +0.j    -0.   -0.j     0.   -0.j    -0.   -0.j     0.   -0.j     0.   -0.j     0.   -0.j     0.   +0.j     0.   +0.j    -0.   +0.j     0.   +0.j    -0.   +0.j    -0.   +0.j     0.   +0.j     0.   +0.j     0.   -0.j    -0.   +0.j    -0.   -0.j    -0.   +0.j    -0.   +0.j    -0.   -0.j    -0.   +0.j     0.   +0.j     0.   +0.j    -0.   -0.j     0.   +0.j     0.   -0.j\n",
      "  -0.   -0.j     0.   -0.j    -0.   +0.j    -0.   -0.j     0.   +0.j     0.   +0.j     0.   -0.j    -0.   -0.j    -0.   -0.j     0.   +0.j     0.   +0.j     0.   -0.j     0.   -0.j     0.935+0.355j  0.   -0.j    -0.   +0.j     0.   +0.j   ]\n",
      " [ 0.   -0.j     0.   +0.j     0.   +0.j    -0.   -0.j     0.   -0.j    -0.   +0.j    -0.   +0.j    -0.   -0.j     0.   -0.j     0.   +0.j    -0.   +0.j     0.   +0.j    -0.   +0.j     0.   +0.j     0.   +0.j     0.   -0.j     0.   -0.j     0.   -0.j    -0.   -0.j    -0.   -0.j    -0.   -0.j     0.   -0.j     0.   -0.j    -0.   -0.j     0.   +0.j    -0.   -0.j    -0.   +0.j    -0.   +0.j    -0.   -0.j     0.   -0.j    -0.   -0.j    -0.   +0.j     0.   -0.j     0.   +0.j     0.   -0.j\n",
      "   0.   +0.j    -0.   +0.j    -0.   +0.j    -0.   -0.j     0.   -0.j     0.   -0.j    -0.   +0.j     0.   +0.j    -0.   +0.j     0.   -0.j     0.   -0.j     0.   +0.j     0.   +0.j     0.   +0.j     0.935-0.355j  0.   -0.j    -0.   -0.j   ]\n",
      " [ 0.   +0.j     0.   -0.j    -0.   +0.j    -0.   +0.j     0.   -0.j    -0.   +0.j     0.   -0.j    -0.   +0.j    -0.   +0.j     0.   -0.j    -0.   -0.j    -0.   -0.j     0.   +0.j     0.   -0.j    -0.   +0.j     0.   +0.j     0.   -0.j     0.   +0.j    -0.   +0.j    -0.   -0.j     0.   -0.j     0.   +0.j    -0.   -0.j     0.   +0.j    -0.   +0.j     0.   +0.j     0.   +0.j    -0.   -0.j    -0.   -0.j     0.   +0.j     0.   -0.j    -0.   -0.j    -0.   +0.j    -0.   -0.j    -0.   +0.j\n",
      "  -0.   +0.j    -0.   -0.j     0.   +0.j    -0.   -0.j     0.   -0.j     0.   -0.j     0.   -0.j     0.   -0.j     0.   +0.j    -0.   -0.j    -0.   -0.j     0.   -0.j     0.   +0.j     0.   -0.j     0.   +0.j     0.885+0.465j  0.   +0.j   ]\n",
      " [ 0.   -0.j    -0.   -0.j     0.   +0.j     0.   +0.j    -0.   -0.j     0.   +0.j    -0.   -0.j    -0.   -0.j    -0.   -0.j    -0.   +0.j     0.   +0.j     0.   -0.j    -0.   +0.j    -0.   -0.j     0.   +0.j     0.   +0.j     0.   -0.j    -0.   -0.j     0.   -0.j     0.   +0.j    -0.   +0.j    -0.   +0.j     0.   -0.j    -0.   -0.j     0.   -0.j     0.   -0.j     0.   -0.j    -0.   +0.j    -0.   +0.j     0.   +0.j     0.   -0.j    -0.   -0.j    -0.   +0.j    -0.   -0.j    -0.   +0.j\n",
      "  -0.   +0.j    -0.   -0.j    -0.   +0.j     0.   -0.j     0.   +0.j     0.   +0.j     0.   +0.j     0.   +0.j     0.   -0.j    -0.   +0.j    -0.   +0.j     0.   -0.j     0.   +0.j     0.   -0.j     0.   +0.j     0.   -0.j     0.885-0.465j]]\n"
     ]
    }
   ],
   "source": [
    "print(type(maybe_diagonal_matrix))\n",
    "print(maybe_diagonal_matrix.shape)\n",
    "print(maybe_diagonal_matrix)"
   ]
  },
  {
   "cell_type": "code",
   "execution_count": 44,
   "metadata": {},
   "outputs": [
    {
     "name": "stdout",
     "output_type": "stream",
     "text": [
      "<class 'numpy.ndarray'>\n",
      "(52,)\n",
      "[-1.   +0.j    -0.993+0.121j -0.993-0.121j -0.971+0.239j -0.971-0.239j -0.935+0.355j -0.935-0.355j -0.885+0.465j -0.885-0.465j -0.823+0.568j -0.823-0.568j -0.749+0.663j -0.749-0.663j -0.663+0.749j -0.663-0.749j -0.568+0.823j -0.568-0.823j -0.465+0.885j -0.465-0.885j -0.355+0.935j -0.355-0.935j -0.239+0.971j -0.239-0.971j -0.121+0.993j -0.121-0.993j  0.   +1.j     0.   -1.j     0.121+0.993j  0.121-0.993j  0.239+0.971j  0.239-0.971j  0.355+0.935j  0.355-0.935j  0.465+0.885j  0.465-0.885j\n",
      "  0.568+0.823j  0.568-0.823j  0.663+0.749j  0.663-0.749j  0.749+0.663j  0.749-0.663j  0.823+0.568j  0.823-0.568j  1.   +0.j     0.993+0.121j  0.993-0.121j  0.971+0.239j  0.971-0.239j  0.935+0.355j  0.935-0.355j  0.885+0.465j  0.885-0.465j]\n"
     ]
    }
   ],
   "source": [
    "diagonal_of_maybe_diagonal_matrix = np.diag(maybe_diagonal_matrix)\n",
    "print(type(diagonal_of_maybe_diagonal_matrix))\n",
    "print(diagonal_of_maybe_diagonal_matrix.shape)\n",
    "print(diagonal_of_maybe_diagonal_matrix)"
   ]
  },
  {
   "cell_type": "code",
   "execution_count": 37,
   "metadata": {},
   "outputs": [],
   "source": [
    "u, s, vh = np.linalg.svd(shuffling_permutation_matrix)"
   ]
  },
  {
   "cell_type": "code",
   "execution_count": 38,
   "metadata": {},
   "outputs": [
    {
     "name": "stdout",
     "output_type": "stream",
     "text": [
      "<class 'numpy.matrix'>\n",
      "(52, 52)\n",
      "[[ 0. -1.  0.  0.  0.  0.  0.  0.  0.  0.  0.  0.  0.  0.  0.  0.  0.  0.  0.  0.  0.  0.  0.  0.  0.  0.  0.  0.  0.  0.  0.  0.  0.  0.  0.  0.  0.  0.  0.  0.  0.  0.  0.  0.  0.  0.  0.  0.  0.  0.  0.  0.]\n",
      " [ 0.  0.  0. -1.  0.  0.  0.  0.  0.  0.  0.  0.  0.  0.  0.  0.  0.  0.  0.  0.  0.  0.  0.  0.  0.  0.  0.  0.  0.  0.  0.  0.  0.  0.  0.  0.  0.  0.  0.  0.  0.  0.  0.  0.  0.  0.  0.  0.  0.  0.  0.  0.]\n",
      " [ 0.  0.  0.  0.  0. -1.  0.  0.  0.  0.  0.  0.  0.  0.  0.  0.  0.  0.  0.  0.  0.  0.  0.  0.  0.  0.  0.  0.  0.  0.  0.  0.  0.  0.  0.  0.  0.  0.  0.  0.  0.  0.  0.  0.  0.  0.  0.  0.  0.  0.  0.  0.]\n",
      " [ 0.  0.  0.  0.  0.  0.  0. -1.  0.  0.  0.  0.  0.  0.  0.  0.  0.  0.  0.  0.  0.  0.  0.  0.  0.  0.  0.  0.  0.  0.  0.  0.  0.  0.  0.  0.  0.  0.  0.  0.  0.  0.  0.  0.  0.  0.  0.  0.  0.  0.  0.  0.]\n",
      " [ 0.  0.  0.  0.  0.  0.  0.  0.  0. -1.  0.  0.  0.  0.  0.  0.  0.  0.  0.  0.  0.  0.  0.  0.  0.  0.  0.  0.  0.  0.  0.  0.  0.  0.  0.  0.  0.  0.  0.  0.  0.  0.  0.  0.  0.  0.  0.  0.  0.  0.  0.  0.]\n",
      " [ 0.  0.  0.  0.  0.  0.  0.  0.  0.  0.  0. -1.  0.  0.  0.  0.  0.  0.  0.  0.  0.  0.  0.  0.  0.  0.  0.  0.  0.  0.  0.  0.  0.  0.  0.  0.  0.  0.  0.  0.  0.  0.  0.  0.  0.  0.  0.  0.  0.  0.  0.  0.]\n",
      " [ 0.  0.  0.  0.  0.  0.  0.  0.  0.  0.  0.  0.  0. -1.  0.  0.  0.  0.  0.  0.  0.  0.  0.  0.  0.  0.  0.  0.  0.  0.  0.  0.  0.  0.  0.  0.  0.  0.  0.  0.  0.  0.  0.  0.  0.  0.  0.  0.  0.  0.  0.  0.]\n",
      " [ 0.  0.  0.  0.  0.  0.  0.  0.  0.  0.  0.  0.  0.  0.  0. -1.  0.  0.  0.  0.  0.  0.  0.  0.  0.  0.  0.  0.  0.  0.  0.  0.  0.  0.  0.  0.  0.  0.  0.  0.  0.  0.  0.  0.  0.  0.  0.  0.  0.  0.  0.  0.]\n",
      " [ 0.  0.  0.  0.  0.  0.  0.  0.  0.  0.  0.  0.  0.  0.  0.  0.  0. -1.  0.  0.  0.  0.  0.  0.  0.  0.  0.  0.  0.  0.  0.  0.  0.  0.  0.  0.  0.  0.  0.  0.  0.  0.  0.  0.  0.  0.  0.  0.  0.  0.  0.  0.]\n",
      " [ 0.  0.  0.  0.  0.  0.  0.  0.  0.  0.  0.  0.  0.  0.  0.  0.  0.  0.  0. -1.  0.  0.  0.  0.  0.  0.  0.  0.  0.  0.  0.  0.  0.  0.  0.  0.  0.  0.  0.  0.  0.  0.  0.  0.  0.  0.  0.  0.  0.  0.  0.  0.]\n",
      " [ 0.  0.  0.  0.  0.  0.  0.  0.  0.  0.  0.  0.  0.  0.  0.  0.  0.  0.  0.  0.  0. -1.  0.  0.  0.  0.  0.  0.  0.  0.  0.  0.  0.  0.  0.  0.  0.  0.  0.  0.  0.  0.  0.  0.  0.  0.  0.  0.  0.  0.  0.  0.]\n",
      " [ 0.  0.  0.  0.  0.  0.  0.  0.  0.  0.  0.  0.  0.  0.  0.  0.  0.  0.  0.  0.  0.  0.  0. -1.  0.  0.  0.  0.  0.  0.  0.  0.  0.  0.  0.  0.  0.  0.  0.  0.  0.  0.  0.  0.  0.  0.  0.  0.  0.  0.  0.  0.]\n",
      " [ 0.  0.  0.  0.  0.  0.  0.  0.  0.  0.  0.  0.  0.  0.  0.  0.  0.  0.  0.  0.  0.  0.  0.  0.  0. -1.  0.  0.  0.  0.  0.  0.  0.  0.  0.  0.  0.  0.  0.  0.  0.  0.  0.  0.  0.  0.  0.  0.  0.  0.  0.  0.]\n",
      " [ 0.  0.  0.  0.  0.  0.  0.  0.  0.  0.  0.  0.  0.  0.  0.  0.  0.  0.  0.  0.  0.  0.  0.  0.  0.  0.  0. -1.  0.  0.  0.  0.  0.  0.  0.  0.  0.  0.  0.  0.  0.  0.  0.  0.  0.  0.  0.  0.  0.  0.  0.  0.]\n",
      " [ 0.  0.  0.  0.  0.  0.  0.  0.  0.  0.  0.  0.  0.  0.  0.  0.  0.  0.  0.  0.  0.  0.  0.  0.  0.  0.  0.  0.  0. -1.  0.  0.  0.  0.  0.  0.  0.  0.  0.  0.  0.  0.  0.  0.  0.  0.  0.  0.  0.  0.  0.  0.]\n",
      " [ 0.  0.  0.  0.  0.  0.  0.  0.  0.  0.  0.  0.  0.  0.  0.  0.  0.  0.  0.  0.  0.  0.  0.  0.  0.  0.  0.  0.  0.  0.  0. -1.  0.  0.  0.  0.  0.  0.  0.  0.  0.  0.  0.  0.  0.  0.  0.  0.  0.  0.  0.  0.]\n",
      " [ 0.  0.  0.  0.  0.  0.  0.  0.  0.  0.  0.  0.  0.  0.  0.  0.  0.  0.  0.  0.  0.  0.  0.  0.  0.  0.  0.  0.  0.  0.  0.  0.  0. -1.  0.  0.  0.  0.  0.  0.  0.  0.  0.  0.  0.  0.  0.  0.  0.  0.  0.  0.]\n",
      " [ 0.  0.  0.  0.  0.  0.  0.  0.  0.  0.  0.  0.  0.  0.  0.  0.  0.  0.  0.  0.  0.  0.  0.  0.  0.  0.  0.  0.  0.  0.  0.  0.  0.  0.  0. -1.  0.  0.  0.  0.  0.  0.  0.  0.  0.  0.  0.  0.  0.  0.  0.  0.]\n",
      " [ 0.  0.  0.  0.  0.  0.  0.  0.  0.  0.  0.  0.  0.  0.  0.  0.  0.  0.  0.  0.  0.  0.  0.  0.  0.  0.  0.  0.  0.  0.  0.  0.  0.  0.  0.  0.  0. -1.  0.  0.  0.  0.  0.  0.  0.  0.  0.  0.  0.  0.  0.  0.]\n",
      " [ 0.  0.  0.  0.  0.  0.  0.  0.  0.  0.  0.  0.  0.  0.  0.  0.  0.  0.  0.  0.  0.  0.  0.  0.  0.  0.  0.  0.  0.  0.  0.  0.  0.  0.  0.  0.  0.  0.  0. -1.  0.  0.  0.  0.  0.  0.  0.  0.  0.  0.  0.  0.]\n",
      " [ 0.  0.  0.  0.  0.  0.  0.  0.  0.  0.  0.  0.  0.  0.  0.  0.  0.  0.  0.  0.  0.  0.  0.  0.  0.  0.  0.  0.  0.  0.  0.  0.  0.  0.  0.  0.  0.  0.  0.  0.  0. -1.  0.  0.  0.  0.  0.  0.  0.  0.  0.  0.]\n",
      " [ 0.  0.  0.  0.  0.  0.  0.  0.  0.  0.  0.  0.  0.  0.  0.  0.  0.  0.  0.  0.  0.  0.  0.  0.  0.  0.  0.  0.  0.  0.  0.  0.  0.  0.  0.  0.  0.  0.  0.  0.  0.  0.  0. -1.  0.  0.  0.  0.  0.  0.  0.  0.]\n",
      " [ 0.  0.  0.  0.  0.  0.  0.  0.  0.  0.  0.  0.  0.  0.  0.  0.  0.  0.  0.  0.  0.  0.  0.  0.  0.  0.  0.  0.  0.  0.  0.  0.  0.  0.  0.  0.  0.  0.  0.  0.  0.  0.  0.  0.  0. -1.  0.  0.  0.  0.  0.  0.]\n",
      " [ 0.  0.  0.  0.  0.  0.  0.  0.  0.  0.  0.  0.  0.  0.  0.  0.  0.  0.  0.  0.  0.  0.  0.  0.  0.  0.  0.  0.  0.  0.  0.  0.  0.  0.  0.  0.  0.  0.  0.  0.  0.  0.  0.  0.  0.  0.  0. -1.  0.  0.  0.  0.]\n",
      " [ 0.  0.  0.  0.  0.  0.  0.  0.  0.  0.  0.  0.  0.  0.  0.  0.  0.  0.  0.  0.  0.  0.  0.  0.  0.  0.  0.  0.  0.  0.  0.  0.  0.  0.  0.  0.  0.  0.  0.  0.  0.  0.  0.  0.  0.  0.  0.  0.  0. -1.  0.  0.]\n",
      " [ 0.  0.  0.  0.  0.  0.  0.  0.  0.  0.  0.  0.  0.  0.  0.  0.  0.  0.  0.  0.  0.  0.  0.  0.  0.  0.  0.  0.  0.  0.  0.  0.  0.  0.  0.  0.  0.  0.  0.  0.  0.  0.  0.  0.  0.  0.  0.  0.  0.  0.  0.  1.]\n",
      " [-1.  0.  0.  0.  0.  0.  0.  0.  0.  0.  0.  0.  0.  0.  0.  0.  0.  0.  0.  0.  0.  0.  0.  0.  0.  0.  0.  0.  0.  0.  0.  0.  0.  0.  0.  0.  0.  0.  0.  0.  0.  0.  0.  0.  0.  0.  0.  0.  0.  0.  0.  0.]\n",
      " [ 0.  0. -1.  0.  0.  0.  0.  0.  0.  0.  0.  0.  0.  0.  0.  0.  0.  0.  0.  0.  0.  0.  0.  0.  0.  0.  0.  0.  0.  0.  0.  0.  0.  0.  0.  0.  0.  0.  0.  0.  0.  0.  0.  0.  0.  0.  0.  0.  0.  0.  0.  0.]\n",
      " [ 0.  0.  0.  0. -1.  0.  0.  0.  0.  0.  0.  0.  0.  0.  0.  0.  0.  0.  0.  0.  0.  0.  0.  0.  0.  0.  0.  0.  0.  0.  0.  0.  0.  0.  0.  0.  0.  0.  0.  0.  0.  0.  0.  0.  0.  0.  0.  0.  0.  0.  0.  0.]\n",
      " [ 0.  0.  0.  0.  0.  0. -1.  0.  0.  0.  0.  0.  0.  0.  0.  0.  0.  0.  0.  0.  0.  0.  0.  0.  0.  0.  0.  0.  0.  0.  0.  0.  0.  0.  0.  0.  0.  0.  0.  0.  0.  0.  0.  0.  0.  0.  0.  0.  0.  0.  0.  0.]\n",
      " [ 0.  0.  0.  0.  0.  0.  0.  0. -1.  0.  0.  0.  0.  0.  0.  0.  0.  0.  0.  0.  0.  0.  0.  0.  0.  0.  0.  0.  0.  0.  0.  0.  0.  0.  0.  0.  0.  0.  0.  0.  0.  0.  0.  0.  0.  0.  0.  0.  0.  0.  0.  0.]\n",
      " [ 0.  0.  0.  0.  0.  0.  0.  0.  0.  0. -1.  0.  0.  0.  0.  0.  0.  0.  0.  0.  0.  0.  0.  0.  0.  0.  0.  0.  0.  0.  0.  0.  0.  0.  0.  0.  0.  0.  0.  0.  0.  0.  0.  0.  0.  0.  0.  0.  0.  0.  0.  0.]\n",
      " [ 0.  0.  0.  0.  0.  0.  0.  0.  0.  0.  0.  0. -1.  0.  0.  0.  0.  0.  0.  0.  0.  0.  0.  0.  0.  0.  0.  0.  0.  0.  0.  0.  0.  0.  0.  0.  0.  0.  0.  0.  0.  0.  0.  0.  0.  0.  0.  0.  0.  0.  0.  0.]\n",
      " [ 0.  0.  0.  0.  0.  0.  0.  0.  0.  0.  0.  0.  0.  0. -1.  0.  0.  0.  0.  0.  0.  0.  0.  0.  0.  0.  0.  0.  0.  0.  0.  0.  0.  0.  0.  0.  0.  0.  0.  0.  0.  0.  0.  0.  0.  0.  0.  0.  0.  0.  0.  0.]\n",
      " [ 0.  0.  0.  0.  0.  0.  0.  0.  0.  0.  0.  0.  0.  0.  0.  0. -1.  0.  0.  0.  0.  0.  0.  0.  0.  0.  0.  0.  0.  0.  0.  0.  0.  0.  0.  0.  0.  0.  0.  0.  0.  0.  0.  0.  0.  0.  0.  0.  0.  0.  0.  0.]\n",
      " [ 0.  0.  0.  0.  0.  0.  0.  0.  0.  0.  0.  0.  0.  0.  0.  0.  0.  0. -1.  0.  0.  0.  0.  0.  0.  0.  0.  0.  0.  0.  0.  0.  0.  0.  0.  0.  0.  0.  0.  0.  0.  0.  0.  0.  0.  0.  0.  0.  0.  0.  0.  0.]\n",
      " [ 0.  0.  0.  0.  0.  0.  0.  0.  0.  0.  0.  0.  0.  0.  0.  0.  0.  0.  0.  0. -1.  0.  0.  0.  0.  0.  0.  0.  0.  0.  0.  0.  0.  0.  0.  0.  0.  0.  0.  0.  0.  0.  0.  0.  0.  0.  0.  0.  0.  0.  0.  0.]\n",
      " [ 0.  0.  0.  0.  0.  0.  0.  0.  0.  0.  0.  0.  0.  0.  0.  0.  0.  0.  0.  0.  0.  0. -1.  0.  0.  0.  0.  0.  0.  0.  0.  0.  0.  0.  0.  0.  0.  0.  0.  0.  0.  0.  0.  0.  0.  0.  0.  0.  0.  0.  0.  0.]\n",
      " [ 0.  0.  0.  0.  0.  0.  0.  0.  0.  0.  0.  0.  0.  0.  0.  0.  0.  0.  0.  0.  0.  0.  0.  0. -1.  0.  0.  0.  0.  0.  0.  0.  0.  0.  0.  0.  0.  0.  0.  0.  0.  0.  0.  0.  0.  0.  0.  0.  0.  0.  0.  0.]\n",
      " [ 0.  0.  0.  0.  0.  0.  0.  0.  0.  0.  0.  0.  0.  0.  0.  0.  0.  0.  0.  0.  0.  0.  0.  0.  0.  0. -1.  0.  0.  0.  0.  0.  0.  0.  0.  0.  0.  0.  0.  0.  0.  0.  0.  0.  0.  0.  0.  0.  0.  0.  0.  0.]\n",
      " [ 0.  0.  0.  0.  0.  0.  0.  0.  0.  0.  0.  0.  0.  0.  0.  0.  0.  0.  0.  0.  0.  0.  0.  0.  0.  0.  0.  0. -1.  0.  0.  0.  0.  0.  0.  0.  0.  0.  0.  0.  0.  0.  0.  0.  0.  0.  0.  0.  0.  0.  0.  0.]\n",
      " [ 0.  0.  0.  0.  0.  0.  0.  0.  0.  0.  0.  0.  0.  0.  0.  0.  0.  0.  0.  0.  0.  0.  0.  0.  0.  0.  0.  0.  0.  0. -1.  0.  0.  0.  0.  0.  0.  0.  0.  0.  0.  0.  0.  0.  0.  0.  0.  0.  0.  0.  0.  0.]\n",
      " [ 0.  0.  0.  0.  0.  0.  0.  0.  0.  0.  0.  0.  0.  0.  0.  0.  0.  0.  0.  0.  0.  0.  0.  0.  0.  0.  0.  0.  0.  0.  0.  0. -1.  0.  0.  0.  0.  0.  0.  0.  0.  0.  0.  0.  0.  0.  0.  0.  0.  0.  0.  0.]\n",
      " [ 0.  0.  0.  0.  0.  0.  0.  0.  0.  0.  0.  0.  0.  0.  0.  0.  0.  0.  0.  0.  0.  0.  0.  0.  0.  0.  0.  0.  0.  0.  0.  0.  0.  0. -1.  0.  0.  0.  0.  0.  0.  0.  0.  0.  0.  0.  0.  0.  0.  0.  0.  0.]\n",
      " [ 0.  0.  0.  0.  0.  0.  0.  0.  0.  0.  0.  0.  0.  0.  0.  0.  0.  0.  0.  0.  0.  0.  0.  0.  0.  0.  0.  0.  0.  0.  0.  0.  0.  0.  0.  0. -1.  0.  0.  0.  0.  0.  0.  0.  0.  0.  0.  0.  0.  0.  0.  0.]\n",
      " [ 0.  0.  0.  0.  0.  0.  0.  0.  0.  0.  0.  0.  0.  0.  0.  0.  0.  0.  0.  0.  0.  0.  0.  0.  0.  0.  0.  0.  0.  0.  0.  0.  0.  0.  0.  0.  0.  0. -1.  0.  0.  0.  0.  0.  0.  0.  0.  0.  0.  0.  0.  0.]\n",
      " [ 0.  0.  0.  0.  0.  0.  0.  0.  0.  0.  0.  0.  0.  0.  0.  0.  0.  0.  0.  0.  0.  0.  0.  0.  0.  0.  0.  0.  0.  0.  0.  0.  0.  0.  0.  0.  0.  0.  0.  0. -1.  0.  0.  0.  0.  0.  0.  0.  0.  0.  0.  0.]\n",
      " [ 0.  0.  0.  0.  0.  0.  0.  0.  0.  0.  0.  0.  0.  0.  0.  0.  0.  0.  0.  0.  0.  0.  0.  0.  0.  0.  0.  0.  0.  0.  0.  0.  0.  0.  0.  0.  0.  0.  0.  0.  0.  0. -1.  0.  0.  0.  0.  0.  0.  0.  0.  0.]\n",
      " [ 0.  0.  0.  0.  0.  0.  0.  0.  0.  0.  0.  0.  0.  0.  0.  0.  0.  0.  0.  0.  0.  0.  0.  0.  0.  0.  0.  0.  0.  0.  0.  0.  0.  0.  0.  0.  0.  0.  0.  0.  0.  0.  0.  0. -1.  0.  0.  0.  0.  0.  0.  0.]\n",
      " [ 0.  0.  0.  0.  0.  0.  0.  0.  0.  0.  0.  0.  0.  0.  0.  0.  0.  0.  0.  0.  0.  0.  0.  0.  0.  0.  0.  0.  0.  0.  0.  0.  0.  0.  0.  0.  0.  0.  0.  0.  0.  0.  0.  0.  0.  0. -1.  0.  0.  0.  0.  0.]\n",
      " [ 0.  0.  0.  0.  0.  0.  0.  0.  0.  0.  0.  0.  0.  0.  0.  0.  0.  0.  0.  0.  0.  0.  0.  0.  0.  0.  0.  0.  0.  0.  0.  0.  0.  0.  0.  0.  0.  0.  0.  0.  0.  0.  0.  0.  0.  0.  0.  0. -1.  0.  0.  0.]\n",
      " [ 0.  0.  0.  0.  0.  0.  0.  0.  0.  0.  0.  0.  0.  0.  0.  0.  0.  0.  0.  0.  0.  0.  0.  0.  0.  0.  0.  0.  0.  0.  0.  0.  0.  0.  0.  0.  0.  0.  0.  0.  0.  0.  0.  0.  0.  0.  0.  0.  0.  0. -1.  0.]]\n"
     ]
    }
   ],
   "source": [
    "print(type(u))\n",
    "print(u.shape)\n",
    "print(u)"
   ]
  },
  {
   "cell_type": "code",
   "execution_count": 39,
   "metadata": {},
   "outputs": [
    {
     "name": "stdout",
     "output_type": "stream",
     "text": [
      "<class 'numpy.ndarray'>\n",
      "(52,)\n",
      "[1. 1. 1. 1. 1. 1. 1. 1. 1. 1. 1. 1. 1. 1. 1. 1. 1. 1. 1. 1. 1. 1. 1. 1. 1. 1. 1. 1. 1. 1. 1. 1. 1. 1. 1. 1. 1. 1. 1. 1. 1. 1. 1. 1. 1. 1. 1. 1. 1. 1. 1. 1.]\n"
     ]
    }
   ],
   "source": [
    "print(type(s))\n",
    "print(s.shape)\n",
    "print(s)"
   ]
  },
  {
   "cell_type": "code",
   "execution_count": 40,
   "metadata": {},
   "outputs": [
    {
     "name": "stdout",
     "output_type": "stream",
     "text": [
      "1.4142135623730951\n"
     ]
    }
   ],
   "source": [
    "print(np.sqrt(2))"
   ]
  },
  {
   "cell_type": "code",
   "execution_count": 41,
   "metadata": {},
   "outputs": [
    {
     "name": "stdout",
     "output_type": "stream",
     "text": [
      "<class 'numpy.matrix'>\n",
      "(52, 52)\n",
      "[[-1.  0.  0.  0.  0.  0.  0.  0.  0.  0.  0.  0.  0.  0.  0.  0.  0.  0.  0.  0.  0.  0.  0.  0.  0.  0.  0.  0.  0.  0.  0.  0.  0.  0.  0.  0.  0.  0.  0.  0.  0.  0.  0.  0.  0.  0.  0.  0.  0.  0.  0.  0.]\n",
      " [ 0. -1.  0.  0.  0.  0.  0.  0.  0.  0.  0.  0.  0.  0.  0.  0.  0.  0.  0.  0.  0.  0.  0.  0.  0.  0.  0.  0.  0.  0.  0.  0.  0.  0.  0.  0.  0.  0.  0.  0.  0.  0.  0.  0.  0.  0.  0.  0.  0.  0.  0.  0.]\n",
      " [ 0.  0. -1.  0.  0.  0.  0.  0.  0.  0.  0.  0.  0.  0.  0.  0.  0.  0.  0.  0.  0.  0.  0.  0.  0.  0.  0.  0.  0.  0.  0.  0.  0.  0.  0.  0.  0.  0.  0.  0.  0.  0.  0.  0.  0.  0.  0.  0.  0.  0.  0.  0.]\n",
      " [ 0.  0.  0. -1.  0.  0.  0.  0.  0.  0.  0.  0.  0.  0.  0.  0.  0.  0.  0.  0.  0.  0.  0.  0.  0.  0.  0.  0.  0.  0.  0.  0.  0.  0.  0.  0.  0.  0.  0.  0.  0.  0.  0.  0.  0.  0.  0.  0.  0.  0.  0.  0.]\n",
      " [ 0.  0.  0.  0. -1.  0.  0.  0.  0.  0.  0.  0.  0.  0.  0.  0.  0.  0.  0.  0.  0.  0.  0.  0.  0.  0.  0.  0.  0.  0.  0.  0.  0.  0.  0.  0.  0.  0.  0.  0.  0.  0.  0.  0.  0.  0.  0.  0.  0.  0.  0.  0.]\n",
      " [ 0.  0.  0.  0.  0. -1.  0.  0.  0.  0.  0.  0.  0.  0.  0.  0.  0.  0.  0.  0.  0.  0.  0.  0.  0.  0.  0.  0.  0.  0.  0.  0.  0.  0.  0.  0.  0.  0.  0.  0.  0.  0.  0.  0.  0.  0.  0.  0.  0.  0.  0.  0.]\n",
      " [ 0.  0.  0.  0.  0.  0. -1.  0.  0.  0.  0.  0.  0.  0.  0.  0.  0.  0.  0.  0.  0.  0.  0.  0.  0.  0.  0.  0.  0.  0.  0.  0.  0.  0.  0.  0.  0.  0.  0.  0.  0.  0.  0.  0.  0.  0.  0.  0.  0.  0.  0.  0.]\n",
      " [ 0.  0.  0.  0.  0.  0.  0. -1.  0.  0.  0.  0.  0.  0.  0.  0.  0.  0.  0.  0.  0.  0.  0.  0.  0.  0.  0.  0.  0.  0.  0.  0.  0.  0.  0.  0.  0.  0.  0.  0.  0.  0.  0.  0.  0.  0.  0.  0.  0.  0.  0.  0.]\n",
      " [ 0.  0.  0.  0.  0.  0.  0.  0. -1.  0.  0.  0.  0.  0.  0.  0.  0.  0.  0.  0.  0.  0.  0.  0.  0.  0.  0.  0.  0.  0.  0.  0.  0.  0.  0.  0.  0.  0.  0.  0.  0.  0.  0.  0.  0.  0.  0.  0.  0.  0.  0.  0.]\n",
      " [ 0.  0.  0.  0.  0.  0.  0.  0.  0. -1.  0.  0.  0.  0.  0.  0.  0.  0.  0.  0.  0.  0.  0.  0.  0.  0.  0.  0.  0.  0.  0.  0.  0.  0.  0.  0.  0.  0.  0.  0.  0.  0.  0.  0.  0.  0.  0.  0.  0.  0.  0.  0.]\n",
      " [ 0.  0.  0.  0.  0.  0.  0.  0.  0.  0. -1.  0.  0.  0.  0.  0.  0.  0.  0.  0.  0.  0.  0.  0.  0.  0.  0.  0.  0.  0.  0.  0.  0.  0.  0.  0.  0.  0.  0.  0.  0.  0.  0.  0.  0.  0.  0.  0.  0.  0.  0.  0.]\n",
      " [ 0.  0.  0.  0.  0.  0.  0.  0.  0.  0.  0. -1.  0.  0.  0.  0.  0.  0.  0.  0.  0.  0.  0.  0.  0.  0.  0.  0.  0.  0.  0.  0.  0.  0.  0.  0.  0.  0.  0.  0.  0.  0.  0.  0.  0.  0.  0.  0.  0.  0.  0.  0.]\n",
      " [ 0.  0.  0.  0.  0.  0.  0.  0.  0.  0.  0.  0. -1.  0.  0.  0.  0.  0.  0.  0.  0.  0.  0.  0.  0.  0.  0.  0.  0.  0.  0.  0.  0.  0.  0.  0.  0.  0.  0.  0.  0.  0.  0.  0.  0.  0.  0.  0.  0.  0.  0.  0.]\n",
      " [ 0.  0.  0.  0.  0.  0.  0.  0.  0.  0.  0.  0.  0. -1.  0.  0.  0.  0.  0.  0.  0.  0.  0.  0.  0.  0.  0.  0.  0.  0.  0.  0.  0.  0.  0.  0.  0.  0.  0.  0.  0.  0.  0.  0.  0.  0.  0.  0.  0.  0.  0.  0.]\n",
      " [ 0.  0.  0.  0.  0.  0.  0.  0.  0.  0.  0.  0.  0.  0. -1.  0.  0.  0.  0.  0.  0.  0.  0.  0.  0.  0.  0.  0.  0.  0.  0.  0.  0.  0.  0.  0.  0.  0.  0.  0.  0.  0.  0.  0.  0.  0.  0.  0.  0.  0.  0.  0.]\n",
      " [ 0.  0.  0.  0.  0.  0.  0.  0.  0.  0.  0.  0.  0.  0.  0. -1.  0.  0.  0.  0.  0.  0.  0.  0.  0.  0.  0.  0.  0.  0.  0.  0.  0.  0.  0.  0.  0.  0.  0.  0.  0.  0.  0.  0.  0.  0.  0.  0.  0.  0.  0.  0.]\n",
      " [ 0.  0.  0.  0.  0.  0.  0.  0.  0.  0.  0.  0.  0.  0.  0.  0. -1.  0.  0.  0.  0.  0.  0.  0.  0.  0.  0.  0.  0.  0.  0.  0.  0.  0.  0.  0.  0.  0.  0.  0.  0.  0.  0.  0.  0.  0.  0.  0.  0.  0.  0.  0.]\n",
      " [ 0.  0.  0.  0.  0.  0.  0.  0.  0.  0.  0.  0.  0.  0.  0.  0.  0. -1.  0.  0.  0.  0.  0.  0.  0.  0.  0.  0.  0.  0.  0.  0.  0.  0.  0.  0.  0.  0.  0.  0.  0.  0.  0.  0.  0.  0.  0.  0.  0.  0.  0.  0.]\n",
      " [ 0.  0.  0.  0.  0.  0.  0.  0.  0.  0.  0.  0.  0.  0.  0.  0.  0.  0. -1.  0.  0.  0.  0.  0.  0.  0.  0.  0.  0.  0.  0.  0.  0.  0.  0.  0.  0.  0.  0.  0.  0.  0.  0.  0.  0.  0.  0.  0.  0.  0.  0.  0.]\n",
      " [ 0.  0.  0.  0.  0.  0.  0.  0.  0.  0.  0.  0.  0.  0.  0.  0.  0.  0.  0. -1.  0.  0.  0.  0.  0.  0.  0.  0.  0.  0.  0.  0.  0.  0.  0.  0.  0.  0.  0.  0.  0.  0.  0.  0.  0.  0.  0.  0.  0.  0.  0.  0.]\n",
      " [ 0.  0.  0.  0.  0.  0.  0.  0.  0.  0.  0.  0.  0.  0.  0.  0.  0.  0.  0.  0. -1.  0.  0.  0.  0.  0.  0.  0.  0.  0.  0.  0.  0.  0.  0.  0.  0.  0.  0.  0.  0.  0.  0.  0.  0.  0.  0.  0.  0.  0.  0.  0.]\n",
      " [ 0.  0.  0.  0.  0.  0.  0.  0.  0.  0.  0.  0.  0.  0.  0.  0.  0.  0.  0.  0.  0. -1.  0.  0.  0.  0.  0.  0.  0.  0.  0.  0.  0.  0.  0.  0.  0.  0.  0.  0.  0.  0.  0.  0.  0.  0.  0.  0.  0.  0.  0.  0.]\n",
      " [ 0.  0.  0.  0.  0.  0.  0.  0.  0.  0.  0.  0.  0.  0.  0.  0.  0.  0.  0.  0.  0.  0. -1.  0.  0.  0.  0.  0.  0.  0.  0.  0.  0.  0.  0.  0.  0.  0.  0.  0.  0.  0.  0.  0.  0.  0.  0.  0.  0.  0.  0.  0.]\n",
      " [ 0.  0.  0.  0.  0.  0.  0.  0.  0.  0.  0.  0.  0.  0.  0.  0.  0.  0.  0.  0.  0.  0.  0. -1.  0.  0.  0.  0.  0.  0.  0.  0.  0.  0.  0.  0.  0.  0.  0.  0.  0.  0.  0.  0.  0.  0.  0.  0.  0.  0.  0.  0.]\n",
      " [ 0.  0.  0.  0.  0.  0.  0.  0.  0.  0.  0.  0.  0.  0.  0.  0.  0.  0.  0.  0.  0.  0.  0.  0. -1.  0.  0.  0.  0.  0.  0.  0.  0.  0.  0.  0.  0.  0.  0.  0.  0.  0.  0.  0.  0.  0.  0.  0.  0.  0.  0.  0.]\n",
      " [ 0.  0.  0.  0.  0.  0.  0.  0.  0.  0.  0.  0.  0.  0.  0.  0.  0.  0.  0.  0.  0.  0.  0.  0.  0. -1.  0.  0.  0.  0.  0.  0.  0.  0.  0.  0.  0.  0.  0.  0.  0.  0.  0.  0.  0.  0.  0.  0.  0.  0.  0.  0.]\n",
      " [ 0.  0.  0.  0.  0.  0.  0.  0.  0.  0.  0.  0.  0.  0.  0.  0.  0.  0.  0.  0.  0.  0.  0.  0.  0.  0. -1.  0.  0.  0.  0.  0.  0.  0.  0.  0.  0.  0.  0.  0.  0.  0.  0.  0.  0.  0.  0.  0.  0.  0.  0.  0.]\n",
      " [ 0.  0.  0.  0.  0.  0.  0.  0.  0.  0.  0.  0.  0.  0.  0.  0.  0.  0.  0.  0.  0.  0.  0.  0.  0.  0.  0. -1.  0.  0.  0.  0.  0.  0.  0.  0.  0.  0.  0.  0.  0.  0.  0.  0.  0.  0.  0.  0.  0.  0.  0.  0.]\n",
      " [ 0.  0.  0.  0.  0.  0.  0.  0.  0.  0.  0.  0.  0.  0.  0.  0.  0.  0.  0.  0.  0.  0.  0.  0.  0.  0.  0.  0. -1.  0.  0.  0.  0.  0.  0.  0.  0.  0.  0.  0.  0.  0.  0.  0.  0.  0.  0.  0.  0.  0.  0.  0.]\n",
      " [ 0.  0.  0.  0.  0.  0.  0.  0.  0.  0.  0.  0.  0.  0.  0.  0.  0.  0.  0.  0.  0.  0.  0.  0.  0.  0.  0.  0.  0. -1.  0.  0.  0.  0.  0.  0.  0.  0.  0.  0.  0.  0.  0.  0.  0.  0.  0.  0.  0.  0.  0.  0.]\n",
      " [ 0.  0.  0.  0.  0.  0.  0.  0.  0.  0.  0.  0.  0.  0.  0.  0.  0.  0.  0.  0.  0.  0.  0.  0.  0.  0.  0.  0.  0.  0. -1.  0.  0.  0.  0.  0.  0.  0.  0.  0.  0.  0.  0.  0.  0.  0.  0.  0.  0.  0.  0.  0.]\n",
      " [ 0.  0.  0.  0.  0.  0.  0.  0.  0.  0.  0.  0.  0.  0.  0.  0.  0.  0.  0.  0.  0.  0.  0.  0.  0.  0.  0.  0.  0.  0.  0. -1.  0.  0.  0.  0.  0.  0.  0.  0.  0.  0.  0.  0.  0.  0.  0.  0.  0.  0.  0.  0.]\n",
      " [ 0.  0.  0.  0.  0.  0.  0.  0.  0.  0.  0.  0.  0.  0.  0.  0.  0.  0.  0.  0.  0.  0.  0.  0.  0.  0.  0.  0.  0.  0.  0.  0. -1.  0.  0.  0.  0.  0.  0.  0.  0.  0.  0.  0.  0.  0.  0.  0.  0.  0.  0.  0.]\n",
      " [ 0.  0.  0.  0.  0.  0.  0.  0.  0.  0.  0.  0.  0.  0.  0.  0.  0.  0.  0.  0.  0.  0.  0.  0.  0.  0.  0.  0.  0.  0.  0.  0.  0. -1.  0.  0.  0.  0.  0.  0.  0.  0.  0.  0.  0.  0.  0.  0.  0.  0.  0.  0.]\n",
      " [ 0.  0.  0.  0.  0.  0.  0.  0.  0.  0.  0.  0.  0.  0.  0.  0.  0.  0.  0.  0.  0.  0.  0.  0.  0.  0.  0.  0.  0.  0.  0.  0.  0.  0. -1.  0.  0.  0.  0.  0.  0.  0.  0.  0.  0.  0.  0.  0.  0.  0.  0.  0.]\n",
      " [ 0.  0.  0.  0.  0.  0.  0.  0.  0.  0.  0.  0.  0.  0.  0.  0.  0.  0.  0.  0.  0.  0.  0.  0.  0.  0.  0.  0.  0.  0.  0.  0.  0.  0.  0. -1.  0.  0.  0.  0.  0.  0.  0.  0.  0.  0.  0.  0.  0.  0.  0.  0.]\n",
      " [ 0.  0.  0.  0.  0.  0.  0.  0.  0.  0.  0.  0.  0.  0.  0.  0.  0.  0.  0.  0.  0.  0.  0.  0.  0.  0.  0.  0.  0.  0.  0.  0.  0.  0.  0.  0. -1.  0.  0.  0.  0.  0.  0.  0.  0.  0.  0.  0.  0.  0.  0.  0.]\n",
      " [ 0.  0.  0.  0.  0.  0.  0.  0.  0.  0.  0.  0.  0.  0.  0.  0.  0.  0.  0.  0.  0.  0.  0.  0.  0.  0.  0.  0.  0.  0.  0.  0.  0.  0.  0.  0.  0. -1.  0.  0.  0.  0.  0.  0.  0.  0.  0.  0.  0.  0.  0.  0.]\n",
      " [ 0.  0.  0.  0.  0.  0.  0.  0.  0.  0.  0.  0.  0.  0.  0.  0.  0.  0.  0.  0.  0.  0.  0.  0.  0.  0.  0.  0.  0.  0.  0.  0.  0.  0.  0.  0.  0.  0. -1.  0.  0.  0.  0.  0.  0.  0.  0.  0.  0.  0.  0.  0.]\n",
      " [ 0.  0.  0.  0.  0.  0.  0.  0.  0.  0.  0.  0.  0.  0.  0.  0.  0.  0.  0.  0.  0.  0.  0.  0.  0.  0.  0.  0.  0.  0.  0.  0.  0.  0.  0.  0.  0.  0.  0. -1.  0.  0.  0.  0.  0.  0.  0.  0.  0.  0.  0.  0.]\n",
      " [ 0.  0.  0.  0.  0.  0.  0.  0.  0.  0.  0.  0.  0.  0.  0.  0.  0.  0.  0.  0.  0.  0.  0.  0.  0.  0.  0.  0.  0.  0.  0.  0.  0.  0.  0.  0.  0.  0.  0.  0. -1.  0.  0.  0.  0.  0.  0.  0.  0.  0.  0.  0.]\n",
      " [ 0.  0.  0.  0.  0.  0.  0.  0.  0.  0.  0.  0.  0.  0.  0.  0.  0.  0.  0.  0.  0.  0.  0.  0.  0.  0.  0.  0.  0.  0.  0.  0.  0.  0.  0.  0.  0.  0.  0.  0.  0. -1.  0.  0.  0.  0.  0.  0.  0.  0.  0.  0.]\n",
      " [ 0.  0.  0.  0.  0.  0.  0.  0.  0.  0.  0.  0.  0.  0.  0.  0.  0.  0.  0.  0.  0.  0.  0.  0.  0.  0.  0.  0.  0.  0.  0.  0.  0.  0.  0.  0.  0.  0.  0.  0.  0.  0. -1.  0.  0.  0.  0.  0.  0.  0.  0.  0.]\n",
      " [ 0.  0.  0.  0.  0.  0.  0.  0.  0.  0.  0.  0.  0.  0.  0.  0.  0.  0.  0.  0.  0.  0.  0.  0.  0.  0.  0.  0.  0.  0.  0.  0.  0.  0.  0.  0.  0.  0.  0.  0.  0.  0.  0. -1.  0.  0.  0.  0.  0.  0.  0.  0.]\n",
      " [ 0.  0.  0.  0.  0.  0.  0.  0.  0.  0.  0.  0.  0.  0.  0.  0.  0.  0.  0.  0.  0.  0.  0.  0.  0.  0.  0.  0.  0.  0.  0.  0.  0.  0.  0.  0.  0.  0.  0.  0.  0.  0.  0.  0. -1.  0.  0.  0.  0.  0.  0.  0.]\n",
      " [ 0.  0.  0.  0.  0.  0.  0.  0.  0.  0.  0.  0.  0.  0.  0.  0.  0.  0.  0.  0.  0.  0.  0.  0.  0.  0.  0.  0.  0.  0.  0.  0.  0.  0.  0.  0.  0.  0.  0.  0.  0.  0.  0.  0.  0. -1.  0.  0.  0.  0.  0.  0.]\n",
      " [ 0.  0.  0.  0.  0.  0.  0.  0.  0.  0.  0.  0.  0.  0.  0.  0.  0.  0.  0.  0.  0.  0.  0.  0.  0.  0.  0.  0.  0.  0.  0.  0.  0.  0.  0.  0.  0.  0.  0.  0.  0.  0.  0.  0.  0.  0. -1.  0.  0.  0.  0.  0.]\n",
      " [ 0.  0.  0.  0.  0.  0.  0.  0.  0.  0.  0.  0.  0.  0.  0.  0.  0.  0.  0.  0.  0.  0.  0.  0.  0.  0.  0.  0.  0.  0.  0.  0.  0.  0.  0.  0.  0.  0.  0.  0.  0.  0.  0.  0.  0.  0.  0. -1.  0.  0.  0.  0.]\n",
      " [ 0.  0.  0.  0.  0.  0.  0.  0.  0.  0.  0.  0.  0.  0.  0.  0.  0.  0.  0.  0.  0.  0.  0.  0.  0.  0.  0.  0.  0.  0.  0.  0.  0.  0.  0.  0.  0.  0.  0.  0.  0.  0.  0.  0.  0.  0.  0.  0. -1.  0.  0.  0.]\n",
      " [ 0.  0.  0.  0.  0.  0.  0.  0.  0.  0.  0.  0.  0.  0.  0.  0.  0.  0.  0.  0.  0.  0.  0.  0.  0.  0.  0.  0.  0.  0.  0.  0.  0.  0.  0.  0.  0.  0.  0.  0.  0.  0.  0.  0.  0.  0.  0.  0.  0. -1.  0.  0.]\n",
      " [ 0.  0.  0.  0.  0.  0.  0.  0.  0.  0.  0.  0.  0.  0.  0.  0.  0.  0.  0.  0.  0.  0.  0.  0.  0.  0.  0.  0.  0.  0.  0.  0.  0.  0.  0.  0.  0.  0.  0.  0.  0.  0.  0.  0.  0.  0.  0.  0.  0.  0. -1.  0.]\n",
      " [ 0.  0.  0.  0.  0.  0.  0.  0.  0.  0.  0.  0.  0.  0.  0.  0.  0.  0.  0.  0.  0.  0.  0.  0.  0.  0.  0.  0.  0.  0.  0.  0.  0.  0.  0.  0.  0.  0.  0.  0.  0.  0.  0.  0.  0.  0.  0.  0.  0.  0.  0.  1.]]\n"
     ]
    }
   ],
   "source": [
    "print(type(vh))\n",
    "print(vh.shape)\n",
    "print(vh)"
   ]
  },
  {
   "cell_type": "code",
   "execution_count": 46,
   "metadata": {},
   "outputs": [
    {
     "name": "stdout",
     "output_type": "stream",
     "text": [
      "52\n"
     ]
    }
   ],
   "source": [
    "rank = np.linalg.matrix_rank(shuffling_permutation_matrix)\n",
    "print(rank)"
   ]
  },
  {
   "cell_type": "code",
   "execution_count": 60,
   "metadata": {},
   "outputs": [
    {
     "name": "stdout",
     "output_type": "stream",
     "text": [
      "Maximum possible order of shuffling permutation matrix is 52! = 80658175170943878571660636856403766975289505440883277824000000000000\n",
      "\n",
      "Order of shuffling permutation matrix = 53\n"
     ]
    }
   ],
   "source": [
    "exponent = 1\n",
    "max_exponent = np.math.factorial(52)\n",
    "print('Maximum possible order of shuffling permutation matrix is 52! = {}'.format(max_exponent))\n",
    "print()\n",
    "A = np.eye(52)\n",
    "B = shuffling_permutation_matrix\n",
    "while not np.allclose(np.eye(52), B):\n",
    "  B = np.linalg.matrix_power(shuffling_permutation_matrix, exponent)\n",
    "  exponent += 1\n",
    "print('Order of shuffling permutation matrix = {}'.format(exponent))"
   ]
  }
 ],
 "metadata": {
  "kernelspec": {
   "display_name": "Python 3",
   "language": "python",
   "name": "python3"
  },
  "language_info": {
   "codemirror_mode": {
    "name": "ipython",
    "version": 3
   },
   "file_extension": ".py",
   "mimetype": "text/x-python",
   "name": "python",
   "nbconvert_exporter": "python",
   "pygments_lexer": "ipython3",
   "version": "3.8.3"
  }
 },
 "nbformat": 4,
 "nbformat_minor": 4
}
