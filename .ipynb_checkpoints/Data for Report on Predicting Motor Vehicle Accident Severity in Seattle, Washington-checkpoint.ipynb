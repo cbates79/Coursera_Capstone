{
 "cells": [
  {
   "cell_type": "markdown",
   "metadata": {},
   "source": [
    "# <center>Predicting Motor Vehicle Accident Severity in Seattle, Washington</center>"
   ]
  },
  {
   "cell_type": "markdown",
   "metadata": {},
   "source": [
    "## <center>Christopher Bates</center>\n",
    "### <center>30 November 2020</center>"
   ]
  },
  {
   "cell_type": "markdown",
   "metadata": {},
   "source": [
    "\n",
    "\n",
    "\n",
    "\n",
    "\n",
    "\n",
    "\n",
    "\n"
   ]
  },
  {
   "cell_type": "markdown",
   "metadata": {},
   "source": [
    "## II. Data"
   ]
  },
  {
   "cell_type": "markdown",
   "metadata": {},
   "source": [
    "### Data Sources\n",
    "All of the data used in the training, testing, and validation of our machine learning models was obtained from the \n",
    "[City of Seattle's Open Data Portal](https://data-seattlecitygis.opendata.arcgis.com/datasets/collisions) free of charge. \n",
    "Accorinding to the website, the data set includes all types of collisions in a timeframe starting in 2004 through the present.\n",
    "Because the data set available on this website may change over time,\n",
    "we downloaded the collisions data set once and performed all training, testing, and validation with the same locally stored data set."
   ]
  },
  {
   "cell_type": "markdown",
   "metadata": {},
   "source": [
    "### Data Cleaning\n",
    "We went through several iterations of cleaning the data and looking for trends. \n",
    "The original data set was in the form of a .csv file, which we imported as a data frame. \n",
    "Initially, before any data cleaning, the data frame consisted of 221143 rows and 40 columns.\n",
    "There were 5 columns of floating point type, 12 columns of integer type, and 23 columns of object type.\n",
    "Using the [Attributes Information Form](https://www.seattle.gov/Documents/Departments/SDOT/GIS/Collisions_OD.pdf) located on the same website as the collisions .csv file,\n",
    "we removed any columns corresponding to unique identification keys or codes that would offer no benefit in the context of machine learning.\n",
    "We also removed any columns deemed redundant in light of combinations of other columns that could yield the same information.\n",
    "Using the Attribute Information Form, we also identified any \"sentinal\" values, which actually indiate that a value is \"unknown,\" and converted those values to NaN.\n",
    "We then dropped any column with more than 15% NaN because there was no reasonable way to assign a value to such fields.\n",
    "Finally, we dropped any row that contained at least in NaN."
   ]
  },
  {
   "cell_type": "markdown",
   "metadata": {},
   "source": [
    "### Feature Selection\n",
    "In selecting the features for training and testing the models, we went through several iterations to determine the most important features for this problem.\n",
    "Since the goal is to predict accident severity, it seemed reasonable to include features that can be forecast before an accident takes place, such as weather, road, and light conditions.\n",
    "The road conditions may be highly depoendent on, and thus correlated with, the weather.\n",
    "Light conditions, on the other hand, depend on the time of day, weather conditions, as well as physical infrastructure like street lights.\n",
    "\n",
    "The number of pedestrians, bicycle riders, and vehicles involed also seemed like reasonabe information to use in the model.\n",
    "In the real world, this information could be gathered at the scene of an accident.\n",
    "While the original data set contains information representing the longitude, latitude, and date-time of the accidents,\n",
    "these types of data require more processing and feature engineering to convert them into a form that is useful for machine learning applications.\n",
    "In our first attempt at predicting accident severity, we will take a simpler approach and reserve the spatial and temporal data for future investigation."
   ]
  }
 ],
 "metadata": {
  "kernelspec": {
   "display_name": "Python 3",
   "language": "python",
   "name": "python3"
  },
  "language_info": {
   "codemirror_mode": {
    "name": "ipython",
    "version": 3
   },
   "file_extension": ".py",
   "mimetype": "text/x-python",
   "name": "python",
   "nbconvert_exporter": "python",
   "pygments_lexer": "ipython3",
   "version": "3.8.3"
  }
 },
 "nbformat": 4,
 "nbformat_minor": 4
}
