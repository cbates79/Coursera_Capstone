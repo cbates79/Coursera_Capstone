{
 "cells": [
  {
   "cell_type": "markdown",
   "metadata": {},
   "source": [
    "# <center>Predicting Vehicle Accident Severity in Seattle, Washington</center>"
   ]
  },
  {
   "cell_type": "markdown",
   "metadata": {},
   "source": [
    "## <center>Christopher Bates</center>\n",
    "### <center>13 October 2020</center>"
   ]
  },
  {
   "cell_type": "markdown",
   "metadata": {},
   "source": [
    "\n",
    "\n",
    "\n",
    "\n",
    "\n",
    "\n",
    "\n",
    "\n"
   ]
  },
  {
   "cell_type": "markdown",
   "metadata": {},
   "source": [
    "## Introduction"
   ]
  },
  {
   "cell_type": "markdown",
   "metadata": {},
   "source": [
    "### Background"
   ]
  },
  {
   "cell_type": "markdown",
   "metadata": {},
   "source": [
    "Personal transportation plays a critical role in the lives of nearly every resident of the United States. \n",
    "With the continued growth of suburbs and increasing commuting times, it is essential for commuters to have safe, reliable modes of transportation.\n",
    "Ride-sharing services like Uber, as well as fleets of bicycles and electric scooters for rent, have certainly provided more travel options.\n",
    "But these \"greener\" modes of transportation are not without risk.\n",
    "In 2017, according to the Centers for Disease Control and Prevention, motor vehicle accidents alone accounted for 40,231 fatalites, \n",
    "not to mention many times this number of severe injuries.\n",
    "Could the increased use of bicycles, scooters, and ride-sharing services actually increase the frequency of serious or fatal accidents\n",
    "between motor vehicles and the more vulnerable pedestrians or cyclists?\n",
    "Commuters certainly deserve to know the risks involved in their daily transit behaviors.\n",
    "Machine learning technologies can quantify these risks, allowing commuters to make informed decisions based on travel conditions and traffic data."
   ]
  },
  {
   "cell_type": "markdown",
   "metadata": {},
   "source": [
    "### Problem"
   ]
  },
  {
   "cell_type": "markdown",
   "metadata": {},
   "source": [
    "The goal for each model is to predict the severity of an accident, where the severity is defined by one of four classes:\n",
    "<ul>\n",
    "    <li>property damage, but no injuries and no fatalities;</li>\n",
    "    <li>at least on injury, but no serious injuries and no fatalites;</li>\n",
    "    <li>at least one serious injury, but no fatalites;</li>\n",
    "    <li>at least one fatality.</li>\n",
    "</ul>\n",
    "Each model will receive data regarding a set of moter vehicle accidents.\n",
    "For each incident, the model will be aware of the weather, road, and lighting conditions at the time and location of the motor vehicle accident.\n",
    "The input to the model will also include the number of people involved in the accident and the nature of their involvement,\n",
    "the number and types of vehicles and the nature of their involvement."
   ]
  },
  {
   "cell_type": "markdown",
   "metadata": {},
   "source": [
    "### Interest"
   ]
  },
  {
   "cell_type": "markdown",
   "metadata": {},
   "source": [
    "When an accident is initially reported to first responders, it can be helpful to have an accurate prediction of the severity of the accident.\n",
    "Such  an \"accident severity forecast\" could allowing emergency rooms and hospital staff to allocate their resources more efficiently.\n",
    "Furthermore, these accident severity forecasts can enable city planners, engineers, and architects to design traffic safer transit systems\n",
    "and roadways by identifying locations with a higher frequencies of accidents with serious injuries or fatalites.\n",
    "\n",
    "With the advent of autonomous vehicles, it is possible for accident severity models to aid in the selection safer routes based on weather and traffic conditions. \n",
    "In the event an autonomous vehicles is involved in an accident, the onboad system could communicate data to first responders and local hospitals,\n",
    "allowing them to formulate an efficient, effective response driven by accident severity models."
   ]
  },
  {
   "cell_type": "markdown",
   "metadata": {},
   "source": [
    "## Data Acquisition and Cleaning"
   ]
  },
  {
   "cell_type": "markdown",
   "metadata": {},
   "source": [
    "### Data Sources"
   ]
  },
  {
   "cell_type": "markdown",
   "metadata": {},
   "source": [
    "All of the data used in the training, testing, and validation of our machine learning models was obtained from the \n",
    "[City of Seattle's Open Data Portal](https://data-seattlecitygis.opendata.arcgis.com/datasets/collisions) free of charge. \n",
    "Accorinding to the website, the data set includes all types of collisions in a timeframe starting in 2004 through the present.\n",
    "Because the data set available on this website may change over time,\n",
    "we downloaded the collisions data set once and performed all training, testing, and validation with the same locally stored data set."
   ]
  },
  {
   "cell_type": "markdown",
   "metadata": {},
   "source": [
    "### Data Cleaning"
   ]
  },
  {
   "cell_type": "markdown",
   "metadata": {},
   "source": [
    "We went through several iterations of cleaning the data and looking for trends. \n",
    "The original data set was in the form of a .csv file, which we imported as a data frame. \n",
    "Initially, before any data cleaning, the data frame consisted of 221143 rows and 40 columns.\n",
    "There were 5 columns of floating point type, 12 columns of integer type, and 23 columns of object type.\n",
    "Using the [Attributes Information Form](https://www.seattle.gov/Documents/Departments/SDOT/GIS/Collisions_OD.pdf) located in the same webpage ast the data set,\n",
    "we removed any columns corresponding to unique identification keys or codes that would offer no benefit in the context of machine learning.\n",
    "We also identified any \"sentinal\" values in the data set indicating that something is \"unknown,\" and converted those values to NaN.\n",
    "We then dropped any column with more than %15 NaN because there was no reasonable way to assign a value otherwise."
   ]
  },
  {
   "cell_type": "markdown",
   "metadata": {},
   "source": [
    "### Feature Selection"
   ]
  },
  {
   "cell_type": "markdown",
   "metadata": {},
   "source": [
    "## Exploratory Data Analysis"
   ]
  },
  {
   "cell_type": "markdown",
   "metadata": {},
   "source": [
    "### Identifiying the Target Variable"
   ]
  },
  {
   "cell_type": "markdown",
   "metadata": {},
   "source": []
  },
  {
   "cell_type": "markdown",
   "metadata": {},
   "source": []
  },
  {
   "cell_type": "markdown",
   "metadata": {},
   "source": []
  },
  {
   "cell_type": "markdown",
   "metadata": {},
   "source": [
    "### Relationship between Severity and Weather Conditions"
   ]
  },
  {
   "cell_type": "markdown",
   "metadata": {},
   "source": []
  },
  {
   "cell_type": "markdown",
   "metadata": {},
   "source": []
  },
  {
   "cell_type": "markdown",
   "metadata": {},
   "source": []
  },
  {
   "cell_type": "markdown",
   "metadata": {},
   "source": [
    "### Relationship between Severity and Road Conditions"
   ]
  },
  {
   "cell_type": "markdown",
   "metadata": {},
   "source": []
  },
  {
   "cell_type": "markdown",
   "metadata": {},
   "source": []
  },
  {
   "cell_type": "markdown",
   "metadata": {},
   "source": []
  },
  {
   "cell_type": "markdown",
   "metadata": {},
   "source": [
    "### Relationship between Severity and Lighting Conditions"
   ]
  },
  {
   "cell_type": "markdown",
   "metadata": {},
   "source": []
  },
  {
   "cell_type": "markdown",
   "metadata": {},
   "source": []
  },
  {
   "cell_type": "markdown",
   "metadata": {},
   "source": []
  },
  {
   "cell_type": "markdown",
   "metadata": {},
   "source": [
    "### Relationship between Severity and Collision Type"
   ]
  },
  {
   "cell_type": "markdown",
   "metadata": {},
   "source": []
  },
  {
   "cell_type": "markdown",
   "metadata": {},
   "source": []
  },
  {
   "cell_type": "markdown",
   "metadata": {},
   "source": []
  },
  {
   "cell_type": "markdown",
   "metadata": {},
   "source": [
    "## Classification Models"
   ]
  },
  {
   "cell_type": "markdown",
   "metadata": {},
   "source": [
    "### Applying Standard Algorithms"
   ]
  },
  {
   "cell_type": "markdown",
   "metadata": {},
   "source": [
    "### Issues with the Standard Algorithms"
   ]
  },
  {
   "cell_type": "markdown",
   "metadata": {},
   "source": [
    "### Resolving the Algorithm Issues"
   ]
  },
  {
   "cell_type": "markdown",
   "metadata": {},
   "source": [
    "### Perfomance Comparison if the Algorithms"
   ]
  },
  {
   "cell_type": "markdown",
   "metadata": {},
   "source": [
    "## Conclusions"
   ]
  },
  {
   "cell_type": "markdown",
   "metadata": {},
   "source": []
  },
  {
   "cell_type": "markdown",
   "metadata": {},
   "source": []
  },
  {
   "cell_type": "markdown",
   "metadata": {},
   "source": []
  },
  {
   "cell_type": "markdown",
   "metadata": {},
   "source": [
    "## Future Investigations"
   ]
  },
  {
   "cell_type": "markdown",
   "metadata": {},
   "source": [
    "All of the models in this project were designed to solve a multiclass classification problem: classify the severity of a given motor vehicle accident.\n",
    "An extension of this problem is to predict the number of non-serious injuries, the number of serious injuries, and the number of fatalities for a given accident.\n",
    "Because an accident may involve independent combinations of people from these three categories, this new problem is a multlabel problem.\n",
    "At the same time, because the number of individuals in each categroy is integer-valued, it is also a regression problem.\n",
    "Therefore, this new problem requires the construction of three regresssion models, one for each category of victim."
   ]
  },
  {
   "cell_type": "markdown",
   "metadata": {},
   "source": [
    "An additional problem brought to light by the Seattle Collisions Dataset is the question of how accident severity depends on location and time data.\n",
    "Since the dataset contains attributes representing the longitude and latitude for each incident, as well as the date and time,\n",
    "it is "
   ]
  },
  {
   "cell_type": "markdown",
   "metadata": {},
   "source": []
  },
  {
   "cell_type": "markdown",
   "metadata": {},
   "source": [
    "## Acknowledgements"
   ]
  },
  {
   "cell_type": "markdown",
   "metadata": {},
   "source": [
    "In completing this Data Science Capstone Project, I am eternally grateful to my wife, Linda Garica, for her invaluable advice and infinite patience."
   ]
  },
  {
   "cell_type": "markdown",
   "metadata": {},
   "source": [
    "I am also indebted to Mike Jennings, Captain (Ret.), Oceanside Fire Department, Oceanside, CA. \n",
    "Mike was gratious enough to share his experiences as a first responder, as well as his professioal insight and enthusiasm."
   ]
  }
 ],
 "metadata": {
  "kernelspec": {
   "display_name": "Python 3",
   "language": "python",
   "name": "python3"
  },
  "language_info": {
   "codemirror_mode": {
    "name": "ipython",
    "version": 3
   },
   "file_extension": ".py",
   "mimetype": "text/x-python",
   "name": "python",
   "nbconvert_exporter": "python",
   "pygments_lexer": "ipython3",
   "version": "3.8.3"
  }
 },
 "nbformat": 4,
 "nbformat_minor": 4
}
