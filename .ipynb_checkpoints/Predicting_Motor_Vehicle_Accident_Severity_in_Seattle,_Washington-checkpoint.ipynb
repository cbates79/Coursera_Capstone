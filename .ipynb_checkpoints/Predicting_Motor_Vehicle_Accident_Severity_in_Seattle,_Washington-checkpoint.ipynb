{
 "cells": [
  {
   "cell_type": "markdown",
   "metadata": {},
   "source": [
    "# <center>Predicting Motor Vehicle Accident Severity in Seattle, Washington</center>"
   ]
  },
  {
   "cell_type": "markdown",
   "metadata": {},
   "source": [
    "## <center>Christopher Bates</center>\n",
    "### <center>13 October 2020</center>"
   ]
  },
  {
   "cell_type": "markdown",
   "metadata": {},
   "source": [
    "\n",
    "\n",
    "\n",
    "\n",
    "\n",
    "\n",
    "\n",
    "\n"
   ]
  },
  {
   "cell_type": "markdown",
   "metadata": {},
   "source": [
    "## Introduction"
   ]
  },
  {
   "cell_type": "markdown",
   "metadata": {},
   "source": [
    "### Background"
   ]
  },
  {
   "cell_type": "markdown",
   "metadata": {},
   "source": [
    "Personal transportation plays a critical role in the lives of nearly every resident of the United States. \n",
    "With the continued growth of suburbs and increasing commuting times, it is essential for commuters to have safe, reliable modes of transportation.\n",
    "Ride-sharing services like Uber, as well as fleets of bicycles and electric scooters for rent, have certainly provided more travel options.\n",
    "But these \"greener\" modes of transportation are not without risk.\n",
    "In 2017, according to the Centers for Disease Control and Prevention, motor vehicle accidents alone accounted for 40,231 fatalites, \n",
    "not to mention many times this number of severe injuries.\n",
    "Could the increased use of bicycles, scooters, and ride-sharing services actually increase the frequency of serious or fatal accidents\n",
    "between motor vehicles and the more vulnerable pedestrians or cyclists?\n",
    "Commuters certainly deserve to know the risks involved in their daily transit behaviors.\n",
    "Machine learning technologies can quantify these risks, allowing commuters to make informed decisions based on travel conditions and traffic data."
   ]
  },
  {
   "cell_type": "markdown",
   "metadata": {},
   "source": [
    "### Problem"
   ]
  },
  {
   "cell_type": "markdown",
   "metadata": {},
   "source": [
    "The goal of this project is to predict the severity of a given motor vehicle accident in Seattle, Washington, given certain data related to the accident.\n",
    "Our models will classify each accident into exactly one of two categories:\n",
    "<ol>\n",
    "    <li>Minor Accidents</li>\n",
    "    <ul>\n",
    "        <li>property damage, but no injuries and no fatalities;</li>\n",
    "        <li>at least one injury, but no serious injuries and no fatalites;</li>\n",
    "    </ul>\n",
    "    <li>Major Accidents</li>\n",
    "    <ul>\n",
    "        <li>at least one serious injury, but no fatalites;</li>\n",
    "       <li>at least one fatality.</li>\n",
    "    </ul>\n",
    " </ol>\n",
    "Each model will receive data regarding a set of moter vehicle accidents.\n",
    "For each incident, the model will take into account the weather, road, and lighting conditions at the time and location of the motor vehicle accident.\n",
    "Input to the model will also include the number of people involved in the accident and the nature of their involvement,\n",
    "the number and types of vehicles and the nature of their involvement."
   ]
  },
  {
   "cell_type": "markdown",
   "metadata": {},
   "source": [
    "### Interest"
   ]
  },
  {
   "cell_type": "markdown",
   "metadata": {},
   "source": [
    "When an accident is initially reported to first responders, it can be helpful to have an accurate prediction of the severity of the accident.\n",
    "Such  an \"accident severity forecast\" could allowing emergency rooms and hospital staff to allocate their resources more efficiently.\n",
    "Furthermore, these accident severity forecasts can enable city planners, engineers, and architects to design traffic safer transit systems\n",
    "and roadways by identifying locations with a higher frequencies of accidents with serious injuries or fatalites.\n",
    "\n",
    "With the advent of autonomous vehicles, it is possible for accident severity models to aid in the selection safer routes based on weather and traffic conditions. \n",
    "In the event an autonomous vehicles is involved in an accident, the onboad system could communicate data to first responders and local hospitals,\n",
    "allowing them to formulate an efficient, effective response driven by accident severity models."
   ]
  },
  {
   "cell_type": "markdown",
   "metadata": {},
   "source": [
    "## Data Acquisition and Cleaning"
   ]
  },
  {
   "cell_type": "markdown",
   "metadata": {},
   "source": [
    "### Data Sources"
   ]
  },
  {
   "cell_type": "markdown",
   "metadata": {},
   "source": [
    "All of the data used in the training, testing, and validation of our machine learning models was obtained from the \n",
    "[City of Seattle's Open Data Portal](https://data-seattlecitygis.opendata.arcgis.com/datasets/collisions) free of charge. \n",
    "Accorinding to the website, the data set includes all types of collisions in a timeframe starting in 2004 through the present.\n",
    "Because the data set available on this website may change over time,\n",
    "we downloaded the collisions data set once and performed all training, testing, and validation with the same locally stored data set."
   ]
  },
  {
   "cell_type": "markdown",
   "metadata": {},
   "source": [
    "### Data Cleaning"
   ]
  },
  {
   "cell_type": "markdown",
   "metadata": {},
   "source": [
    "We went through several iterations of cleaning the data and looking for trends. \n",
    "The original data set was in the form of a .csv file, which we imported as a data frame. \n",
    "Initially, before any data cleaning, the data frame consisted of 221143 rows and 40 columns.\n",
    "There were 5 columns of floating point type, 12 columns of integer type, and 23 columns of object type.\n",
    "Using the [Attributes Information Form](https://www.seattle.gov/Documents/Departments/SDOT/GIS/Collisions_OD.pdf) located on the same website as the collisions .csv file,\n",
    "we removed any columns corresponding to unique identification keys or codes that would offer no benefit in the context of machine learning.\n",
    "We also removed any columns deemed redundant in light of combinations of other columns that could yield the same information.\n",
    "Using the Attribute Information Form, we also identified any \"sentinal\" values, which actually indiate that a value is \"unknown,\" and converted those values to NaN.\n",
    "We then dropped any column with more than %15 NaN because there was no reasonable way to assign a value to such fields.\n",
    "Finally, we dropped any row that contained at least in NaN."
   ]
  },
  {
   "cell_type": "markdown",
   "metadata": {},
   "source": [
    "### Feature Selection"
   ]
  },
  {
   "cell_type": "markdown",
   "metadata": {},
   "source": [
    "In selecting the features for training and testing the models, we went through several iterations to determine the most important features for this problem.\n",
    "Since the goal is to predict accident severity, it makes sense to include features related to weather, road, and light conditions.\n",
    "The number of pedestrians, bicycle riders, and vehicles involed also seems like reasonabe information to use in the model.\n",
    "In the real world, this information could be gathered at the scene of an accident.\n",
    "While the original data set contains information representing the longitude, latitude, and date-time of the accidents,\n",
    "these types of data require more processing and feature engineering to convert them into a form that is useful for machine learning applications.\n",
    "In our first attempt at predicting accident severity, we will take a simpler approach and reserve the spatial and temporal data for future investigation."
   ]
  },
  {
   "cell_type": "markdown",
   "metadata": {},
   "source": [
    "## Exploratory Data Analysis"
   ]
  },
  {
   "cell_type": "markdown",
   "metadata": {},
   "source": [
    "### Target Variable - Values and Distribution"
   ]
  },
  {
   "cell_type": "markdown",
   "metadata": {},
   "source": [
    "The target variable to be predicted by the our models is the severity of a given motor vehicle accident.\n",
    "In the original data set, the severity of each accident is represented by the \"SEVERITYCODE\" column, taking one of the following values:\n",
    "<ul>\n",
    "    <li><b>1</b> - property damage, but no injuries and no fatalities;</li>\n",
    "    <li><b>2</b> - at least one injury, but no serious injuries and no fatalites;</li>\n",
    "    <li><b>2b</b> - at least one serious injury, but no fatalites;</li>\n",
    "    <li><b>3</b> -  at least one fatality.</li>\n",
    "</ul>\n",
    "To sharpen the diference between the features of the accidents in the data set, we created a binary classification scheme.\n",
    "SEVERITYCODE values 1 and 2 are consolidated into a single class designated \"Minor Severity,\"\n",
    "and SEVERITYCODE values 2b and 3 are grouped into a class called \"Major Severity.\"\n",
    "Based on this consolidation of severity, we created a new boolean variable IS_SEVERE;\n",
    "it has the value True in case an accident has Major Severity,and False if the accident has Minor Severity."
   ]
  },
  {
   "cell_type": "markdown",
   "metadata": {},
   "source": [
    "After cleaning the data, and prior to splitting it into training and testing sets, the motor vehicle accdients had the following distribution of labels according to our new binary classification scheme:"
   ]
  },
  {
   "cell_type": "code",
   "execution_count": null,
   "metadata": {},
   "outputs": [],
   "source": [
    "df_categorical['IS_SEVERE'].value_counts(normalize=True, dropna=False)"
   ]
  },
  {
   "cell_type": "markdown",
   "metadata": {},
   "source": [
    "Initially, we split the data into two, disjoint, imbalanced sets:\n",
    "<ul>\n",
    "    <li>a set for generating a balanced training set;</li>\n",
    "    <li>a set to be used for testing and comparing the models.</li>\n",
    "</ul>\n",
    "The classes for the values of column IS_SEVERE are imbalanced, skewing greatly in favor of minor accidents.\n",
    "In order to generate a balanced training set, we use the techniques of oversampling with replacement for the minority class (value is True in column IS_SEVERE),\n",
    "along with undersampling without replacement for the majority class (value is False in column IS_SEVERE)\n",
    "Oversampling with replacement occured when the number of samples taken exceeded the number accidents available for sampling;\n",
    "conversely, undersampling without replacement occured if the number of samples taken was less than the number of accidents available for sampling."
   ]
  },
  {
   "cell_type": "markdown",
   "metadata": {},
   "source": [
    "### Relationship between Severity and Weather Conditions"
   ]
  },
  {
   "cell_type": "markdown",
   "metadata": {},
   "source": []
  },
  {
   "cell_type": "markdown",
   "metadata": {},
   "source": []
  },
  {
   "cell_type": "markdown",
   "metadata": {},
   "source": []
  },
  {
   "cell_type": "markdown",
   "metadata": {},
   "source": [
    "### Relationship between Severity and Road Conditions"
   ]
  },
  {
   "cell_type": "markdown",
   "metadata": {},
   "source": []
  },
  {
   "cell_type": "markdown",
   "metadata": {},
   "source": []
  },
  {
   "cell_type": "markdown",
   "metadata": {},
   "source": []
  },
  {
   "cell_type": "markdown",
   "metadata": {},
   "source": [
    "### Relationship between Severity and Lighting Conditions"
   ]
  },
  {
   "cell_type": "markdown",
   "metadata": {},
   "source": []
  },
  {
   "cell_type": "markdown",
   "metadata": {},
   "source": []
  },
  {
   "cell_type": "markdown",
   "metadata": {},
   "source": []
  },
  {
   "cell_type": "markdown",
   "metadata": {},
   "source": [
    "### Relationship between Severity and Collision Type"
   ]
  },
  {
   "cell_type": "markdown",
   "metadata": {},
   "source": []
  },
  {
   "cell_type": "markdown",
   "metadata": {},
   "source": []
  },
  {
   "cell_type": "markdown",
   "metadata": {},
   "source": []
  },
  {
   "cell_type": "markdown",
   "metadata": {},
   "source": [
    "## Classification Models"
   ]
  },
  {
   "cell_type": "markdown",
   "metadata": {},
   "source": [
    "### Applying Standard Algorithms"
   ]
  },
  {
   "cell_type": "markdown",
   "metadata": {},
   "source": [
    "### Issues with the Standard Algorithms"
   ]
  },
  {
   "cell_type": "markdown",
   "metadata": {},
   "source": [
    "### Resolving the Algorithm Issues"
   ]
  },
  {
   "cell_type": "markdown",
   "metadata": {},
   "source": [
    "### Perfomance Comparison if the Algorithms"
   ]
  },
  {
   "cell_type": "markdown",
   "metadata": {},
   "source": [
    "## Conclusions"
   ]
  },
  {
   "cell_type": "markdown",
   "metadata": {},
   "source": []
  },
  {
   "cell_type": "markdown",
   "metadata": {},
   "source": []
  },
  {
   "cell_type": "markdown",
   "metadata": {},
   "source": []
  },
  {
   "cell_type": "markdown",
   "metadata": {},
   "source": [
    "## Future Investigations"
   ]
  },
  {
   "cell_type": "markdown",
   "metadata": {},
   "source": [
    "All of the models in this project were designed to solve a multiclass classification problem: classify the severity of a given motor vehicle accident.\n",
    "An extension of this problem is to predict the number of non-serious injuries, the number of serious injuries, and the number of fatalities for a given accident.\n",
    "Because an accident may involve independent combinations of people from these three categories, this new problem is a multlabel problem.\n",
    "At the same time, because the number of individuals in each categroy is integer-valued, it is also a regression problem.\n",
    "Therefore, this new problem requires the construction of three regresssion models, one for each category of victim."
   ]
  },
  {
   "cell_type": "markdown",
   "metadata": {},
   "source": [
    "An additional problem brought to light by the Seattle Collisions Dataset is the question of how accident severity depends on location and time data.\n",
    "Since the dataset contains attributes representing the longitude and latitude for each incident, as well as the date and time,\n",
    "it is reasonable to incorporate this data into future model development.\n",
    "Theses data will perhaps reveal certain hours of the day or parts of the year that are more dangerous compared to other times.\n",
    "Traffic engineers would likely be interested in identifying specific locations/times, e.g. certain intersections, showing increased likelihoodof fatal or serious accidents, so they can mitigate risk by modifying traffic patterns or infrastructure."
   ]
  },
  {
   "cell_type": "markdown",
   "metadata": {},
   "source": []
  },
  {
   "cell_type": "markdown",
   "metadata": {},
   "source": [
    "## Acknowledgements"
   ]
  },
  {
   "cell_type": "markdown",
   "metadata": {},
   "source": [
    "In completing this Data Science Capstone Project, I am eternally grateful to my wife, Linda Garica, for her invaluable advice and infinite patience."
   ]
  },
  {
   "cell_type": "markdown",
   "metadata": {},
   "source": [
    "I am also indebted to Mike Jennings, Captain (Ret.), Oceanside Fire Department, Oceanside, CA. \n",
    "Mike was gratious enough to share his experiences as a first responder, as well as his professioal insight and enthusiasm."
   ]
  }
 ],
 "metadata": {
  "kernelspec": {
   "display_name": "Python 3",
   "language": "python",
   "name": "python3"
  },
  "language_info": {
   "codemirror_mode": {
    "name": "ipython",
    "version": 3
   },
   "file_extension": ".py",
   "mimetype": "text/x-python",
   "name": "python",
   "nbconvert_exporter": "python",
   "pygments_lexer": "ipython3",
   "version": "3.8.3"
  }
 },
 "nbformat": 4,
 "nbformat_minor": 4
}
