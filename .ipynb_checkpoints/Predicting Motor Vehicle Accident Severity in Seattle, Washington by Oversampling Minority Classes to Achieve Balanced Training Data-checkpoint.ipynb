{
 "cells": [
  {
   "cell_type": "markdown",
   "metadata": {},
   "source": [
    "<h1 id=\"title\">Predicting Motor Vehicle Accident Severity in Seattle, Washington by Oversampling Minority Classes to Achieve Balanced Training Data<\\h1>"
   ]
  },
  {
   "cell_type": "code",
   "execution_count": 1,
   "metadata": {},
   "outputs": [],
   "source": [
    "# Import packages and modules.\n",
    "import io\n",
    "import itertools\n",
    "import matplotlib as mpl\n",
    "import matplotlib.image as mpimg\n",
    "import matplotlib.pyplot as plt\n",
    "import matplotlib.ticker as ticker\n",
    "import numpy as np\n",
    "import os\n",
    "import pandas as pd\n",
    "import pylab as pl\n",
    "import scipy\n",
    "import scipy.optimize as opt\n",
    "import seaborn as sns\n",
    "import sklearn\n",
    "import sys\n",
    "import timeit\n",
    "import warnings\n",
    "from matplotlib.ticker import NullFormatter\n",
    "from scipy import optimize\n",
    "from scipy.optimize import curve_fit\n",
    "from scipy.sparse import csr_matrix\n",
    "from sklearn import linear_model\n",
    "from sklearn import metrics\n",
    "from sklearn import pipeline\n",
    "from sklearn import preprocessing\n",
    "from sklearn import svm\n",
    "from sklearn import tree\n",
    "from sklearn import utils\n",
    "from sklearn.linear_model import LinearRegression\n",
    "from sklearn.linear_model import LogisticRegression\n",
    "from sklearn.metrics import accuracy_score\n",
    "from sklearn.metrics import balanced_accuracy_score\n",
    "from sklearn.metrics import classification_report\n",
    "from sklearn.metrics import confusion_matrix\n",
    "from sklearn.metrics import f1_score\n",
    "from sklearn.metrics import jaccard_score\n",
    "from sklearn.metrics import log_loss\n",
    "from sklearn.metrics import plot_confusion_matrix\n",
    "from sklearn.metrics import recall_score\n",
    "from sklearn.metrics import r2_score\n",
    "from sklearn.model_selection import GridSearchCV\n",
    "from sklearn.model_selection import GroupKFold\n",
    "from sklearn.model_selection import KFold\n",
    "from sklearn.model_selection import LeaveOneOut\n",
    "from sklearn.model_selection import RepeatedKFold\n",
    "from sklearn.model_selection import StratifiedKFold\n",
    "from sklearn.model_selection import RepeatedStratifiedKFold\n",
    "from sklearn.model_selection import cross_val_predict\n",
    "from sklearn.model_selection import cross_val_score\n",
    "from sklearn.model_selection import cross_validate\n",
    "from sklearn.model_selection import train_test_split\n",
    "from sklearn.neighbors import KNeighborsClassifier\n",
    "from sklearn.pipeline import make_pipeline\n",
    "from sklearn.pipeline import Pipeline\n",
    "from sklearn.preprocessing import OneHotEncoder\n",
    "from sklearn.preprocessing import PolynomialFeatures\n",
    "from sklearn.preprocessing import StandardScaler\n",
    "from sklearn.svm import LinearSVC\n",
    "from sklearn.svm import SVC\n",
    "from sklearn.tree import DecisionTreeClassifier\n",
    "from sklearn.utils import resample\n",
    "from sklearn.utils import shuffle\n",
    "from sklearn.exceptions import ConvergenceWarning\n",
    "from timeit import default_timer\n",
    "%matplotlib inline"
   ]
  },
  {
   "cell_type": "code",
   "execution_count": 2,
   "metadata": {},
   "outputs": [],
   "source": [
    "warnings.filterwarnings(\"ignore\", category=ConvergenceWarning, module=\"sklearn\")"
   ]
  },
  {
   "cell_type": "code",
   "execution_count": 3,
   "metadata": {},
   "outputs": [],
   "source": [
    "# Define the starting time for this notebook. \n",
    "notebook_start_time = default_timer()"
   ]
  },
  {
   "cell_type": "code",
   "execution_count": 4,
   "metadata": {},
   "outputs": [],
   "source": [
    "# This function computes the time elapsed in seconds from the \n",
    "# time represented by the first parameter (start_time)\n",
    "# to the time represented by the second parameter (end_time)\n",
    "# This function requires the os package to be imported.\n",
    "def elapsed_time(start_time = notebook_start_time):\n",
    "    return default_timer() - start_time   "
   ]
  },
  {
   "cell_type": "code",
   "execution_count": 5,
   "metadata": {},
   "outputs": [],
   "source": [
    "# This function prints the time elapsed in seconds from the \n",
    "# time represented by the first parameter (start_time)\n",
    "# to the time represented by the second parameter (end_time)\n",
    "# This function requires the os package to be imported.\n",
    "def print_elapsed_time(start_time = notebook_start_time):\n",
    "    print(\"Elapsed time is\", elapsed_time(start_time), \"seconds.\")\n",
    "    return None"
   ]
  },
  {
   "cell_type": "code",
   "execution_count": 6,
   "metadata": {},
   "outputs": [
    {
     "name": "stdout",
     "output_type": "stream",
     "text": [
      "Setting display options...\n",
      "max_info_columns: 1000\n",
      "colheader_justify: right\n",
      "max_info_rows: 1000000\n",
      "column_space: 1000\n",
      "max_rows: 1000000\n",
      "precision: 9\n",
      "max_seq_items: 1000000000000\n",
      "show_dimensions: True\n",
      "max_categories: 100\n",
      "memory_usage: True\n",
      "max_columns: 1000\n",
      "max_colwidth: 1000\n",
      "float_format: <function <lambda> at 0x7f2902fad1f0>\n"
     ]
    }
   ],
   "source": [
    "# Create a list of display options.\n",
    "list_of_display_options_fully_qualified_names = str(\\\n",
    "\"pd.options.display.chop_threshold, pd.options.display.float_format, pd.options.display.max_info_columns, pd.options.display.notebook_repr_html, \\\n",
    "pd.options.display.colheader_justify, pd.options.display.html, pd.options.display.max_info_rows, pd.options.display.pprint_nest_depth, \\\n",
    "pd.options.display.column_space, pd.options.display.large_repr, pd.options.display.max_rows, pd.options.display.precision, \\\n",
    "pd.options.display.date_dayfirst, pd.options.display.latex, pd.options.display.max_seq_items, pd.options.display.show_dimensions, \\\n",
    "pd.options.display.date_yearfirst, pd.options.display.max_categories, pd.options.display.memory_usage, pd.options.display.unicode, \\\n",
    "pd.options.display.encoding, pd.options.display.max_columns, pd.options.display.min_rows, pd.options.display.width, \\\n",
    "pd.options.display.expand_frame_repr, pd.options.display.max_colwidth, pd.options.display.multi_sparse\").split(sep=', ')\n",
    "\n",
    "# Initialize an empty list to store all the short names for display options.\n",
    "list_of_display_options_short_names = list()\n",
    "# For each fully qualified option name,\n",
    "# get the option's short name and add it to the list of short names.\n",
    "for fully_qualified_option_name in list_of_display_options_fully_qualified_names:\n",
    "    # Get short option name.\n",
    "    short_option_name = fully_qualified_option_name.split(sep='.')[-1]\n",
    "    \n",
    "    # Add short option name to list of display option short names.\n",
    "    list_of_display_options_short_names.append(short_option_name)\n",
    "\n",
    "# Define dictionary of display option settings.\n",
    "dict_of_display_option_settings_short_names=\\\n",
    "{\"max_info_columns\": 1000,\\\n",
    "\"colheader_justify\": \"right\",\\\n",
    "\"max_info_rows\": 1000000,\\\n",
    "\"column_space\": 1000,\\\n",
    "\"max_rows\": 1000000,\\\n",
    "\"precision\": 9,\\\n",
    "\"max_seq_items\": 1000000000000,\\\n",
    "\"show_dimensions\": True,\\\n",
    "\"max_categories\": 100,\\\n",
    "\"memory_usage\": True,\\\n",
    "\"max_columns\": 1000,\\\n",
    "\"max_colwidth\": 1000,\\\n",
    "\"float_format\": lambda x: '%.9f' % x}\n",
    "\n",
    "# Set pandas display options using dictionary of short names,\n",
    "# and display the options/value pairs.\n",
    "print(\"Setting display options...\")\n",
    "for key in list(dict_of_display_option_settings_short_names.keys()):\n",
    "    # Set display option.\n",
    "    pd.set_option(key, dict_of_display_option_settings_short_names[key])\n",
    "    # Print display option name and value.\n",
    "    print(key, \": \", pd.get_option(key), sep='')"
   ]
  },
  {
   "cell_type": "code",
   "execution_count": 7,
   "metadata": {},
   "outputs": [
    {
     "name": "stdout",
     "output_type": "stream",
     "text": [
      "42\n"
     ]
    }
   ],
   "source": [
    "# Set seed for random number generator.\n",
    "# seed = np.int(os.times()[4]) # Use this line for better pseudo-random behavior.\n",
    "seed = 42\n",
    "print(seed)"
   ]
  },
  {
   "cell_type": "code",
   "execution_count": 8,
   "metadata": {},
   "outputs": [],
   "source": [
    "# Attribute Information URL: https://www.seattle.gov/Documents/Departments/SDOT/GIS/Collisions_OD.pdf\n",
    "# Read the Collisions Data CSV file and store it as a DataFrame.\n",
    "# url=\"https://opendata.arcgis.com/datasets/5b5c745e0f1f48e7a53acec63a0022ab_0.csv\" # HTTPError at 202009151050, using local copy of .csv instead.\n",
    "# print(os.listdir(\"..\")) # Print list of contents of current working directory.\n",
    "local_path_to_csv = '~/IBM Data Science Professional Certificate Course/Course 9 - Applied Data Science Capstone/projects/Collisions.csv'\n",
    "df=pd.read_csv(local_path_to_csv, low_memory=False)"
   ]
  },
  {
   "cell_type": "code",
   "execution_count": 9,
   "metadata": {},
   "outputs": [
    {
     "data": {
      "text/html": [
       "<div>\n",
       "<style scoped>\n",
       "    .dataframe tbody tr th:only-of-type {\n",
       "        vertical-align: middle;\n",
       "    }\n",
       "\n",
       "    .dataframe tbody tr th {\n",
       "        vertical-align: top;\n",
       "    }\n",
       "\n",
       "    .dataframe thead th {\n",
       "        text-align: right;\n",
       "    }\n",
       "</style>\n",
       "<table border=\"1\" class=\"dataframe\">\n",
       "  <thead>\n",
       "    <tr style=\"text-align: right;\">\n",
       "      <th></th>\n",
       "      <th>X</th>\n",
       "      <th>Y</th>\n",
       "      <th>OBJECTID</th>\n",
       "      <th>INCKEY</th>\n",
       "      <th>COLDETKEY</th>\n",
       "      <th>REPORTNO</th>\n",
       "      <th>STATUS</th>\n",
       "      <th>ADDRTYPE</th>\n",
       "      <th>INTKEY</th>\n",
       "      <th>LOCATION</th>\n",
       "      <th>EXCEPTRSNCODE</th>\n",
       "      <th>EXCEPTRSNDESC</th>\n",
       "      <th>SEVERITYCODE</th>\n",
       "      <th>SEVERITYDESC</th>\n",
       "      <th>COLLISIONTYPE</th>\n",
       "      <th>PERSONCOUNT</th>\n",
       "      <th>PEDCOUNT</th>\n",
       "      <th>PEDCYLCOUNT</th>\n",
       "      <th>VEHCOUNT</th>\n",
       "      <th>INJURIES</th>\n",
       "      <th>SERIOUSINJURIES</th>\n",
       "      <th>FATALITIES</th>\n",
       "      <th>INCDATE</th>\n",
       "      <th>INCDTTM</th>\n",
       "      <th>JUNCTIONTYPE</th>\n",
       "      <th>SDOT_COLCODE</th>\n",
       "      <th>SDOT_COLDESC</th>\n",
       "      <th>INATTENTIONIND</th>\n",
       "      <th>UNDERINFL</th>\n",
       "      <th>WEATHER</th>\n",
       "      <th>ROADCOND</th>\n",
       "      <th>LIGHTCOND</th>\n",
       "      <th>PEDROWNOTGRNT</th>\n",
       "      <th>SDOTCOLNUM</th>\n",
       "      <th>SPEEDING</th>\n",
       "      <th>ST_COLCODE</th>\n",
       "      <th>ST_COLDESC</th>\n",
       "      <th>SEGLANEKEY</th>\n",
       "      <th>CROSSWALKKEY</th>\n",
       "      <th>HITPARKEDCAR</th>\n",
       "    </tr>\n",
       "  </thead>\n",
       "  <tbody>\n",
       "    <tr>\n",
       "      <th>0</th>\n",
       "      <td>-122.320757054</td>\n",
       "      <td>47.609407946</td>\n",
       "      <td>1</td>\n",
       "      <td>328476</td>\n",
       "      <td>329976</td>\n",
       "      <td>EA08706</td>\n",
       "      <td>Matched</td>\n",
       "      <td>Block</td>\n",
       "      <td>nan</td>\n",
       "      <td>BROADWAY BETWEEN E COLUMBIA ST AND BOYLSTON AVE</td>\n",
       "      <td></td>\n",
       "      <td>NaN</td>\n",
       "      <td>1</td>\n",
       "      <td>Property Damage Only Collision</td>\n",
       "      <td>Sideswipe</td>\n",
       "      <td>2</td>\n",
       "      <td>0</td>\n",
       "      <td>0</td>\n",
       "      <td>2</td>\n",
       "      <td>0</td>\n",
       "      <td>0</td>\n",
       "      <td>0</td>\n",
       "      <td>2020/01/22 00:00:00+00</td>\n",
       "      <td>1/22/2020 3:21:00 PM</td>\n",
       "      <td>Mid-Block (not related to intersection)</td>\n",
       "      <td>11.000000000</td>\n",
       "      <td>MOTOR VEHICLE STRUCK MOTOR VEHICLE, FRONT END AT ANGLE</td>\n",
       "      <td>NaN</td>\n",
       "      <td>N</td>\n",
       "      <td>Raining</td>\n",
       "      <td>Wet</td>\n",
       "      <td>Dark - Street Lights On</td>\n",
       "      <td>NaN</td>\n",
       "      <td>nan</td>\n",
       "      <td>NaN</td>\n",
       "      <td>11</td>\n",
       "      <td>From same direction - both going straight - both moving - sideswipe</td>\n",
       "      <td>0</td>\n",
       "      <td>0</td>\n",
       "      <td>N</td>\n",
       "    </tr>\n",
       "    <tr>\n",
       "      <th>1</th>\n",
       "      <td>-122.319560827</td>\n",
       "      <td>47.662220664</td>\n",
       "      <td>2</td>\n",
       "      <td>328142</td>\n",
       "      <td>329642</td>\n",
       "      <td>EA06882</td>\n",
       "      <td>Matched</td>\n",
       "      <td>Block</td>\n",
       "      <td>nan</td>\n",
       "      <td>8TH AVE NE BETWEEN NE 45TH E ST AND NE 47TH ST</td>\n",
       "      <td></td>\n",
       "      <td>NaN</td>\n",
       "      <td>1</td>\n",
       "      <td>Property Damage Only Collision</td>\n",
       "      <td>Parked Car</td>\n",
       "      <td>2</td>\n",
       "      <td>0</td>\n",
       "      <td>0</td>\n",
       "      <td>2</td>\n",
       "      <td>0</td>\n",
       "      <td>0</td>\n",
       "      <td>0</td>\n",
       "      <td>2020/01/07 00:00:00+00</td>\n",
       "      <td>1/7/2020 8:00:00 AM</td>\n",
       "      <td>Mid-Block (not related to intersection)</td>\n",
       "      <td>15.000000000</td>\n",
       "      <td>MOTOR VEHICLE STRUCK MOTOR VEHICLE, RIGHT SIDE SIDESWIPE</td>\n",
       "      <td>NaN</td>\n",
       "      <td>N</td>\n",
       "      <td>Clear</td>\n",
       "      <td>Dry</td>\n",
       "      <td>Daylight</td>\n",
       "      <td>NaN</td>\n",
       "      <td>nan</td>\n",
       "      <td>NaN</td>\n",
       "      <td>32</td>\n",
       "      <td>One parked--one moving</td>\n",
       "      <td>0</td>\n",
       "      <td>0</td>\n",
       "      <td>Y</td>\n",
       "    </tr>\n",
       "    <tr>\n",
       "      <th>2</th>\n",
       "      <td>-122.327524508</td>\n",
       "      <td>47.604393273</td>\n",
       "      <td>3</td>\n",
       "      <td>20700</td>\n",
       "      <td>20700</td>\n",
       "      <td>1181833</td>\n",
       "      <td>Unmatched</td>\n",
       "      <td>Block</td>\n",
       "      <td>nan</td>\n",
       "      <td>JAMES ST BETWEEN 6TH AVE AND 7TH AVE</td>\n",
       "      <td>NaN</td>\n",
       "      <td>NaN</td>\n",
       "      <td>0</td>\n",
       "      <td>Unknown</td>\n",
       "      <td>NaN</td>\n",
       "      <td>0</td>\n",
       "      <td>0</td>\n",
       "      <td>0</td>\n",
       "      <td>0</td>\n",
       "      <td>0</td>\n",
       "      <td>0</td>\n",
       "      <td>0</td>\n",
       "      <td>2004/01/30 00:00:00+00</td>\n",
       "      <td>1/30/2004</td>\n",
       "      <td>Mid-Block (but intersection related)</td>\n",
       "      <td>11.000000000</td>\n",
       "      <td>MOTOR VEHICLE STRUCK MOTOR VEHICLE, FRONT END AT ANGLE</td>\n",
       "      <td>NaN</td>\n",
       "      <td>NaN</td>\n",
       "      <td>NaN</td>\n",
       "      <td>NaN</td>\n",
       "      <td>NaN</td>\n",
       "      <td>NaN</td>\n",
       "      <td>4030032.000000000</td>\n",
       "      <td>NaN</td>\n",
       "      <td>NaN</td>\n",
       "      <td>NaN</td>\n",
       "      <td>0</td>\n",
       "      <td>0</td>\n",
       "      <td>N</td>\n",
       "    </tr>\n",
       "    <tr>\n",
       "      <th>3</th>\n",
       "      <td>-122.327524934</td>\n",
       "      <td>47.708621579</td>\n",
       "      <td>4</td>\n",
       "      <td>332126</td>\n",
       "      <td>333626</td>\n",
       "      <td>M16001640</td>\n",
       "      <td>Unmatched</td>\n",
       "      <td>Block</td>\n",
       "      <td>nan</td>\n",
       "      <td>NE NORTHGATE WAY BETWEEN 1ST AVE NE AND NE NORTHGATE DR</td>\n",
       "      <td></td>\n",
       "      <td>NaN</td>\n",
       "      <td>0</td>\n",
       "      <td>Unknown</td>\n",
       "      <td>NaN</td>\n",
       "      <td>0</td>\n",
       "      <td>0</td>\n",
       "      <td>0</td>\n",
       "      <td>0</td>\n",
       "      <td>0</td>\n",
       "      <td>0</td>\n",
       "      <td>0</td>\n",
       "      <td>2016/01/23 00:00:00+00</td>\n",
       "      <td>1/23/2016</td>\n",
       "      <td>Mid-Block (not related to intersection)</td>\n",
       "      <td>11.000000000</td>\n",
       "      <td>MOTOR VEHICLE STRUCK MOTOR VEHICLE, FRONT END AT ANGLE</td>\n",
       "      <td>NaN</td>\n",
       "      <td>NaN</td>\n",
       "      <td>NaN</td>\n",
       "      <td>NaN</td>\n",
       "      <td>NaN</td>\n",
       "      <td>NaN</td>\n",
       "      <td>nan</td>\n",
       "      <td>NaN</td>\n",
       "      <td></td>\n",
       "      <td>NaN</td>\n",
       "      <td>0</td>\n",
       "      <td>0</td>\n",
       "      <td>N</td>\n",
       "    </tr>\n",
       "    <tr>\n",
       "      <th>4</th>\n",
       "      <td>-122.292120049</td>\n",
       "      <td>47.559009080</td>\n",
       "      <td>5</td>\n",
       "      <td>328238</td>\n",
       "      <td>329738</td>\n",
       "      <td>3857118</td>\n",
       "      <td>Unmatched</td>\n",
       "      <td>Block</td>\n",
       "      <td>nan</td>\n",
       "      <td>M L KING JR ER WAY S BETWEEN S ANGELINE ST AND S EDMUNDS ST</td>\n",
       "      <td></td>\n",
       "      <td>NaN</td>\n",
       "      <td>0</td>\n",
       "      <td>Unknown</td>\n",
       "      <td>NaN</td>\n",
       "      <td>0</td>\n",
       "      <td>0</td>\n",
       "      <td>0</td>\n",
       "      <td>0</td>\n",
       "      <td>0</td>\n",
       "      <td>0</td>\n",
       "      <td>0</td>\n",
       "      <td>2020/01/26 00:00:00+00</td>\n",
       "      <td>1/26/2020</td>\n",
       "      <td>Mid-Block (not related to intersection)</td>\n",
       "      <td>28.000000000</td>\n",
       "      <td>MOTOR VEHICLE RAN OFF ROAD - HIT FIXED OBJECT</td>\n",
       "      <td>NaN</td>\n",
       "      <td>NaN</td>\n",
       "      <td>NaN</td>\n",
       "      <td>NaN</td>\n",
       "      <td>NaN</td>\n",
       "      <td>NaN</td>\n",
       "      <td>nan</td>\n",
       "      <td>NaN</td>\n",
       "      <td></td>\n",
       "      <td>NaN</td>\n",
       "      <td>0</td>\n",
       "      <td>0</td>\n",
       "      <td>N</td>\n",
       "    </tr>\n",
       "  </tbody>\n",
       "</table>\n",
       "<p>5 rows × 40 columns</p>\n",
       "</div>"
      ],
      "text/plain": [
       "               X            Y  OBJECTID  INCKEY  COLDETKEY   REPORTNO  \\\n",
       "0 -122.320757054 47.609407946         1  328476     329976    EA08706   \n",
       "1 -122.319560827 47.662220664         2  328142     329642    EA06882   \n",
       "2 -122.327524508 47.604393273         3   20700      20700    1181833   \n",
       "3 -122.327524934 47.708621579         4  332126     333626  M16001640   \n",
       "4 -122.292120049 47.559009080         5  328238     329738    3857118   \n",
       "\n",
       "      STATUS ADDRTYPE  INTKEY  \\\n",
       "0    Matched    Block     nan   \n",
       "1    Matched    Block     nan   \n",
       "2  Unmatched    Block     nan   \n",
       "3  Unmatched    Block     nan   \n",
       "4  Unmatched    Block     nan   \n",
       "\n",
       "                                                      LOCATION EXCEPTRSNCODE  \\\n",
       "0              BROADWAY BETWEEN E COLUMBIA ST AND BOYLSTON AVE                 \n",
       "1               8TH AVE NE BETWEEN NE 45TH E ST AND NE 47TH ST                 \n",
       "2                         JAMES ST BETWEEN 6TH AVE AND 7TH AVE           NaN   \n",
       "3      NE NORTHGATE WAY BETWEEN 1ST AVE NE AND NE NORTHGATE DR                 \n",
       "4  M L KING JR ER WAY S BETWEEN S ANGELINE ST AND S EDMUNDS ST                 \n",
       "\n",
       "  EXCEPTRSNDESC SEVERITYCODE                    SEVERITYDESC COLLISIONTYPE  \\\n",
       "0           NaN            1  Property Damage Only Collision     Sideswipe   \n",
       "1           NaN            1  Property Damage Only Collision    Parked Car   \n",
       "2           NaN            0                         Unknown           NaN   \n",
       "3           NaN            0                         Unknown           NaN   \n",
       "4           NaN            0                         Unknown           NaN   \n",
       "\n",
       "   PERSONCOUNT  PEDCOUNT  PEDCYLCOUNT  VEHCOUNT  INJURIES  SERIOUSINJURIES  \\\n",
       "0            2         0            0         2         0                0   \n",
       "1            2         0            0         2         0                0   \n",
       "2            0         0            0         0         0                0   \n",
       "3            0         0            0         0         0                0   \n",
       "4            0         0            0         0         0                0   \n",
       "\n",
       "   FATALITIES                 INCDATE               INCDTTM  \\\n",
       "0           0  2020/01/22 00:00:00+00  1/22/2020 3:21:00 PM   \n",
       "1           0  2020/01/07 00:00:00+00   1/7/2020 8:00:00 AM   \n",
       "2           0  2004/01/30 00:00:00+00             1/30/2004   \n",
       "3           0  2016/01/23 00:00:00+00             1/23/2016   \n",
       "4           0  2020/01/26 00:00:00+00             1/26/2020   \n",
       "\n",
       "                              JUNCTIONTYPE  SDOT_COLCODE  \\\n",
       "0  Mid-Block (not related to intersection)  11.000000000   \n",
       "1  Mid-Block (not related to intersection)  15.000000000   \n",
       "2     Mid-Block (but intersection related)  11.000000000   \n",
       "3  Mid-Block (not related to intersection)  11.000000000   \n",
       "4  Mid-Block (not related to intersection)  28.000000000   \n",
       "\n",
       "                                               SDOT_COLDESC INATTENTIONIND  \\\n",
       "0    MOTOR VEHICLE STRUCK MOTOR VEHICLE, FRONT END AT ANGLE            NaN   \n",
       "1  MOTOR VEHICLE STRUCK MOTOR VEHICLE, RIGHT SIDE SIDESWIPE            NaN   \n",
       "2    MOTOR VEHICLE STRUCK MOTOR VEHICLE, FRONT END AT ANGLE            NaN   \n",
       "3    MOTOR VEHICLE STRUCK MOTOR VEHICLE, FRONT END AT ANGLE            NaN   \n",
       "4             MOTOR VEHICLE RAN OFF ROAD - HIT FIXED OBJECT            NaN   \n",
       "\n",
       "  UNDERINFL  WEATHER ROADCOND                LIGHTCOND PEDROWNOTGRNT  \\\n",
       "0         N  Raining      Wet  Dark - Street Lights On           NaN   \n",
       "1         N    Clear      Dry                 Daylight           NaN   \n",
       "2       NaN      NaN      NaN                      NaN           NaN   \n",
       "3       NaN      NaN      NaN                      NaN           NaN   \n",
       "4       NaN      NaN      NaN                      NaN           NaN   \n",
       "\n",
       "         SDOTCOLNUM SPEEDING ST_COLCODE  \\\n",
       "0               nan      NaN         11   \n",
       "1               nan      NaN         32   \n",
       "2 4030032.000000000      NaN        NaN   \n",
       "3               nan      NaN              \n",
       "4               nan      NaN              \n",
       "\n",
       "                                                            ST_COLDESC  \\\n",
       "0  From same direction - both going straight - both moving - sideswipe   \n",
       "1                                               One parked--one moving   \n",
       "2                                                                  NaN   \n",
       "3                                                                  NaN   \n",
       "4                                                                  NaN   \n",
       "\n",
       "   SEGLANEKEY  CROSSWALKKEY HITPARKEDCAR  \n",
       "0           0             0            N  \n",
       "1           0             0            Y  \n",
       "2           0             0            N  \n",
       "3           0             0            N  \n",
       "4           0             0            N  \n",
       "\n",
       "[5 rows x 40 columns]"
      ]
     },
     "execution_count": 9,
     "metadata": {},
     "output_type": "execute_result"
    }
   ],
   "source": [
    "# View the first few rows of the collisions DataFrame.\n",
    "df.head()"
   ]
  },
  {
   "cell_type": "code",
   "execution_count": 10,
   "metadata": {},
   "outputs": [
    {
     "name": "stdout",
     "output_type": "stream",
     "text": [
      "<class 'pandas.core.frame.DataFrame'>\n",
      "RangeIndex: 221389 entries, 0 to 221388\n",
      "Data columns (total 40 columns):\n",
      " #   Column           Non-Null Count   Dtype  \n",
      "---  ------           --------------   -----  \n",
      " 0   X                213918 non-null  float64\n",
      " 1   Y                213918 non-null  float64\n",
      " 2   OBJECTID         221389 non-null  int64  \n",
      " 3   INCKEY           221389 non-null  int64  \n",
      " 4   COLDETKEY        221389 non-null  int64  \n",
      " 5   REPORTNO         221389 non-null  object \n",
      " 6   STATUS           221389 non-null  object \n",
      " 7   ADDRTYPE         217677 non-null  object \n",
      " 8   INTKEY           71884 non-null   float64\n",
      " 9   LOCATION         216801 non-null  object \n",
      " 10  EXCEPTRSNCODE    100986 non-null  object \n",
      " 11  EXCEPTRSNDESC    11779 non-null   object \n",
      " 12  SEVERITYCODE     221388 non-null  object \n",
      " 13  SEVERITYDESC     221389 non-null  object \n",
      " 14  COLLISIONTYPE    195159 non-null  object \n",
      " 15  PERSONCOUNT      221389 non-null  int64  \n",
      " 16  PEDCOUNT         221389 non-null  int64  \n",
      " 17  PEDCYLCOUNT      221389 non-null  int64  \n",
      " 18  VEHCOUNT         221389 non-null  int64  \n",
      " 19  INJURIES         221389 non-null  int64  \n",
      " 20  SERIOUSINJURIES  221389 non-null  int64  \n",
      " 21  FATALITIES       221389 non-null  int64  \n",
      " 22  INCDATE          221389 non-null  object \n",
      " 23  INCDTTM          221389 non-null  object \n",
      " 24  JUNCTIONTYPE     209417 non-null  object \n",
      " 25  SDOT_COLCODE     221388 non-null  float64\n",
      " 26  SDOT_COLDESC     221388 non-null  object \n",
      " 27  INATTENTIONIND   30188 non-null   object \n",
      " 28  UNDERINFL        195179 non-null  object \n",
      " 29  WEATHER          194969 non-null  object \n",
      " 30  ROADCOND         195050 non-null  object \n",
      " 31  LIGHTCOND        194880 non-null  object \n",
      " 32  PEDROWNOTGRNT    5192 non-null    object \n",
      " 33  SDOTCOLNUM       127205 non-null  float64\n",
      " 34  SPEEDING         9928 non-null    object \n",
      " 35  ST_COLCODE       211976 non-null  object \n",
      " 36  ST_COLDESC       195159 non-null  object \n",
      " 37  SEGLANEKEY       221389 non-null  int64  \n",
      " 38  CROSSWALKKEY     221389 non-null  int64  \n",
      " 39  HITPARKEDCAR     221389 non-null  object \n",
      "dtypes: float64(5), int64(12), object(23)\n",
      "memory usage: 67.6+ MB\n"
     ]
    }
   ],
   "source": [
    "df.info()"
   ]
  },
  {
   "cell_type": "code",
   "execution_count": 11,
   "metadata": {},
   "outputs": [
    {
     "name": "stdout",
     "output_type": "stream",
     "text": [
      "Elapsed time is 9.72874118713662 seconds.\n"
     ]
    }
   ],
   "source": [
    "print_elapsed_time(notebook_start_time)"
   ]
  },
  {
   "cell_type": "markdown",
   "metadata": {},
   "source": [
    "<h2 id=\"data_wrangling\">Data Wrangling</h2>\n",
    "\n",
    "Steps for working with missing data:\n",
    "<ol>\n",
    "    <li>Identify missing data.</li>\n",
    "    <li>Deal with missing data.</li>\n",
    "    <li>Correct data format.</li>\n",
    "</ol>"
   ]
  },
  {
   "cell_type": "markdown",
   "metadata": {},
   "source": [
    "<h3 id=\"identifying_missing_data\">Identifying Missing Data</h3>\n",
    "\n",
    "The metadata document that accompanied the data set indicates that certain columns have \"sentinel\" values\n",
    "that indicate an unknown or missing value. Each of these missing values will first be converted into NaN.\n",
    "Subsequently, the NaN values will be dropped from the DataFrame."
   ]
  },
  {
   "cell_type": "code",
   "execution_count": 12,
   "metadata": {},
   "outputs": [],
   "source": [
    "# If any row of the collisions DataFrame contains a sentinel value representing \"unknown\",\n",
    "# then replace it with NaN. \n",
    "# Sentinels for \"unknown\" are listed in the metadata document that accompanies the dataset.\n",
    "df_unknowns_converted_to_nan = df.replace(to_replace=\\\n",
    "{\"EXCEPTRSNCODE\": \" \",\\\n",
    " \"EXCEPTRSNDESC\": \"Not Enough Information, or Insufficient Location Information\",\\\n",
    " \"SEVERITYCODE\": \"0\",\\\n",
    " \"SEVERITYDESC\": \"Unknown\",\\\n",
    " \"JUNCTIONTYPE\": \"Unknown\",\\\n",
    " \"WEATHER\": \"Unknown\",\\\n",
    " \"ROADCOND\": \"Unknown\",\\\n",
    " \"LIGHTCOND\": \"Unknown\",\\\n",
    " \"SDOT_COLCODE\": float(0),\\\n",
    " \"SDOT_COLDESC\": \"NOT ENOUGH INFORMATION / NOT APPLICABLE\",\\\n",
    " \"ST_COLCODE\": \" \",\\\n",
    " \"ST_COLDESC\": \"Not stated\"},\\\n",
    "value=np.nan, inplace=False, limit=None, regex=False, method='pad')\n",
    "\n",
    "df_unknowns_converted_to_nan.replace(to_replace={\"ST_COLCODE\": \"0\", }, value=np.nan, inplace=True, limit=None, regex=False, method='pad')"
   ]
  },
  {
   "cell_type": "code",
   "execution_count": 13,
   "metadata": {},
   "outputs": [
    {
     "name": "stdout",
     "output_type": "stream",
     "text": [
      "Elapsed time is 17.40984288812615 seconds.\n"
     ]
    }
   ],
   "source": [
    "print_elapsed_time(notebook_start_time)"
   ]
  },
  {
   "cell_type": "markdown",
   "metadata": {},
   "source": [
    "<h3 id=\"deal_with_missing_data\">Deal with Missing Data</h3>\n",
    "\n",
    "<ol>\n",
    "    <li>Drop the Data\n",
    "        <ol>\n",
    "            <li>Drop entire row.</li>\n",
    "            <li>Drop entire column.</li>\n",
    "        </ol>\n",
    "    </li>\n",
    "    <li>Replace the Data\n",
    "        <ol>\n",
    "            <li>Replace data by mean.</li>\n",
    "            <li>Replace data by frequency.</li>\n",
    "            <li>Replace data based on other functions.</li>\n",
    "        </ol>\n",
    "    </li>\n",
    "        \n",
    "</ol>"
   ]
  },
  {
   "cell_type": "markdown",
   "metadata": {},
   "source": [
    "Whole columns should be dropped only if most entries in the column are empty."
   ]
  },
  {
   "cell_type": "code",
   "execution_count": 14,
   "metadata": {},
   "outputs": [
    {
     "name": "stdout",
     "output_type": "stream",
     "text": [
      "['X', 'Y', 'OBJECTID', 'INCKEY', 'COLDETKEY', 'REPORTNO', 'STATUS', 'ADDRTYPE', 'INTKEY', 'LOCATION', 'EXCEPTRSNCODE', 'EXCEPTRSNDESC', 'SEVERITYCODE', 'SEVERITYDESC', 'COLLISIONTYPE', 'PERSONCOUNT', 'PEDCOUNT', 'PEDCYLCOUNT', 'VEHCOUNT', 'INJURIES', 'SERIOUSINJURIES', 'FATALITIES', 'INCDATE', 'INCDTTM', 'JUNCTIONTYPE', 'SDOT_COLCODE', 'SDOT_COLDESC', 'INATTENTIONIND', 'UNDERINFL', 'WEATHER', 'ROADCOND', 'LIGHTCOND', 'PEDROWNOTGRNT', 'SDOTCOLNUM', 'SPEEDING', 'ST_COLCODE', 'ST_COLDESC', 'SEGLANEKEY', 'CROSSWALKKEY', 'HITPARKEDCAR']\n"
     ]
    }
   ],
   "source": [
    "print(list(df.columns))"
   ]
  },
  {
   "cell_type": "code",
   "execution_count": 15,
   "metadata": {},
   "outputs": [],
   "source": [
    "# Drop any column from the collisions DataFrame if it satisfies at least one of the following conditions:\n",
    "# 1) more than 15% of the column's data is NaN;\n",
    "# 2) the column only contains unique identification keys, or information not useful for model building;\n",
    "# 3) the column's data is categorical but does not fit into a small (< 15) number of categories;\n",
    "# 4) information in the column is redundant because it is already represented by another column;\n",
    "# 5) it is not clear how to interpret the column's data.\n",
    "list_of_columns_to_drop = [\"ADDRTYPE\",\\\n",
    "                           \"STATUS\",\\\n",
    "                           \"OBJECTID\",\\\n",
    "                           \"INCKEY\",\\\n",
    "                           \"COLDETKEY\",\\\n",
    "                           \"REPORTNO\",\\\n",
    "                           \"INTKEY\",\\\n",
    "                           \"LOCATION\",\\\n",
    "                           \"EXCEPTRSNCODE\",\\\n",
    "                           \"EXCEPTRSNDESC\",\\\n",
    "                           \"SEVERITYDESC\",\\\n",
    "                           \"PERSONCOUNT\",\\\n",
    "                           \"INCDATE\",\\\n",
    "                           \"INCDTTM\",\\\n",
    "                           \"JUNCTIONTYPE\",\\\n",
    "                           \"SDOT_COLCODE\",\\\n",
    "                           \"SDOT_COLDESC\",\\\n",
    "                           \"INATTENTIONIND\",\\\n",
    "                           \"UNDERINFL\",\\\n",
    "                           \"PEDROWNOTGRNT\",\\\n",
    "                           \"SDOTCOLNUM\",\\\n",
    "                           \"SPEEDING\",\\\n",
    "                           \"ST_COLCODE\",\\\n",
    "                           \"ST_COLDESC\",\\\n",
    "                           \"SEGLANEKEY\",\\\n",
    "                           \"CROSSWALKKEY\",\\\n",
    "                           \"HITPARKEDCAR\"]"
   ]
  },
  {
   "cell_type": "code",
   "execution_count": 16,
   "metadata": {},
   "outputs": [],
   "source": [
    "# Drop the selected columns from the DataFrame after converting unknowns to NaN.\n",
    "# Store the result in a new DataFrame.\n",
    "df_drop_columns = df_unknowns_converted_to_nan.drop(columns=list_of_columns_to_drop, inplace=False)"
   ]
  },
  {
   "cell_type": "code",
   "execution_count": 17,
   "metadata": {},
   "outputs": [],
   "source": [
    "# Drop any row that contains at least one NaN.\n",
    "df_drop_columns_and_rows = df_drop_columns.dropna(axis=\"index\", how=\"any\", thresh=None, subset=None, inplace=False)"
   ]
  },
  {
   "cell_type": "code",
   "execution_count": 18,
   "metadata": {},
   "outputs": [],
   "source": [
    "minor_severity_labels = ['1', '2']\n",
    "major_severity_labels = ['2b', '3']"
   ]
  },
  {
   "cell_type": "code",
   "execution_count": 19,
   "metadata": {},
   "outputs": [],
   "source": [
    "series_is_severe = df_drop_columns_and_rows['SEVERITYCODE'].isin(major_severity_labels)"
   ]
  },
  {
   "cell_type": "code",
   "execution_count": 20,
   "metadata": {},
   "outputs": [
    {
     "data": {
      "text/plain": [
       "False    168603\n",
       "True       3269\n",
       "Name: SEVERITYCODE, Length: 2, dtype: int64"
      ]
     },
     "execution_count": 20,
     "metadata": {},
     "output_type": "execute_result"
    }
   ],
   "source": [
    "series_is_severe.value_counts()"
   ]
  },
  {
   "cell_type": "code",
   "execution_count": 21,
   "metadata": {},
   "outputs": [],
   "source": [
    "# Define a new column called 'IS_SEVERE'.\n",
    "# For each row of the DataFrame, if 'SEVERITYCODE' is '2b' or '3', then 'IS_SEVERE' gets the boolean value of True.\n",
    "# If 'SEVERITYCODE' is '1' or '2', then 'IS_SEVERE' gets the boolean value of False.\n",
    "df_drop_columns_and_rows.insert(0, 'IS_SEVERE', series_is_severe)"
   ]
  },
  {
   "cell_type": "code",
   "execution_count": 22,
   "metadata": {},
   "outputs": [
    {
     "name": "stdout",
     "output_type": "stream",
     "text": [
      "<class 'pandas.core.frame.DataFrame'>\n",
      "Int64Index: 171872 entries, 0 to 221388\n",
      "Data columns (total 14 columns):\n",
      " #   Column           Non-Null Count   Dtype  \n",
      "---  ------           --------------   -----  \n",
      " 0   IS_SEVERE        171872 non-null  bool   \n",
      " 1   X                171872 non-null  float64\n",
      " 2   Y                171872 non-null  float64\n",
      " 3   SEVERITYCODE     171872 non-null  object \n",
      " 4   COLLISIONTYPE    171872 non-null  object \n",
      " 5   PEDCOUNT         171872 non-null  int64  \n",
      " 6   PEDCYLCOUNT      171872 non-null  int64  \n",
      " 7   VEHCOUNT         171872 non-null  int64  \n",
      " 8   INJURIES         171872 non-null  int64  \n",
      " 9   SERIOUSINJURIES  171872 non-null  int64  \n",
      " 10  FATALITIES       171872 non-null  int64  \n",
      " 11  WEATHER          171872 non-null  object \n",
      " 12  ROADCOND         171872 non-null  object \n",
      " 13  LIGHTCOND        171872 non-null  object \n",
      "dtypes: bool(1), float64(2), int64(6), object(5)\n",
      "memory usage: 18.5+ MB\n"
     ]
    }
   ],
   "source": [
    "df_drop_columns_and_rows.info()"
   ]
  },
  {
   "cell_type": "code",
   "execution_count": 23,
   "metadata": {},
   "outputs": [
    {
     "data": {
      "text/html": [
       "<div>\n",
       "<style scoped>\n",
       "    .dataframe tbody tr th:only-of-type {\n",
       "        vertical-align: middle;\n",
       "    }\n",
       "\n",
       "    .dataframe tbody tr th {\n",
       "        vertical-align: top;\n",
       "    }\n",
       "\n",
       "    .dataframe thead th {\n",
       "        text-align: right;\n",
       "    }\n",
       "</style>\n",
       "<table border=\"1\" class=\"dataframe\">\n",
       "  <thead>\n",
       "    <tr style=\"text-align: right;\">\n",
       "      <th></th>\n",
       "      <th>IS_SEVERE</th>\n",
       "      <th>X</th>\n",
       "      <th>Y</th>\n",
       "      <th>SEVERITYCODE</th>\n",
       "      <th>COLLISIONTYPE</th>\n",
       "      <th>PEDCOUNT</th>\n",
       "      <th>PEDCYLCOUNT</th>\n",
       "      <th>VEHCOUNT</th>\n",
       "      <th>INJURIES</th>\n",
       "      <th>SERIOUSINJURIES</th>\n",
       "      <th>FATALITIES</th>\n",
       "      <th>WEATHER</th>\n",
       "      <th>ROADCOND</th>\n",
       "      <th>LIGHTCOND</th>\n",
       "    </tr>\n",
       "  </thead>\n",
       "  <tbody>\n",
       "    <tr>\n",
       "      <th>0</th>\n",
       "      <td>False</td>\n",
       "      <td>-122.320757054</td>\n",
       "      <td>47.609407946</td>\n",
       "      <td>1</td>\n",
       "      <td>Sideswipe</td>\n",
       "      <td>0</td>\n",
       "      <td>0</td>\n",
       "      <td>2</td>\n",
       "      <td>0</td>\n",
       "      <td>0</td>\n",
       "      <td>0</td>\n",
       "      <td>Raining</td>\n",
       "      <td>Wet</td>\n",
       "      <td>Dark - Street Lights On</td>\n",
       "    </tr>\n",
       "    <tr>\n",
       "      <th>1</th>\n",
       "      <td>False</td>\n",
       "      <td>-122.319560827</td>\n",
       "      <td>47.662220664</td>\n",
       "      <td>1</td>\n",
       "      <td>Parked Car</td>\n",
       "      <td>0</td>\n",
       "      <td>0</td>\n",
       "      <td>2</td>\n",
       "      <td>0</td>\n",
       "      <td>0</td>\n",
       "      <td>0</td>\n",
       "      <td>Clear</td>\n",
       "      <td>Dry</td>\n",
       "      <td>Daylight</td>\n",
       "    </tr>\n",
       "    <tr>\n",
       "      <th>5</th>\n",
       "      <td>False</td>\n",
       "      <td>-122.374193726</td>\n",
       "      <td>47.564075600</td>\n",
       "      <td>1</td>\n",
       "      <td>Rear Ended</td>\n",
       "      <td>0</td>\n",
       "      <td>0</td>\n",
       "      <td>2</td>\n",
       "      <td>0</td>\n",
       "      <td>0</td>\n",
       "      <td>0</td>\n",
       "      <td>Clear</td>\n",
       "      <td>Dry</td>\n",
       "      <td>Daylight</td>\n",
       "    </tr>\n",
       "    <tr>\n",
       "      <th>6</th>\n",
       "      <td>False</td>\n",
       "      <td>-122.290734129</td>\n",
       "      <td>47.709276309</td>\n",
       "      <td>1</td>\n",
       "      <td>Other</td>\n",
       "      <td>0</td>\n",
       "      <td>0</td>\n",
       "      <td>1</td>\n",
       "      <td>0</td>\n",
       "      <td>0</td>\n",
       "      <td>0</td>\n",
       "      <td>Clear</td>\n",
       "      <td>Wet</td>\n",
       "      <td>Daylight</td>\n",
       "    </tr>\n",
       "    <tr>\n",
       "      <th>8</th>\n",
       "      <td>False</td>\n",
       "      <td>-122.336564829</td>\n",
       "      <td>47.590397830</td>\n",
       "      <td>1</td>\n",
       "      <td>Sideswipe</td>\n",
       "      <td>0</td>\n",
       "      <td>0</td>\n",
       "      <td>2</td>\n",
       "      <td>0</td>\n",
       "      <td>0</td>\n",
       "      <td>0</td>\n",
       "      <td>Overcast</td>\n",
       "      <td>Dry</td>\n",
       "      <td>Daylight</td>\n",
       "    </tr>\n",
       "  </tbody>\n",
       "</table>\n",
       "<p>5 rows × 14 columns</p>\n",
       "</div>"
      ],
      "text/plain": [
       "   IS_SEVERE              X            Y SEVERITYCODE COLLISIONTYPE  PEDCOUNT  \\\n",
       "0      False -122.320757054 47.609407946            1     Sideswipe         0   \n",
       "1      False -122.319560827 47.662220664            1    Parked Car         0   \n",
       "5      False -122.374193726 47.564075600            1    Rear Ended         0   \n",
       "6      False -122.290734129 47.709276309            1         Other         0   \n",
       "8      False -122.336564829 47.590397830            1     Sideswipe         0   \n",
       "\n",
       "   PEDCYLCOUNT  VEHCOUNT  INJURIES  SERIOUSINJURIES  FATALITIES   WEATHER  \\\n",
       "0            0         2         0                0           0   Raining   \n",
       "1            0         2         0                0           0     Clear   \n",
       "5            0         2         0                0           0     Clear   \n",
       "6            0         1         0                0           0     Clear   \n",
       "8            0         2         0                0           0  Overcast   \n",
       "\n",
       "  ROADCOND                LIGHTCOND  \n",
       "0      Wet  Dark - Street Lights On  \n",
       "1      Dry                 Daylight  \n",
       "5      Dry                 Daylight  \n",
       "6      Wet                 Daylight  \n",
       "8      Dry                 Daylight  \n",
       "\n",
       "[5 rows x 14 columns]"
      ]
     },
     "execution_count": 23,
     "metadata": {},
     "output_type": "execute_result"
    }
   ],
   "source": [
    "df_drop_columns_and_rows.head()"
   ]
  },
  {
   "cell_type": "code",
   "execution_count": 24,
   "metadata": {},
   "outputs": [
    {
     "name": "stdout",
     "output_type": "stream",
     "text": [
      "Elapsed time is 19.80850490508601 seconds.\n"
     ]
    }
   ],
   "source": [
    "print_elapsed_time(notebook_start_time)"
   ]
  },
  {
   "cell_type": "markdown",
   "metadata": {},
   "source": [
    "<h3 id=\"correct_data_format\">Correct Data Format</h3>\n",
    "\n",
    "Ensure that each data type is appropriate for the corresponding feature.\n",
    "Cast columns of type \"object\" as type \"category\", but leave all other column types unaltered."
   ]
  },
  {
   "cell_type": "code",
   "execution_count": 25,
   "metadata": {},
   "outputs": [],
   "source": [
    "# Create new DataFrame to store converted data types.\n",
    "df_converted = pd.DataFrame()\n",
    "\n",
    "for column in list(df_drop_columns_and_rows.columns):\n",
    "    if (df_drop_columns_and_rows[column].dtype in [np.dtype('object')]):\n",
    "        df_converted[column] = df_drop_columns_and_rows[column].astype('category')\n",
    "    # Copy all other columns to new DataFrame without changing their types.\n",
    "    else:\n",
    "        df_converted[column] = df_drop_columns_and_rows[column]"
   ]
  },
  {
   "cell_type": "code",
   "execution_count": 26,
   "metadata": {},
   "outputs": [],
   "source": [
    "# Create DataFrame of categorical or integer columns, inclusive.\n",
    "df_categorical = df_converted.select_dtypes(include=['bool', 'category', 'integer'])"
   ]
  },
  {
   "cell_type": "code",
   "execution_count": 27,
   "metadata": {},
   "outputs": [
    {
     "name": "stdout",
     "output_type": "stream",
     "text": [
      "Elapsed time is 20.391180431004614 seconds.\n"
     ]
    }
   ],
   "source": [
    "print_elapsed_time(notebook_start_time)"
   ]
  },
  {
   "cell_type": "markdown",
   "metadata": {},
   "source": [
    "<h2 id=\"feature_selection\">Feature selection</h2>"
   ]
  },
  {
   "cell_type": "markdown",
   "metadata": {},
   "source": [
    "#### Features before One-Hot Encoding"
   ]
  },
  {
   "cell_type": "code",
   "execution_count": 28,
   "metadata": {},
   "outputs": [
    {
     "data": {
      "text/html": [
       "<div>\n",
       "<style scoped>\n",
       "    .dataframe tbody tr th:only-of-type {\n",
       "        vertical-align: middle;\n",
       "    }\n",
       "\n",
       "    .dataframe tbody tr th {\n",
       "        vertical-align: top;\n",
       "    }\n",
       "\n",
       "    .dataframe thead th {\n",
       "        text-align: right;\n",
       "    }\n",
       "</style>\n",
       "<table border=\"1\" class=\"dataframe\">\n",
       "  <thead>\n",
       "    <tr style=\"text-align: right;\">\n",
       "      <th></th>\n",
       "      <th>IS_SEVERE</th>\n",
       "      <th>SEVERITYCODE</th>\n",
       "      <th>COLLISIONTYPE</th>\n",
       "      <th>PEDCOUNT</th>\n",
       "      <th>PEDCYLCOUNT</th>\n",
       "      <th>VEHCOUNT</th>\n",
       "      <th>INJURIES</th>\n",
       "      <th>SERIOUSINJURIES</th>\n",
       "      <th>FATALITIES</th>\n",
       "      <th>WEATHER</th>\n",
       "      <th>ROADCOND</th>\n",
       "      <th>LIGHTCOND</th>\n",
       "    </tr>\n",
       "  </thead>\n",
       "  <tbody>\n",
       "    <tr>\n",
       "      <th>0</th>\n",
       "      <td>False</td>\n",
       "      <td>1</td>\n",
       "      <td>Sideswipe</td>\n",
       "      <td>0</td>\n",
       "      <td>0</td>\n",
       "      <td>2</td>\n",
       "      <td>0</td>\n",
       "      <td>0</td>\n",
       "      <td>0</td>\n",
       "      <td>Raining</td>\n",
       "      <td>Wet</td>\n",
       "      <td>Dark - Street Lights On</td>\n",
       "    </tr>\n",
       "    <tr>\n",
       "      <th>1</th>\n",
       "      <td>False</td>\n",
       "      <td>1</td>\n",
       "      <td>Parked Car</td>\n",
       "      <td>0</td>\n",
       "      <td>0</td>\n",
       "      <td>2</td>\n",
       "      <td>0</td>\n",
       "      <td>0</td>\n",
       "      <td>0</td>\n",
       "      <td>Clear</td>\n",
       "      <td>Dry</td>\n",
       "      <td>Daylight</td>\n",
       "    </tr>\n",
       "    <tr>\n",
       "      <th>5</th>\n",
       "      <td>False</td>\n",
       "      <td>1</td>\n",
       "      <td>Rear Ended</td>\n",
       "      <td>0</td>\n",
       "      <td>0</td>\n",
       "      <td>2</td>\n",
       "      <td>0</td>\n",
       "      <td>0</td>\n",
       "      <td>0</td>\n",
       "      <td>Clear</td>\n",
       "      <td>Dry</td>\n",
       "      <td>Daylight</td>\n",
       "    </tr>\n",
       "    <tr>\n",
       "      <th>6</th>\n",
       "      <td>False</td>\n",
       "      <td>1</td>\n",
       "      <td>Other</td>\n",
       "      <td>0</td>\n",
       "      <td>0</td>\n",
       "      <td>1</td>\n",
       "      <td>0</td>\n",
       "      <td>0</td>\n",
       "      <td>0</td>\n",
       "      <td>Clear</td>\n",
       "      <td>Wet</td>\n",
       "      <td>Daylight</td>\n",
       "    </tr>\n",
       "    <tr>\n",
       "      <th>8</th>\n",
       "      <td>False</td>\n",
       "      <td>1</td>\n",
       "      <td>Sideswipe</td>\n",
       "      <td>0</td>\n",
       "      <td>0</td>\n",
       "      <td>2</td>\n",
       "      <td>0</td>\n",
       "      <td>0</td>\n",
       "      <td>0</td>\n",
       "      <td>Overcast</td>\n",
       "      <td>Dry</td>\n",
       "      <td>Daylight</td>\n",
       "    </tr>\n",
       "  </tbody>\n",
       "</table>\n",
       "<p>5 rows × 12 columns</p>\n",
       "</div>"
      ],
      "text/plain": [
       "   IS_SEVERE SEVERITYCODE COLLISIONTYPE  PEDCOUNT  PEDCYLCOUNT  VEHCOUNT  \\\n",
       "0      False            1     Sideswipe         0            0         2   \n",
       "1      False            1    Parked Car         0            0         2   \n",
       "5      False            1    Rear Ended         0            0         2   \n",
       "6      False            1         Other         0            0         1   \n",
       "8      False            1     Sideswipe         0            0         2   \n",
       "\n",
       "   INJURIES  SERIOUSINJURIES  FATALITIES   WEATHER ROADCOND  \\\n",
       "0         0                0           0   Raining      Wet   \n",
       "1         0                0           0     Clear      Dry   \n",
       "5         0                0           0     Clear      Dry   \n",
       "6         0                0           0     Clear      Wet   \n",
       "8         0                0           0  Overcast      Dry   \n",
       "\n",
       "                 LIGHTCOND  \n",
       "0  Dark - Street Lights On  \n",
       "1                 Daylight  \n",
       "5                 Daylight  \n",
       "6                 Daylight  \n",
       "8                 Daylight  \n",
       "\n",
       "[5 rows x 12 columns]"
      ]
     },
     "execution_count": 28,
     "metadata": {},
     "output_type": "execute_result"
    }
   ],
   "source": [
    "df_categorical.head()"
   ]
  },
  {
   "cell_type": "code",
   "execution_count": 29,
   "metadata": {},
   "outputs": [
    {
     "name": "stdout",
     "output_type": "stream",
     "text": [
      "<class 'pandas.core.frame.DataFrame'>\n",
      "Int64Index: 171872 entries, 0 to 221388\n",
      "Data columns (total 12 columns):\n",
      " #   Column           Non-Null Count   Dtype   \n",
      "---  ------           --------------   -----   \n",
      " 0   IS_SEVERE        171872 non-null  bool    \n",
      " 1   SEVERITYCODE     171872 non-null  category\n",
      " 2   COLLISIONTYPE    171872 non-null  category\n",
      " 3   PEDCOUNT         171872 non-null  int64   \n",
      " 4   PEDCYLCOUNT      171872 non-null  int64   \n",
      " 5   VEHCOUNT         171872 non-null  int64   \n",
      " 6   INJURIES         171872 non-null  int64   \n",
      " 7   SERIOUSINJURIES  171872 non-null  int64   \n",
      " 8   FATALITIES       171872 non-null  int64   \n",
      " 9   WEATHER          171872 non-null  category\n",
      " 10  ROADCOND         171872 non-null  category\n",
      " 11  LIGHTCOND        171872 non-null  category\n",
      "dtypes: bool(1), category(5), int64(6)\n",
      "memory usage: 10.2 MB\n"
     ]
    }
   ],
   "source": [
    "df_categorical.info()"
   ]
  },
  {
   "cell_type": "code",
   "execution_count": 30,
   "metadata": {},
   "outputs": [
    {
     "name": "stdout",
     "output_type": "stream",
     "text": [
      "Elapsed time is 20.814803230110556 seconds.\n"
     ]
    }
   ],
   "source": [
    "print_elapsed_time(notebook_start_time)"
   ]
  },
  {
   "cell_type": "markdown",
   "metadata": {},
   "source": [
    "<h2 id=\"imbalanced_data\">Dealing with Imbalanced Data</h2>"
   ]
  },
  {
   "cell_type": "markdown",
   "metadata": {},
   "source": [
    "Because the data is imbalanced, we split the DataFrame into four DataFrames, one for each value of the SEVERITYCODE feature."
   ]
  },
  {
   "cell_type": "raw",
   "metadata": {},
   "source": [
    "print(\"SEVERITYCODE relative frequencies:\")\n",
    "print(df_categorical[\"SEVERITYCODE\"].value_counts(normalize=True, dropna=False))"
   ]
  },
  {
   "cell_type": "raw",
   "metadata": {},
   "source": [
    "print(\"SEVERITYCODE relative frequencies:\")\n",
    "print(df_categorical[\"SEVERITYCODE\"].value_counts(normalize=False, dropna=False))"
   ]
  },
  {
   "cell_type": "raw",
   "metadata": {},
   "source": [
    "df_class_1 = df_categorical[df_categorical['SEVERITYCODE'] == '1']\n",
    "df_class_2 = df_categorical[df_categorical['SEVERITYCODE'] == '2']\n",
    "df_class_2b = df_categorical[df_categorical['SEVERITYCODE'] == '2b']\n",
    "df_class_3 = df_categorical[df_categorical['SEVERITYCODE'] == '3']"
   ]
  },
  {
   "cell_type": "raw",
   "metadata": {},
   "source": [
    "print(\"SEVERITYCODE relative frequencies:\")\n",
    "print(df_class_1[\"SEVERITYCODE\"].value_counts(normalize=False, dropna=False))"
   ]
  },
  {
   "cell_type": "raw",
   "metadata": {},
   "source": [
    "print(\"SEVERITYCODE relative frequencies:\")\n",
    "print(df_class_2[\"SEVERITYCODE\"].value_counts(normalize=False, dropna=False))"
   ]
  },
  {
   "cell_type": "raw",
   "metadata": {},
   "source": [
    "print(\"SEVERITYCODE relative frequencies:\")\n",
    "print(df_class_2b[\"SEVERITYCODE\"].value_counts(normalize=False, dropna=False))"
   ]
  },
  {
   "cell_type": "raw",
   "metadata": {},
   "source": [
    "print(\"SEVERITYCODE relative frequencies:\")\n",
    "print(df_class_3[\"SEVERITYCODE\"].value_counts(normalize=False, dropna=False))"
   ]
  },
  {
   "cell_type": "raw",
   "metadata": {},
   "source": [
    "# Store and print the size of the all classes.\n",
    "class_1_size = len(df_class_1)\n",
    "class_2_size = len(df_class_2)\n",
    "class_2b_size = len(df_class_2b)\n",
    "class_3_size = len(df_class_3)\n",
    "print('class_1_size =', class_1_size)\n",
    "print('class_2_size =', class_2_size)\n",
    "print('class_2b_size =', class_2b_size)\n",
    "print('class_3_size =', class_3_size)\n",
    "print()\n",
    "# Store and print the size of the minority class.\n",
    "minority_class_size = len(df_class_3)\n",
    "print('minority_class_size =', minority_class_size)"
   ]
  },
  {
   "cell_type": "raw",
   "metadata": {},
   "source": [
    "print_elapsed_time(notebook_start_time)"
   ]
  },
  {
   "cell_type": "code",
   "execution_count": null,
   "metadata": {},
   "outputs": [],
   "source": []
  },
  {
   "cell_type": "code",
   "execution_count": 31,
   "metadata": {},
   "outputs": [
    {
     "name": "stdout",
     "output_type": "stream",
     "text": [
      "IS_SEVERE relative frequencies:\n",
      "False   0.980980032\n",
      "True    0.019019968\n",
      "Name: IS_SEVERE, Length: 2, dtype: float64\n"
     ]
    }
   ],
   "source": [
    "print('IS_SEVERE relative frequencies:')\n",
    "print(df_categorical['IS_SEVERE'].value_counts(normalize=True, dropna=False))"
   ]
  },
  {
   "cell_type": "code",
   "execution_count": 32,
   "metadata": {},
   "outputs": [
    {
     "name": "stdout",
     "output_type": "stream",
     "text": [
      "IS_SEVERE relative frequencies:\n",
      "False    168603\n",
      "True       3269\n",
      "Name: IS_SEVERE, Length: 2, dtype: int64\n"
     ]
    }
   ],
   "source": [
    "print(\"IS_SEVERE relative frequencies:\")\n",
    "print(df_categorical['IS_SEVERE'].value_counts(normalize=False, dropna=False))"
   ]
  },
  {
   "cell_type": "code",
   "execution_count": 33,
   "metadata": {},
   "outputs": [],
   "source": [
    "df_class_major_severity = df_categorical[df_categorical['IS_SEVERE']]\n",
    "df_class_minor_severity = df_categorical[~df_categorical['IS_SEVERE']]"
   ]
  },
  {
   "cell_type": "code",
   "execution_count": 34,
   "metadata": {},
   "outputs": [
    {
     "data": {
      "text/plain": [
       "pandas.core.frame.DataFrame"
      ]
     },
     "execution_count": 34,
     "metadata": {},
     "output_type": "execute_result"
    }
   ],
   "source": [
    "type(df_class_major_severity)"
   ]
  },
  {
   "cell_type": "code",
   "execution_count": 35,
   "metadata": {},
   "outputs": [
    {
     "name": "stdout",
     "output_type": "stream",
     "text": [
      "<class 'pandas.core.frame.DataFrame'>\n",
      "Int64Index: 3269 entries, 116 to 221277\n",
      "Data columns (total 12 columns):\n",
      " #   Column           Non-Null Count  Dtype   \n",
      "---  ------           --------------  -----   \n",
      " 0   IS_SEVERE        3269 non-null   bool    \n",
      " 1   SEVERITYCODE     3269 non-null   category\n",
      " 2   COLLISIONTYPE    3269 non-null   category\n",
      " 3   PEDCOUNT         3269 non-null   int64   \n",
      " 4   PEDCYLCOUNT      3269 non-null   int64   \n",
      " 5   VEHCOUNT         3269 non-null   int64   \n",
      " 6   INJURIES         3269 non-null   int64   \n",
      " 7   SERIOUSINJURIES  3269 non-null   int64   \n",
      " 8   FATALITIES       3269 non-null   int64   \n",
      " 9   WEATHER          3269 non-null   category\n",
      " 10  ROADCOND         3269 non-null   category\n",
      " 11  LIGHTCOND        3269 non-null   category\n",
      "dtypes: bool(1), category(5), int64(6)\n",
      "memory usage: 199.6 KB\n"
     ]
    }
   ],
   "source": [
    "df_class_major_severity.info()"
   ]
  },
  {
   "cell_type": "code",
   "execution_count": 36,
   "metadata": {},
   "outputs": [
    {
     "data": {
      "text/plain": [
       "pandas.core.frame.DataFrame"
      ]
     },
     "execution_count": 36,
     "metadata": {},
     "output_type": "execute_result"
    }
   ],
   "source": [
    "type(df_class_minor_severity)"
   ]
  },
  {
   "cell_type": "code",
   "execution_count": 37,
   "metadata": {},
   "outputs": [
    {
     "name": "stdout",
     "output_type": "stream",
     "text": [
      "<class 'pandas.core.frame.DataFrame'>\n",
      "Int64Index: 168603 entries, 0 to 221388\n",
      "Data columns (total 12 columns):\n",
      " #   Column           Non-Null Count   Dtype   \n",
      "---  ------           --------------   -----   \n",
      " 0   IS_SEVERE        168603 non-null  bool    \n",
      " 1   SEVERITYCODE     168603 non-null  category\n",
      " 2   COLLISIONTYPE    168603 non-null  category\n",
      " 3   PEDCOUNT         168603 non-null  int64   \n",
      " 4   PEDCYLCOUNT      168603 non-null  int64   \n",
      " 5   VEHCOUNT         168603 non-null  int64   \n",
      " 6   INJURIES         168603 non-null  int64   \n",
      " 7   SERIOUSINJURIES  168603 non-null  int64   \n",
      " 8   FATALITIES       168603 non-null  int64   \n",
      " 9   WEATHER          168603 non-null  category\n",
      " 10  ROADCOND         168603 non-null  category\n",
      " 11  LIGHTCOND        168603 non-null  category\n",
      "dtypes: bool(1), category(5), int64(6)\n",
      "memory usage: 10.0 MB\n"
     ]
    }
   ],
   "source": [
    "df_class_minor_severity.info()"
   ]
  },
  {
   "cell_type": "code",
   "execution_count": 38,
   "metadata": {},
   "outputs": [
    {
     "name": "stdout",
     "output_type": "stream",
     "text": [
      "IS_SEVERE relative frequencies:\n",
      "True    3269\n",
      "Name: IS_SEVERE, Length: 1, dtype: int64\n"
     ]
    }
   ],
   "source": [
    "print(\"IS_SEVERE relative frequencies:\")\n",
    "print(df_class_major_severity[\"IS_SEVERE\"].value_counts(normalize=False, dropna=False))"
   ]
  },
  {
   "cell_type": "code",
   "execution_count": 39,
   "metadata": {},
   "outputs": [
    {
     "name": "stdout",
     "output_type": "stream",
     "text": [
      "IS_SEVERE relative frequencies:\n",
      "False    168603\n",
      "Name: IS_SEVERE, Length: 1, dtype: int64\n"
     ]
    }
   ],
   "source": [
    "print(\"IS_SEVERE relative frequencies:\")\n",
    "print(df_class_minor_severity[\"IS_SEVERE\"].value_counts(normalize=False, dropna=False))"
   ]
  },
  {
   "cell_type": "code",
   "execution_count": 40,
   "metadata": {},
   "outputs": [
    {
     "name": "stdout",
     "output_type": "stream",
     "text": [
      "class_major_severity_size = 3269\n",
      "class_minor_severity_size = 168603\n",
      "\n",
      "minority_class_size = 3269\n"
     ]
    }
   ],
   "source": [
    "# Store and print the size of the all classes.\n",
    "class_major_severity_size = len(df_class_major_severity)\n",
    "class_minor_severity_size = len(df_class_minor_severity)\n",
    "print('class_major_severity_size =', class_major_severity_size)\n",
    "print('class_minor_severity_size =', class_minor_severity_size)\n",
    "print()\n",
    "# Store and print the size of the minority class.\n",
    "minority_class_size = len(df_class_major_severity)\n",
    "print('minority_class_size =', minority_class_size)"
   ]
  },
  {
   "cell_type": "code",
   "execution_count": 41,
   "metadata": {},
   "outputs": [
    {
     "name": "stdout",
     "output_type": "stream",
     "text": [
      "Elapsed time is 22.02424705005251 seconds.\n"
     ]
    }
   ],
   "source": [
    "print_elapsed_time(notebook_start_time)"
   ]
  },
  {
   "cell_type": "markdown",
   "metadata": {},
   "source": [
    "<h2 id='sample_size_class_3'>Sample all Classes Equally to Create a Balanced Training Set<\\h2>"
   ]
  },
  {
   "cell_type": "raw",
   "metadata": {
    "jupyter": {
     "source_hidden": true
    }
   },
   "source": [
    "# This parameter determines what fraction of the minority class's data are reserved for testing.\n",
    "test_size_ratio = .2\n",
    "\n",
    "# Using train/test splits, set aside part of the data for testing.\n",
    "df_class_1_train_pre_sampling, df_class_1_test = train_test_split(df_class_1, test_size=test_size_ratio, random_state=seed)\n",
    "df_class_2_train_pre_sampling, df_class_2_test = train_test_split(df_class_2, test_size=test_size_ratio, random_state=seed)\n",
    "df_class_2b_train_pre_sampling, df_class_2b_test = train_test_split(df_class_2b, test_size=test_size_ratio, random_state=seed)\n",
    "df_class_3_train_pre_sampling, df_class_3_test = train_test_split(df_class_3, test_size=test_size_ratio, random_state=seed)"
   ]
  },
  {
   "cell_type": "raw",
   "metadata": {
    "jupyter": {
     "source_hidden": true
    }
   },
   "source": [
    "# Build a balanced training set by sampling the imbalanced training data equally by class:\n",
    "\n",
    "# Set a sampling parameter to control the amount of oversampling for the minority class.\n",
    "# Oversampling requires this parameter to be greater than 1.\n",
    "# If this parameter is less than or equal to 1, then oversampling will not occur.\n",
    "sampling_ratio = 10 # 10 is the number of folds for cross-valiation\n",
    "print('sampling_ratio = %f' % (sampling_ratio))\n",
    "\n",
    "# Set the replace parameter of the sample method based on the sampling ratio.\n",
    "# If the sampling_ratio > 1, sample with replacement.\n",
    "# Otherwise, sample without replacement.\n",
    "sample_with_replacement = bool(sampling_ratio > 1)\n",
    "# Print the value of the replace parameter before passing it to the sample method.\n",
    "print('Sample class 3 with replacement: %s' % (sample_with_replacement))\n",
    "\n",
    "# Sample the minority class's training set based on the sampling parameter and store the sample for later concatenation.\n",
    "df_class_3_train = df_class_3_train_pre_sampling.sample(frac=sampling_ratio, replace=sample_with_replacement, axis='index', random_state=seed)\n",
    "\n",
    "# Store the size of the minority class's training set.\n",
    "class_3_train_size = df_class_3_train.shape[0]\n",
    "\n",
    "# Take samples of the other classes' training data, where the sample size taken is equal to the size of the minority class's training set.\n",
    "# If the sample size to be taken exceeds the number of samples in the class's training data, sample with replacement.\n",
    "\n",
    "# Sampling for class 2b.\n",
    "sample_with_replacement = bool(class_3_train_size > df_class_2b_train_pre_sampling.shape[0])\n",
    "# Print the value of the replace parameter before passing it to the sample method.\n",
    "print('Sample class 2b with replacement: %s' % (sample_with_replacement))\n",
    "df_class_2b_train = df_class_2b_train_pre_sampling.sample(n=class_3_train_size, replace=sample_with_replacement, axis='index', random_state=seed)\n",
    "\n",
    "# Sampling for class 2.\n",
    "sample_with_replacement = bool(class_3_train_size > df_class_2_train_pre_sampling.shape[0])\n",
    "# Print the value of the replace parameter before passing it to the sample method.\n",
    "print('Sample class 2 with replacement: %s' % (sample_with_replacement))\n",
    "df_class_2_train = df_class_2_train_pre_sampling.sample(n=class_3_train_size, replace=sample_with_replacement, axis='index', random_state=seed)\n",
    "\n",
    "# Sampling for class 1.\n",
    "sample_with_replacement = bool(class_3_train_size > df_class_1_train_pre_sampling.shape[0])\n",
    "# Print the value of the replace parameter before passing it to the sample method.\n",
    "print('Sample class 1 with replacement: %s' % (sample_with_replacement))\n",
    "df_class_1_train = df_class_1_train_pre_sampling.sample(n=class_3_train_size, replace=sample_with_replacement, axis='index', random_state=seed)"
   ]
  },
  {
   "cell_type": "raw",
   "metadata": {
    "jupyter": {
     "source_hidden": true
    }
   },
   "source": [
    "# Make a balanced, unshuffled training set by concatenating the equal sized samples of the training sets for each class.\n",
    "df_train_balanced_not_shuffled = pd.concat([df_class_1_train, df_class_2_train, df_class_2b_train, df_class_3_train], axis='index')\n",
    "\n",
    "# Make a not necessarily balanced testing set by concatenating the testing sets for each class.\n",
    "df_test_not_shuffled = pd.concat([df_class_1_test, df_class_2_test, df_class_2b_test, df_class_3_test], axis='index')"
   ]
  },
  {
   "cell_type": "raw",
   "metadata": {
    "jupyter": {
     "source_hidden": true
    }
   },
   "source": [
    "# Shuffle the training set and store it for tuning hyper-parameters and for cross-validation.\n",
    "df_train = shuffle(df_train_balanced_not_shuffled, random_state=seed)\n",
    "\n",
    "# Shuffle the unbalanced DataFrame and store it for validation and for comparing the models.\n",
    "df_test = shuffle(df_test_not_shuffled, random_state=seed)"
   ]
  },
  {
   "cell_type": "raw",
   "metadata": {
    "jupyter": {
     "source_hidden": true
    }
   },
   "source": [
    "# Verify the training DataFrame is balanced.\n",
    "print(\"SEVERITYCODE relative frequencies:\")\n",
    "print(df_train[\"SEVERITYCODE\"].value_counts(normalize=False, dropna=False))"
   ]
  },
  {
   "cell_type": "raw",
   "metadata": {
    "jupyter": {
     "source_hidden": true
    }
   },
   "source": [
    "# Verify the new DataFrame is balanced.\n",
    "print(\"SEVERITYCODE relative frequencies:\")\n",
    "print(df_train[\"SEVERITYCODE\"].value_counts(normalize=True, dropna=False))"
   ]
  },
  {
   "cell_type": "code",
   "execution_count": 42,
   "metadata": {},
   "outputs": [
    {
     "name": "stdout",
     "output_type": "stream",
     "text": [
      "number_of_folds = 4.000000\n"
     ]
    }
   ],
   "source": [
    "# Number of folds for cross-validation\n",
    "number_of_folds = 4\n",
    "print('number_of_folds = %f' % (number_of_folds))"
   ]
  },
  {
   "cell_type": "code",
   "execution_count": 43,
   "metadata": {},
   "outputs": [
    {
     "name": "stdout",
     "output_type": "stream",
     "text": [
      "test_size_ratio = 0.200000\n"
     ]
    }
   ],
   "source": [
    "# This parameter determines what fraction of the data is reserved for testing.\n",
    "# It must be between 0 and 1, exclusive, i.e. 0 < test_size_ratio < 1.\n",
    "test_size_ratio = 1 / (number_of_folds + 1)\n",
    "print('test_size_ratio = %f' % (test_size_ratio))\n",
    "\n",
    "# Using train/test splits, set aside part of the data for testing.\n",
    "df_class_minor_severity_train_pre_sampling, df_class_minor_severity_test =\\\n",
    "    train_test_split(df_class_minor_severity, test_size=test_size_ratio, random_state=seed)\n",
    "\n",
    "df_class_major_severity_train_pre_sampling, df_class_major_severity_test =\\\n",
    "    train_test_split(df_class_major_severity, test_size=test_size_ratio, random_state=seed)"
   ]
  },
  {
   "cell_type": "code",
   "execution_count": 44,
   "metadata": {},
   "outputs": [
    {
     "name": "stdout",
     "output_type": "stream",
     "text": [
      "sampling_ratio = 4.000000\n",
      "Sample class major severity with replacement: True\n",
      "Sample class minor_severity with replacement: False\n"
     ]
    }
   ],
   "source": [
    "# Build a balanced training set by sampling the imbalanced training data equally by class:\n",
    "\n",
    "# Set a sampling parameter to control the amount of oversampling for the minority class.\n",
    "# Oversampling requires this parameter to be greater than 1.\n",
    "# If this parameter is less than or equal to 1, then oversampling will not occur.\n",
    "sampling_ratio = number_of_folds\n",
    "print('sampling_ratio = %f' % (sampling_ratio))\n",
    "\n",
    "# Set the replace parameter of the sample method based on the sampling ratio.\n",
    "# If the sampling_ratio > 1, sample with replacement.\n",
    "# Otherwise, sample without replacement.\n",
    "sample_with_replacement = bool(sampling_ratio > 1)\n",
    "# Print the value of the replace parameter before passing it to the sample method.\n",
    "print('Sample class major severity with replacement: %s' % (sample_with_replacement))\n",
    "\n",
    "# Sample the minority class's training set based on the sampling parameter and store the sample for later concatenation.\n",
    "df_class_major_severity_train = df_class_major_severity_train_pre_sampling.sample(frac=sampling_ratio, replace=sample_with_replacement, axis='index', random_state=seed)\n",
    "\n",
    "# Store the size of the minority class's training set.\n",
    "df_class_major_severity_train_size = df_class_major_severity_train.shape[0]\n",
    "\n",
    "# Take a sample of the other class's pre-sampling training data,\n",
    "# where the sample size taken is equal to the size of the minority class's training set.\n",
    "# If the sample size to be taken exceeds the number of samples in available, sample with replacement.\n",
    "\n",
    "# Sampling for class minor_severity\n",
    "sample_with_replacement = bool(df_class_major_severity_train_size > df_class_minor_severity_train_pre_sampling.shape[0])\n",
    "# Print the value of the replace parameter before passing it to the sample method.\n",
    "print('Sample class minor_severity with replacement: %s' % (sample_with_replacement))\n",
    "df_class_minor_severity_train = df_class_minor_severity_train_pre_sampling.sample(n=df_class_major_severity_train_size,\\\n",
    "                                                                                   replace=sample_with_replacement, axis='index',\\\n",
    "                                                                                   random_state=seed)"
   ]
  },
  {
   "cell_type": "code",
   "execution_count": 45,
   "metadata": {},
   "outputs": [],
   "source": [
    "# Make a balanced, unshuffled training set by concatenating the equal sized samples of the training sets for each class.\n",
    "df_train_balanced_not_shuffled = pd.concat([df_class_minor_severity_train, df_class_major_severity_train], axis='index')\n",
    "\n",
    "# Make a not necessarily balanced testing set by concatenating the testing sets for each class.\n",
    "df_test_not_shuffled = pd.concat([df_class_minor_severity_test, df_class_major_severity_test], axis='index')"
   ]
  },
  {
   "cell_type": "code",
   "execution_count": 46,
   "metadata": {},
   "outputs": [],
   "source": [
    "# Shuffle the training set and store it for tuning hyper-parameters and for cross-validation.\n",
    "df_train = shuffle(df_train_balanced_not_shuffled, random_state=seed)\n",
    "\n",
    "# Shuffle the unbalanced DataFrame and store it for validation and for comparing the models.\n",
    "df_test = shuffle(df_test_not_shuffled, random_state=seed)"
   ]
  },
  {
   "cell_type": "code",
   "execution_count": 47,
   "metadata": {},
   "outputs": [
    {
     "name": "stdout",
     "output_type": "stream",
     "text": [
      "IS_SEVERE relative frequencies:\n",
      "True     10460\n",
      "False    10460\n",
      "Name: IS_SEVERE, Length: 2, dtype: int64\n"
     ]
    }
   ],
   "source": [
    "# Verify the training DataFrame is balanced.\n",
    "print(\"IS_SEVERE relative frequencies:\")\n",
    "print(df_train[\"IS_SEVERE\"].value_counts(normalize=False, dropna=False))"
   ]
  },
  {
   "cell_type": "code",
   "execution_count": 48,
   "metadata": {},
   "outputs": [
    {
     "name": "stdout",
     "output_type": "stream",
     "text": [
      "IS_SEVERE relative frequencies:\n",
      "True    0.500000000\n",
      "False   0.500000000\n",
      "Name: IS_SEVERE, Length: 2, dtype: float64\n"
     ]
    }
   ],
   "source": [
    "# Verify the new DataFrame is balanced.\n",
    "print(\"IS_SEVERE relative frequencies:\")\n",
    "print(df_train[\"IS_SEVERE\"].value_counts(normalize=True, dropna=False))"
   ]
  },
  {
   "cell_type": "markdown",
   "metadata": {},
   "source": [
    "Let's define a feature set represented by the DataFrame X. "
   ]
  },
  {
   "cell_type": "code",
   "execution_count": 49,
   "metadata": {},
   "outputs": [],
   "source": [
    "X = df_train.drop(columns=['IS_SEVERE', 'SEVERITYCODE', 'INJURIES', 'SERIOUSINJURIES', 'FATALITIES'], inplace=False)"
   ]
  },
  {
   "cell_type": "code",
   "execution_count": 50,
   "metadata": {},
   "outputs": [
    {
     "name": "stdout",
     "output_type": "stream",
     "text": [
      "<class 'pandas.core.frame.DataFrame'>\n",
      "Int64Index: 20920 entries, 218176 to 54483\n",
      "Data columns (total 7 columns):\n",
      " #   Column         Non-Null Count  Dtype   \n",
      "---  ------         --------------  -----   \n",
      " 0   COLLISIONTYPE  20920 non-null  category\n",
      " 1   PEDCOUNT       20920 non-null  int64   \n",
      " 2   PEDCYLCOUNT    20920 non-null  int64   \n",
      " 3   VEHCOUNT       20920 non-null  int64   \n",
      " 4   WEATHER        20920 non-null  category\n",
      " 5   ROADCOND       20920 non-null  category\n",
      " 6   LIGHTCOND      20920 non-null  category\n",
      "dtypes: category(4), int64(3)\n",
      "memory usage: 737.0 KB\n"
     ]
    }
   ],
   "source": [
    "X.info()"
   ]
  },
  {
   "cell_type": "markdown",
   "metadata": {},
   "source": [
    "We also define the data for the target variable, SEVERITYCODE, by the array y:"
   ]
  },
  {
   "cell_type": "raw",
   "metadata": {},
   "source": [
    "y = df_train[\"SEVERITYCODE\"].to_numpy()"
   ]
  },
  {
   "cell_type": "code",
   "execution_count": 51,
   "metadata": {},
   "outputs": [],
   "source": [
    "y = df_train['IS_SEVERE'].to_numpy()"
   ]
  },
  {
   "cell_type": "code",
   "execution_count": 52,
   "metadata": {},
   "outputs": [
    {
     "name": "stdout",
     "output_type": "stream",
     "text": [
      "Elapsed time is 23.458120647119358 seconds.\n"
     ]
    }
   ],
   "source": [
    "print_elapsed_time(notebook_start_time)"
   ]
  },
  {
   "cell_type": "markdown",
   "metadata": {},
   "source": [
    "## Transform the Data "
   ]
  },
  {
   "cell_type": "markdown",
   "metadata": {},
   "source": [
    "We normalize the data by transforming it so that it is compatible\n",
    "with the machine learning estimators we use in this notebook.\n",
    "We use special care with sparse matrix data so as to not destroy the\n",
    "structure."
   ]
  },
  {
   "cell_type": "code",
   "execution_count": 53,
   "metadata": {},
   "outputs": [
    {
     "name": "stdout",
     "output_type": "stream",
     "text": [
      "Fitting OneHotEncoder to training data...\n",
      "Completed in 0.35879497695714235 seconds.\n",
      "['x0_Angles' 'x0_Cycles' 'x0_Head On' 'x0_Left Turn' 'x0_Other'\n",
      " 'x0_Parked Car' 'x0_Pedestrian' 'x0_Rear Ended' 'x0_Right Turn'\n",
      " 'x0_Sideswipe' 'x1_0' 'x1_1' 'x1_2' 'x1_3' 'x1_4' 'x1_5' 'x1_6' 'x2_0'\n",
      " 'x2_1' 'x2_2' 'x3_0' 'x3_1' 'x3_2' 'x3_3' 'x3_4' 'x3_5' 'x3_6' 'x3_7'\n",
      " 'x3_8' 'x3_9' 'x3_10' 'x3_11' 'x3_12' 'x3_13' 'x3_14' 'x3_15'\n",
      " 'x4_Blowing Sand/Dirt' 'x4_Clear' 'x4_Fog/Smog/Smoke' 'x4_Other'\n",
      " 'x4_Overcast' 'x4_Partly Cloudy' 'x4_Raining' 'x4_Severe Crosswind'\n",
      " 'x4_Sleet/Hail/Freezing Rain' 'x4_Snowing' 'x5_Dry' 'x5_Ice' 'x5_Oil'\n",
      " 'x5_Other' 'x5_Sand/Mud/Dirt' 'x5_Snow/Slush' 'x5_Standing Water'\n",
      " 'x5_Wet' 'x6_Dark - No Street Lights' 'x6_Dark - Street Lights Off'\n",
      " 'x6_Dark - Street Lights On' 'x6_Dark - Unknown Lighting' 'x6_Dawn'\n",
      " 'x6_Daylight' 'x6_Dusk' 'x6_Other']\n"
     ]
    }
   ],
   "source": [
    "# Create a OneHotEncoder and fit it to the features.\n",
    "# The fit is performed on the data set before the any test/train splits.\n",
    "# The data will be encoded as a sparse matrix, the default behavior.\n",
    "start_time = default_timer()\n",
    "print(\"Fitting OneHotEncoder to training data...\")\n",
    "encoder = OneHotEncoder(sparse=True, handle_unknown='error')\n",
    "encoder.fit(df_categorical.drop(columns=['IS_SEVERE', 'SEVERITYCODE', 'INJURIES', 'SERIOUSINJURIES', 'FATALITIES'], inplace=False))\n",
    "#encoder.fit(X)\n",
    "X = encoder.transform(X)\n",
    "print(\"Completed in\", elapsed_time(start_time), \"seconds.\")\n",
    "# Display the categories of the encoder.\n",
    "print(encoder.get_feature_names())"
   ]
  },
  {
   "cell_type": "code",
   "execution_count": 54,
   "metadata": {},
   "outputs": [
    {
     "data": {
      "text/plain": [
       "scipy.sparse.csr.csr_matrix"
      ]
     },
     "execution_count": 54,
     "metadata": {},
     "output_type": "execute_result"
    }
   ],
   "source": [
    "type(X)"
   ]
  },
  {
   "cell_type": "code",
   "execution_count": 55,
   "metadata": {},
   "outputs": [
    {
     "data": {
      "text/plain": [
       "(20920, 62)"
      ]
     },
     "execution_count": 55,
     "metadata": {},
     "output_type": "execute_result"
    }
   ],
   "source": [
    "X.shape"
   ]
  },
  {
   "cell_type": "code",
   "execution_count": 56,
   "metadata": {},
   "outputs": [
    {
     "data": {
      "text/plain": [
       "(20920,)"
      ]
     },
     "execution_count": 56,
     "metadata": {},
     "output_type": "execute_result"
    }
   ],
   "source": [
    "y.shape"
   ]
  },
  {
   "cell_type": "code",
   "execution_count": 57,
   "metadata": {},
   "outputs": [
    {
     "name": "stdout",
     "output_type": "stream",
     "text": [
      "Elapsed time is 24.302025512093678 seconds.\n"
     ]
    }
   ],
   "source": [
    "print_elapsed_time(notebook_start_time)"
   ]
  },
  {
   "cell_type": "markdown",
   "metadata": {},
   "source": [
    "<h2 id=\"logistic_regression\">Building a Logistic Regression Model<\\h2>"
   ]
  },
  {
   "cell_type": "code",
   "execution_count": 58,
   "metadata": {},
   "outputs": [
    {
     "name": "stdout",
     "output_type": "stream",
     "text": [
      "Logistic regression score keys: ['estimator', 'fit_time', 'score_time', 'test_f1_macro', 'test_f1_weighted', 'test_neg_log_loss', 'test_precision_macro', 'test_precision_weighted', 'test_recall_macro', 'test_recall_weighted']\n",
      "Logistic Regression classifiers constructed in 18.256290 seconds.\n"
     ]
    }
   ],
   "source": [
    "t0 = default_timer()\n",
    "logistic_regression_clf = make_pipeline(\\\n",
    "    StandardScaler(with_mean=False),\\\n",
    "    LogisticRegression(solver='saga', multi_class='auto', penalty='l1', max_iter=100, verbose=100, n_jobs=-1, random_state=seed), verbose=True)\n",
    "scoring = ['f1_macro', 'f1_weighted', 'neg_log_loss', 'precision_macro', 'precision_weighted', 'recall_macro', 'recall_weighted']\n",
    "logistic_regression_scores = cross_validate(logistic_regression_clf, X, y, scoring=scoring, n_jobs=-1, cv=number_of_folds, return_estimator=True)\n",
    "print(\"Logistic regression score keys:\", sorted(logistic_regression_scores.keys()))\n",
    "print('Logistic Regression classifiers constructed in %f seconds.' % elapsed_time(t0))"
   ]
  },
  {
   "cell_type": "code",
   "execution_count": 59,
   "metadata": {},
   "outputs": [
    {
     "name": "stdout",
     "output_type": "stream",
     "text": [
      "Elapsed time is 42.79623295995407 seconds.\n"
     ]
    }
   ],
   "source": [
    "print_elapsed_time(notebook_start_time)"
   ]
  },
  {
   "cell_type": "markdown",
   "metadata": {},
   "source": [
    "<h2 id=\"support_vector_machine\">Building a Support Vector Machine<\\h2>"
   ]
  },
  {
   "cell_type": "code",
   "execution_count": 60,
   "metadata": {},
   "outputs": [
    {
     "name": "stdout",
     "output_type": "stream",
     "text": [
      "Support Vector Machine score keys: ['estimator', 'fit_time', 'score_time', 'test_f1_macro', 'test_f1_weighted', 'test_precision_macro', 'test_precision_weighted', 'test_recall_macro', 'test_recall_weighted']\n",
      "Support Vector Machine classifiers constructed in 1.530728 seconds.\n"
     ]
    }
   ],
   "source": [
    "t0 = default_timer()\n",
    "linear_svc_clf = make_pipeline(\\\n",
    "    StandardScaler(with_mean=False),\\\n",
    "    LinearSVC(penalty='l1', dual=False, random_state=seed, max_iter=100), verbose=True)\n",
    "scoring = ['f1_macro', 'f1_weighted', 'precision_macro', 'precision_weighted', 'recall_macro', 'recall_weighted']\n",
    "linear_svc_scores = cross_validate(linear_svc_clf, X, y, scoring=scoring, n_jobs=-1, cv=number_of_folds, return_estimator=True)\n",
    "print(\"Support Vector Machine score keys:\", sorted(linear_svc_scores.keys()))\n",
    "print('Support Vector Machine classifiers constructed in %f seconds.' % elapsed_time(t0))"
   ]
  },
  {
   "cell_type": "code",
   "execution_count": 61,
   "metadata": {},
   "outputs": [
    {
     "name": "stdout",
     "output_type": "stream",
     "text": [
      "Elapsed time is 44.48010393115692 seconds.\n"
     ]
    }
   ],
   "source": [
    "print_elapsed_time(notebook_start_time)"
   ]
  },
  {
   "cell_type": "markdown",
   "metadata": {},
   "source": [
    "<h2 id=\"knn_classifier\">Building a k-Nearsest Neighbors Classifier<\\h2>"
   ]
  },
  {
   "cell_type": "code",
   "execution_count": 62,
   "metadata": {},
   "outputs": [
    {
     "name": "stdout",
     "output_type": "stream",
     "text": [
      "Fitting 4 folds for each of 98 candidates, totalling 392 fits\n",
      "[Parallel(n_jobs=-1)]: Using backend LokyBackend with 2 concurrent workers.\n",
      "[Parallel(n_jobs=-1)]: Done   1 tasks      | elapsed:   49.4s\n",
      "[Parallel(n_jobs=-1)]: Done   3 out of 392 | elapsed:  1.5min remaining: 189.7min\n",
      "[Parallel(n_jobs=-1)]: Done   5 out of 392 | elapsed:  2.1min remaining: 164.3min\n",
      "[Parallel(n_jobs=-1)]: Done   7 out of 392 | elapsed:  2.8min remaining: 154.9min\n",
      "[Parallel(n_jobs=-1)]: Done   9 out of 392 | elapsed:  3.5min remaining: 147.5min\n",
      "[Parallel(n_jobs=-1)]: Done  11 out of 392 | elapsed:  4.1min remaining: 141.8min\n",
      "[Parallel(n_jobs=-1)]: Done  13 out of 392 | elapsed:  4.7min remaining: 138.0min\n",
      "[Parallel(n_jobs=-1)]: Done  15 out of 392 | elapsed:  5.4min remaining: 135.0min\n",
      "[Parallel(n_jobs=-1)]: Done  17 out of 392 | elapsed:  6.0min remaining: 132.5min\n",
      "[Parallel(n_jobs=-1)]: Done  19 out of 392 | elapsed:  6.6min remaining: 130.4min\n",
      "[Parallel(n_jobs=-1)]: Done  21 out of 392 | elapsed:  7.3min remaining: 128.8min\n",
      "[Parallel(n_jobs=-1)]: Done  23 out of 392 | elapsed:  7.9min remaining: 127.0min\n",
      "[Parallel(n_jobs=-1)]: Done  25 out of 392 | elapsed:  8.6min remaining: 125.6min\n",
      "[Parallel(n_jobs=-1)]: Done  27 out of 392 | elapsed:  9.2min remaining: 124.2min\n",
      "[Parallel(n_jobs=-1)]: Done  29 out of 392 | elapsed:  9.8min remaining: 123.0min\n",
      "[Parallel(n_jobs=-1)]: Done  31 out of 392 | elapsed: 10.5min remaining: 121.8min\n",
      "[Parallel(n_jobs=-1)]: Done  33 out of 392 | elapsed: 11.1min remaining: 120.7min\n",
      "[Parallel(n_jobs=-1)]: Done  35 out of 392 | elapsed: 11.7min remaining: 119.6min\n",
      "[Parallel(n_jobs=-1)]: Done  37 out of 392 | elapsed: 12.4min remaining: 118.7min\n",
      "[Parallel(n_jobs=-1)]: Done  39 out of 392 | elapsed: 13.0min remaining: 117.6min\n",
      "[Parallel(n_jobs=-1)]: Done  41 out of 392 | elapsed: 13.6min remaining: 116.7min\n",
      "[Parallel(n_jobs=-1)]: Done  43 out of 392 | elapsed: 14.3min remaining: 115.8min\n",
      "[Parallel(n_jobs=-1)]: Done  45 out of 392 | elapsed: 14.9min remaining: 114.9min\n",
      "[Parallel(n_jobs=-1)]: Done  47 out of 392 | elapsed: 15.5min remaining: 114.0min\n",
      "[Parallel(n_jobs=-1)]: Done  49 out of 392 | elapsed: 16.2min remaining: 113.2min\n",
      "[Parallel(n_jobs=-1)]: Done  51 out of 392 | elapsed: 16.8min remaining: 112.3min\n",
      "[Parallel(n_jobs=-1)]: Done  53 out of 392 | elapsed: 17.4min remaining: 111.6min\n",
      "[Parallel(n_jobs=-1)]: Done  55 out of 392 | elapsed: 18.1min remaining: 110.7min\n",
      "[Parallel(n_jobs=-1)]: Done  57 out of 392 | elapsed: 18.8min remaining: 110.8min\n",
      "[Parallel(n_jobs=-1)]: Done  59 out of 392 | elapsed: 19.5min remaining: 110.0min\n",
      "[Parallel(n_jobs=-1)]: Done  61 out of 392 | elapsed: 20.1min remaining: 109.2min\n",
      "[Parallel(n_jobs=-1)]: Done  63 out of 392 | elapsed: 20.7min remaining: 108.3min\n",
      "[Parallel(n_jobs=-1)]: Done  65 out of 392 | elapsed: 21.4min remaining: 107.6min\n",
      "[Parallel(n_jobs=-1)]: Done  67 out of 392 | elapsed: 22.0min remaining: 106.8min\n",
      "[Parallel(n_jobs=-1)]: Done  69 out of 392 | elapsed: 22.7min remaining: 106.1min\n",
      "[Parallel(n_jobs=-1)]: Done  71 out of 392 | elapsed: 23.3min remaining: 105.2min\n",
      "[Parallel(n_jobs=-1)]: Done  73 out of 392 | elapsed: 23.9min remaining: 104.5min\n",
      "[Parallel(n_jobs=-1)]: Done  75 out of 392 | elapsed: 24.5min remaining: 103.8min\n",
      "[Parallel(n_jobs=-1)]: Done  77 out of 392 | elapsed: 25.2min remaining: 103.0min\n",
      "[Parallel(n_jobs=-1)]: Done  79 out of 392 | elapsed: 25.8min remaining: 102.3min\n",
      "[Parallel(n_jobs=-1)]: Done  81 out of 392 | elapsed: 26.5min remaining: 101.6min\n",
      "[Parallel(n_jobs=-1)]: Done  83 out of 392 | elapsed: 27.1min remaining: 100.8min\n",
      "[Parallel(n_jobs=-1)]: Done  85 out of 392 | elapsed: 27.7min remaining: 100.1min\n",
      "[Parallel(n_jobs=-1)]: Done  87 out of 392 | elapsed: 28.3min remaining: 99.4min\n",
      "[Parallel(n_jobs=-1)]: Done  89 out of 392 | elapsed: 29.0min remaining: 98.7min\n",
      "[Parallel(n_jobs=-1)]: Done  91 out of 392 | elapsed: 29.6min remaining: 98.0min\n",
      "[Parallel(n_jobs=-1)]: Done  93 out of 392 | elapsed: 30.3min remaining: 97.3min\n",
      "[Parallel(n_jobs=-1)]: Done  95 out of 392 | elapsed: 30.9min remaining: 96.5min\n",
      "[Parallel(n_jobs=-1)]: Done  97 out of 392 | elapsed: 31.5min remaining: 95.9min\n",
      "[Parallel(n_jobs=-1)]: Done  99 out of 392 | elapsed: 32.2min remaining: 95.2min\n",
      "[Parallel(n_jobs=-1)]: Done 101 out of 392 | elapsed: 32.8min remaining: 94.5min\n",
      "[Parallel(n_jobs=-1)]: Done 103 out of 392 | elapsed: 33.4min remaining: 93.8min\n",
      "[Parallel(n_jobs=-1)]: Done 105 out of 392 | elapsed: 34.1min remaining: 93.1min\n",
      "[Parallel(n_jobs=-1)]: Done 107 out of 392 | elapsed: 34.7min remaining: 92.4min\n",
      "[Parallel(n_jobs=-1)]: Done 109 out of 392 | elapsed: 35.3min remaining: 91.7min\n",
      "[Parallel(n_jobs=-1)]: Done 111 out of 392 | elapsed: 36.0min remaining: 91.0min\n",
      "[Parallel(n_jobs=-1)]: Done 113 out of 392 | elapsed: 36.6min remaining: 90.3min\n",
      "[Parallel(n_jobs=-1)]: Done 115 out of 392 | elapsed: 37.2min remaining: 89.6min\n",
      "[Parallel(n_jobs=-1)]: Done 117 out of 392 | elapsed: 37.9min remaining: 89.0min\n",
      "[Parallel(n_jobs=-1)]: Done 119 out of 392 | elapsed: 38.5min remaining: 88.3min\n",
      "[Parallel(n_jobs=-1)]: Done 121 out of 392 | elapsed: 39.1min remaining: 87.6min\n",
      "[Parallel(n_jobs=-1)]: Done 123 out of 392 | elapsed: 39.8min remaining: 86.9min\n",
      "[Parallel(n_jobs=-1)]: Done 125 out of 392 | elapsed: 40.4min remaining: 86.3min\n",
      "[Parallel(n_jobs=-1)]: Done 127 out of 392 | elapsed: 41.0min remaining: 85.6min\n",
      "[Parallel(n_jobs=-1)]: Done 129 out of 392 | elapsed: 41.7min remaining: 84.9min\n",
      "[Parallel(n_jobs=-1)]: Done 131 out of 392 | elapsed: 42.3min remaining: 84.2min\n",
      "[Parallel(n_jobs=-1)]: Done 133 out of 392 | elapsed: 42.9min remaining: 83.6min\n",
      "[Parallel(n_jobs=-1)]: Done 135 out of 392 | elapsed: 43.5min remaining: 82.9min\n",
      "[Parallel(n_jobs=-1)]: Done 137 out of 392 | elapsed: 44.2min remaining: 82.2min\n",
      "[Parallel(n_jobs=-1)]: Done 139 out of 392 | elapsed: 44.8min remaining: 81.5min\n",
      "[Parallel(n_jobs=-1)]: Done 141 out of 392 | elapsed: 45.4min remaining: 80.9min\n",
      "[Parallel(n_jobs=-1)]: Done 143 out of 392 | elapsed: 46.1min remaining: 80.2min\n",
      "[Parallel(n_jobs=-1)]: Done 145 out of 392 | elapsed: 46.7min remaining: 79.6min\n",
      "[Parallel(n_jobs=-1)]: Done 147 out of 392 | elapsed: 47.3min remaining: 78.9min\n",
      "[Parallel(n_jobs=-1)]: Done 149 out of 392 | elapsed: 48.0min remaining: 78.2min\n",
      "[Parallel(n_jobs=-1)]: Done 151 out of 392 | elapsed: 48.6min remaining: 77.6min\n",
      "[Parallel(n_jobs=-1)]: Done 153 out of 392 | elapsed: 49.2min remaining: 76.9min\n",
      "[Parallel(n_jobs=-1)]: Done 155 out of 392 | elapsed: 49.9min remaining: 76.2min\n",
      "[Parallel(n_jobs=-1)]: Done 157 out of 392 | elapsed: 50.5min remaining: 75.6min\n",
      "[Parallel(n_jobs=-1)]: Done 159 out of 392 | elapsed: 51.1min remaining: 74.9min\n",
      "[Parallel(n_jobs=-1)]: Done 161 out of 392 | elapsed: 51.8min remaining: 74.3min\n",
      "[Parallel(n_jobs=-1)]: Done 163 out of 392 | elapsed: 52.4min remaining: 73.6min\n",
      "[Parallel(n_jobs=-1)]: Done 165 out of 392 | elapsed: 53.0min remaining: 72.9min\n",
      "[Parallel(n_jobs=-1)]: Done 167 out of 392 | elapsed: 53.6min remaining: 72.3min\n",
      "[Parallel(n_jobs=-1)]: Done 169 out of 392 | elapsed: 54.3min remaining: 71.6min\n",
      "[Parallel(n_jobs=-1)]: Done 171 out of 392 | elapsed: 54.9min remaining: 71.0min\n",
      "[Parallel(n_jobs=-1)]: Done 173 out of 392 | elapsed: 55.5min remaining: 70.3min\n",
      "[Parallel(n_jobs=-1)]: Done 175 out of 392 | elapsed: 56.2min remaining: 69.6min\n",
      "[Parallel(n_jobs=-1)]: Done 177 out of 392 | elapsed: 56.8min remaining: 69.0min\n",
      "[Parallel(n_jobs=-1)]: Done 179 out of 392 | elapsed: 57.4min remaining: 68.3min\n",
      "[Parallel(n_jobs=-1)]: Done 181 out of 392 | elapsed: 58.1min remaining: 67.7min\n",
      "[Parallel(n_jobs=-1)]: Done 183 out of 392 | elapsed: 58.7min remaining: 67.0min\n",
      "[Parallel(n_jobs=-1)]: Done 185 out of 392 | elapsed: 59.3min remaining: 66.4min\n",
      "[Parallel(n_jobs=-1)]: Done 187 out of 392 | elapsed: 60.0min remaining: 65.7min\n",
      "[Parallel(n_jobs=-1)]: Done 189 out of 392 | elapsed: 60.6min remaining: 65.1min\n",
      "[Parallel(n_jobs=-1)]: Done 191 out of 392 | elapsed: 61.2min remaining: 64.4min\n",
      "[Parallel(n_jobs=-1)]: Done 193 out of 392 | elapsed: 61.8min remaining: 63.8min\n",
      "[Parallel(n_jobs=-1)]: Done 195 out of 392 | elapsed: 62.5min remaining: 63.1min\n",
      "[Parallel(n_jobs=-1)]: Done 197 out of 392 | elapsed: 63.1min remaining: 62.5min\n",
      "[Parallel(n_jobs=-1)]: Done 199 out of 392 | elapsed: 63.7min remaining: 61.8min\n",
      "[Parallel(n_jobs=-1)]: Done 201 out of 392 | elapsed: 64.4min remaining: 61.2min\n",
      "[Parallel(n_jobs=-1)]: Done 203 out of 392 | elapsed: 65.0min remaining: 60.5min\n",
      "[Parallel(n_jobs=-1)]: Done 205 out of 392 | elapsed: 65.6min remaining: 59.9min\n",
      "[Parallel(n_jobs=-1)]: Done 207 out of 392 | elapsed: 66.3min remaining: 59.2min\n",
      "[Parallel(n_jobs=-1)]: Done 209 out of 392 | elapsed: 66.9min remaining: 58.6min\n",
      "[Parallel(n_jobs=-1)]: Done 211 out of 392 | elapsed: 67.5min remaining: 57.9min\n",
      "[Parallel(n_jobs=-1)]: Done 213 out of 392 | elapsed: 68.2min remaining: 57.3min\n",
      "[Parallel(n_jobs=-1)]: Done 215 out of 392 | elapsed: 68.8min remaining: 56.6min\n",
      "[Parallel(n_jobs=-1)]: Done 217 out of 392 | elapsed: 69.4min remaining: 56.0min\n",
      "[Parallel(n_jobs=-1)]: Done 219 out of 392 | elapsed: 70.0min remaining: 55.3min\n",
      "[Parallel(n_jobs=-1)]: Done 221 out of 392 | elapsed: 70.7min remaining: 54.7min\n",
      "[Parallel(n_jobs=-1)]: Done 223 out of 392 | elapsed: 71.3min remaining: 54.0min\n",
      "[Parallel(n_jobs=-1)]: Done 225 out of 392 | elapsed: 71.9min remaining: 53.4min\n",
      "[Parallel(n_jobs=-1)]: Done 227 out of 392 | elapsed: 72.6min remaining: 52.7min\n",
      "[Parallel(n_jobs=-1)]: Done 229 out of 392 | elapsed: 73.2min remaining: 52.1min\n",
      "[Parallel(n_jobs=-1)]: Done 231 out of 392 | elapsed: 73.8min remaining: 51.5min\n",
      "[Parallel(n_jobs=-1)]: Done 233 out of 392 | elapsed: 74.5min remaining: 50.8min\n",
      "[Parallel(n_jobs=-1)]: Done 235 out of 392 | elapsed: 75.1min remaining: 50.2min\n",
      "[Parallel(n_jobs=-1)]: Done 237 out of 392 | elapsed: 75.7min remaining: 49.5min\n",
      "[Parallel(n_jobs=-1)]: Done 239 out of 392 | elapsed: 76.3min remaining: 48.9min\n",
      "[Parallel(n_jobs=-1)]: Done 241 out of 392 | elapsed: 77.0min remaining: 48.2min\n",
      "[Parallel(n_jobs=-1)]: Done 243 out of 392 | elapsed: 77.6min remaining: 47.6min\n",
      "[Parallel(n_jobs=-1)]: Done 245 out of 392 | elapsed: 78.2min remaining: 46.9min\n",
      "[Parallel(n_jobs=-1)]: Done 247 out of 392 | elapsed: 78.9min remaining: 46.3min\n",
      "[Parallel(n_jobs=-1)]: Done 249 out of 392 | elapsed: 79.5min remaining: 45.7min\n",
      "[Parallel(n_jobs=-1)]: Done 251 out of 392 | elapsed: 80.1min remaining: 45.0min\n",
      "[Parallel(n_jobs=-1)]: Done 253 out of 392 | elapsed: 80.8min remaining: 44.4min\n",
      "[Parallel(n_jobs=-1)]: Done 255 out of 392 | elapsed: 81.4min remaining: 43.7min\n",
      "[Parallel(n_jobs=-1)]: Done 257 out of 392 | elapsed: 82.0min remaining: 43.1min\n",
      "[Parallel(n_jobs=-1)]: Done 259 out of 392 | elapsed: 82.6min remaining: 42.4min\n",
      "[Parallel(n_jobs=-1)]: Done 261 out of 392 | elapsed: 83.3min remaining: 41.8min\n",
      "[Parallel(n_jobs=-1)]: Done 263 out of 392 | elapsed: 83.9min remaining: 41.1min\n",
      "[Parallel(n_jobs=-1)]: Done 265 out of 392 | elapsed: 84.5min remaining: 40.5min\n",
      "[Parallel(n_jobs=-1)]: Done 267 out of 392 | elapsed: 85.2min remaining: 39.9min\n",
      "[Parallel(n_jobs=-1)]: Done 269 out of 392 | elapsed: 85.8min remaining: 39.2min\n",
      "[Parallel(n_jobs=-1)]: Done 271 out of 392 | elapsed: 86.4min remaining: 38.6min\n",
      "[Parallel(n_jobs=-1)]: Done 273 out of 392 | elapsed: 87.0min remaining: 37.9min\n",
      "[Parallel(n_jobs=-1)]: Done 275 out of 392 | elapsed: 87.8min remaining: 37.4min\n",
      "[Parallel(n_jobs=-1)]: Done 277 out of 392 | elapsed: 88.5min remaining: 36.7min\n",
      "[Parallel(n_jobs=-1)]: Done 279 out of 392 | elapsed: 89.1min remaining: 36.1min\n",
      "[Parallel(n_jobs=-1)]: Done 281 out of 392 | elapsed: 89.7min remaining: 35.4min\n",
      "[Parallel(n_jobs=-1)]: Done 283 out of 392 | elapsed: 90.3min remaining: 34.8min\n",
      "[Parallel(n_jobs=-1)]: Done 285 out of 392 | elapsed: 91.0min remaining: 34.1min\n",
      "[Parallel(n_jobs=-1)]: Done 287 out of 392 | elapsed: 91.6min remaining: 33.5min\n",
      "[Parallel(n_jobs=-1)]: Done 289 out of 392 | elapsed: 92.2min remaining: 32.9min\n",
      "[Parallel(n_jobs=-1)]: Done 291 out of 392 | elapsed: 92.8min remaining: 32.2min\n",
      "[Parallel(n_jobs=-1)]: Done 293 out of 392 | elapsed: 93.5min remaining: 31.6min\n",
      "[Parallel(n_jobs=-1)]: Done 295 out of 392 | elapsed: 94.1min remaining: 30.9min\n",
      "[Parallel(n_jobs=-1)]: Done 297 out of 392 | elapsed: 94.7min remaining: 30.3min\n",
      "[Parallel(n_jobs=-1)]: Done 299 out of 392 | elapsed: 95.4min remaining: 29.7min\n",
      "[Parallel(n_jobs=-1)]: Done 301 out of 392 | elapsed: 96.0min remaining: 29.0min\n",
      "[Parallel(n_jobs=-1)]: Done 303 out of 392 | elapsed: 96.6min remaining: 28.4min\n",
      "[Parallel(n_jobs=-1)]: Done 305 out of 392 | elapsed: 97.3min remaining: 27.7min\n",
      "[Parallel(n_jobs=-1)]: Done 307 out of 392 | elapsed: 97.9min remaining: 27.1min\n",
      "[Parallel(n_jobs=-1)]: Done 309 out of 392 | elapsed: 98.5min remaining: 26.5min\n",
      "[Parallel(n_jobs=-1)]: Done 311 out of 392 | elapsed: 99.1min remaining: 25.8min\n",
      "[Parallel(n_jobs=-1)]: Done 313 out of 392 | elapsed: 99.8min remaining: 25.2min\n",
      "[Parallel(n_jobs=-1)]: Done 315 out of 392 | elapsed: 100.4min remaining: 24.5min\n",
      "[Parallel(n_jobs=-1)]: Done 317 out of 392 | elapsed: 101.0min remaining: 23.9min\n",
      "[Parallel(n_jobs=-1)]: Done 319 out of 392 | elapsed: 101.6min remaining: 23.3min\n",
      "[Parallel(n_jobs=-1)]: Done 321 out of 392 | elapsed: 102.3min remaining: 22.6min\n",
      "[Parallel(n_jobs=-1)]: Done 323 out of 392 | elapsed: 102.9min remaining: 22.0min\n",
      "[Parallel(n_jobs=-1)]: Done 325 out of 392 | elapsed: 103.5min remaining: 21.3min\n",
      "[Parallel(n_jobs=-1)]: Done 327 out of 392 | elapsed: 104.1min remaining: 20.7min\n",
      "[Parallel(n_jobs=-1)]: Done 329 out of 392 | elapsed: 104.8min remaining: 20.1min\n",
      "[Parallel(n_jobs=-1)]: Done 331 out of 392 | elapsed: 105.4min remaining: 19.4min\n",
      "[Parallel(n_jobs=-1)]: Done 333 out of 392 | elapsed: 106.0min remaining: 18.8min\n",
      "[Parallel(n_jobs=-1)]: Done 335 out of 392 | elapsed: 106.6min remaining: 18.1min\n",
      "[Parallel(n_jobs=-1)]: Done 337 out of 392 | elapsed: 107.3min remaining: 17.5min\n",
      "[Parallel(n_jobs=-1)]: Done 339 out of 392 | elapsed: 107.9min remaining: 16.9min\n",
      "[Parallel(n_jobs=-1)]: Done 341 out of 392 | elapsed: 108.5min remaining: 16.2min\n",
      "[Parallel(n_jobs=-1)]: Done 343 out of 392 | elapsed: 109.2min remaining: 15.6min\n",
      "[Parallel(n_jobs=-1)]: Done 345 out of 392 | elapsed: 109.8min remaining: 15.0min\n",
      "[Parallel(n_jobs=-1)]: Done 347 out of 392 | elapsed: 110.4min remaining: 14.3min\n",
      "[Parallel(n_jobs=-1)]: Done 349 out of 392 | elapsed: 111.0min remaining: 13.7min\n",
      "[Parallel(n_jobs=-1)]: Done 351 out of 392 | elapsed: 111.7min remaining: 13.0min\n",
      "[Parallel(n_jobs=-1)]: Done 353 out of 392 | elapsed: 112.3min remaining: 12.4min\n",
      "[Parallel(n_jobs=-1)]: Done 355 out of 392 | elapsed: 112.9min remaining: 11.8min\n",
      "[Parallel(n_jobs=-1)]: Done 357 out of 392 | elapsed: 113.5min remaining: 11.1min\n",
      "[Parallel(n_jobs=-1)]: Done 359 out of 392 | elapsed: 114.2min remaining: 10.5min\n",
      "[Parallel(n_jobs=-1)]: Done 361 out of 392 | elapsed: 114.8min remaining:  9.9min\n",
      "[Parallel(n_jobs=-1)]: Done 363 out of 392 | elapsed: 115.4min remaining:  9.2min\n",
      "[Parallel(n_jobs=-1)]: Done 365 out of 392 | elapsed: 116.2min remaining:  8.6min\n",
      "[Parallel(n_jobs=-1)]: Done 367 out of 392 | elapsed: 116.9min remaining:  8.0min\n",
      "[Parallel(n_jobs=-1)]: Done 369 out of 392 | elapsed: 117.7min remaining:  7.3min\n",
      "[Parallel(n_jobs=-1)]: Done 371 out of 392 | elapsed: 118.6min remaining:  6.7min\n",
      "[Parallel(n_jobs=-1)]: Done 373 out of 392 | elapsed: 119.3min remaining:  6.1min\n",
      "[Parallel(n_jobs=-1)]: Done 375 out of 392 | elapsed: 120.1min remaining:  5.4min\n",
      "[Parallel(n_jobs=-1)]: Done 377 out of 392 | elapsed: 120.7min remaining:  4.8min\n",
      "[Parallel(n_jobs=-1)]: Done 379 out of 392 | elapsed: 121.4min remaining:  4.2min\n",
      "[Parallel(n_jobs=-1)]: Done 381 out of 392 | elapsed: 122.0min remaining:  3.5min\n",
      "[Parallel(n_jobs=-1)]: Done 383 out of 392 | elapsed: 122.6min remaining:  2.9min\n",
      "[Parallel(n_jobs=-1)]: Done 385 out of 392 | elapsed: 123.3min remaining:  2.2min\n",
      "[Parallel(n_jobs=-1)]: Done 387 out of 392 | elapsed: 124.0min remaining:  1.6min\n",
      "[Parallel(n_jobs=-1)]: Done 389 out of 392 | elapsed: 124.6min remaining:   57.7s\n",
      "[Parallel(n_jobs=-1)]: Done 392 out of 392 | elapsed: 125.3min finished\n",
      "[Pipeline] .... (step 1 of 2) Processing standardscaler, total=   0.0s\n",
      "[Pipeline]  (step 2 of 2) Processing kneighborsclassifier, total=   0.0s\n"
     ]
    },
    {
     "data": {
      "text/plain": [
       "GridSearchCV(cv=4, error_score='raise',\n",
       "             estimator=Pipeline(steps=[('standardscaler',\n",
       "                                        StandardScaler(with_mean=False)),\n",
       "                                       ('kneighborsclassifier',\n",
       "                                        KNeighborsClassifier(n_jobs=-1, p=1,\n",
       "                                                             weights='distance'))],\n",
       "                                verbose=True),\n",
       "             n_jobs=-1,\n",
       "             param_grid={'kneighborsclassifier__n_neighbors': range(199, 3, -2)},\n",
       "             pre_dispatch=1024, refit='recall_weighted',\n",
       "             scoring=['recall_weighted'], verbose=200)"
      ]
     },
     "execution_count": 62,
     "metadata": {},
     "output_type": "execute_result"
    }
   ],
   "source": [
    "t0 = default_timer()\n",
    "\n",
    "# Set maximum number of neighbors based on number of samples and number of folds to prevent errors.\n",
    "maximum_number_of_neighbors = min(199, np.int((X.shape[0] * (1 - 1 / number_of_folds))) - 1) # Take the smaller of the two parameters for min().\n",
    "k_neighbors_pipeline = make_pipeline(\\\n",
    "    StandardScaler(with_mean=False),\\\n",
    "    KNeighborsClassifier(algorithm='auto', leaf_size=30, metric='minkowski', metric_params=None, n_jobs=-1, p=1, weights='distance'), verbose=True)\n",
    "\n",
    "# Use only odd numbers of neighbors to avoid ties.\n",
    "# Number of neighbors range starts high and ends low, allowing user to  monitor kernel messages for possible local maxima in score.\n",
    "grid_parameters = {'kneighborsclassifier__n_neighbors': range(maximum_number_of_neighbors, 3, -2)}\n",
    "scoring = ['recall_weighted']\n",
    "grid_search_cv = GridSearchCV(k_neighbors_pipeline, param_grid=grid_parameters,\\\n",
    "                              scoring=scoring, \\\n",
    "                              n_jobs=-1, refit='recall_weighted', cv=number_of_folds, verbose=200, pre_dispatch=2**10, error_score='raise',\\\n",
    "                              return_train_score=False)\n",
    "\n",
    "grid_search_cv.fit(X, y)"
   ]
  },
  {
   "cell_type": "code",
   "execution_count": 63,
   "metadata": {},
   "outputs": [
    {
     "name": "stdout",
     "output_type": "stream",
     "text": [
      "Completed grid search in 7517.284026 seconds\n"
     ]
    }
   ],
   "source": [
    "print('Completed grid search in %f seconds' % (elapsed_time(t0)))"
   ]
  },
  {
   "cell_type": "code",
   "execution_count": 64,
   "metadata": {},
   "outputs": [
    {
     "name": "stdout",
     "output_type": "stream",
     "text": [
      "Best KNeighborsClassifier parameters:\n",
      "memory : None\n",
      "steps : [('standardscaler', StandardScaler(with_mean=False)), ('kneighborsclassifier', KNeighborsClassifier(n_jobs=-1, n_neighbors=145, p=1, weights='distance'))]\n",
      "verbose : True\n",
      "standardscaler : StandardScaler(with_mean=False)\n",
      "kneighborsclassifier : KNeighborsClassifier(n_jobs=-1, n_neighbors=145, p=1, weights='distance')\n",
      "standardscaler__copy : True\n",
      "standardscaler__with_mean : False\n",
      "standardscaler__with_std : True\n",
      "kneighborsclassifier__algorithm : auto\n",
      "kneighborsclassifier__leaf_size : 30\n",
      "kneighborsclassifier__metric : minkowski\n",
      "kneighborsclassifier__metric_params : None\n",
      "kneighborsclassifier__n_jobs : -1\n",
      "kneighborsclassifier__n_neighbors : 145\n",
      "kneighborsclassifier__p : 1\n",
      "kneighborsclassifier__weights : distance\n"
     ]
    }
   ],
   "source": [
    "# Store best KNeighborsClassifier from GridSearchCV and print its parameters.\n",
    "k_neighbors_clf = grid_search_cv.best_estimator_\n",
    "print('Best KNeighborsClassifier parameters:')\n",
    "for key in k_neighbors_clf.get_params().keys():\n",
    "    print(key, ':', k_neighbors_clf.get_params()[key])"
   ]
  },
  {
   "cell_type": "code",
   "execution_count": 65,
   "metadata": {},
   "outputs": [
    {
     "name": "stdout",
     "output_type": "stream",
     "text": [
      "k-Neighbors score keys: ['estimator', 'fit_time', 'score_time', 'test_f1_macro', 'test_f1_weighted', 'test_neg_log_loss', 'test_precision_macro', 'test_precision_weighted', 'test_recall_macro', 'test_recall_weighted']\n",
      "k-Neighbors Classifiers constructed in 184.142690 seconds.\n"
     ]
    }
   ],
   "source": [
    "t0 = default_timer()\n",
    "scoring = ['f1_macro', 'f1_weighted', 'neg_log_loss', 'precision_macro', 'precision_weighted', 'recall_macro', 'recall_weighted']\n",
    "k_neighbors_scores = cross_validate(k_neighbors_clf, X, y, scoring=scoring, n_jobs=-1, cv=number_of_folds, return_estimator=True)\n",
    "print(\"k-Neighbors score keys:\", sorted(k_neighbors_scores.keys()))\n",
    "print('k-Neighbors Classifiers constructed in %f seconds.' % elapsed_time(t0))"
   ]
  },
  {
   "cell_type": "code",
   "execution_count": 66,
   "metadata": {},
   "outputs": [
    {
     "name": "stdout",
     "output_type": "stream",
     "text": [
      "Elapsed time is 7746.323800696991 seconds.\n"
     ]
    }
   ],
   "source": [
    "print_elapsed_time(notebook_start_time)"
   ]
  },
  {
   "cell_type": "markdown",
   "metadata": {},
   "source": [
    "## Test the Models and Compare their Performance"
   ]
  },
  {
   "cell_type": "code",
   "execution_count": 67,
   "metadata": {},
   "outputs": [
    {
     "name": "stdout",
     "output_type": "stream",
     "text": [
      "<class 'pandas.core.frame.DataFrame'>\n",
      "Int64Index: 34375 entries, 164397 to 59783\n",
      "Data columns (total 12 columns):\n",
      " #   Column           Non-Null Count  Dtype   \n",
      "---  ------           --------------  -----   \n",
      " 0   IS_SEVERE        34375 non-null  bool    \n",
      " 1   SEVERITYCODE     34375 non-null  category\n",
      " 2   COLLISIONTYPE    34375 non-null  category\n",
      " 3   PEDCOUNT         34375 non-null  int64   \n",
      " 4   PEDCYLCOUNT      34375 non-null  int64   \n",
      " 5   VEHCOUNT         34375 non-null  int64   \n",
      " 6   INJURIES         34375 non-null  int64   \n",
      " 7   SERIOUSINJURIES  34375 non-null  int64   \n",
      " 8   FATALITIES       34375 non-null  int64   \n",
      " 9   WEATHER          34375 non-null  category\n",
      " 10  ROADCOND         34375 non-null  category\n",
      " 11  LIGHTCOND        34375 non-null  category\n",
      "dtypes: bool(1), category(5), int64(6)\n",
      "memory usage: 2.0 MB\n"
     ]
    }
   ],
   "source": [
    "#df_categorical.info()\n",
    "df_test.info()"
   ]
  },
  {
   "cell_type": "code",
   "execution_count": 68,
   "metadata": {},
   "outputs": [
    {
     "name": "stdout",
     "output_type": "stream",
     "text": [
      "IS_SEVERE relative frequencies:\n",
      "False    33721\n",
      "True       654\n",
      "Name: IS_SEVERE, Length: 2, dtype: int64\n"
     ]
    }
   ],
   "source": [
    "# Print the relative frequencies for the validation DataFrame.\n",
    "print(\"IS_SEVERE relative frequencies:\")\n",
    "print(df_test['IS_SEVERE'].value_counts(normalize=False, dropna=False))"
   ]
  },
  {
   "cell_type": "code",
   "execution_count": 69,
   "metadata": {},
   "outputs": [
    {
     "name": "stdout",
     "output_type": "stream",
     "text": [
      "IS_SEVERE relative frequencies:\n",
      "False   0.980974545\n",
      "True    0.019025455\n",
      "Name: IS_SEVERE, Length: 2, dtype: float64\n"
     ]
    }
   ],
   "source": [
    "# Print the relative frequencies for the validation DataFrame.\n",
    "print(\"IS_SEVERE relative frequencies:\")\n",
    "print(df_test['IS_SEVERE'].value_counts(normalize=True, dropna=False))"
   ]
  },
  {
   "cell_type": "code",
   "execution_count": 70,
   "metadata": {},
   "outputs": [
    {
     "name": "stdout",
     "output_type": "stream",
     "text": [
      "Transforming features using OneHotEncoder...\n",
      "Encoding completed in 0.1946257168892771 seconds.\n"
     ]
    }
   ],
   "source": [
    "# Encode the data using the OneHotEncoder fitted before the train/test split.\n",
    "start_time = default_timer()\n",
    "print('Transforming features using OneHotEncoder...')\n",
    "X_test = df_test.drop(columns=['IS_SEVERE', 'SEVERITYCODE', 'INJURIES', 'SERIOUSINJURIES', 'FATALITIES'], inplace=False)\n",
    "X_test = encoder.transform(X_test)\n",
    "print(\"Encoding completed in\", elapsed_time(start_time), \"seconds.\")"
   ]
  },
  {
   "cell_type": "code",
   "execution_count": 71,
   "metadata": {},
   "outputs": [],
   "source": [
    "y_test = df_test['IS_SEVERE'].to_numpy()"
   ]
  },
  {
   "cell_type": "code",
   "execution_count": 72,
   "metadata": {},
   "outputs": [
    {
     "data": {
      "text/plain": [
       "(34375, 62)"
      ]
     },
     "execution_count": 72,
     "metadata": {},
     "output_type": "execute_result"
    }
   ],
   "source": [
    "X_test.shape"
   ]
  },
  {
   "cell_type": "code",
   "execution_count": 73,
   "metadata": {},
   "outputs": [
    {
     "data": {
      "text/plain": [
       "(34375,)"
      ]
     },
     "execution_count": 73,
     "metadata": {},
     "output_type": "execute_result"
    }
   ],
   "source": [
    "y_test.shape"
   ]
  },
  {
   "cell_type": "code",
   "execution_count": 74,
   "metadata": {},
   "outputs": [
    {
     "name": "stdout",
     "output_type": "stream",
     "text": [
      "Elapsed time is 7747.353541438002 seconds.\n"
     ]
    }
   ],
   "source": [
    "print_elapsed_time(notebook_start_time)"
   ]
  },
  {
   "cell_type": "code",
   "execution_count": 75,
   "metadata": {},
   "outputs": [],
   "source": [
    "# Set starting time for reports and graphics.\n",
    "t0 = default_timer()"
   ]
  },
  {
   "cell_type": "code",
   "execution_count": 76,
   "metadata": {},
   "outputs": [
    {
     "name": "stdout",
     "output_type": "stream",
     "text": [
      "Logistic Regression Cross-validation Scores:\n",
      "\n",
      "fit_time: mean = 5.471729, std = 0.320827\n",
      "fit_time :[6.02041388 5.36138797 5.28730893 5.21780372]\n",
      "\n",
      "score_time: mean = 0.082147, std = 0.006184\n",
      "score_time :[0.08839273 0.08826733 0.07591987 0.07600689]\n",
      "\n",
      "test_f1_macro: mean = 0.732691, std = 0.003890\n",
      "test_f1_macro :[0.72776606 0.73680571 0.73001358 0.73617837]\n",
      "\n",
      "test_f1_weighted: mean = 0.732691, std = 0.003890\n",
      "test_f1_weighted :[0.72776606 0.73680571 0.73001358 0.73617837]\n",
      "\n",
      "test_neg_log_loss: mean = -0.535965, std = 0.004206\n",
      "test_neg_log_loss :[-0.53545669 -0.5299535  -0.5417841  -0.5366638 ]\n",
      "\n",
      "test_precision_macro: mean = 0.736810, std = 0.002270\n",
      "test_precision_macro :[0.73351333 0.73813594 0.73605788 0.73953228]\n",
      "\n",
      "test_precision_weighted: mean = 0.736810, std = 0.002270\n",
      "test_precision_weighted :[0.73351333 0.73813594 0.73605788 0.73953228]\n",
      "\n",
      "test_recall_macro: mean = 0.733604, std = 0.003490\n",
      "test_recall_macro :[0.7290631  0.73709369 0.73135755 0.73690249]\n",
      "\n",
      "test_recall_weighted: mean = 0.733604, std = 0.003490\n",
      "test_recall_weighted :[0.7290631  0.73709369 0.73135755 0.73690249]\n",
      "\n"
     ]
    }
   ],
   "source": [
    "# Report statistics of the models built for each fold of the cross-validation.\n",
    "print('Logistic Regression Cross-validation Scores:')\n",
    "print()\n",
    "for key in sorted(logistic_regression_scores.keys()):\n",
    "    if key != 'estimator':\n",
    "        print('%s: mean = %f, std = %f' % (key, np.mean(logistic_regression_scores[key]), np.std(logistic_regression_scores[key])), sep='')\n",
    "        print('%s :%s' % (key, logistic_regression_scores[key]), sep='')\n",
    "        print()"
   ]
  },
  {
   "cell_type": "code",
   "execution_count": 77,
   "metadata": {},
   "outputs": [
    {
     "name": "stdout",
     "output_type": "stream",
     "text": [
      "Logistic Regression Model 1 of 4:\n",
      "\n",
      "              precision    recall  f1-score   support\n",
      "\n",
      "       Major   0.059356  0.662080  0.108945       654\n",
      "       Minor   0.991839  0.796507  0.883505     33721\n",
      "\n",
      "    accuracy                       0.793949     34375\n",
      "   macro avg   0.525597  0.729293  0.496225     34375\n",
      "weighted avg   0.974098  0.793949  0.868769     34375\n",
      "\n"
     ]
    },
    {
     "data": {
      "image/png": "[encoded data removed]",
      "text/plain": [
       "<Figure size 1382.4x345.6 with 6 Axes>"
      ]
     },
     "metadata": {
      "needs_background": "light"
     },
     "output_type": "display_data"
    },
    {
     "name": "stdout",
     "output_type": "stream",
     "text": [
      "Logistic Regression Model 2 of 4:\n",
      "\n",
      "              precision    recall  f1-score   support\n",
      "\n",
      "       Major   0.053946  0.703364  0.100207       654\n",
      "       Minor   0.992495  0.760772  0.861320     33721\n",
      "\n",
      "    accuracy                       0.759680     34375\n",
      "   macro avg   0.523220  0.732068  0.480764     34375\n",
      "weighted avg   0.974638  0.759680  0.846840     34375\n",
      "\n"
     ]
    },
    {
     "data": {
      "image/png": "[encoded data removed]",
      "text/plain": [
       "<Figure size 1382.4x345.6 with 6 Axes>"
      ]
     },
     "metadata": {
      "needs_background": "light"
     },
     "output_type": "display_data"
    },
    {
     "name": "stdout",
     "output_type": "stream",
     "text": [
      "Logistic Regression Model 3 of 4:\n",
      "\n",
      "              precision    recall  f1-score   support\n",
      "\n",
      "       Major   0.059848  0.662080  0.109773       654\n",
      "       Minor   0.991857  0.798286  0.884606     33721\n",
      "\n",
      "    accuracy                       0.795695     34375\n",
      "   macro avg   0.525852  0.730183  0.497190     34375\n",
      "weighted avg   0.974125  0.795695  0.869864     34375\n",
      "\n"
     ]
    },
    {
     "data": {
      "image/png": "[encoded data removed]",
      "text/plain": [
       "<Figure size 1382.4x345.6 with 6 Axes>"
      ]
     },
     "metadata": {
      "needs_background": "light"
     },
     "output_type": "display_data"
    },
    {
     "name": "stdout",
     "output_type": "stream",
     "text": [
      "Logistic Regression Model 4 of 4:\n",
      "\n",
      "              precision    recall  f1-score   support\n",
      "\n",
      "       Major   0.059888  0.668196  0.109923       654\n",
      "       Minor   0.991986  0.796566  0.883600     33721\n",
      "\n",
      "    accuracy                       0.794124     34375\n",
      "   macro avg   0.525937  0.732381  0.496762     34375\n",
      "weighted avg   0.974253  0.794124  0.868881     34375\n",
      "\n"
     ]
    },
    {
     "data": {
      "image/png": "[encoded data removed]",
      "text/plain": [
       "<Figure size 1382.4x345.6 with 6 Axes>"
      ]
     },
     "metadata": {
      "needs_background": "light"
     },
     "output_type": "display_data"
    }
   ],
   "source": [
    "# For each logistic regression classifier in the cross-validation, print the macro recall, score report, and confusion matrices.\n",
    "number_of_models = len(logistic_regression_scores['estimator'])\n",
    "#labels = ['1', '2', '2b', '3']\n",
    "labels = [True, False]\n",
    "target_names = ['Major', 'Minor']\n",
    "display_labels = target_names\n",
    "for index, logistic_regression_clf in zip(range(len(logistic_regression_scores['estimator'])), logistic_regression_scores['estimator']):\n",
    "    y_test_predicted = logistic_regression_clf.predict(X_test)\n",
    "    print('Logistic Regression Model %d of %d:' % (index + 1, number_of_models))\n",
    "    print()\n",
    "    print(classification_report(y_test, y_test_predicted, labels=labels, target_names=target_names, digits=6))\n",
    "        \n",
    "    # Create a figure.\n",
    "    fig = plt.figure(num=str(index + 1), figsize=(6.4 * 3, 4.8))\n",
    "    fig.suptitle('Confusion Matrices for Logistic Regression Model %d of %d:' % (index + 1, number_of_models), fontsize=20)\n",
    "    \n",
    "    ax = plt.subplot(1, 3, 1)\n",
    "    ax.set_title(\"Normalized over Predicted Severity\", fontsize=12)\n",
    "    plot_confusion_matrix(logistic_regression_clf, X_test, y_test, labels=labels, display_labels=display_labels, normalize='pred', ax=ax)\n",
    "    \n",
    "    ax = plt.subplot(1, 3, 2)\n",
    "    ax.set_title(\"Normalized over True Severity\", fontsize=12)\n",
    "    plot_confusion_matrix(logistic_regression_clf, X_test, y_test, labels=labels, display_labels=display_labels, normalize='true', ax=ax)\n",
    "    \n",
    "    ax = plt.subplot(1, 3, 3)\n",
    "    ax.set_title(\"Not Normalized\", fontsize=12)\n",
    "    plot_confusion_matrix(logistic_regression_clf, X_test, y_test, labels=labels, display_labels=display_labels, normalize=None, ax=ax)\n",
    "\n",
    "    plt.show()"
   ]
  },
  {
   "cell_type": "code",
   "execution_count": 78,
   "metadata": {},
   "outputs": [
    {
     "name": "stdout",
     "output_type": "stream",
     "text": [
      "Elapsed time is 7760.23984388914 seconds.\n"
     ]
    }
   ],
   "source": [
    "print_elapsed_time(notebook_start_time)"
   ]
  },
  {
   "cell_type": "code",
   "execution_count": 79,
   "metadata": {},
   "outputs": [
    {
     "name": "stdout",
     "output_type": "stream",
     "text": [
      "Support Vector Machine Cross-validation Scores:\n",
      "\n",
      "fit_time: mean = 0.502158, std = 0.054747\n",
      "fit_time :[0.54542327 0.56182122 0.42559004 0.47579885]\n",
      "\n",
      "score_time: mean = 0.144561, std = 0.051083\n",
      "score_time :[0.14657998 0.20655823 0.16020465 0.06490254]\n",
      "\n",
      "test_f1_macro: mean = 0.731933, std = 0.004186\n",
      "test_f1_macro :[0.72541656 0.73638588 0.7312806  0.73464974]\n",
      "\n",
      "test_f1_weighted: mean = 0.731933, std = 0.004186\n",
      "test_f1_weighted :[0.72541656 0.73638588 0.7312806  0.73464974]\n",
      "\n",
      "test_precision_macro: mean = 0.736001, std = 0.002815\n",
      "test_precision_macro :[0.73132493 0.73700266 0.73682022 0.73885613]\n",
      "\n",
      "test_precision_weighted: mean = 0.736001, std = 0.002815\n",
      "test_precision_weighted :[0.73132493 0.73700266 0.73682022 0.73885613]\n",
      "\n",
      "test_recall_macro: mean = 0.732839, std = 0.003806\n",
      "test_recall_macro :[0.72676864 0.73652008 0.73250478 0.73556405]\n",
      "\n",
      "test_recall_weighted: mean = 0.732839, std = 0.003806\n",
      "test_recall_weighted :[0.72676864 0.73652008 0.73250478 0.73556405]\n",
      "\n"
     ]
    }
   ],
   "source": [
    "# Report statistics of the models built for each fold of the cross-validation.\n",
    "print('Support Vector Machine Cross-validation Scores:')\n",
    "print()\n",
    "for key in sorted(linear_svc_scores.keys()):\n",
    "    if key != 'estimator':\n",
    "        print('%s: mean = %f, std = %f' % (key, np.mean(linear_svc_scores[key]), np.std(linear_svc_scores[key])), sep='')\n",
    "        print('%s :%s' % (key, linear_svc_scores[key]), sep='')\n",
    "        print()"
   ]
  },
  {
   "cell_type": "code",
   "execution_count": 80,
   "metadata": {},
   "outputs": [
    {
     "name": "stdout",
     "output_type": "stream",
     "text": [
      "Support Vector Machine Model 1 of 4:\n",
      "\n",
      "              precision    recall  f1-score   support\n",
      "\n",
      "       Major   0.059501  0.663609  0.109210       654\n",
      "       Minor   0.991876  0.796566  0.883556     33721\n",
      "\n",
      "    accuracy                       0.794036     34375\n",
      "   macro avg   0.525689  0.730087  0.496383     34375\n",
      "weighted avg   0.974137  0.794036  0.868824     34375\n",
      "\n"
     ]
    },
    {
     "data": {
      "image/png": "[encoded data removed]",
      "text/plain": [
       "<Figure size 1382.4x345.6 with 6 Axes>"
      ]
     },
     "metadata": {
      "needs_background": "light"
     },
     "output_type": "display_data"
    },
    {
     "name": "stdout",
     "output_type": "stream",
     "text": [
      "Support Vector Machine Model 2 of 4:\n",
      "\n",
      "              precision    recall  f1-score   support\n",
      "\n",
      "       Major   0.053055  0.715596  0.098786       654\n",
      "       Minor   0.992721  0.752291  0.855943     33721\n",
      "\n",
      "    accuracy                       0.751593     34375\n",
      "   macro avg   0.522888  0.733944  0.477364     34375\n",
      "weighted avg   0.974844  0.751593  0.841537     34375\n",
      "\n"
     ]
    },
    {
     "data": {
      "image/png": "[encoded data removed]",
      "text/plain": [
       "<Figure size 1382.4x345.6 with 6 Axes>"
      ]
     },
     "metadata": {
      "needs_background": "light"
     },
     "output_type": "display_data"
    },
    {
     "name": "stdout",
     "output_type": "stream",
     "text": [
      "Support Vector Machine Model 3 of 4:\n",
      "\n",
      "              precision    recall  f1-score   support\n",
      "\n",
      "       Major   0.059740  0.668196  0.109675       654\n",
      "       Minor   0.991981  0.796032  0.883269     33721\n",
      "\n",
      "    accuracy                       0.793600     34375\n",
      "   macro avg   0.525861  0.732114  0.496472     34375\n",
      "weighted avg   0.974244  0.793600  0.868551     34375\n",
      "\n"
     ]
    },
    {
     "data": {
      "image/png": "[encoded data removed]",
      "text/plain": [
       "<Figure size 1382.4x345.6 with 6 Axes>"
      ]
     },
     "metadata": {
      "needs_background": "light"
     },
     "output_type": "display_data"
    },
    {
     "name": "stdout",
     "output_type": "stream",
     "text": [
      "Support Vector Machine Model 4 of 4:\n",
      "\n",
      "              precision    recall  f1-score   support\n",
      "\n",
      "       Major   0.060529  0.657492  0.110853       654\n",
      "       Minor   0.991786  0.802082  0.886903     33721\n",
      "\n",
      "    accuracy                       0.799331     34375\n",
      "   macro avg   0.526158  0.729787  0.498878     34375\n",
      "weighted avg   0.974069  0.799331  0.872138     34375\n",
      "\n"
     ]
    },
    {
     "data": {
      "image/png": "[encoded data removed]",
      "text/plain": [
       "<Figure size 1382.4x345.6 with 6 Axes>"
      ]
     },
     "metadata": {
      "needs_background": "light"
     },
     "output_type": "display_data"
    }
   ],
   "source": [
    "# For each support vector machine classifier in the cross-validation, print the score report and confusion matrices.\n",
    "number_of_models = len(linear_svc_scores['estimator'])\n",
    "#labels = ['1', '2', '2b', '3']\n",
    "labels = [True, False]\n",
    "target_names = ['Major', 'Minor']\n",
    "display_labels = target_names\n",
    "for index, linear_svc_clf in zip(range(len(linear_svc_scores['estimator'])), linear_svc_scores['estimator']):\n",
    "    y_test_predicted = linear_svc_clf.predict(X_test)\n",
    "    print('Support Vector Machine Model %d of %d:' % (index + 1, number_of_models))\n",
    "    print()\n",
    "    print(classification_report(y_test, y_test_predicted, labels=labels, target_names=target_names, digits=6))\n",
    "        \n",
    "    # Create a figure.\n",
    "    fig = plt.figure(num=str(index + 1), figsize=(6.4 * 3, 4.8))\n",
    "    fig.suptitle('Confusion Matrices for Support Vector Machine Model %d of %d:' % (index + 1, number_of_models), fontsize=20)\n",
    "    \n",
    "    ax = plt.subplot(1,3,1)\n",
    "    ax.set_title(\"Normalized over Predicted Severity\", fontsize=12)\n",
    "    plot_confusion_matrix(linear_svc_clf, X_test, y_test, labels=labels, display_labels=display_labels, normalize='pred', ax=ax)\n",
    "    \n",
    "    ax = plt.subplot(1,3,2)\n",
    "    ax.set_title(\"Normalized over True Severity\", fontsize=12)\n",
    "    plot_confusion_matrix(linear_svc_clf, X_test, y_test, labels=labels, display_labels=display_labels, normalize='true', ax=ax)\n",
    "    \n",
    "    ax = plt.subplot(1,3,3)\n",
    "    ax.set_title(\"Not Normalized\", fontsize=12)\n",
    "    plot_confusion_matrix(linear_svc_clf, X_test, y_test, labels=labels, display_labels=display_labels, normalize=None, ax=ax)\n",
    "    \n",
    "    plt.show()"
   ]
  },
  {
   "cell_type": "code",
   "execution_count": 81,
   "metadata": {},
   "outputs": [
    {
     "name": "stdout",
     "output_type": "stream",
     "text": [
      "Elapsed time is 7772.827349605039 seconds.\n"
     ]
    }
   ],
   "source": [
    "print_elapsed_time(notebook_start_time)"
   ]
  },
  {
   "cell_type": "code",
   "execution_count": 82,
   "metadata": {},
   "outputs": [
    {
     "name": "stdout",
     "output_type": "stream",
     "text": [
      "k-Nearest Neighbors Cross-validation Scores:\n",
      "\n",
      "fit_time: mean = 0.042971, std = 0.009972\n",
      "fit_time :[0.03807116 0.05973768 0.03370476 0.04037166]\n",
      "\n",
      "score_time: mean = 90.242742, std = 6.639924\n",
      "score_time :[83.82596588 83.39238834 97.22533202 96.52728057]\n",
      "\n",
      "test_f1_macro: mean = 0.746786, std = 0.001709\n",
      "test_f1_macro :[0.7448386  0.74769554 0.74549957 0.74911081]\n",
      "\n",
      "test_f1_weighted: mean = 0.746786, std = 0.001709\n",
      "test_f1_weighted :[0.7448386  0.74769554 0.74549957 0.74911081]\n",
      "\n",
      "test_neg_log_loss: mean = -0.621522, std = 0.041029\n",
      "test_neg_log_loss :[-0.63599576 -0.55137581 -0.64416206 -0.65455247]\n",
      "\n",
      "test_precision_macro: mean = 0.747541, std = 0.001252\n",
      "test_precision_macro :[0.74622701 0.74821673 0.74646618 0.74925389]\n",
      "\n",
      "test_precision_weighted: mean = 0.747541, std = 0.001252\n",
      "test_precision_weighted :[0.74622701 0.74821673 0.74646618 0.74925389]\n",
      "\n",
      "test_recall_macro: mean = 0.746941, std = 0.001614\n",
      "test_recall_macro :[0.74512428 0.74780115 0.7456979  0.74913958]\n",
      "\n",
      "test_recall_weighted: mean = 0.746941, std = 0.001614\n",
      "test_recall_weighted :[0.74512428 0.74780115 0.7456979  0.74913958]\n",
      "\n"
     ]
    }
   ],
   "source": [
    "# Report statistics of the models built for each fold of the cross-validation.\n",
    "print('k-Nearest Neighbors Cross-validation Scores:')\n",
    "print()\n",
    "for key in sorted(k_neighbors_scores.keys()):\n",
    "    if key != 'estimator':\n",
    "        print('%s: mean = %f, std = %f' % (key, np.mean(k_neighbors_scores[key]), np.std(k_neighbors_scores[key])), sep='')\n",
    "        print('%s :%s' % (key, k_neighbors_scores[key]), sep='')\n",
    "        print()"
   ]
  },
  {
   "cell_type": "code",
   "execution_count": 83,
   "metadata": {},
   "outputs": [
    {
     "name": "stdout",
     "output_type": "stream",
     "text": [
      "k-Nearest Neighbor Model 1 of 4:\n",
      "\n",
      "              precision    recall  f1-score   support\n",
      "\n",
      "       Major   0.052233  0.665138  0.096860       654\n",
      "       Minor   0.991592  0.765932  0.864275     33721\n",
      "\n",
      "    accuracy                       0.764015     34375\n",
      "   macro avg   0.521913  0.715535  0.480568     34375\n",
      "weighted avg   0.973720  0.764015  0.849675     34375\n",
      "\n"
     ]
    },
    {
     "data": {
      "image/png": "[encoded data removed]",
      "text/plain": [
       "<Figure size 1382.4x345.6 with 6 Axes>"
      ]
     },
     "metadata": {
      "needs_background": "light"
     },
     "output_type": "display_data"
    },
    {
     "name": "stdout",
     "output_type": "stream",
     "text": [
      "k-Nearest Neighbor Model 2 of 4:\n",
      "\n",
      "              precision    recall  f1-score   support\n",
      "\n",
      "       Major   0.051720  0.671254  0.096040       654\n",
      "       Minor   0.991695  0.761306  0.861361     33721\n",
      "\n",
      "    accuracy                       0.759593     34375\n",
      "   macro avg   0.521707  0.716280  0.478701     34375\n",
      "weighted avg   0.973811  0.759593  0.846800     34375\n",
      "\n"
     ]
    },
    {
     "data": {
      "image/png": "[encoded data removed]",
      "text/plain": [
       "<Figure size 1382.4x345.6 with 6 Axes>"
      ]
     },
     "metadata": {
      "needs_background": "light"
     },
     "output_type": "display_data"
    },
    {
     "name": "stdout",
     "output_type": "stream",
     "text": [
      "k-Nearest Neighbor Model 3 of 4:\n",
      "\n",
      "              precision    recall  f1-score   support\n",
      "\n",
      "       Major   0.051543  0.659021  0.095608       654\n",
      "       Minor   0.991427  0.764805  0.863495     33721\n",
      "\n",
      "    accuracy                       0.762793     34375\n",
      "   macro avg   0.521485  0.711913  0.479551     34375\n",
      "weighted avg   0.973546  0.762793  0.848885     34375\n",
      "\n"
     ]
    },
    {
     "data": {
      "image/png": "[encoded data removed]",
      "text/plain": [
       "<Figure size 1382.4x345.6 with 6 Axes>"
      ]
     },
     "metadata": {
      "needs_background": "light"
     },
     "output_type": "display_data"
    },
    {
     "name": "stdout",
     "output_type": "stream",
     "text": [
      "k-Nearest Neighbor Model 4 of 4:\n",
      "\n",
      "              precision    recall  f1-score   support\n",
      "\n",
      "       Major   0.052846  0.675841  0.098026       654\n",
      "       Minor   0.991850  0.765072  0.863825     33721\n",
      "\n",
      "    accuracy                       0.763375     34375\n",
      "   macro avg   0.522348  0.720457  0.480926     34375\n",
      "weighted avg   0.973985  0.763375  0.849255     34375\n",
      "\n"
     ]
    },
    {
     "data": {
      "image/png": "[encoded data removed]",
      "text/plain": [
       "<Figure size 1382.4x345.6 with 6 Axes>"
      ]
     },
     "metadata": {
      "needs_background": "light"
     },
     "output_type": "display_data"
    }
   ],
   "source": [
    "# For each k-Nearest Neighbor classifier in the cross-validation, print the macro recall, score report, and confusion matrices.\n",
    "number_of_models = len(k_neighbors_scores['estimator'])\n",
    "#labels = ['1', '2', '2b', '3']\n",
    "labels = [True, False]\n",
    "target_names = ['Major', 'Minor']\n",
    "display_labels = target_names\n",
    "for index, knn_clf in zip(range(len(k_neighbors_scores['estimator'])), k_neighbors_scores['estimator']):\n",
    "    y_test_predicted = knn_clf.predict(X_test)\n",
    "    print('k-Nearest Neighbor Model %d of %d:' % (index + 1, number_of_models))\n",
    "    print()\n",
    "    print(classification_report(y_test, y_test_predicted, labels=labels, target_names=target_names, digits=6))\n",
    "        \n",
    "    # Create a figure.\n",
    "    fig = plt.figure(num=str(index + 1), figsize=(6.4 * 3, 4.8))\n",
    "    fig.suptitle('Confusion Matrices for k-Nearest Neighbor Model %d of %d:' % (index + 1, number_of_models), fontsize=20)\n",
    "    \n",
    "    ax = plt.subplot(1, 3, 1)\n",
    "    ax.set_title(\"Normalized over Predicted Severity\", fontsize=12)\n",
    "    plot_confusion_matrix(knn_clf, X_test, y_test, labels=labels, display_labels=display_labels, normalize='pred', ax=ax)\n",
    "    \n",
    "    ax = plt.subplot(1, 3, 2)\n",
    "    ax.set_title(\"Normalized over True Severity\", fontsize=12)\n",
    "    plot_confusion_matrix(knn_clf, X_test, y_test, labels=labels, display_labels=display_labels, normalize='true', ax=ax)\n",
    "    \n",
    "    ax = plt.subplot(1, 3, 3)\n",
    "    ax.set_title(\"Not Normalized\", fontsize=12)\n",
    "    plot_confusion_matrix(knn_clf, X_test, y_test, labels=labels, display_labels=display_labels, normalize=None, ax=ax)\n",
    "\n",
    "    plt.show()"
   ]
  },
  {
   "cell_type": "code",
   "execution_count": 84,
   "metadata": {},
   "outputs": [
    {
     "name": "stdout",
     "output_type": "stream",
     "text": [
      "All reports and graphics generated in 2460.471745 seconds.\n"
     ]
    }
   ],
   "source": [
    "print('All reports and graphics generated in %f seconds.' % (elapsed_time(t0)))"
   ]
  },
  {
   "cell_type": "code",
   "execution_count": 85,
   "metadata": {},
   "outputs": [
    {
     "name": "stdout",
     "output_type": "stream",
     "text": [
      "Elapsed time is 10208.064230313059 seconds.\n"
     ]
    }
   ],
   "source": [
    "print_elapsed_time(notebook_start_time)"
   ]
  }
 ],
 "metadata": {
  "kernelspec": {
   "display_name": "Python 3",
   "language": "python",
   "name": "python3"
  },
  "language_info": {
   "codemirror_mode": {
    "name": "ipython",
    "version": 3
   },
   "file_extension": ".py",
   "mimetype": "text/x-python",
   "name": "python",
   "nbconvert_exporter": "python",
   "pygments_lexer": "ipython3",
   "version": "3.8.3"
  }
 },
 "nbformat": 4,
 "nbformat_minor": 4
}
