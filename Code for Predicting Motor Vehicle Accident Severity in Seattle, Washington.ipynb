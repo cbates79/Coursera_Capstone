{
 "cells": [
  {
   "cell_type": "markdown",
   "metadata": {},
   "source": [
    "<h1 id=\"title\">Code for Predicting Motor Vehicle Accident Severity in Seattle, Washington</h1>"
   ]
  },
  {
   "cell_type": "markdown",
   "metadata": {},
   "source": [
    "This notebook contains the Python code for the Applied Data Science Capstone Project.\n",
    "In this project, we use a publicly available data set to build several kinds of models to predict the severity of motor vehicle accidents in Seattle, Washington."
   ]
  },
  {
   "cell_type": "code",
   "execution_count": 1,
   "metadata": {},
   "outputs": [],
   "source": [
    "# Import packages and modules.\n",
    "import io\n",
    "import itertools\n",
    "import matplotlib as mpl\n",
    "import matplotlib.image as mpimg\n",
    "import matplotlib.pyplot as plt\n",
    "import matplotlib.ticker as ticker\n",
    "import numpy as np\n",
    "import os\n",
    "import pandas as pd\n",
    "import pylab as pl\n",
    "import scipy\n",
    "import scipy.optimize as opt\n",
    "import seaborn as sns\n",
    "import sklearn\n",
    "import sys\n",
    "import timeit\n",
    "import warnings\n",
    "from matplotlib.ticker import NullFormatter\n",
    "from scipy import optimize\n",
    "from scipy.optimize import curve_fit\n",
    "from scipy.sparse import csr_matrix\n",
    "from sklearn import linear_model\n",
    "from sklearn import metrics\n",
    "from sklearn import pipeline\n",
    "from sklearn import preprocessing\n",
    "from sklearn import svm\n",
    "from sklearn import tree\n",
    "from sklearn import utils\n",
    "from sklearn.linear_model import LinearRegression\n",
    "from sklearn.linear_model import LogisticRegression\n",
    "from sklearn.metrics import accuracy_score\n",
    "from sklearn.metrics import balanced_accuracy_score\n",
    "from sklearn.metrics import classification_report\n",
    "from sklearn.metrics import confusion_matrix\n",
    "from sklearn.metrics import f1_score\n",
    "from sklearn.metrics import jaccard_score\n",
    "from sklearn.metrics import log_loss\n",
    "from sklearn.metrics import plot_confusion_matrix\n",
    "from sklearn.metrics import precision_score\n",
    "from sklearn.metrics import precision_recall_fscore_support\n",
    "from sklearn.metrics import recall_score\n",
    "from sklearn.metrics import r2_score\n",
    "from sklearn.model_selection import GridSearchCV\n",
    "from sklearn.model_selection import GroupKFold\n",
    "from sklearn.model_selection import KFold\n",
    "from sklearn.model_selection import LeaveOneOut\n",
    "from sklearn.model_selection import RepeatedKFold\n",
    "from sklearn.model_selection import StratifiedKFold\n",
    "from sklearn.model_selection import RepeatedStratifiedKFold\n",
    "from sklearn.model_selection import cross_val_predict\n",
    "from sklearn.model_selection import cross_val_score\n",
    "from sklearn.model_selection import cross_validate\n",
    "from sklearn.model_selection import train_test_split\n",
    "from sklearn.neighbors import KNeighborsClassifier\n",
    "from sklearn.pipeline import make_pipeline\n",
    "from sklearn.pipeline import Pipeline\n",
    "from sklearn.preprocessing import OneHotEncoder\n",
    "from sklearn.preprocessing import PolynomialFeatures\n",
    "from sklearn.preprocessing import StandardScaler\n",
    "from sklearn.svm import LinearSVC\n",
    "from sklearn.svm import SVC\n",
    "from sklearn.tree import DecisionTreeClassifier\n",
    "from sklearn.tree import export_text\n",
    "from sklearn.tree import plot_tree\n",
    "from sklearn.utils import resample\n",
    "from sklearn.utils import shuffle\n",
    "from sklearn.exceptions import ConvergenceWarning\n",
    "from timeit import default_timer\n",
    "%matplotlib inline"
   ]
  },
  {
   "cell_type": "code",
   "execution_count": 2,
   "metadata": {},
   "outputs": [],
   "source": [
    "warnings.filterwarnings(\"ignore\", category=ConvergenceWarning, module=\"sklearn\")"
   ]
  },
  {
   "cell_type": "code",
   "execution_count": 3,
   "metadata": {},
   "outputs": [],
   "source": [
    "# Define the starting time for this notebook. \n",
    "notebook_start_time = default_timer()"
   ]
  },
  {
   "cell_type": "code",
   "execution_count": 4,
   "metadata": {},
   "outputs": [],
   "source": [
    "# This function computes the time elapsed in seconds from the \n",
    "# time represented by the first parameter (start_time)\n",
    "# to the time represented by the second parameter (end_time)\n",
    "# This function requires the os package to be imported.\n",
    "def elapsed_time(start_time = notebook_start_time):\n",
    "    return default_timer() - start_time   "
   ]
  },
  {
   "cell_type": "code",
   "execution_count": 5,
   "metadata": {},
   "outputs": [],
   "source": [
    "# This function prints the time elapsed in seconds from the \n",
    "# time represented by the first parameter (start_time)\n",
    "# to the time represented by the second parameter (end_time)\n",
    "# This function requires the os package to be imported.\n",
    "def print_elapsed_time(start_time = notebook_start_time):\n",
    "    print(\"Elapsed time is\", elapsed_time(start_time), \"seconds.\")\n",
    "    return None"
   ]
  },
  {
   "cell_type": "code",
   "execution_count": 6,
   "metadata": {},
   "outputs": [
    {
     "name": "stdout",
     "output_type": "stream",
     "text": [
      "Setting display options...\n",
      "max_info_columns: 1000\n",
      "colheader_justify: right\n",
      "max_info_rows: 1000000\n",
      "column_space: 1000\n",
      "max_rows: 1000000\n",
      "precision: 9\n",
      "max_seq_items: 1000000000000\n",
      "show_dimensions: True\n",
      "max_categories: 100\n",
      "memory_usage: True\n",
      "max_columns: 1000\n",
      "max_colwidth: 1000\n",
      "float_format: <function <lambda> at 0x7f346c0f03a0>\n"
     ]
    }
   ],
   "source": [
    "# Create a list of display options.\n",
    "list_of_display_options_fully_qualified_names = str(\\\n",
    "\"pd.options.display.chop_threshold, pd.options.display.float_format, pd.options.display.max_info_columns, pd.options.display.notebook_repr_html, \\\n",
    "pd.options.display.colheader_justify, pd.options.display.html, pd.options.display.max_info_rows, pd.options.display.pprint_nest_depth, \\\n",
    "pd.options.display.column_space, pd.options.display.large_repr, pd.options.display.max_rows, pd.options.display.precision, \\\n",
    "pd.options.display.date_dayfirst, pd.options.display.latex, pd.options.display.max_seq_items, pd.options.display.show_dimensions, \\\n",
    "pd.options.display.date_yearfirst, pd.options.display.max_categories, pd.options.display.memory_usage, pd.options.display.unicode, \\\n",
    "pd.options.display.encoding, pd.options.display.max_columns, pd.options.display.min_rows, pd.options.display.width, \\\n",
    "pd.options.display.expand_frame_repr, pd.options.display.max_colwidth, pd.options.display.multi_sparse\").split(sep=', ')\n",
    "\n",
    "# Initialize an empty list to store all the short names for display options.\n",
    "list_of_display_options_short_names = list()\n",
    "# For each fully qualified option name,\n",
    "# get the option's short name and add it to the list of short names.\n",
    "for fully_qualified_option_name in list_of_display_options_fully_qualified_names:\n",
    "    # Get short option name.\n",
    "    short_option_name = fully_qualified_option_name.split(sep='.')[-1]\n",
    "    \n",
    "    # Add short option name to list of display option short names.\n",
    "    list_of_display_options_short_names.append(short_option_name)\n",
    "\n",
    "# Define dictionary of display option settings.\n",
    "dict_of_display_option_settings_short_names=\\\n",
    "{\"max_info_columns\": 1000,\\\n",
    "\"colheader_justify\": \"right\",\\\n",
    "\"max_info_rows\": 1000000,\\\n",
    "\"column_space\": 1000,\\\n",
    "\"max_rows\": 1000000,\\\n",
    "\"precision\": 9,\\\n",
    "\"max_seq_items\": 1000000000000,\\\n",
    "\"show_dimensions\": True,\\\n",
    "\"max_categories\": 100,\\\n",
    "\"memory_usage\": True,\\\n",
    "\"max_columns\": 1000,\\\n",
    "\"max_colwidth\": 1000,\\\n",
    "\"float_format\": lambda x: '%.9f' % x}\n",
    "\n",
    "# Set pandas display options using dictionary of short names,\n",
    "# and display the options/value pairs.\n",
    "print(\"Setting display options...\")\n",
    "for key in list(dict_of_display_option_settings_short_names.keys()):\n",
    "    # Set display option.\n",
    "    pd.set_option(key, dict_of_display_option_settings_short_names[key])\n",
    "    # Print display option name and value.\n",
    "    print(key, \": \", pd.get_option(key), sep='')"
   ]
  },
  {
   "cell_type": "code",
   "execution_count": 7,
   "metadata": {},
   "outputs": [],
   "source": [
    "# Set the sampling ratio (percentage of minority class to (over)sample).\n",
    "sampling_ratio = 2\n",
    "\n",
    "# Set test ratio (percentage of data set to use as test data),and number of folds.\n",
    "test_size_ratio = .2\n",
    "\n",
    "# Set the number of folds for cross-validation.\n",
    "number_of_folds = 4\n",
    "\n",
    "# Set an upper bound for the number of neighbors.\n",
    "neighbors_upper_bound = 50"
   ]
  },
  {
   "cell_type": "code",
   "execution_count": 8,
   "metadata": {},
   "outputs": [
    {
     "name": "stdout",
     "output_type": "stream",
     "text": [
      "42\n"
     ]
    }
   ],
   "source": [
    "# Set seed for random number generator.\n",
    "# seed = np.int(os.times()[4]) # Use this line for better pseudo-random behavior.\n",
    "seed = 42\n",
    "print(seed)"
   ]
  },
  {
   "cell_type": "code",
   "execution_count": 9,
   "metadata": {},
   "outputs": [],
   "source": [
    "# Attribute Information URL: https://www.seattle.gov/Documents/Departments/SDOT/GIS/Collisions_OD.pdf\n",
    "# Read the Collisions Data CSV file and store it as a DataFrame.\n",
    "# url=\"https://opendata.arcgis.com/datasets/5b5c745e0f1f48e7a53acec63a0022ab_0.csv\" # HTTPError at 202009151050, using local copy of .csv instead.\n",
    "# print(os.listdir(\"..\")) # Print list of contents of current working directory.\n",
    "local_path_to_csv = '~/IBM Data Science Professional Certificate Course/Course 9 - Applied Data Science Capstone/projects/Collisions.csv'\n",
    "df=pd.read_csv(local_path_to_csv, low_memory=False)"
   ]
  },
  {
   "cell_type": "code",
   "execution_count": 10,
   "metadata": {},
   "outputs": [
    {
     "data": {
      "text/html": [
       "<div>\n",
       "<style scoped>\n",
       "    .dataframe tbody tr th:only-of-type {\n",
       "        vertical-align: middle;\n",
       "    }\n",
       "\n",
       "    .dataframe tbody tr th {\n",
       "        vertical-align: top;\n",
       "    }\n",
       "\n",
       "    .dataframe thead th {\n",
       "        text-align: right;\n",
       "    }\n",
       "</style>\n",
       "<table border=\"1\" class=\"dataframe\">\n",
       "  <thead>\n",
       "    <tr style=\"text-align: right;\">\n",
       "      <th></th>\n",
       "      <th>X</th>\n",
       "      <th>Y</th>\n",
       "      <th>OBJECTID</th>\n",
       "      <th>INCKEY</th>\n",
       "      <th>COLDETKEY</th>\n",
       "      <th>REPORTNO</th>\n",
       "      <th>STATUS</th>\n",
       "      <th>ADDRTYPE</th>\n",
       "      <th>INTKEY</th>\n",
       "      <th>LOCATION</th>\n",
       "      <th>EXCEPTRSNCODE</th>\n",
       "      <th>EXCEPTRSNDESC</th>\n",
       "      <th>SEVERITYCODE</th>\n",
       "      <th>SEVERITYDESC</th>\n",
       "      <th>COLLISIONTYPE</th>\n",
       "      <th>PERSONCOUNT</th>\n",
       "      <th>PEDCOUNT</th>\n",
       "      <th>PEDCYLCOUNT</th>\n",
       "      <th>VEHCOUNT</th>\n",
       "      <th>INJURIES</th>\n",
       "      <th>SERIOUSINJURIES</th>\n",
       "      <th>FATALITIES</th>\n",
       "      <th>INCDATE</th>\n",
       "      <th>INCDTTM</th>\n",
       "      <th>JUNCTIONTYPE</th>\n",
       "      <th>SDOT_COLCODE</th>\n",
       "      <th>SDOT_COLDESC</th>\n",
       "      <th>INATTENTIONIND</th>\n",
       "      <th>UNDERINFL</th>\n",
       "      <th>WEATHER</th>\n",
       "      <th>ROADCOND</th>\n",
       "      <th>LIGHTCOND</th>\n",
       "      <th>PEDROWNOTGRNT</th>\n",
       "      <th>SDOTCOLNUM</th>\n",
       "      <th>SPEEDING</th>\n",
       "      <th>ST_COLCODE</th>\n",
       "      <th>ST_COLDESC</th>\n",
       "      <th>SEGLANEKEY</th>\n",
       "      <th>CROSSWALKKEY</th>\n",
       "      <th>HITPARKEDCAR</th>\n",
       "    </tr>\n",
       "  </thead>\n",
       "  <tbody>\n",
       "    <tr>\n",
       "      <th>0</th>\n",
       "      <td>-122.320757054</td>\n",
       "      <td>47.609407946</td>\n",
       "      <td>1</td>\n",
       "      <td>328476</td>\n",
       "      <td>329976</td>\n",
       "      <td>EA08706</td>\n",
       "      <td>Matched</td>\n",
       "      <td>Block</td>\n",
       "      <td>nan</td>\n",
       "      <td>BROADWAY BETWEEN E COLUMBIA ST AND BOYLSTON AVE</td>\n",
       "      <td></td>\n",
       "      <td>NaN</td>\n",
       "      <td>1</td>\n",
       "      <td>Property Damage Only Collision</td>\n",
       "      <td>Sideswipe</td>\n",
       "      <td>2</td>\n",
       "      <td>0</td>\n",
       "      <td>0</td>\n",
       "      <td>2</td>\n",
       "      <td>0</td>\n",
       "      <td>0</td>\n",
       "      <td>0</td>\n",
       "      <td>2020/01/22 00:00:00+00</td>\n",
       "      <td>1/22/2020 3:21:00 PM</td>\n",
       "      <td>Mid-Block (not related to intersection)</td>\n",
       "      <td>11.000000000</td>\n",
       "      <td>MOTOR VEHICLE STRUCK MOTOR VEHICLE, FRONT END AT ANGLE</td>\n",
       "      <td>NaN</td>\n",
       "      <td>N</td>\n",
       "      <td>Raining</td>\n",
       "      <td>Wet</td>\n",
       "      <td>Dark - Street Lights On</td>\n",
       "      <td>NaN</td>\n",
       "      <td>nan</td>\n",
       "      <td>NaN</td>\n",
       "      <td>11</td>\n",
       "      <td>From same direction - both going straight - both moving - sideswipe</td>\n",
       "      <td>0</td>\n",
       "      <td>0</td>\n",
       "      <td>N</td>\n",
       "    </tr>\n",
       "    <tr>\n",
       "      <th>1</th>\n",
       "      <td>-122.319560827</td>\n",
       "      <td>47.662220664</td>\n",
       "      <td>2</td>\n",
       "      <td>328142</td>\n",
       "      <td>329642</td>\n",
       "      <td>EA06882</td>\n",
       "      <td>Matched</td>\n",
       "      <td>Block</td>\n",
       "      <td>nan</td>\n",
       "      <td>8TH AVE NE BETWEEN NE 45TH E ST AND NE 47TH ST</td>\n",
       "      <td></td>\n",
       "      <td>NaN</td>\n",
       "      <td>1</td>\n",
       "      <td>Property Damage Only Collision</td>\n",
       "      <td>Parked Car</td>\n",
       "      <td>2</td>\n",
       "      <td>0</td>\n",
       "      <td>0</td>\n",
       "      <td>2</td>\n",
       "      <td>0</td>\n",
       "      <td>0</td>\n",
       "      <td>0</td>\n",
       "      <td>2020/01/07 00:00:00+00</td>\n",
       "      <td>1/7/2020 8:00:00 AM</td>\n",
       "      <td>Mid-Block (not related to intersection)</td>\n",
       "      <td>15.000000000</td>\n",
       "      <td>MOTOR VEHICLE STRUCK MOTOR VEHICLE, RIGHT SIDE SIDESWIPE</td>\n",
       "      <td>NaN</td>\n",
       "      <td>N</td>\n",
       "      <td>Clear</td>\n",
       "      <td>Dry</td>\n",
       "      <td>Daylight</td>\n",
       "      <td>NaN</td>\n",
       "      <td>nan</td>\n",
       "      <td>NaN</td>\n",
       "      <td>32</td>\n",
       "      <td>One parked--one moving</td>\n",
       "      <td>0</td>\n",
       "      <td>0</td>\n",
       "      <td>Y</td>\n",
       "    </tr>\n",
       "    <tr>\n",
       "      <th>2</th>\n",
       "      <td>-122.327524508</td>\n",
       "      <td>47.604393273</td>\n",
       "      <td>3</td>\n",
       "      <td>20700</td>\n",
       "      <td>20700</td>\n",
       "      <td>1181833</td>\n",
       "      <td>Unmatched</td>\n",
       "      <td>Block</td>\n",
       "      <td>nan</td>\n",
       "      <td>JAMES ST BETWEEN 6TH AVE AND 7TH AVE</td>\n",
       "      <td>NaN</td>\n",
       "      <td>NaN</td>\n",
       "      <td>0</td>\n",
       "      <td>Unknown</td>\n",
       "      <td>NaN</td>\n",
       "      <td>0</td>\n",
       "      <td>0</td>\n",
       "      <td>0</td>\n",
       "      <td>0</td>\n",
       "      <td>0</td>\n",
       "      <td>0</td>\n",
       "      <td>0</td>\n",
       "      <td>2004/01/30 00:00:00+00</td>\n",
       "      <td>1/30/2004</td>\n",
       "      <td>Mid-Block (but intersection related)</td>\n",
       "      <td>11.000000000</td>\n",
       "      <td>MOTOR VEHICLE STRUCK MOTOR VEHICLE, FRONT END AT ANGLE</td>\n",
       "      <td>NaN</td>\n",
       "      <td>NaN</td>\n",
       "      <td>NaN</td>\n",
       "      <td>NaN</td>\n",
       "      <td>NaN</td>\n",
       "      <td>NaN</td>\n",
       "      <td>4030032.000000000</td>\n",
       "      <td>NaN</td>\n",
       "      <td>NaN</td>\n",
       "      <td>NaN</td>\n",
       "      <td>0</td>\n",
       "      <td>0</td>\n",
       "      <td>N</td>\n",
       "    </tr>\n",
       "    <tr>\n",
       "      <th>3</th>\n",
       "      <td>-122.327524934</td>\n",
       "      <td>47.708621579</td>\n",
       "      <td>4</td>\n",
       "      <td>332126</td>\n",
       "      <td>333626</td>\n",
       "      <td>M16001640</td>\n",
       "      <td>Unmatched</td>\n",
       "      <td>Block</td>\n",
       "      <td>nan</td>\n",
       "      <td>NE NORTHGATE WAY BETWEEN 1ST AVE NE AND NE NORTHGATE DR</td>\n",
       "      <td></td>\n",
       "      <td>NaN</td>\n",
       "      <td>0</td>\n",
       "      <td>Unknown</td>\n",
       "      <td>NaN</td>\n",
       "      <td>0</td>\n",
       "      <td>0</td>\n",
       "      <td>0</td>\n",
       "      <td>0</td>\n",
       "      <td>0</td>\n",
       "      <td>0</td>\n",
       "      <td>0</td>\n",
       "      <td>2016/01/23 00:00:00+00</td>\n",
       "      <td>1/23/2016</td>\n",
       "      <td>Mid-Block (not related to intersection)</td>\n",
       "      <td>11.000000000</td>\n",
       "      <td>MOTOR VEHICLE STRUCK MOTOR VEHICLE, FRONT END AT ANGLE</td>\n",
       "      <td>NaN</td>\n",
       "      <td>NaN</td>\n",
       "      <td>NaN</td>\n",
       "      <td>NaN</td>\n",
       "      <td>NaN</td>\n",
       "      <td>NaN</td>\n",
       "      <td>nan</td>\n",
       "      <td>NaN</td>\n",
       "      <td></td>\n",
       "      <td>NaN</td>\n",
       "      <td>0</td>\n",
       "      <td>0</td>\n",
       "      <td>N</td>\n",
       "    </tr>\n",
       "    <tr>\n",
       "      <th>4</th>\n",
       "      <td>-122.292120049</td>\n",
       "      <td>47.559009080</td>\n",
       "      <td>5</td>\n",
       "      <td>328238</td>\n",
       "      <td>329738</td>\n",
       "      <td>3857118</td>\n",
       "      <td>Unmatched</td>\n",
       "      <td>Block</td>\n",
       "      <td>nan</td>\n",
       "      <td>M L KING JR ER WAY S BETWEEN S ANGELINE ST AND S EDMUNDS ST</td>\n",
       "      <td></td>\n",
       "      <td>NaN</td>\n",
       "      <td>0</td>\n",
       "      <td>Unknown</td>\n",
       "      <td>NaN</td>\n",
       "      <td>0</td>\n",
       "      <td>0</td>\n",
       "      <td>0</td>\n",
       "      <td>0</td>\n",
       "      <td>0</td>\n",
       "      <td>0</td>\n",
       "      <td>0</td>\n",
       "      <td>2020/01/26 00:00:00+00</td>\n",
       "      <td>1/26/2020</td>\n",
       "      <td>Mid-Block (not related to intersection)</td>\n",
       "      <td>28.000000000</td>\n",
       "      <td>MOTOR VEHICLE RAN OFF ROAD - HIT FIXED OBJECT</td>\n",
       "      <td>NaN</td>\n",
       "      <td>NaN</td>\n",
       "      <td>NaN</td>\n",
       "      <td>NaN</td>\n",
       "      <td>NaN</td>\n",
       "      <td>NaN</td>\n",
       "      <td>nan</td>\n",
       "      <td>NaN</td>\n",
       "      <td></td>\n",
       "      <td>NaN</td>\n",
       "      <td>0</td>\n",
       "      <td>0</td>\n",
       "      <td>N</td>\n",
       "    </tr>\n",
       "  </tbody>\n",
       "</table>\n",
       "<p>5 rows × 40 columns</p>\n",
       "</div>"
      ],
      "text/plain": [
       "               X            Y  OBJECTID  INCKEY  COLDETKEY   REPORTNO  \\\n",
       "0 -122.320757054 47.609407946         1  328476     329976    EA08706   \n",
       "1 -122.319560827 47.662220664         2  328142     329642    EA06882   \n",
       "2 -122.327524508 47.604393273         3   20700      20700    1181833   \n",
       "3 -122.327524934 47.708621579         4  332126     333626  M16001640   \n",
       "4 -122.292120049 47.559009080         5  328238     329738    3857118   \n",
       "\n",
       "      STATUS ADDRTYPE  INTKEY  \\\n",
       "0    Matched    Block     nan   \n",
       "1    Matched    Block     nan   \n",
       "2  Unmatched    Block     nan   \n",
       "3  Unmatched    Block     nan   \n",
       "4  Unmatched    Block     nan   \n",
       "\n",
       "                                                      LOCATION EXCEPTRSNCODE  \\\n",
       "0              BROADWAY BETWEEN E COLUMBIA ST AND BOYLSTON AVE                 \n",
       "1               8TH AVE NE BETWEEN NE 45TH E ST AND NE 47TH ST                 \n",
       "2                         JAMES ST BETWEEN 6TH AVE AND 7TH AVE           NaN   \n",
       "3      NE NORTHGATE WAY BETWEEN 1ST AVE NE AND NE NORTHGATE DR                 \n",
       "4  M L KING JR ER WAY S BETWEEN S ANGELINE ST AND S EDMUNDS ST                 \n",
       "\n",
       "  EXCEPTRSNDESC SEVERITYCODE                    SEVERITYDESC COLLISIONTYPE  \\\n",
       "0           NaN            1  Property Damage Only Collision     Sideswipe   \n",
       "1           NaN            1  Property Damage Only Collision    Parked Car   \n",
       "2           NaN            0                         Unknown           NaN   \n",
       "3           NaN            0                         Unknown           NaN   \n",
       "4           NaN            0                         Unknown           NaN   \n",
       "\n",
       "   PERSONCOUNT  PEDCOUNT  PEDCYLCOUNT  VEHCOUNT  INJURIES  SERIOUSINJURIES  \\\n",
       "0            2         0            0         2         0                0   \n",
       "1            2         0            0         2         0                0   \n",
       "2            0         0            0         0         0                0   \n",
       "3            0         0            0         0         0                0   \n",
       "4            0         0            0         0         0                0   \n",
       "\n",
       "   FATALITIES                 INCDATE               INCDTTM  \\\n",
       "0           0  2020/01/22 00:00:00+00  1/22/2020 3:21:00 PM   \n",
       "1           0  2020/01/07 00:00:00+00   1/7/2020 8:00:00 AM   \n",
       "2           0  2004/01/30 00:00:00+00             1/30/2004   \n",
       "3           0  2016/01/23 00:00:00+00             1/23/2016   \n",
       "4           0  2020/01/26 00:00:00+00             1/26/2020   \n",
       "\n",
       "                              JUNCTIONTYPE  SDOT_COLCODE  \\\n",
       "0  Mid-Block (not related to intersection)  11.000000000   \n",
       "1  Mid-Block (not related to intersection)  15.000000000   \n",
       "2     Mid-Block (but intersection related)  11.000000000   \n",
       "3  Mid-Block (not related to intersection)  11.000000000   \n",
       "4  Mid-Block (not related to intersection)  28.000000000   \n",
       "\n",
       "                                               SDOT_COLDESC INATTENTIONIND  \\\n",
       "0    MOTOR VEHICLE STRUCK MOTOR VEHICLE, FRONT END AT ANGLE            NaN   \n",
       "1  MOTOR VEHICLE STRUCK MOTOR VEHICLE, RIGHT SIDE SIDESWIPE            NaN   \n",
       "2    MOTOR VEHICLE STRUCK MOTOR VEHICLE, FRONT END AT ANGLE            NaN   \n",
       "3    MOTOR VEHICLE STRUCK MOTOR VEHICLE, FRONT END AT ANGLE            NaN   \n",
       "4             MOTOR VEHICLE RAN OFF ROAD - HIT FIXED OBJECT            NaN   \n",
       "\n",
       "  UNDERINFL  WEATHER ROADCOND                LIGHTCOND PEDROWNOTGRNT  \\\n",
       "0         N  Raining      Wet  Dark - Street Lights On           NaN   \n",
       "1         N    Clear      Dry                 Daylight           NaN   \n",
       "2       NaN      NaN      NaN                      NaN           NaN   \n",
       "3       NaN      NaN      NaN                      NaN           NaN   \n",
       "4       NaN      NaN      NaN                      NaN           NaN   \n",
       "\n",
       "         SDOTCOLNUM SPEEDING ST_COLCODE  \\\n",
       "0               nan      NaN         11   \n",
       "1               nan      NaN         32   \n",
       "2 4030032.000000000      NaN        NaN   \n",
       "3               nan      NaN              \n",
       "4               nan      NaN              \n",
       "\n",
       "                                                            ST_COLDESC  \\\n",
       "0  From same direction - both going straight - both moving - sideswipe   \n",
       "1                                               One parked--one moving   \n",
       "2                                                                  NaN   \n",
       "3                                                                  NaN   \n",
       "4                                                                  NaN   \n",
       "\n",
       "   SEGLANEKEY  CROSSWALKKEY HITPARKEDCAR  \n",
       "0           0             0            N  \n",
       "1           0             0            Y  \n",
       "2           0             0            N  \n",
       "3           0             0            N  \n",
       "4           0             0            N  \n",
       "\n",
       "[5 rows x 40 columns]"
      ]
     },
     "execution_count": 10,
     "metadata": {},
     "output_type": "execute_result"
    }
   ],
   "source": [
    "# View the first few rows of the collisions DataFrame.\n",
    "df.head()"
   ]
  },
  {
   "cell_type": "code",
   "execution_count": 11,
   "metadata": {},
   "outputs": [
    {
     "name": "stdout",
     "output_type": "stream",
     "text": [
      "<class 'pandas.core.frame.DataFrame'>\n",
      "RangeIndex: 221389 entries, 0 to 221388\n",
      "Data columns (total 40 columns):\n",
      " #   Column           Non-Null Count   Dtype  \n",
      "---  ------           --------------   -----  \n",
      " 0   X                213918 non-null  float64\n",
      " 1   Y                213918 non-null  float64\n",
      " 2   OBJECTID         221389 non-null  int64  \n",
      " 3   INCKEY           221389 non-null  int64  \n",
      " 4   COLDETKEY        221389 non-null  int64  \n",
      " 5   REPORTNO         221389 non-null  object \n",
      " 6   STATUS           221389 non-null  object \n",
      " 7   ADDRTYPE         217677 non-null  object \n",
      " 8   INTKEY           71884 non-null   float64\n",
      " 9   LOCATION         216801 non-null  object \n",
      " 10  EXCEPTRSNCODE    100986 non-null  object \n",
      " 11  EXCEPTRSNDESC    11779 non-null   object \n",
      " 12  SEVERITYCODE     221388 non-null  object \n",
      " 13  SEVERITYDESC     221389 non-null  object \n",
      " 14  COLLISIONTYPE    195159 non-null  object \n",
      " 15  PERSONCOUNT      221389 non-null  int64  \n",
      " 16  PEDCOUNT         221389 non-null  int64  \n",
      " 17  PEDCYLCOUNT      221389 non-null  int64  \n",
      " 18  VEHCOUNT         221389 non-null  int64  \n",
      " 19  INJURIES         221389 non-null  int64  \n",
      " 20  SERIOUSINJURIES  221389 non-null  int64  \n",
      " 21  FATALITIES       221389 non-null  int64  \n",
      " 22  INCDATE          221389 non-null  object \n",
      " 23  INCDTTM          221389 non-null  object \n",
      " 24  JUNCTIONTYPE     209417 non-null  object \n",
      " 25  SDOT_COLCODE     221388 non-null  float64\n",
      " 26  SDOT_COLDESC     221388 non-null  object \n",
      " 27  INATTENTIONIND   30188 non-null   object \n",
      " 28  UNDERINFL        195179 non-null  object \n",
      " 29  WEATHER          194969 non-null  object \n",
      " 30  ROADCOND         195050 non-null  object \n",
      " 31  LIGHTCOND        194880 non-null  object \n",
      " 32  PEDROWNOTGRNT    5192 non-null    object \n",
      " 33  SDOTCOLNUM       127205 non-null  float64\n",
      " 34  SPEEDING         9928 non-null    object \n",
      " 35  ST_COLCODE       211976 non-null  object \n",
      " 36  ST_COLDESC       195159 non-null  object \n",
      " 37  SEGLANEKEY       221389 non-null  int64  \n",
      " 38  CROSSWALKKEY     221389 non-null  int64  \n",
      " 39  HITPARKEDCAR     221389 non-null  object \n",
      "dtypes: float64(5), int64(12), object(23)\n",
      "memory usage: 67.6+ MB\n"
     ]
    }
   ],
   "source": [
    "df.info()"
   ]
  },
  {
   "cell_type": "code",
   "execution_count": 12,
   "metadata": {},
   "outputs": [
    {
     "name": "stdout",
     "output_type": "stream",
     "text": [
      "Elapsed time is 9.943205086980015 seconds.\n"
     ]
    }
   ],
   "source": [
    "print_elapsed_time(notebook_start_time)"
   ]
  },
  {
   "cell_type": "markdown",
   "metadata": {},
   "source": [
    "<h2 id=\"data_wrangling\">Data Wrangling</h2>\n",
    "\n",
    "Steps for working with missing data:\n",
    "<ol>\n",
    "    <li>Identify missing data.</li>\n",
    "    <li>Deal with missing data.</li>\n",
    "    <li>Correct data format.</li>\n",
    "</ol>"
   ]
  },
  {
   "cell_type": "markdown",
   "metadata": {},
   "source": [
    "<h3 id=\"identifying_missing_data\">Identifying Missing Data</h3>\n",
    "\n",
    "The metadata document that accompanied the data set indicates that certain columns have \"sentinel\" values\n",
    "that indicate an unknown or missing value. Each of these missing values will first be converted into NaN.\n",
    "Subsequently, the NaN values will be dropped from the DataFrame."
   ]
  },
  {
   "cell_type": "code",
   "execution_count": 13,
   "metadata": {},
   "outputs": [],
   "source": [
    "# If any row of the collisions DataFrame contains a sentinel value representing \"unknown\" or \"other\",\n",
    "# then replace it with NaN. \n",
    "# Sentinels for \"unknown\" are listed in the metadata document that accompanies the dataset.\n",
    "df_unknowns_converted_to_nan = df.replace(to_replace=\\\n",
    "    {\"EXCEPTRSNCODE\": \" \",\\\n",
    "     \"EXCEPTRSNDESC\": \"Not Enough Information, or Insufficient Location Information\",\\\n",
    "     \"COLLISIONTYPE\": \"Other\",\\\n",
    "     \"SEVERITYCODE\": \"0\",\\\n",
    "     \"SEVERITYDESC\": \"Unknown\",\\\n",
    "     \"JUNCTIONTYPE\": \"Unknown\",\\\n",
    "     \"WEATHER\": \"Unknown\",\\\n",
    "     \"ROADCOND\": \"Unknown\",\\\n",
    "     \"LIGHTCOND\": \"Unknown\",\\\n",
    "     \"SDOT_COLCODE\": float(0),\\\n",
    "     \"SDOT_COLDESC\": \"NOT ENOUGH INFORMATION / NOT APPLICABLE\",\\\n",
    "     \"ST_COLCODE\": \" \",\\\n",
    "     \"ST_COLDESC\": \"Not stated\"}, value=np.nan, inplace=False, limit=None, regex=False, method='pad')\n",
    "\n",
    "df_unknowns_converted_to_nan.replace(to_replace=\\\n",
    "    {\"ST_COLCODE\": \"0\",\\\n",
    "     \"WEATHER\": \"Other\",\\\n",
    "     \"ROADCOND\": \"Other\",\\\n",
    "     \"LIGHTCOND\": \"Other\"}, value=np.nan, inplace=True, limit=None, regex=False, method='pad')\n",
    "\n",
    "df_unknowns_converted_to_nan.replace(to_replace=\\\n",
    "    {\"LIGHTCOND\": \"Dark - Unknown Lighting\"}, value=np.nan, inplace=True, limit=None, regex=False, method='pad')"
   ]
  },
  {
   "cell_type": "code",
   "execution_count": 14,
   "metadata": {},
   "outputs": [
    {
     "name": "stdout",
     "output_type": "stream",
     "text": [
      "Elapsed time is 19.216800309950486 seconds.\n"
     ]
    }
   ],
   "source": [
    "print_elapsed_time(notebook_start_time)"
   ]
  },
  {
   "cell_type": "markdown",
   "metadata": {},
   "source": [
    "<h3 id=\"deal_with_missing_data\">Deal with Missing Data</h3>\n",
    "\n",
    "<ol>\n",
    "    <li>Drop the Data\n",
    "        <ol>\n",
    "            <li>Drop entire row.</li>\n",
    "            <li>Drop entire column.</li>\n",
    "        </ol>\n",
    "    </li>\n",
    "    <li>Replace the Data\n",
    "        <ol>\n",
    "            <li>Replace data by mean.</li>\n",
    "            <li>Replace data by frequency.</li>\n",
    "            <li>Replace data based on other functions.</li>\n",
    "        </ol>\n",
    "    </li>\n",
    "        \n",
    "</ol>"
   ]
  },
  {
   "cell_type": "markdown",
   "metadata": {},
   "source": [
    "Whole columns should be dropped only if most entries in the column are empty."
   ]
  },
  {
   "cell_type": "code",
   "execution_count": 15,
   "metadata": {},
   "outputs": [
    {
     "name": "stdout",
     "output_type": "stream",
     "text": [
      "['X', 'Y', 'OBJECTID', 'INCKEY', 'COLDETKEY', 'REPORTNO', 'STATUS', 'ADDRTYPE', 'INTKEY', 'LOCATION', 'EXCEPTRSNCODE', 'EXCEPTRSNDESC', 'SEVERITYCODE', 'SEVERITYDESC', 'COLLISIONTYPE', 'PERSONCOUNT', 'PEDCOUNT', 'PEDCYLCOUNT', 'VEHCOUNT', 'INJURIES', 'SERIOUSINJURIES', 'FATALITIES', 'INCDATE', 'INCDTTM', 'JUNCTIONTYPE', 'SDOT_COLCODE', 'SDOT_COLDESC', 'INATTENTIONIND', 'UNDERINFL', 'WEATHER', 'ROADCOND', 'LIGHTCOND', 'PEDROWNOTGRNT', 'SDOTCOLNUM', 'SPEEDING', 'ST_COLCODE', 'ST_COLDESC', 'SEGLANEKEY', 'CROSSWALKKEY', 'HITPARKEDCAR']\n"
     ]
    }
   ],
   "source": [
    "print(list(df.columns))"
   ]
  },
  {
   "cell_type": "code",
   "execution_count": 16,
   "metadata": {},
   "outputs": [],
   "source": [
    "# Drop any column from the collisions DataFrame if it satisfies at least one of the following conditions:\n",
    "# 1) more than 15% of the column's data is NaN;\n",
    "# 2) the column only contains unique identification keys, or information not useful for model building;\n",
    "# 3) the column's data is categorical but does not fit into a small (< 15) number of categories;\n",
    "# 4) information in the column is redundant because it is already represented by another column;\n",
    "# 5) it is not clear how to interpret the column's data.\n",
    "list_of_columns_to_drop = [\"ADDRTYPE\",\\\n",
    "                           \"STATUS\",\\\n",
    "                           \"OBJECTID\",\\\n",
    "                           \"INCKEY\",\\\n",
    "                           \"COLDETKEY\",\\\n",
    "                           \"REPORTNO\",\\\n",
    "                           \"INTKEY\",\\\n",
    "                           \"LOCATION\",\\\n",
    "                           \"EXCEPTRSNCODE\",\\\n",
    "                           \"EXCEPTRSNDESC\",\\\n",
    "                           \"SEVERITYDESC\",\\\n",
    "                           \"PERSONCOUNT\",\\\n",
    "                           \"VEHCOUNT\",\\\n",
    "                           \"INJURIES\",\\\n",
    "                           \"SERIOUSINJURIES\",\\\n",
    "                           \"FATALITIES\",\\\n",
    "                           \"INCDATE\",\\\n",
    "                           \"INCDTTM\",\\\n",
    "                           \"JUNCTIONTYPE\",\\\n",
    "                           \"SDOT_COLCODE\",\\\n",
    "                           \"SDOT_COLDESC\",\\\n",
    "                           \"INATTENTIONIND\",\\\n",
    "                           \"UNDERINFL\",\\\n",
    "                           \"PEDROWNOTGRNT\",\\\n",
    "                           \"SDOTCOLNUM\",\\\n",
    "                           \"SPEEDING\",\\\n",
    "                           \"ST_COLCODE\",\\\n",
    "                           \"ST_COLDESC\",\\\n",
    "                           \"SEGLANEKEY\",\\\n",
    "                           \"CROSSWALKKEY\",\\\n",
    "                           \"HITPARKEDCAR\"]"
   ]
  },
  {
   "cell_type": "code",
   "execution_count": 17,
   "metadata": {},
   "outputs": [],
   "source": [
    "# Drop the selected columns from the DataFrame after converting unknowns to NaN.\n",
    "# Store the result in a new DataFrame.\n",
    "df_drop_columns = df_unknowns_converted_to_nan.drop(columns=list_of_columns_to_drop, inplace=False)"
   ]
  },
  {
   "cell_type": "code",
   "execution_count": 18,
   "metadata": {},
   "outputs": [],
   "source": [
    "# Drop any row that contains at least one NaN.\n",
    "df_drop_columns_and_rows = df_drop_columns.dropna(axis=\"index\", how=\"any\", thresh=None, subset=None, inplace=False)"
   ]
  },
  {
   "cell_type": "code",
   "execution_count": 19,
   "metadata": {},
   "outputs": [],
   "source": [
    "minor_severity_labels = ['1', '2']\n",
    "major_severity_labels = ['2b', '3']"
   ]
  },
  {
   "cell_type": "code",
   "execution_count": 20,
   "metadata": {},
   "outputs": [],
   "source": [
    "series_is_severe = df_drop_columns_and_rows['SEVERITYCODE'].isin(major_severity_labels)"
   ]
  },
  {
   "cell_type": "code",
   "execution_count": 21,
   "metadata": {},
   "outputs": [
    {
     "data": {
      "text/plain": [
       "False    146635\n",
       "True       2696\n",
       "Name: SEVERITYCODE, Length: 2, dtype: int64"
      ]
     },
     "execution_count": 21,
     "metadata": {},
     "output_type": "execute_result"
    }
   ],
   "source": [
    "series_is_severe.value_counts()"
   ]
  },
  {
   "cell_type": "code",
   "execution_count": 22,
   "metadata": {},
   "outputs": [],
   "source": [
    "# Define a new column called 'IS_SEVERE'.\n",
    "# For each row of the DataFrame, if 'SEVERITYCODE' is '2b' or '3', then 'IS_SEVERE' gets the boolean value of True.\n",
    "# If 'SEVERITYCODE' is '1' or '2', then 'IS_SEVERE' gets the boolean value of False.\n",
    "df_drop_columns_and_rows.insert(0, 'IS_SEVERE', series_is_severe)"
   ]
  },
  {
   "cell_type": "code",
   "execution_count": 23,
   "metadata": {},
   "outputs": [],
   "source": [
    "# Drop column SEVERITYCODE from DataFrame in place, because severity is now represented by column IS_SEVERE.\n",
    "df_drop_columns_and_rows = df_drop_columns_and_rows.drop(columns=['SEVERITYCODE'], inplace=False)"
   ]
  },
  {
   "cell_type": "code",
   "execution_count": 24,
   "metadata": {},
   "outputs": [
    {
     "name": "stdout",
     "output_type": "stream",
     "text": [
      "<class 'pandas.core.frame.DataFrame'>\n",
      "Int64Index: 149331 entries, 0 to 221388\n",
      "Data columns (total 9 columns):\n",
      " #   Column         Non-Null Count   Dtype  \n",
      "---  ------         --------------   -----  \n",
      " 0   IS_SEVERE      149331 non-null  bool   \n",
      " 1   X              149331 non-null  float64\n",
      " 2   Y              149331 non-null  float64\n",
      " 3   COLLISIONTYPE  149331 non-null  object \n",
      " 4   PEDCOUNT       149331 non-null  int64  \n",
      " 5   PEDCYLCOUNT    149331 non-null  int64  \n",
      " 6   WEATHER        149331 non-null  object \n",
      " 7   ROADCOND       149331 non-null  object \n",
      " 8   LIGHTCOND      149331 non-null  object \n",
      "dtypes: bool(1), float64(2), int64(2), object(4)\n",
      "memory usage: 10.4+ MB\n"
     ]
    }
   ],
   "source": [
    "df_drop_columns_and_rows.info()"
   ]
  },
  {
   "cell_type": "code",
   "execution_count": 25,
   "metadata": {},
   "outputs": [
    {
     "data": {
      "text/html": [
       "<div>\n",
       "<style scoped>\n",
       "    .dataframe tbody tr th:only-of-type {\n",
       "        vertical-align: middle;\n",
       "    }\n",
       "\n",
       "    .dataframe tbody tr th {\n",
       "        vertical-align: top;\n",
       "    }\n",
       "\n",
       "    .dataframe thead th {\n",
       "        text-align: right;\n",
       "    }\n",
       "</style>\n",
       "<table border=\"1\" class=\"dataframe\">\n",
       "  <thead>\n",
       "    <tr style=\"text-align: right;\">\n",
       "      <th></th>\n",
       "      <th>IS_SEVERE</th>\n",
       "      <th>X</th>\n",
       "      <th>Y</th>\n",
       "      <th>COLLISIONTYPE</th>\n",
       "      <th>PEDCOUNT</th>\n",
       "      <th>PEDCYLCOUNT</th>\n",
       "      <th>WEATHER</th>\n",
       "      <th>ROADCOND</th>\n",
       "      <th>LIGHTCOND</th>\n",
       "    </tr>\n",
       "  </thead>\n",
       "  <tbody>\n",
       "    <tr>\n",
       "      <th>0</th>\n",
       "      <td>False</td>\n",
       "      <td>-122.320757054</td>\n",
       "      <td>47.609407946</td>\n",
       "      <td>Sideswipe</td>\n",
       "      <td>0</td>\n",
       "      <td>0</td>\n",
       "      <td>Raining</td>\n",
       "      <td>Wet</td>\n",
       "      <td>Dark - Street Lights On</td>\n",
       "    </tr>\n",
       "    <tr>\n",
       "      <th>1</th>\n",
       "      <td>False</td>\n",
       "      <td>-122.319560827</td>\n",
       "      <td>47.662220664</td>\n",
       "      <td>Parked Car</td>\n",
       "      <td>0</td>\n",
       "      <td>0</td>\n",
       "      <td>Clear</td>\n",
       "      <td>Dry</td>\n",
       "      <td>Daylight</td>\n",
       "    </tr>\n",
       "    <tr>\n",
       "      <th>5</th>\n",
       "      <td>False</td>\n",
       "      <td>-122.374193726</td>\n",
       "      <td>47.564075600</td>\n",
       "      <td>Rear Ended</td>\n",
       "      <td>0</td>\n",
       "      <td>0</td>\n",
       "      <td>Clear</td>\n",
       "      <td>Dry</td>\n",
       "      <td>Daylight</td>\n",
       "    </tr>\n",
       "    <tr>\n",
       "      <th>8</th>\n",
       "      <td>False</td>\n",
       "      <td>-122.336564829</td>\n",
       "      <td>47.590397830</td>\n",
       "      <td>Sideswipe</td>\n",
       "      <td>0</td>\n",
       "      <td>0</td>\n",
       "      <td>Overcast</td>\n",
       "      <td>Dry</td>\n",
       "      <td>Daylight</td>\n",
       "    </tr>\n",
       "    <tr>\n",
       "      <th>9</th>\n",
       "      <td>False</td>\n",
       "      <td>-122.329048658</td>\n",
       "      <td>47.593341161</td>\n",
       "      <td>Sideswipe</td>\n",
       "      <td>0</td>\n",
       "      <td>0</td>\n",
       "      <td>Clear</td>\n",
       "      <td>Dry</td>\n",
       "      <td>Daylight</td>\n",
       "    </tr>\n",
       "  </tbody>\n",
       "</table>\n",
       "<p>5 rows × 9 columns</p>\n",
       "</div>"
      ],
      "text/plain": [
       "   IS_SEVERE              X            Y COLLISIONTYPE  PEDCOUNT  PEDCYLCOUNT  \\\n",
       "0      False -122.320757054 47.609407946     Sideswipe         0            0   \n",
       "1      False -122.319560827 47.662220664    Parked Car         0            0   \n",
       "5      False -122.374193726 47.564075600    Rear Ended         0            0   \n",
       "8      False -122.336564829 47.590397830     Sideswipe         0            0   \n",
       "9      False -122.329048658 47.593341161     Sideswipe         0            0   \n",
       "\n",
       "    WEATHER ROADCOND                LIGHTCOND  \n",
       "0   Raining      Wet  Dark - Street Lights On  \n",
       "1     Clear      Dry                 Daylight  \n",
       "5     Clear      Dry                 Daylight  \n",
       "8  Overcast      Dry                 Daylight  \n",
       "9     Clear      Dry                 Daylight  \n",
       "\n",
       "[5 rows x 9 columns]"
      ]
     },
     "execution_count": 25,
     "metadata": {},
     "output_type": "execute_result"
    }
   ],
   "source": [
    "df_drop_columns_and_rows.head()"
   ]
  },
  {
   "cell_type": "code",
   "execution_count": 26,
   "metadata": {},
   "outputs": [
    {
     "name": "stdout",
     "output_type": "stream",
     "text": [
      "Elapsed time is 21.32696095999563 seconds.\n"
     ]
    }
   ],
   "source": [
    "print_elapsed_time(notebook_start_time)"
   ]
  },
  {
   "cell_type": "markdown",
   "metadata": {},
   "source": [
    "<h3 id=\"correct_data_format\">Correct Data Format</h3>\n",
    "\n",
    "Ensure that each data type is appropriate for the corresponding feature.\n",
    "Cast columns of type \"object\" as type \"category\", but leave all other column types unaltered."
   ]
  },
  {
   "cell_type": "code",
   "execution_count": 27,
   "metadata": {},
   "outputs": [],
   "source": [
    "# Create new DataFrame to store converted data types.\n",
    "df_converted = pd.DataFrame()\n",
    "\n",
    "for column in list(df_drop_columns_and_rows.columns):\n",
    "    if (df_drop_columns_and_rows[column].dtype in [np.dtype('object')]):\n",
    "        df_converted[column] = df_drop_columns_and_rows[column].astype('category')\n",
    "    # Copy all other columns to new DataFrame without changing their types.\n",
    "    else:\n",
    "        df_converted[column] = df_drop_columns_and_rows[column]"
   ]
  },
  {
   "cell_type": "code",
   "execution_count": 28,
   "metadata": {},
   "outputs": [],
   "source": [
    "# Create DataFrame of categorical or integer columns, inclusive.\n",
    "df_categorical = df_converted.select_dtypes(include=['bool', 'category', 'integer'])"
   ]
  },
  {
   "cell_type": "code",
   "execution_count": 29,
   "metadata": {},
   "outputs": [
    {
     "name": "stdout",
     "output_type": "stream",
     "text": [
      "Elapsed time is 21.812372852000408 seconds.\n"
     ]
    }
   ],
   "source": [
    "print_elapsed_time(notebook_start_time)"
   ]
  },
  {
   "cell_type": "markdown",
   "metadata": {},
   "source": [
    "<h2 id=\"feature_selection\">Feature selection</h2>"
   ]
  },
  {
   "cell_type": "markdown",
   "metadata": {},
   "source": [
    "#### Features before One-Hot Encoding"
   ]
  },
  {
   "cell_type": "code",
   "execution_count": 30,
   "metadata": {},
   "outputs": [
    {
     "data": {
      "text/html": [
       "<div>\n",
       "<style scoped>\n",
       "    .dataframe tbody tr th:only-of-type {\n",
       "        vertical-align: middle;\n",
       "    }\n",
       "\n",
       "    .dataframe tbody tr th {\n",
       "        vertical-align: top;\n",
       "    }\n",
       "\n",
       "    .dataframe thead th {\n",
       "        text-align: right;\n",
       "    }\n",
       "</style>\n",
       "<table border=\"1\" class=\"dataframe\">\n",
       "  <thead>\n",
       "    <tr style=\"text-align: right;\">\n",
       "      <th></th>\n",
       "      <th>IS_SEVERE</th>\n",
       "      <th>COLLISIONTYPE</th>\n",
       "      <th>PEDCOUNT</th>\n",
       "      <th>PEDCYLCOUNT</th>\n",
       "      <th>WEATHER</th>\n",
       "      <th>ROADCOND</th>\n",
       "      <th>LIGHTCOND</th>\n",
       "    </tr>\n",
       "  </thead>\n",
       "  <tbody>\n",
       "    <tr>\n",
       "      <th>0</th>\n",
       "      <td>False</td>\n",
       "      <td>Sideswipe</td>\n",
       "      <td>0</td>\n",
       "      <td>0</td>\n",
       "      <td>Raining</td>\n",
       "      <td>Wet</td>\n",
       "      <td>Dark - Street Lights On</td>\n",
       "    </tr>\n",
       "    <tr>\n",
       "      <th>1</th>\n",
       "      <td>False</td>\n",
       "      <td>Parked Car</td>\n",
       "      <td>0</td>\n",
       "      <td>0</td>\n",
       "      <td>Clear</td>\n",
       "      <td>Dry</td>\n",
       "      <td>Daylight</td>\n",
       "    </tr>\n",
       "    <tr>\n",
       "      <th>5</th>\n",
       "      <td>False</td>\n",
       "      <td>Rear Ended</td>\n",
       "      <td>0</td>\n",
       "      <td>0</td>\n",
       "      <td>Clear</td>\n",
       "      <td>Dry</td>\n",
       "      <td>Daylight</td>\n",
       "    </tr>\n",
       "    <tr>\n",
       "      <th>8</th>\n",
       "      <td>False</td>\n",
       "      <td>Sideswipe</td>\n",
       "      <td>0</td>\n",
       "      <td>0</td>\n",
       "      <td>Overcast</td>\n",
       "      <td>Dry</td>\n",
       "      <td>Daylight</td>\n",
       "    </tr>\n",
       "    <tr>\n",
       "      <th>9</th>\n",
       "      <td>False</td>\n",
       "      <td>Sideswipe</td>\n",
       "      <td>0</td>\n",
       "      <td>0</td>\n",
       "      <td>Clear</td>\n",
       "      <td>Dry</td>\n",
       "      <td>Daylight</td>\n",
       "    </tr>\n",
       "  </tbody>\n",
       "</table>\n",
       "<p>5 rows × 7 columns</p>\n",
       "</div>"
      ],
      "text/plain": [
       "   IS_SEVERE COLLISIONTYPE  PEDCOUNT  PEDCYLCOUNT   WEATHER ROADCOND  \\\n",
       "0      False     Sideswipe         0            0   Raining      Wet   \n",
       "1      False    Parked Car         0            0     Clear      Dry   \n",
       "5      False    Rear Ended         0            0     Clear      Dry   \n",
       "8      False     Sideswipe         0            0  Overcast      Dry   \n",
       "9      False     Sideswipe         0            0     Clear      Dry   \n",
       "\n",
       "                 LIGHTCOND  \n",
       "0  Dark - Street Lights On  \n",
       "1                 Daylight  \n",
       "5                 Daylight  \n",
       "8                 Daylight  \n",
       "9                 Daylight  \n",
       "\n",
       "[5 rows x 7 columns]"
      ]
     },
     "execution_count": 30,
     "metadata": {},
     "output_type": "execute_result"
    }
   ],
   "source": [
    "df_categorical.head()"
   ]
  },
  {
   "cell_type": "code",
   "execution_count": 31,
   "metadata": {},
   "outputs": [
    {
     "name": "stdout",
     "output_type": "stream",
     "text": [
      "<class 'pandas.core.frame.DataFrame'>\n",
      "Int64Index: 149331 entries, 0 to 221388\n",
      "Data columns (total 7 columns):\n",
      " #   Column         Non-Null Count   Dtype   \n",
      "---  ------         --------------   -----   \n",
      " 0   IS_SEVERE      149331 non-null  bool    \n",
      " 1   COLLISIONTYPE  149331 non-null  category\n",
      " 2   PEDCOUNT       149331 non-null  int64   \n",
      " 3   PEDCYLCOUNT    149331 non-null  int64   \n",
      " 4   WEATHER        149331 non-null  category\n",
      " 5   ROADCOND       149331 non-null  category\n",
      " 6   LIGHTCOND      149331 non-null  category\n",
      "dtypes: bool(1), category(4), int64(2)\n",
      "memory usage: 4.1 MB\n"
     ]
    }
   ],
   "source": [
    "df_categorical.info()"
   ]
  },
  {
   "cell_type": "code",
   "execution_count": 32,
   "metadata": {},
   "outputs": [],
   "source": [
    "# Severity vs. Collision Type"
   ]
  },
  {
   "cell_type": "code",
   "execution_count": 33,
   "metadata": {},
   "outputs": [
    {
     "name": "stdout",
     "output_type": "stream",
     "text": [
      "IS_SEVERE Relative Frequencies:\n",
      "\n"
     ]
    },
    {
     "data": {
      "text/plain": [
       "False   0.981946146\n",
       "True    0.018053854\n",
       "Name: IS_SEVERE, Length: 2, dtype: float64"
      ]
     },
     "execution_count": 33,
     "metadata": {},
     "output_type": "execute_result"
    }
   ],
   "source": [
    "print('IS_SEVERE Relative Frequencies:\\n')\n",
    "df_categorical['IS_SEVERE'].value_counts(normalize=True, dropna=False)"
   ]
  },
  {
   "cell_type": "code",
   "execution_count": 34,
   "metadata": {},
   "outputs": [
    {
     "name": "stdout",
     "output_type": "stream",
     "text": [
      "IS_SEVERE Value Counts:\n",
      "\n"
     ]
    },
    {
     "data": {
      "text/plain": [
       "False    146635\n",
       "True       2696\n",
       "Name: IS_SEVERE, Length: 2, dtype: int64"
      ]
     },
     "execution_count": 34,
     "metadata": {},
     "output_type": "execute_result"
    }
   ],
   "source": [
    "print('IS_SEVERE Value Counts:\\n')\n",
    "df_categorical['IS_SEVERE'].value_counts(normalize=False, dropna=False)"
   ]
  },
  {
   "cell_type": "code",
   "execution_count": 35,
   "metadata": {},
   "outputs": [
    {
     "data": {
      "text/plain": [
       "149331"
      ]
     },
     "execution_count": 35,
     "metadata": {},
     "output_type": "execute_result"
    }
   ],
   "source": [
    "len(df_categorical)"
   ]
  },
  {
   "cell_type": "code",
   "execution_count": 36,
   "metadata": {},
   "outputs": [
    {
     "name": "stdout",
     "output_type": "stream",
     "text": [
      "IS_SEVERE relative frequencies:\n",
      "False   0.981946146\n",
      "True    0.018053854\n",
      "Name: IS_SEVERE, Length: 2, dtype: float64\n",
      "\n",
      "IS_SEVERE value counts over each COLLISIONTYPE group:\n",
      "                          Value Counts\n",
      "COLLISIONTYPE IS_SEVERE              \n",
      "Angles        False             34017\n",
      "              True                466\n",
      "Cycles        False              5250\n",
      "              True                428\n",
      "Head On       False              1962\n",
      "              True                117\n",
      "Left Turn     False             13401\n",
      "              True                283\n",
      "Parked Car    False             33570\n",
      "              True                133\n",
      "Pedestrian    False              6344\n",
      "              True                943\n",
      "Rear Ended    False             31972\n",
      "              True                225\n",
      "Right Turn    False              2817\n",
      "              True                 21\n",
      "Sideswipe     False             17302\n",
      "              True                 80\n",
      "\n",
      "[18 rows x 1 columns]\n",
      "\n",
      "Proportion of all data with IS_SEVERE=True: 0.018054\n",
      "\n",
      "IS_SEVERE relative frequencies normalized over each COLLISIONTYPE group:\n",
      "                          Relative Frequencies\n",
      "COLLISIONTYPE IS_SEVERE                      \n",
      "Angles        False               0.986486095\n",
      "              True                0.013513905\n",
      "Cycles        False               0.924621346\n",
      "              True                0.075378654\n",
      "Head On       False               0.943722944\n",
      "              True                0.056277056\n",
      "Left Turn     False               0.979318913\n",
      "              True                0.020681087\n",
      "Parked Car    False               0.996053764\n",
      "              True                0.003946236\n",
      "Pedestrian    False               0.870591464\n",
      "              True                0.129408536\n",
      "Rear Ended    False               0.993011771\n",
      "              True                0.006988229\n",
      "Right Turn    False               0.992600423\n",
      "              True                0.007399577\n",
      "Sideswipe     False               0.995397538\n",
      "              True                0.004602462\n",
      "\n",
      "[18 rows x 1 columns]\n",
      "\n",
      "IS_SEVERE relative frequencies normalized over each COLLISIONTYPE group,\n",
      "given the proportion of IS_SEVERE=True > 0.018054:\n",
      "                         Relative Frequencies\n",
      "COLLISIONTYPE IS_SEVERE                      \n",
      "Cycles        False               0.924621346\n",
      "              True                0.075378654\n",
      "Head On       False               0.943722944\n",
      "              True                0.056277056\n",
      "Left Turn     False               0.979318913\n",
      "              True                0.020681087\n",
      "Pedestrian    False               0.870591464\n",
      "              True                0.129408536\n",
      "\n",
      "[8 rows x 1 columns]\n"
     ]
    }
   ],
   "source": [
    "# For each class of COLLISIONTYPE, get the relative frequencies for IS_SEVERE, i.e.\n",
    "# for each COLLISIONTYPE group, compute the number of rows with IS_SEVERE=True divided by the size of the this COLLISIONTYPE group.\n",
    "\n",
    "# Create a GroupBy object on COLLISIONTYPE.\n",
    "groupby_collisiontype = df_categorical[['COLLISIONTYPE', 'IS_SEVERE']].groupby(by=['COLLISIONTYPE'])\n",
    "\n",
    "# Create a GroupBy object on COLLISIONTYPE, IS_SEVERE.\n",
    "groupby_collisiontype_is_severe = df_categorical[['COLLISIONTYPE', 'IS_SEVERE']].groupby(by=['COLLISIONTYPE', 'IS_SEVERE'])\n",
    "\n",
    "print('IS_SEVERE relative frequencies:')\n",
    "print(df_categorical['IS_SEVERE'].value_counts(normalize=True, dropna=False))\n",
    "print()\n",
    "\n",
    "df_value_counts_by_collisiontype = pd.DataFrame(data=groupby_collisiontype_is_severe.size(), columns=['Value Counts'])\n",
    "print('IS_SEVERE value counts over each COLLISIONTYPE group:\\n', df_value_counts_by_collisiontype)\n",
    "print()\n",
    "\n",
    "severity_frequency_cutoff = df_categorical['IS_SEVERE'].value_counts(normalize=True, dropna=False).min()\n",
    "print('Proportion of all data with IS_SEVERE=True: %f' % (severity_frequency_cutoff))\n",
    "print()\n",
    "\n",
    "df_frequencies_by_collisiontype = pd.DataFrame(data=groupby_collisiontype_is_severe.size() / groupby_collisiontype.size(),\\\n",
    "                                               columns=['Relative Frequencies'])\n",
    "print('IS_SEVERE relative frequencies normalized over each COLLISIONTYPE group:\\n', df_frequencies_by_collisiontype)\n",
    "print()\n",
    "\n",
    "print('IS_SEVERE relative frequencies normalized over each COLLISIONTYPE group,\\n',\\\n",
    "      'given the proportion of IS_SEVERE=True > %f:\\n' % (severity_frequency_cutoff),\\\n",
    "      df_frequencies_by_collisiontype[df_frequencies_by_collisiontype.xs(True, level=1, axis=0) > severity_frequency_cutoff].dropna(), sep='')"
   ]
  },
  {
   "cell_type": "code",
   "execution_count": 37,
   "metadata": {},
   "outputs": [
    {
     "data": {
      "image/png": "[encoded data removed]",
      "text/plain": [
       "<Figure size 432x288 with 1 Axes>"
      ]
     },
     "metadata": {
      "needs_background": "light"
     },
     "output_type": "display_data"
    }
   ],
   "source": [
    "ax = df_frequencies_by_collisiontype.plot.bar(alpha=.5, title='Frequency normalized by COLLISIONTYPE vs. (COLLISIONTYPE, IS_SEVERE)')"
   ]
  },
  {
   "cell_type": "code",
   "execution_count": 38,
   "metadata": {},
   "outputs": [
    {
     "data": {
      "image/png": "[encoded data removed]",
      "text/plain": [
       "<Figure size 432x288 with 1 Axes>"
      ]
     },
     "metadata": {
      "needs_background": "light"
     },
     "output_type": "display_data"
    }
   ],
   "source": [
    "ax = df_frequencies_by_collisiontype[\n",
    "    df_frequencies_by_collisiontype.xs(True, level=1, axis=0) > severity_frequency_cutoff]\\\n",
    "    .dropna().plot.bar(alpha=.5,\\\n",
    "    title='Frequency normalized by COLLISIONTYPE vs. (COLLISIONTYPE, IS_SEVERE),\\nCondition: Frequency of IS_SEVERE=True > %f' %\\\n",
    "    (severity_frequency_cutoff))"
   ]
  },
  {
   "cell_type": "code",
   "execution_count": 39,
   "metadata": {},
   "outputs": [
    {
     "data": {
      "image/png": "[encoded data removed]",
      "text/plain": [
       "<Figure size 432x288 with 1 Axes>"
      ]
     },
     "metadata": {
      "needs_background": "light"
     },
     "output_type": "display_data"
    }
   ],
   "source": [
    "ax = df_frequencies_by_collisiontype[\\\n",
    "    df_frequencies_by_collisiontype.xs(True, level=1, axis=0) > severity_frequency_cutoff]\\\n",
    "    .dropna().xs(True, level=1, axis=0).plot.bar(alpha=.5,\\\n",
    "    title='Frequency normalized by COLLISIONTYPE vs. COLLISIONTYPE\\nConditions: IS_SEVERE=True and frequency of IS_SEVERE=True > %f' %\\\n",
    "    (severity_frequency_cutoff))"
   ]
  },
  {
   "cell_type": "raw",
   "metadata": {},
   "source": [
    "# Severity vs. Weather"
   ]
  },
  {
   "cell_type": "code",
   "execution_count": 40,
   "metadata": {},
   "outputs": [
    {
     "name": "stdout",
     "output_type": "stream",
     "text": [
      "IS_SEVERE Relative Frequencies:\n",
      "\n"
     ]
    },
    {
     "data": {
      "text/plain": [
       "False   0.981946146\n",
       "True    0.018053854\n",
       "Name: IS_SEVERE, Length: 2, dtype: float64"
      ]
     },
     "execution_count": 40,
     "metadata": {},
     "output_type": "execute_result"
    }
   ],
   "source": [
    "print('IS_SEVERE Relative Frequencies:\\n')\n",
    "df_categorical['IS_SEVERE'].value_counts(normalize=True, dropna=False)"
   ]
  },
  {
   "cell_type": "code",
   "execution_count": 41,
   "metadata": {},
   "outputs": [
    {
     "name": "stdout",
     "output_type": "stream",
     "text": [
      "IS_SEVERE Value Counts:\n",
      "\n"
     ]
    },
    {
     "data": {
      "text/plain": [
       "False    146635\n",
       "True       2696\n",
       "Name: IS_SEVERE, Length: 2, dtype: int64"
      ]
     },
     "execution_count": 41,
     "metadata": {},
     "output_type": "execute_result"
    }
   ],
   "source": [
    "print('IS_SEVERE Value Counts:\\n')\n",
    "df_categorical['IS_SEVERE'].value_counts(normalize=False, dropna=False)"
   ]
  },
  {
   "cell_type": "code",
   "execution_count": 42,
   "metadata": {},
   "outputs": [
    {
     "data": {
      "text/plain": [
       "149331"
      ]
     },
     "execution_count": 42,
     "metadata": {},
     "output_type": "execute_result"
    }
   ],
   "source": [
    "len(df_categorical)"
   ]
  },
  {
   "cell_type": "code",
   "execution_count": 43,
   "metadata": {},
   "outputs": [
    {
     "name": "stdout",
     "output_type": "stream",
     "text": [
      "IS_SEVERE relative frequencies:\n",
      "False   0.981946146\n",
      "True    0.018053854\n",
      "Name: IS_SEVERE, Length: 2, dtype: float64\n",
      "\n",
      "IS_SEVERE value counts for each WEATHER class:\n",
      "                                     Value Counts\n",
      "WEATHER                  IS_SEVERE              \n",
      "Blowing Sand/Dirt        False                39\n",
      "                         True                  0\n",
      "Clear                    False             95319\n",
      "                         True               1815\n",
      "Fog/Smog/Smoke           False               424\n",
      "                         True                  3\n",
      "Overcast                 False             23033\n",
      "                         True                393\n",
      "Partly Cloudy            False                 7\n",
      "                         True                  0\n",
      "Raining                  False             27087\n",
      "                         True                475\n",
      "Severe Crosswind         False                15\n",
      "                         True                  1\n",
      "Sleet/Hail/Freezing Rain False                80\n",
      "                         True                  1\n",
      "Snowing                  False               631\n",
      "                         True                  8\n",
      "\n",
      "[18 rows x 1 columns]\n",
      "\n",
      "Proportion of all data with IS_SEVERE=True: 0.018054\n",
      "\n",
      "IS_SEVERE relative frequencies normalized by WEATHER class:\n",
      "                                     Relative Frequencies\n",
      "WEATHER                  IS_SEVERE                      \n",
      "Blowing Sand/Dirt        False               1.000000000\n",
      "                         True                0.000000000\n",
      "Clear                    False               0.981314473\n",
      "                         True                0.018685527\n",
      "Fog/Smog/Smoke           False               0.992974239\n",
      "                         True                0.007025761\n",
      "Overcast                 False               0.983223768\n",
      "                         True                0.016776232\n",
      "Partly Cloudy            False               1.000000000\n",
      "                         True                0.000000000\n",
      "Raining                  False               0.982766127\n",
      "                         True                0.017233873\n",
      "Severe Crosswind         False               0.937500000\n",
      "                         True                0.062500000\n",
      "Sleet/Hail/Freezing Rain False               0.987654321\n",
      "                         True                0.012345679\n",
      "Snowing                  False               0.987480438\n",
      "                         True                0.012519562\n",
      "\n",
      "[18 rows x 1 columns]\n",
      "\n",
      "IS_SEVERE relative frequencies normalized by WEATHER class,\n",
      "given the proportion of IS_SEVERE=True > 0.018054:\n",
      "                            Relative Frequencies\n",
      "WEATHER          IS_SEVERE                      \n",
      "Clear            False               0.981314473\n",
      "                 True                0.018685527\n",
      "Severe Crosswind False               0.937500000\n",
      "                 True                0.062500000\n",
      "\n",
      "[4 rows x 1 columns]\n",
      "\n"
     ]
    }
   ],
   "source": [
    "# For each class of WEATHER, get the relative frequencies for IS_SEVERE, i.e.\n",
    "# for each weather group, compute the number of rows with IS_SEVERE=True divided by the size of the this weather group.\n",
    "\n",
    "# Create a GroupBy object on WEATHER.\n",
    "groupby_weather = df_categorical[['WEATHER', 'IS_SEVERE']].groupby(by=['WEATHER'])\n",
    "\n",
    "# Create a GroupBy object on WEATHER, IS_SEVERE.\n",
    "groupby_weather_is_severe = df_categorical[['WEATHER', 'IS_SEVERE']].groupby(by=['WEATHER', 'IS_SEVERE'])\n",
    "\n",
    "# Create a multiindexed DataFrame.\n",
    "#df_grouped_by_weather_severity = pd.DataFrame(df_categorical[['WEATHER', 'IS_SEVERE']].groupby(by=['WEATHER', 'IS_SEVERE']).count())\n",
    "#print(df_grouped_by_weather_severity.head())\n",
    "#print()\n",
    "\n",
    "print('IS_SEVERE relative frequencies:')\n",
    "print(df_categorical['IS_SEVERE'].value_counts(normalize=True, dropna=False))\n",
    "print()\n",
    "\n",
    "df_value_counts_by_weather = pd.DataFrame(data=groupby_weather_is_severe.size(), columns=['Value Counts'])\n",
    "print('IS_SEVERE value counts for each WEATHER class:\\n', df_value_counts_by_weather)\n",
    "print()\n",
    "\n",
    "severity_frequency_cutoff = df_categorical['IS_SEVERE'].value_counts(normalize=True, dropna=False).min()\n",
    "print('Proportion of all data with IS_SEVERE=True: %f' % (severity_frequency_cutoff))\n",
    "print()\n",
    "\n",
    "df_frequencies_by_weather = pd.DataFrame(data=groupby_weather_is_severe.size() / groupby_weather.size(), columns=['Relative Frequencies'])\n",
    "print('IS_SEVERE relative frequencies normalized by WEATHER class:\\n', df_frequencies_by_weather)\n",
    "print()\n",
    "\n",
    "print('IS_SEVERE relative frequencies normalized by WEATHER class,\\n',\\\n",
    "      'given the proportion of IS_SEVERE=True > %f:\\n' % (severity_frequency_cutoff),\\\n",
    "      df_frequencies_by_weather[df_frequencies_by_weather.xs(True, level=1, axis=0) > severity_frequency_cutoff].dropna(), sep='')\n",
    "print()"
   ]
  },
  {
   "cell_type": "code",
   "execution_count": 44,
   "metadata": {},
   "outputs": [
    {
     "data": {
      "image/png": "[encoded data removed]",
      "text/plain": [
       "<Figure size 432x288 with 1 Axes>"
      ]
     },
     "metadata": {
      "needs_background": "light"
     },
     "output_type": "display_data"
    }
   ],
   "source": [
    "ax = df_frequencies_by_weather.plot.bar(alpha=.5, title='Frequency normalized by WEATHER vs. (WEATHER, IS_SEVERE)')"
   ]
  },
  {
   "cell_type": "code",
   "execution_count": 45,
   "metadata": {},
   "outputs": [
    {
     "data": {
      "image/png": "[encoded data removed]",
      "text/plain": [
       "<Figure size 432x288 with 1 Axes>"
      ]
     },
     "metadata": {
      "needs_background": "light"
     },
     "output_type": "display_data"
    }
   ],
   "source": [
    "ax = df_frequencies_by_weather[df_frequencies_by_weather.xs(True, level=1, axis=0) > severity_frequency_cutoff].dropna().plot.bar(alpha=.5,\\\n",
    "    title='Frequency normalized by WEATHER vs. (WEATHER, IS_SEVERE),\\nCondition: Frequency of IS_SEVERE=True > %f' %\n",
    "    (severity_frequency_cutoff))"
   ]
  },
  {
   "cell_type": "code",
   "execution_count": 46,
   "metadata": {},
   "outputs": [
    {
     "data": {
      "image/png": "[encoded data removed]",
      "text/plain": [
       "<Figure size 432x288 with 1 Axes>"
      ]
     },
     "metadata": {
      "needs_background": "light"
     },
     "output_type": "display_data"
    }
   ],
   "source": [
    "ax = df_frequencies_by_weather[\\\n",
    "    df_frequencies_by_weather.xs(True, level=1, axis=0) > severity_frequency_cutoff]\\\n",
    "    .dropna().xs(True, level=1, axis=0).plot.bar(alpha=.5,\\\n",
    "    title='Frequency normalized by WEATHER vs. WEATHER\\nConditions: IS_SEVERE=True and Frequency of IS_SEVERE=True > %f' %\\\n",
    "    (severity_frequency_cutoff))"
   ]
  },
  {
   "cell_type": "code",
   "execution_count": 47,
   "metadata": {},
   "outputs": [],
   "source": [
    "# Severity vs. Road Conditions"
   ]
  },
  {
   "cell_type": "code",
   "execution_count": 48,
   "metadata": {},
   "outputs": [
    {
     "name": "stdout",
     "output_type": "stream",
     "text": [
      "IS_SEVERE Relative Frequencies:\n",
      "\n"
     ]
    },
    {
     "data": {
      "text/plain": [
       "False   0.981946146\n",
       "True    0.018053854\n",
       "Name: IS_SEVERE, Length: 2, dtype: float64"
      ]
     },
     "execution_count": 48,
     "metadata": {},
     "output_type": "execute_result"
    }
   ],
   "source": [
    "print('IS_SEVERE Relative Frequencies:\\n')\n",
    "df_categorical['IS_SEVERE'].value_counts(normalize=True, dropna=False)"
   ]
  },
  {
   "cell_type": "code",
   "execution_count": 49,
   "metadata": {},
   "outputs": [
    {
     "name": "stdout",
     "output_type": "stream",
     "text": [
      "IS_SEVERE Value Counts:\n",
      "\n"
     ]
    },
    {
     "data": {
      "text/plain": [
       "False    146635\n",
       "True       2696\n",
       "Name: IS_SEVERE, Length: 2, dtype: int64"
      ]
     },
     "execution_count": 49,
     "metadata": {},
     "output_type": "execute_result"
    }
   ],
   "source": [
    "print('IS_SEVERE Value Counts:\\n')\n",
    "df_categorical['IS_SEVERE'].value_counts(normalize=False, dropna=False)"
   ]
  },
  {
   "cell_type": "code",
   "execution_count": 50,
   "metadata": {},
   "outputs": [
    {
     "data": {
      "text/plain": [
       "149331"
      ]
     },
     "execution_count": 50,
     "metadata": {},
     "output_type": "execute_result"
    }
   ],
   "source": [
    "len(df_categorical)"
   ]
  },
  {
   "cell_type": "code",
   "execution_count": 51,
   "metadata": {},
   "outputs": [
    {
     "name": "stdout",
     "output_type": "stream",
     "text": [
      "IS_SEVERE relative frequencies:\n",
      "False   0.981946146\n",
      "True    0.018053854\n",
      "Name: IS_SEVERE, Length: 2, dtype: float64\n",
      "\n",
      "IS_SEVERE value counts over each ROADCOND group:\n",
      "                           Value Counts\n",
      "ROADCOND       IS_SEVERE              \n",
      "Dry            False            106607\n",
      "               True               2025\n",
      "Ice            False               689\n",
      "               True                  9\n",
      "Oil            False                21\n",
      "               True                  0\n",
      "Sand/Mud/Dirt  False                30\n",
      "               True                  0\n",
      "Snow/Slush     False               634\n",
      "               True                  6\n",
      "Standing Water False                50\n",
      "               True                  1\n",
      "Wet            False             38604\n",
      "               True                655\n",
      "\n",
      "[14 rows x 1 columns]\n",
      "\n",
      "Proportion of all data with IS_SEVERE=True: 0.018054\n",
      "\n",
      "IS_SEVERE relative frequencies normalized over each ROADCOND group:\n",
      "                           Relative Frequencies\n",
      "ROADCOND       IS_SEVERE                      \n",
      "Dry            False               0.981359084\n",
      "               True                0.018640916\n",
      "Ice            False               0.987106017\n",
      "               True                0.012893983\n",
      "Oil            False               1.000000000\n",
      "               True                0.000000000\n",
      "Sand/Mud/Dirt  False               1.000000000\n",
      "               True                0.000000000\n",
      "Snow/Slush     False               0.990625000\n",
      "               True                0.009375000\n",
      "Standing Water False               0.980392157\n",
      "               True                0.019607843\n",
      "Wet            False               0.983315928\n",
      "               True                0.016684072\n",
      "\n",
      "[14 rows x 1 columns]\n",
      "\n",
      "IS_SEVERE relative frequencies normalized over each ROADCOND group,\n",
      "given the proportion of IS_SEVERE=True > 0.018054:\n",
      "                          Relative Frequencies\n",
      "ROADCOND       IS_SEVERE                      \n",
      "Dry            False               0.981359084\n",
      "               True                0.018640916\n",
      "Standing Water False               0.980392157\n",
      "               True                0.019607843\n",
      "\n",
      "[4 rows x 1 columns]\n"
     ]
    }
   ],
   "source": [
    "# For each class of ROADCOND, get the relative frequencies for IS_SEVERE, i.e.\n",
    "# for each ROADCOND group, compute the number of rows with IS_SEVERE=True divided by the size of the this ROADCOND group.\n",
    "\n",
    "# Create a GroupBy object on ROADCOND.\n",
    "groupby_roadcond = df_categorical[['ROADCOND', 'IS_SEVERE']].groupby(by=['ROADCOND'])\n",
    "\n",
    "# Create a GroupBy object on ROADCOND, IS_SEVERE.\n",
    "groupby_roadcond_is_severe = df_categorical[['ROADCOND', 'IS_SEVERE']].groupby(by=['ROADCOND', 'IS_SEVERE'])\n",
    "\n",
    "print('IS_SEVERE relative frequencies:')\n",
    "print(df_categorical['IS_SEVERE'].value_counts(normalize=True, dropna=False))\n",
    "print()\n",
    "\n",
    "df_value_counts_by_roadcond = pd.DataFrame(data=groupby_roadcond_is_severe.size(), columns=['Value Counts'])\n",
    "print('IS_SEVERE value counts over each ROADCOND group:\\n', df_value_counts_by_roadcond)\n",
    "print()\n",
    "\n",
    "severity_frequency_cutoff = df_categorical['IS_SEVERE'].value_counts(normalize=True, dropna=False).min()\n",
    "print('Proportion of all data with IS_SEVERE=True: %f' % (severity_frequency_cutoff))\n",
    "print()\n",
    "\n",
    "df_frequencies_by_roadcond = pd.DataFrame(data=groupby_roadcond_is_severe.size() / groupby_roadcond.size(), columns=['Relative Frequencies'])\n",
    "print('IS_SEVERE relative frequencies normalized over each ROADCOND group:\\n', df_frequencies_by_roadcond)\n",
    "print()\n",
    "\n",
    "print('IS_SEVERE relative frequencies normalized over each ROADCOND group,\\n',\\\n",
    "      'given the proportion of IS_SEVERE=True > %f:\\n' % (severity_frequency_cutoff),\\\n",
    "      df_frequencies_by_roadcond[df_frequencies_by_roadcond.xs(True, level=1, axis=0) > severity_frequency_cutoff].dropna(), sep='')"
   ]
  },
  {
   "cell_type": "code",
   "execution_count": 52,
   "metadata": {},
   "outputs": [
    {
     "data": {
      "image/png": "[encoded data removed]",
      "text/plain": [
       "<Figure size 432x288 with 1 Axes>"
      ]
     },
     "metadata": {
      "needs_background": "light"
     },
     "output_type": "display_data"
    }
   ],
   "source": [
    "ax = df_frequencies_by_roadcond.plot.bar(alpha=.5, title='Frequency normalized by ROADCOND vs. (ROADCOND, IS_SEVERE)')"
   ]
  },
  {
   "cell_type": "code",
   "execution_count": 53,
   "metadata": {},
   "outputs": [
    {
     "data": {
      "image/png": "[encoded data removed]",
      "text/plain": [
       "<Figure size 432x288 with 1 Axes>"
      ]
     },
     "metadata": {
      "needs_background": "light"
     },
     "output_type": "display_data"
    }
   ],
   "source": [
    "ax = df_frequencies_by_roadcond[df_frequencies_by_roadcond.xs(True, level=1, axis=0) > severity_frequency_cutoff].dropna().plot.bar(alpha=.5,\\\n",
    "    title='Frequency normalized by ROADCOND vs. (ROADCOND, IS_SEVERE),\\nCondition: Frequency of IS_SEVERE=True > %f' %\n",
    "    (severity_frequency_cutoff))"
   ]
  },
  {
   "cell_type": "code",
   "execution_count": 54,
   "metadata": {},
   "outputs": [
    {
     "data": {
      "image/png": "[encoded data removed]",
      "text/plain": [
       "<Figure size 432x288 with 1 Axes>"
      ]
     },
     "metadata": {
      "needs_background": "light"
     },
     "output_type": "display_data"
    }
   ],
   "source": [
    "ax = df_frequencies_by_roadcond[\\\n",
    "    df_frequencies_by_roadcond.xs(True, level=1, axis=0) > severity_frequency_cutoff]\\\n",
    "    .dropna().xs(True, level=1, axis=0).plot.bar(alpha=.5,\\\n",
    "    title='Frequency normalized by ROADCOND vs. ROADCOND\\nConditions: IS_SEVERE=True and frequency of IS_SEVERE=True > %f' %\\\n",
    "    (severity_frequency_cutoff))"
   ]
  },
  {
   "cell_type": "code",
   "execution_count": 55,
   "metadata": {},
   "outputs": [],
   "source": [
    "# Severity vs. Light Conditions"
   ]
  },
  {
   "cell_type": "code",
   "execution_count": 56,
   "metadata": {},
   "outputs": [
    {
     "name": "stdout",
     "output_type": "stream",
     "text": [
      "IS_SEVERE Relative Frequencies:\n",
      "\n"
     ]
    },
    {
     "data": {
      "text/plain": [
       "False   0.981946146\n",
       "True    0.018053854\n",
       "Name: IS_SEVERE, Length: 2, dtype: float64"
      ]
     },
     "execution_count": 56,
     "metadata": {},
     "output_type": "execute_result"
    }
   ],
   "source": [
    "print('IS_SEVERE Relative Frequencies:\\n')\n",
    "df_categorical['IS_SEVERE'].value_counts(normalize=True, dropna=False)"
   ]
  },
  {
   "cell_type": "code",
   "execution_count": 57,
   "metadata": {},
   "outputs": [
    {
     "name": "stdout",
     "output_type": "stream",
     "text": [
      "IS_SEVERE Value Counts:\n",
      "\n"
     ]
    },
    {
     "data": {
      "text/plain": [
       "False    146635\n",
       "True       2696\n",
       "Name: IS_SEVERE, Length: 2, dtype: int64"
      ]
     },
     "execution_count": 57,
     "metadata": {},
     "output_type": "execute_result"
    }
   ],
   "source": [
    "print('IS_SEVERE Value Counts:\\n')\n",
    "df_categorical['IS_SEVERE'].value_counts(normalize=False, dropna=False)"
   ]
  },
  {
   "cell_type": "code",
   "execution_count": 58,
   "metadata": {},
   "outputs": [
    {
     "data": {
      "text/plain": [
       "149331"
      ]
     },
     "execution_count": 58,
     "metadata": {},
     "output_type": "execute_result"
    }
   ],
   "source": [
    "len(df_categorical)"
   ]
  },
  {
   "cell_type": "code",
   "execution_count": 59,
   "metadata": {},
   "outputs": [
    {
     "name": "stdout",
     "output_type": "stream",
     "text": [
      "IS_SEVERE relative frequencies:\n",
      "False   0.981946146\n",
      "True    0.018053854\n",
      "Name: IS_SEVERE, Length: 2, dtype: float64\n",
      "\n",
      "IS_SEVERE value counts over each LIGHTCOND group:\n",
      "                                     Value Counts\n",
      "LIGHTCOND                IS_SEVERE              \n",
      "Dark - No Street Lights  False              1060\n",
      "                         True                 16\n",
      "Dark - Street Lights Off False               898\n",
      "                         True                 25\n",
      "Dark - Street Lights On  False             38019\n",
      "                         True                833\n",
      "Dawn                     False              1969\n",
      "                         True                 55\n",
      "Daylight                 False             99744\n",
      "                         True               1668\n",
      "Dusk                     False              4945\n",
      "                         True                 99\n",
      "\n",
      "[12 rows x 1 columns]\n",
      "\n",
      "Proportion of all data with IS_SEVERE=True: 0.018054\n",
      "\n",
      "IS_SEVERE relative frequencies normalized over each LIGHTCOND group:\n",
      "                                     Relative Frequencies\n",
      "LIGHTCOND                IS_SEVERE                      \n",
      "Dark - No Street Lights  False               0.985130112\n",
      "                         True                0.014869888\n",
      "Dark - Street Lights Off False               0.972914410\n",
      "                         True                0.027085590\n",
      "Dark - Street Lights On  False               0.978559662\n",
      "                         True                0.021440338\n",
      "Dawn                     False               0.972826087\n",
      "                         True                0.027173913\n",
      "Daylight                 False               0.983552242\n",
      "                         True                0.016447758\n",
      "Dusk                     False               0.980372720\n",
      "                         True                0.019627280\n",
      "\n",
      "[12 rows x 1 columns]\n",
      "\n",
      "IS_SEVERE relative frequencies normalized over each LIGHTCOND group,\n",
      "given the proportion of IS_SEVERE=True > 0.018054:\n",
      "                                    Relative Frequencies\n",
      "LIGHTCOND                IS_SEVERE                      \n",
      "Dark - Street Lights Off False               0.972914410\n",
      "                         True                0.027085590\n",
      "Dark - Street Lights On  False               0.978559662\n",
      "                         True                0.021440338\n",
      "Dawn                     False               0.972826087\n",
      "                         True                0.027173913\n",
      "Dusk                     False               0.980372720\n",
      "                         True                0.019627280\n",
      "\n",
      "[8 rows x 1 columns]\n"
     ]
    }
   ],
   "source": [
    "# For each class of LIGHTCOND, get the relative frequencies for IS_SEVERE, i.e.\n",
    "# for each LIGHTCOND group, compute the number of rows with IS_SEVERE=True divided by the size of the this LIGHTCOND group.\n",
    "\n",
    "# Create a GroupBy object on LIGHTCOND.\n",
    "groupby_lightcond = df_categorical[['LIGHTCOND', 'IS_SEVERE']].groupby(by=['LIGHTCOND'])\n",
    "\n",
    "# Create a GroupBy object on LIGHTCOND, IS_SEVERE.\n",
    "groupby_lightcond_is_severe = df_categorical[['LIGHTCOND', 'IS_SEVERE']].groupby(by=['LIGHTCOND', 'IS_SEVERE'])\n",
    "\n",
    "print('IS_SEVERE relative frequencies:')\n",
    "print(df_categorical['IS_SEVERE'].value_counts(normalize=True, dropna=False))\n",
    "print()\n",
    "\n",
    "df_value_counts_by_lightcond = pd.DataFrame(data=groupby_lightcond_is_severe.size(), columns=['Value Counts'])\n",
    "print('IS_SEVERE value counts over each LIGHTCOND group:\\n', df_value_counts_by_lightcond)\n",
    "print()\n",
    "\n",
    "severity_frequency_cutoff = df_categorical['IS_SEVERE'].value_counts(normalize=True, dropna=False).min()\n",
    "print('Proportion of all data with IS_SEVERE=True: %f' % (severity_frequency_cutoff))\n",
    "print()\n",
    "\n",
    "df_frequencies_by_lightcond = pd.DataFrame(data=groupby_lightcond_is_severe.size() / groupby_lightcond.size(), columns=['Relative Frequencies'])\n",
    "print('IS_SEVERE relative frequencies normalized over each LIGHTCOND group:\\n', df_frequencies_by_lightcond)\n",
    "print()\n",
    "\n",
    "print('IS_SEVERE relative frequencies normalized over each LIGHTCOND group,\\n',\\\n",
    "      'given the proportion of IS_SEVERE=True > %f:\\n' % (severity_frequency_cutoff),\\\n",
    "      df_frequencies_by_lightcond[df_frequencies_by_lightcond.xs(True, level=1, axis=0) > severity_frequency_cutoff].dropna(), sep='')"
   ]
  },
  {
   "cell_type": "code",
   "execution_count": 60,
   "metadata": {},
   "outputs": [
    {
     "data": {
      "image/png": "[encoded data removed]",
      "text/plain": [
       "<Figure size 432x288 with 1 Axes>"
      ]
     },
     "metadata": {
      "needs_background": "light"
     },
     "output_type": "display_data"
    }
   ],
   "source": [
    "ax = df_frequencies_by_lightcond.plot.bar(alpha=.5, title='Frequency normalized by LIGHTCOND vs. (LIGHTCOND, IS_SEVERE)')"
   ]
  },
  {
   "cell_type": "code",
   "execution_count": 61,
   "metadata": {},
   "outputs": [
    {
     "data": {
      "image/png": "[encoded data removed]",
      "text/plain": [
       "<Figure size 432x288 with 1 Axes>"
      ]
     },
     "metadata": {
      "needs_background": "light"
     },
     "output_type": "display_data"
    }
   ],
   "source": [
    "ax = df_frequencies_by_lightcond[df_frequencies_by_lightcond.xs(True, level=1, axis=0) > severity_frequency_cutoff].dropna().plot.bar(alpha=.5,\\\n",
    "    title='Frequency normalized by LIGHTCOND vs. (LIGHTCOND, IS_SEVERE),\\nCondition: Frequency of IS_SEVERE=True > %f' %\n",
    "    (severity_frequency_cutoff))"
   ]
  },
  {
   "cell_type": "code",
   "execution_count": 62,
   "metadata": {},
   "outputs": [
    {
     "data": {
      "image/png": "[encoded data removed]",
      "text/plain": [
       "<Figure size 432x288 with 1 Axes>"
      ]
     },
     "metadata": {
      "needs_background": "light"
     },
     "output_type": "display_data"
    }
   ],
   "source": [
    "ax = df_frequencies_by_lightcond[\\\n",
    "    df_frequencies_by_lightcond.xs(True, level=1, axis=0) > severity_frequency_cutoff]\\\n",
    "    .dropna().xs(True, level=1, axis=0).plot.bar(alpha=.5,\\\n",
    "    title='Frequency normalized by LIGHTCOND vs. LIGHTCOND\\nConditions: IS_SEVERE=True and frequency of IS_SEVERE=True > %f' %\\\n",
    "    (severity_frequency_cutoff))"
   ]
  },
  {
   "cell_type": "code",
   "execution_count": 63,
   "metadata": {},
   "outputs": [
    {
     "name": "stdout",
     "output_type": "stream",
     "text": [
      "Elapsed time is 39.75136959995143 seconds.\n"
     ]
    }
   ],
   "source": [
    "print_elapsed_time(notebook_start_time)"
   ]
  },
  {
   "cell_type": "markdown",
   "metadata": {},
   "source": [
    "<h2 id=\"imbalanced_data\">Dealing with Imbalanced Data</h2>"
   ]
  },
  {
   "cell_type": "markdown",
   "metadata": {},
   "source": [
    "Because the data is imbalanced, we split the DataFrame into two DataFrames, one for each value of the IS_SEVERE."
   ]
  },
  {
   "cell_type": "code",
   "execution_count": 64,
   "metadata": {},
   "outputs": [
    {
     "name": "stdout",
     "output_type": "stream",
     "text": [
      "IS_SEVERE relative frequencies:\n",
      "False   0.981946146\n",
      "True    0.018053854\n",
      "Name: IS_SEVERE, Length: 2, dtype: float64\n"
     ]
    }
   ],
   "source": [
    "print('IS_SEVERE relative frequencies:')\n",
    "print(df_categorical['IS_SEVERE'].value_counts(normalize=True, dropna=False))"
   ]
  },
  {
   "cell_type": "code",
   "execution_count": 65,
   "metadata": {},
   "outputs": [
    {
     "name": "stdout",
     "output_type": "stream",
     "text": [
      "IS_SEVERE value counts:\n",
      "False    146635\n",
      "True       2696\n",
      "Name: IS_SEVERE, Length: 2, dtype: int64\n"
     ]
    }
   ],
   "source": [
    "print(\"IS_SEVERE value counts:\")\n",
    "print(df_categorical['IS_SEVERE'].value_counts(normalize=False, dropna=False))"
   ]
  },
  {
   "cell_type": "code",
   "execution_count": 66,
   "metadata": {},
   "outputs": [],
   "source": [
    "df_class_major_severity = df_categorical[df_categorical['IS_SEVERE']]\n",
    "df_class_minor_severity = df_categorical[~df_categorical['IS_SEVERE']]"
   ]
  },
  {
   "cell_type": "code",
   "execution_count": 67,
   "metadata": {},
   "outputs": [
    {
     "data": {
      "text/plain": [
       "pandas.core.frame.DataFrame"
      ]
     },
     "execution_count": 67,
     "metadata": {},
     "output_type": "execute_result"
    }
   ],
   "source": [
    "type(df_class_major_severity)"
   ]
  },
  {
   "cell_type": "code",
   "execution_count": 68,
   "metadata": {},
   "outputs": [
    {
     "name": "stdout",
     "output_type": "stream",
     "text": [
      "<class 'pandas.core.frame.DataFrame'>\n",
      "Int64Index: 2696 entries, 116 to 221277\n",
      "Data columns (total 7 columns):\n",
      " #   Column         Non-Null Count  Dtype   \n",
      "---  ------         --------------  -----   \n",
      " 0   IS_SEVERE      2696 non-null   bool    \n",
      " 1   COLLISIONTYPE  2696 non-null   category\n",
      " 2   PEDCOUNT       2696 non-null   int64   \n",
      " 3   PEDCYLCOUNT    2696 non-null   int64   \n",
      " 4   WEATHER        2696 non-null   category\n",
      " 5   ROADCOND       2696 non-null   category\n",
      " 6   LIGHTCOND      2696 non-null   category\n",
      "dtypes: bool(1), category(4), int64(2)\n",
      "memory usage: 77.7 KB\n"
     ]
    }
   ],
   "source": [
    "df_class_major_severity.info()"
   ]
  },
  {
   "cell_type": "code",
   "execution_count": 69,
   "metadata": {},
   "outputs": [
    {
     "data": {
      "text/plain": [
       "pandas.core.frame.DataFrame"
      ]
     },
     "execution_count": 69,
     "metadata": {},
     "output_type": "execute_result"
    }
   ],
   "source": [
    "type(df_class_minor_severity)"
   ]
  },
  {
   "cell_type": "code",
   "execution_count": 70,
   "metadata": {},
   "outputs": [
    {
     "name": "stdout",
     "output_type": "stream",
     "text": [
      "<class 'pandas.core.frame.DataFrame'>\n",
      "Int64Index: 146635 entries, 0 to 221388\n",
      "Data columns (total 7 columns):\n",
      " #   Column         Non-Null Count   Dtype   \n",
      "---  ------         --------------   -----   \n",
      " 0   IS_SEVERE      146635 non-null  bool    \n",
      " 1   COLLISIONTYPE  146635 non-null  category\n",
      " 2   PEDCOUNT       146635 non-null  int64   \n",
      " 3   PEDCYLCOUNT    146635 non-null  int64   \n",
      " 4   WEATHER        146635 non-null  category\n",
      " 5   ROADCOND       146635 non-null  category\n",
      " 6   LIGHTCOND      146635 non-null  category\n",
      "dtypes: bool(1), category(4), int64(2)\n",
      "memory usage: 4.1 MB\n"
     ]
    }
   ],
   "source": [
    "df_class_minor_severity.info()"
   ]
  },
  {
   "cell_type": "code",
   "execution_count": 71,
   "metadata": {},
   "outputs": [
    {
     "name": "stdout",
     "output_type": "stream",
     "text": [
      "IS_SEVERE relative frequencies:\n",
      "True    2696\n",
      "Name: IS_SEVERE, Length: 1, dtype: int64\n"
     ]
    }
   ],
   "source": [
    "print(\"IS_SEVERE relative frequencies:\")\n",
    "print(df_class_major_severity[\"IS_SEVERE\"].value_counts(normalize=False, dropna=False))"
   ]
  },
  {
   "cell_type": "code",
   "execution_count": 72,
   "metadata": {},
   "outputs": [
    {
     "name": "stdout",
     "output_type": "stream",
     "text": [
      "IS_SEVERE relative frequencies:\n",
      "False    146635\n",
      "Name: IS_SEVERE, Length: 1, dtype: int64\n"
     ]
    }
   ],
   "source": [
    "print(\"IS_SEVERE relative frequencies:\")\n",
    "print(df_class_minor_severity[\"IS_SEVERE\"].value_counts(normalize=False, dropna=False))"
   ]
  },
  {
   "cell_type": "code",
   "execution_count": 73,
   "metadata": {},
   "outputs": [
    {
     "name": "stdout",
     "output_type": "stream",
     "text": [
      "class_major_severity_size = 2696\n",
      "class_minor_severity_size = 146635\n",
      "\n",
      "minority_class_size = 2696\n"
     ]
    }
   ],
   "source": [
    "# Store and print the size of the all classes.\n",
    "class_major_severity_size = len(df_class_major_severity)\n",
    "class_minor_severity_size = len(df_class_minor_severity)\n",
    "print('class_major_severity_size =', class_major_severity_size)\n",
    "print('class_minor_severity_size =', class_minor_severity_size)\n",
    "print()\n",
    "# Store and print the size of the minority class.\n",
    "minority_class_size = len(df_class_major_severity)\n",
    "print('minority_class_size =', minority_class_size)"
   ]
  },
  {
   "cell_type": "code",
   "execution_count": 74,
   "metadata": {},
   "outputs": [
    {
     "name": "stdout",
     "output_type": "stream",
     "text": [
      "Elapsed time is 40.99208512896439 seconds.\n"
     ]
    }
   ],
   "source": [
    "print_elapsed_time(notebook_start_time)"
   ]
  },
  {
   "cell_type": "markdown",
   "metadata": {},
   "source": [
    "<h2 id='sample_size_class_3'>Sample the Accident Severity Classes Equally to Create a Balanced Training Set<\\h2>"
   ]
  },
  {
   "cell_type": "code",
   "execution_count": 75,
   "metadata": {},
   "outputs": [
    {
     "name": "stdout",
     "output_type": "stream",
     "text": [
      "number_of_folds = 4\n"
     ]
    }
   ],
   "source": [
    "# Number of folds for cross-validation\n",
    "number_of_folds = number_of_folds\n",
    "print('number_of_folds = %d' % (number_of_folds))"
   ]
  },
  {
   "cell_type": "code",
   "execution_count": 76,
   "metadata": {},
   "outputs": [
    {
     "name": "stdout",
     "output_type": "stream",
     "text": [
      "test_size_ratio = 0.200000\n"
     ]
    }
   ],
   "source": [
    "# This parameter determines what fraction of the data is reserved for testing.\n",
    "# It must be between 0 and 1, exclusive, i.e. 0 < test_size_ratio < 1.\n",
    "test_size_ratio = test_size_ratio\n",
    "print('test_size_ratio = %f' % (test_size_ratio))\n",
    "\n",
    "# Using train/test splits, set aside part of the data for testing.\n",
    "df_class_minor_severity_train_pre_sampling, df_class_minor_severity_test =\\\n",
    "    train_test_split(df_class_minor_severity, test_size=test_size_ratio, random_state=seed)\n",
    "\n",
    "df_class_major_severity_train_pre_sampling, df_class_major_severity_test =\\\n",
    "    train_test_split(df_class_major_severity, test_size=test_size_ratio, random_state=seed)"
   ]
  },
  {
   "cell_type": "code",
   "execution_count": 77,
   "metadata": {},
   "outputs": [
    {
     "name": "stdout",
     "output_type": "stream",
     "text": [
      "sampling_ratio = 2.000000\n",
      "Sample class major severity with replacement: True\n",
      "Sample class minor severity with replacement: False\n"
     ]
    }
   ],
   "source": [
    "# Build a balanced training set by sampling the imbalanced training data equally by class:\n",
    "\n",
    "sampling_ratio = sampling_ratio\n",
    "print('sampling_ratio = %f' % (sampling_ratio))\n",
    "\n",
    "# Set the boolean <replace> parameter of the sample method based on the sampling ratio.\n",
    "# If the sampling_ratio > 1, sample with replacement.\n",
    "# Otherwise, sample without replacement.\n",
    "sample_with_replacement = bool(sampling_ratio > 1)\n",
    "\n",
    "# Print the value of the replace parameter before passing it to the sample method.\n",
    "print('Sample class major severity with replacement: %s' % (sample_with_replacement))\n",
    "\n",
    "# Sample the minority class's training set based on the sampling parameter and store the sample for later concatenation.\n",
    "df_class_major_severity_train = df_class_major_severity_train_pre_sampling.sample(frac=sampling_ratio,\\\n",
    "                                                                                  replace=sample_with_replacement,\\\n",
    "                                                                                  axis='index',\\\n",
    "                                                                                  random_state=seed)\n",
    "\n",
    "# Store the size of the minority class's training set.\n",
    "df_class_major_severity_train_size = df_class_major_severity_train.shape[0]\n",
    "\n",
    "# Take a sample of the other class's pre-sampling training data,\n",
    "# where the sample size taken is equal to the size of the minority class's training set.\n",
    "# If the sample size to be taken exceeds the number of samples in available, sample with replacement.\n",
    "\n",
    "# Sampling for class minor_severity\n",
    "sample_with_replacement = bool(df_class_major_severity_train_size > df_class_minor_severity_train_pre_sampling.shape[0])\n",
    "# Print the value of the replace parameter before passing it to the sample method.\n",
    "print('Sample class minor severity with replacement: %s' % (sample_with_replacement))\n",
    "df_class_minor_severity_train = df_class_minor_severity_train_pre_sampling.sample(n=df_class_major_severity_train_size,\\\n",
    "                                                                                   replace=sample_with_replacement, axis='index',\\\n",
    "                                                                                   random_state=seed)"
   ]
  },
  {
   "cell_type": "markdown",
   "metadata": {},
   "source": [
    "<h2>Generate a Balanced Training Set and an Unbalanced Test Set</h2>"
   ]
  },
  {
   "cell_type": "code",
   "execution_count": 78,
   "metadata": {},
   "outputs": [],
   "source": [
    "# Make a balanced, unshuffled training set by concatenating the equal sized samples of the training sets for each class.\n",
    "df_train_balanced_not_shuffled = pd.concat([df_class_minor_severity_train, df_class_major_severity_train], axis='index')\n",
    "\n",
    "# Make a not necessarily balanced testing set by concatenating the testing sets for each class.\n",
    "df_test_not_shuffled = pd.concat([df_class_minor_severity_test, df_class_major_severity_test], axis='index')"
   ]
  },
  {
   "cell_type": "code",
   "execution_count": 79,
   "metadata": {},
   "outputs": [],
   "source": [
    "# Shuffle the training set and store it for tuning hyper-parameters and for cross-validation.\n",
    "df_train = shuffle(df_train_balanced_not_shuffled, random_state=seed)\n",
    "\n",
    "# Shuffle the unbalanced DataFrame and store it for validation and for comparing the models.\n",
    "df_test = shuffle(df_test_not_shuffled, random_state=seed)"
   ]
  },
  {
   "cell_type": "code",
   "execution_count": 80,
   "metadata": {},
   "outputs": [
    {
     "name": "stdout",
     "output_type": "stream",
     "text": [
      "IS_SEVERE relative frequencies:\n",
      "True     4312\n",
      "False    4312\n",
      "Name: IS_SEVERE, Length: 2, dtype: int64\n"
     ]
    }
   ],
   "source": [
    "# Verify the training DataFrame is balanced.\n",
    "print(\"IS_SEVERE relative frequencies:\")\n",
    "print(df_train[\"IS_SEVERE\"].value_counts(normalize=False, dropna=False))"
   ]
  },
  {
   "cell_type": "code",
   "execution_count": 81,
   "metadata": {},
   "outputs": [
    {
     "name": "stdout",
     "output_type": "stream",
     "text": [
      "IS_SEVERE relative frequencies:\n",
      "True    0.500000000\n",
      "False   0.500000000\n",
      "Name: IS_SEVERE, Length: 2, dtype: float64\n"
     ]
    }
   ],
   "source": [
    "# Verify the new DataFrame is balanced.\n",
    "print(\"IS_SEVERE relative frequencies:\")\n",
    "print(df_train[\"IS_SEVERE\"].value_counts(normalize=True, dropna=False))"
   ]
  },
  {
   "cell_type": "markdown",
   "metadata": {},
   "source": [
    "Let's define a feature set for the training data represented by a DataFrame. "
   ]
  },
  {
   "cell_type": "code",
   "execution_count": 82,
   "metadata": {},
   "outputs": [],
   "source": [
    "# Define a data frame to store the features for the training data.\n",
    "df_features = df_train.drop(columns=['IS_SEVERE'], inplace=False)"
   ]
  },
  {
   "cell_type": "code",
   "execution_count": 83,
   "metadata": {},
   "outputs": [
    {
     "name": "stdout",
     "output_type": "stream",
     "text": [
      "<class 'pandas.core.frame.DataFrame'>\n",
      "Int64Index: 8624 entries, 210496 to 59768\n",
      "Data columns (total 6 columns):\n",
      " #   Column         Non-Null Count  Dtype   \n",
      "---  ------         --------------  -----   \n",
      " 0   COLLISIONTYPE  8624 non-null   category\n",
      " 1   PEDCOUNT       8624 non-null   int64   \n",
      " 2   PEDCYLCOUNT    8624 non-null   int64   \n",
      " 3   WEATHER        8624 non-null   category\n",
      " 4   ROADCOND       8624 non-null   category\n",
      " 5   LIGHTCOND      8624 non-null   category\n",
      "dtypes: category(4), int64(2)\n",
      "memory usage: 237.1 KB\n"
     ]
    }
   ],
   "source": [
    "# Display information about the features DataFrame.\n",
    "df_features.info()"
   ]
  },
  {
   "cell_type": "markdown",
   "metadata": {},
   "source": [
    "The boolean array y represents the target variable IS_SEVERE for the training data."
   ]
  },
  {
   "cell_type": "code",
   "execution_count": 84,
   "metadata": {},
   "outputs": [],
   "source": [
    "# Convert the training data target into a numpy array.\n",
    "y = df_train['IS_SEVERE'].to_numpy()"
   ]
  },
  {
   "cell_type": "code",
   "execution_count": 85,
   "metadata": {},
   "outputs": [
    {
     "name": "stdout",
     "output_type": "stream",
     "text": [
      "Elapsed time is 42.4039141019457 seconds.\n"
     ]
    }
   ],
   "source": [
    "print_elapsed_time(notebook_start_time)"
   ]
  },
  {
   "cell_type": "markdown",
   "metadata": {},
   "source": [
    "## Transform the Data "
   ]
  },
  {
   "cell_type": "markdown",
   "metadata": {},
   "source": [
    "We normalize the data by transforming it so that it is compatible\n",
    "with the machine learning estimators we use in this notebook.\n",
    "The features are stored in sparse matrix format."
   ]
  },
  {
   "cell_type": "code",
   "execution_count": 86,
   "metadata": {},
   "outputs": [
    {
     "name": "stdout",
     "output_type": "stream",
     "text": [
      "Fitting OneHotEncoder to training data...\n",
      "Completed in 0.2711444409796968 seconds.\n",
      "['x0_Angles' 'x0_Cycles' 'x0_Head On' 'x0_Left Turn' 'x0_Parked Car'\n",
      " 'x0_Pedestrian' 'x0_Rear Ended' 'x0_Right Turn' 'x0_Sideswipe' 'x1_0'\n",
      " 'x1_1' 'x1_2' 'x1_3' 'x1_4' 'x1_5' 'x1_6' 'x2_0' 'x2_1' 'x2_2'\n",
      " 'x3_Blowing Sand/Dirt' 'x3_Clear' 'x3_Fog/Smog/Smoke' 'x3_Overcast'\n",
      " 'x3_Partly Cloudy' 'x3_Raining' 'x3_Severe Crosswind'\n",
      " 'x3_Sleet/Hail/Freezing Rain' 'x3_Snowing' 'x4_Dry' 'x4_Ice' 'x4_Oil'\n",
      " 'x4_Sand/Mud/Dirt' 'x4_Snow/Slush' 'x4_Standing Water' 'x4_Wet'\n",
      " 'x5_Dark - No Street Lights' 'x5_Dark - Street Lights Off'\n",
      " 'x5_Dark - Street Lights On' 'x5_Dawn' 'x5_Daylight' 'x5_Dusk']\n"
     ]
    }
   ],
   "source": [
    "# Create a OneHotEncoder and fit it to the features.\n",
    "# The fit is performed on the data set before the any test/train splits.\n",
    "# The data will be encoded as a sparse matrix, the default behavior.\n",
    "start_time = default_timer()\n",
    "print(\"Fitting OneHotEncoder to training data...\")\n",
    "encoder = OneHotEncoder(sparse=True, handle_unknown='error')\n",
    "encoder.fit(df_categorical.drop(columns=['IS_SEVERE'], inplace=False))\n",
    "X = encoder.transform(df_features)\n",
    "print(\"Completed in\", elapsed_time(start_time), \"seconds.\")\n",
    "# Display the categories of the encoder.\n",
    "print(encoder.get_feature_names())"
   ]
  },
  {
   "cell_type": "markdown",
   "metadata": {},
   "source": [
    "The sparse matrix X represents the one-hot encoded feature set for the training data."
   ]
  },
  {
   "cell_type": "code",
   "execution_count": 87,
   "metadata": {},
   "outputs": [
    {
     "data": {
      "text/plain": [
       "scipy.sparse.csr.csr_matrix"
      ]
     },
     "execution_count": 87,
     "metadata": {},
     "output_type": "execute_result"
    }
   ],
   "source": [
    "# Display the type for the training data feature set.\n",
    "type(X)"
   ]
  },
  {
   "cell_type": "code",
   "execution_count": 88,
   "metadata": {},
   "outputs": [
    {
     "data": {
      "text/plain": [
       "(8624, 41)"
      ]
     },
     "execution_count": 88,
     "metadata": {},
     "output_type": "execute_result"
    }
   ],
   "source": [
    "# Display the shape of the training data feature set.\n",
    "X.shape"
   ]
  },
  {
   "cell_type": "code",
   "execution_count": 89,
   "metadata": {},
   "outputs": [
    {
     "data": {
      "text/plain": [
       "numpy.ndarray"
      ]
     },
     "execution_count": 89,
     "metadata": {},
     "output_type": "execute_result"
    }
   ],
   "source": [
    "# Display the type for the training data target array.\n",
    "type(y)"
   ]
  },
  {
   "cell_type": "code",
   "execution_count": 90,
   "metadata": {},
   "outputs": [
    {
     "data": {
      "text/plain": [
       "(8624,)"
      ]
     },
     "execution_count": 90,
     "metadata": {},
     "output_type": "execute_result"
    }
   ],
   "source": [
    "# Display the shape of the training data target array.\n",
    "y.shape"
   ]
  },
  {
   "cell_type": "code",
   "execution_count": 91,
   "metadata": {},
   "outputs": [
    {
     "name": "stdout",
     "output_type": "stream",
     "text": [
      "Elapsed time is 43.27015640796162 seconds.\n"
     ]
    }
   ],
   "source": [
    "print_elapsed_time(notebook_start_time)"
   ]
  },
  {
   "cell_type": "code",
   "execution_count": 92,
   "metadata": {},
   "outputs": [
    {
     "name": "stdout",
     "output_type": "stream",
     "text": [
      "<class 'pandas.core.frame.DataFrame'>\n",
      "Int64Index: 29867 entries, 64587 to 116702\n",
      "Data columns (total 7 columns):\n",
      " #   Column         Non-Null Count  Dtype   \n",
      "---  ------         --------------  -----   \n",
      " 0   IS_SEVERE      29867 non-null  bool    \n",
      " 1   COLLISIONTYPE  29867 non-null  category\n",
      " 2   PEDCOUNT       29867 non-null  int64   \n",
      " 3   PEDCYLCOUNT    29867 non-null  int64   \n",
      " 4   WEATHER        29867 non-null  category\n",
      " 5   ROADCOND       29867 non-null  category\n",
      " 6   LIGHTCOND      29867 non-null  category\n",
      "dtypes: bool(1), category(4), int64(2)\n",
      "memory usage: 847.2 KB\n"
     ]
    }
   ],
   "source": [
    "#df_categorical.info()\n",
    "df_test.info()"
   ]
  },
  {
   "cell_type": "code",
   "execution_count": 93,
   "metadata": {},
   "outputs": [
    {
     "name": "stdout",
     "output_type": "stream",
     "text": [
      "IS_SEVERE relative frequencies:\n",
      "False    29327\n",
      "True       540\n",
      "Name: IS_SEVERE, Length: 2, dtype: int64\n"
     ]
    }
   ],
   "source": [
    "# Print the relative frequencies for the validation DataFrame.\n",
    "print(\"IS_SEVERE relative frequencies:\")\n",
    "print(df_test['IS_SEVERE'].value_counts(normalize=False, dropna=False))"
   ]
  },
  {
   "cell_type": "code",
   "execution_count": 94,
   "metadata": {},
   "outputs": [
    {
     "name": "stdout",
     "output_type": "stream",
     "text": [
      "IS_SEVERE relative frequencies:\n",
      "False   0.981919845\n",
      "True    0.018080155\n",
      "Name: IS_SEVERE, Length: 2, dtype: float64\n"
     ]
    }
   ],
   "source": [
    "# Print the relative frequencies for the validation DataFrame.\n",
    "print(\"IS_SEVERE relative frequencies:\")\n",
    "print(df_test['IS_SEVERE'].value_counts(normalize=True, dropna=False))"
   ]
  },
  {
   "cell_type": "code",
   "execution_count": 95,
   "metadata": {},
   "outputs": [
    {
     "name": "stdout",
     "output_type": "stream",
     "text": [
      "Transforming features using OneHotEncoder...\n",
      "Encoding completed in 0.15388359397184104 seconds.\n"
     ]
    }
   ],
   "source": [
    "# Encode the test data features using the same instance of the OneHotEncoder that was fitted on the training data features.\n",
    "start_time = default_timer()\n",
    "print('Transforming features using OneHotEncoder...')\n",
    "X_test = df_test.drop(columns=['IS_SEVERE'], inplace=False)\n",
    "X_test = encoder.transform(X_test)\n",
    "print(\"Encoding completed in\", elapsed_time(start_time), \"seconds.\")"
   ]
  },
  {
   "cell_type": "code",
   "execution_count": 96,
   "metadata": {},
   "outputs": [],
   "source": [
    "y_test = df_test['IS_SEVERE'].to_numpy()"
   ]
  },
  {
   "cell_type": "code",
   "execution_count": 97,
   "metadata": {},
   "outputs": [
    {
     "data": {
      "text/plain": [
       "(29867, 41)"
      ]
     },
     "execution_count": 97,
     "metadata": {},
     "output_type": "execute_result"
    }
   ],
   "source": [
    "X_test.shape"
   ]
  },
  {
   "cell_type": "code",
   "execution_count": 98,
   "metadata": {},
   "outputs": [
    {
     "data": {
      "text/plain": [
       "(29867,)"
      ]
     },
     "execution_count": 98,
     "metadata": {},
     "output_type": "execute_result"
    }
   ],
   "source": [
    "y_test.shape"
   ]
  },
  {
   "cell_type": "code",
   "execution_count": 99,
   "metadata": {},
   "outputs": [
    {
     "name": "stdout",
     "output_type": "stream",
     "text": [
      "Elapsed time is 44.22569765499793 seconds.\n"
     ]
    }
   ],
   "source": [
    "print_elapsed_time(notebook_start_time)"
   ]
  },
  {
   "cell_type": "markdown",
   "metadata": {},
   "source": [
    "<h2 id=\"logistic_regression\">Build and Test a Logistic Regression Model<\\h2>"
   ]
  },
  {
   "cell_type": "code",
   "execution_count": 100,
   "metadata": {},
   "outputs": [
    {
     "name": "stdout",
     "output_type": "stream",
     "text": [
      "Classification Report for Logistic Regression on Unbalanced Test Data\n",
      "\n",
      "              precision    recall  f1-score   support\n",
      "\n",
      "       Major   0.059879  0.679630  0.110061       540\n",
      "       Minor   0.992712  0.803526  0.888156     29327\n",
      "\n",
      "    accuracy                       0.801286     29867\n",
      "   macro avg   0.526296  0.741578  0.499109     29867\n",
      "weighted avg   0.975846  0.801286  0.874088     29867\n",
      "\n"
     ]
    },
    {
     "data": {
      "image/png": "[encoded data removed]",
      "text/plain": [
       "<Figure size 1382.4x1036.8 with 8 Axes>"
      ]
     },
     "metadata": {
      "needs_background": "light"
     },
     "output_type": "display_data"
    },
    {
     "name": "stdout",
     "output_type": "stream",
     "text": [
      "\n",
      "Logistic Regression Classification Report and Confusion Matrices generated in 5.756782 seconds.\n"
     ]
    }
   ],
   "source": [
    "t0 = default_timer()\n",
    "\n",
    "# Make a pipline.\n",
    "logistic_regression_pipe = make_pipeline(StandardScaler(with_mean=False), LogisticRegression(solver='saga', random_state=seed), verbose=False)\n",
    "\n",
    "# Fit the model to the balanced training data.\n",
    "logistic_regression_pipe.fit(X, y)\n",
    "\n",
    "# Use the fitted model to generate predictions based on test data.\n",
    "y_pred = logistic_regression_pipe.predict(X_test)\n",
    "\n",
    "# Set display labels.\n",
    "labels = [True, False]\n",
    "target_names = ['Major', 'Minor']\n",
    "display_labels = target_names\n",
    "\n",
    "# Display the classification report for Logistic Regression model applied to unbalanced test data.\n",
    "logistic_regression_report = classification_report(y_test, y_pred, labels=labels, target_names=target_names, digits=6, output_dict=True)\n",
    "print('Classification Report for Logistic Regression on Unbalanced Test Data')\n",
    "print()\n",
    "print(classification_report(y_test, y_pred, labels=labels, target_names=target_names, digits=6))\n",
    "\n",
    "\n",
    "# Display the confusion matrices based on the unbalanced test data.\n",
    "# Create a figure.\n",
    "fig = plt.figure(figsize=(6.4 * 3, 4.8 * 3))\n",
    "fig.suptitle('Confusion Matrices for Logistic Regression on Unbalanced Test Data', fontsize=20)\n",
    "    \n",
    "ax = plt.subplot(2, 2, 1)\n",
    "ax.set_title('Normalized over True Severity', fontsize=12)\n",
    "plot_confusion_matrix(logistic_regression_pipe, X_test, y_test, labels=labels, display_labels=display_labels, normalize='true', ax=ax)\n",
    "    \n",
    "ax = plt.subplot(2, 2, 2)\n",
    "ax.set_title('Normalized over Predicted Severity', fontsize=12)\n",
    "plot_confusion_matrix(logistic_regression_pipe, X_test, y_test, labels=labels, display_labels=display_labels, normalize='pred', ax=ax)\n",
    "    \n",
    "ax = plt.subplot(2, 2, 3)\n",
    "ax.set_title('Normalized', fontsize=12)\n",
    "plot_confusion_matrix(logistic_regression_pipe, X_test, y_test, labels=labels, display_labels=display_labels, normalize='all', ax=ax)\n",
    "\n",
    "ax = plt.subplot(2, 2, 4)\n",
    "ax.set_title('Normalized', fontsize=12)\n",
    "plot_confusion_matrix(logistic_regression_pipe, X_test, y_test, labels=labels, display_labels=display_labels, normalize=None, ax=ax)\n",
    "\n",
    "plt.show()\n",
    "\n",
    "print()\n",
    "print('Logistic Regression Classification Report and Confusion Matrices generated in %f seconds.' % elapsed_time(t0))"
   ]
  },
  {
   "cell_type": "code",
   "execution_count": 101,
   "metadata": {},
   "outputs": [
    {
     "name": "stdout",
     "output_type": "stream",
     "text": [
      "Elapsed time is 50.126837987976614 seconds.\n"
     ]
    }
   ],
   "source": [
    "print_elapsed_time(notebook_start_time)"
   ]
  },
  {
   "cell_type": "markdown",
   "metadata": {},
   "source": [
    "<h2 id=\"support_vector_machine\">Build and Test a Support Vector Machine<\\h2>"
   ]
  },
  {
   "cell_type": "code",
   "execution_count": 102,
   "metadata": {},
   "outputs": [
    {
     "name": "stdout",
     "output_type": "stream",
     "text": [
      "Classification Report for Support Vector Machine on Unbalanced Test Data\n",
      "\n",
      "              precision    recall  f1-score   support\n",
      "\n",
      "       Major   0.067426  0.657407  0.122308       540\n",
      "       Minor   0.992480  0.832577  0.905524     29327\n",
      "\n",
      "    accuracy                       0.829410     29867\n",
      "   macro avg   0.529953  0.744992  0.513916     29867\n",
      "weighted avg   0.975755  0.829410  0.891363     29867\n",
      "\n"
     ]
    },
    {
     "data": {
      "image/png": "[encoded data removed]",
      "text/plain": [
       "<Figure size 1382.4x1036.8 with 8 Axes>"
      ]
     },
     "metadata": {
      "needs_background": "light"
     },
     "output_type": "display_data"
    },
    {
     "name": "stdout",
     "output_type": "stream",
     "text": [
      "\n",
      "Support Vector Machine Classification Report and Confusion Matrices generated in 4.206520 seconds.\n"
     ]
    }
   ],
   "source": [
    "t0 = default_timer()\n",
    "\n",
    "# Make a pipline.\n",
    "support_vector_machine_pipe = make_pipeline(StandardScaler(with_mean=False), LinearSVC(dual=False, random_state=seed), verbose=False)\n",
    "\n",
    "# Fit the model to the balanced training data.\n",
    "support_vector_machine_pipe.fit(X, y)\n",
    "\n",
    "# Use the fitted model to generate predictions based on test data.\n",
    "y_pred = support_vector_machine_pipe.predict(X_test)\n",
    "\n",
    "# Set display labels.\n",
    "labels = [True, False]\n",
    "target_names = ['Major', 'Minor']\n",
    "display_labels = target_names\n",
    "\n",
    "\n",
    "# Store and display the classification report for Support Vector Machine model applied to unbalanced test data.\n",
    "support_vector_machine_report = classification_report(y_test, y_pred, labels=labels, target_names=target_names, digits=6, output_dict=True)\n",
    "print('Classification Report for Support Vector Machine on Unbalanced Test Data')\n",
    "print()\n",
    "print(classification_report(y_test, y_pred, labels=labels, target_names=target_names, digits=6))\n",
    "\n",
    "# Display the confusion matrices based on the unbalanced test data.\n",
    "# Create a figure.\n",
    "fig = plt.figure(figsize=(6.4 * 3, 4.8 * 3))\n",
    "fig.suptitle('Confusion Matrices for Support Vector Machine on Unbalanced Test Data', fontsize=20)\n",
    "    \n",
    "ax = plt.subplot(2, 2, 1)\n",
    "ax.set_title('Normalized over True Severity', fontsize=12)\n",
    "plot_confusion_matrix(support_vector_machine_pipe, X_test, y_test, labels=labels, display_labels=display_labels, normalize='true', ax=ax)\n",
    "    \n",
    "ax = plt.subplot(2, 2, 2)\n",
    "ax.set_title('Normalized over Predicted Severity', fontsize=12)\n",
    "plot_confusion_matrix(support_vector_machine_pipe, X_test, y_test, labels=labels, display_labels=display_labels, normalize='pred', ax=ax)\n",
    "    \n",
    "ax = plt.subplot(2, 2, 3)\n",
    "ax.set_title('Normalized', fontsize=12)\n",
    "plot_confusion_matrix(support_vector_machine_pipe, X_test, y_test, labels=labels, display_labels=display_labels, normalize='all', ax=ax)\n",
    "\n",
    "ax = plt.subplot(2, 2, 4)\n",
    "ax.set_title('Normalized', fontsize=12)\n",
    "plot_confusion_matrix(support_vector_machine_pipe, X_test, y_test, labels=labels, display_labels=display_labels, normalize=None, ax=ax)\n",
    "\n",
    "plt.show()\n",
    "\n",
    "print()\n",
    "print('Support Vector Machine Classification Report and Confusion Matrices generated in %f seconds.' % elapsed_time(t0))"
   ]
  },
  {
   "cell_type": "code",
   "execution_count": 103,
   "metadata": {},
   "outputs": [
    {
     "name": "stdout",
     "output_type": "stream",
     "text": [
      "Elapsed time is 54.54276285198284 seconds.\n"
     ]
    }
   ],
   "source": [
    "print_elapsed_time(notebook_start_time)"
   ]
  },
  {
   "cell_type": "markdown",
   "metadata": {},
   "source": [
    "<h2 id=\"knn_classifier\">Building a k-Nearest Neighbors Classifier<\\h2>"
   ]
  },
  {
   "cell_type": "code",
   "execution_count": 104,
   "metadata": {},
   "outputs": [
    {
     "name": "stdout",
     "output_type": "stream",
     "text": [
      "maximum_number_of_neighbors = 49\n",
      "Fitting 4 folds for each of 24 candidates, totalling 96 fits\n",
      "[Parallel(n_jobs=-1)]: Using backend LokyBackend with 2 concurrent workers.\n",
      "[Parallel(n_jobs=-1)]: Done   1 tasks      | elapsed:    8.6s\n",
      "[Parallel(n_jobs=-1)]: Done   2 tasks      | elapsed:    8.6s\n",
      "[Parallel(n_jobs=-1)]: Done   3 tasks      | elapsed:   14.0s\n",
      "[Parallel(n_jobs=-1)]: Done   4 tasks      | elapsed:   14.2s\n",
      "[Parallel(n_jobs=-1)]: Done   5 tasks      | elapsed:   19.1s\n",
      "[Parallel(n_jobs=-1)]: Done   6 tasks      | elapsed:   19.2s\n",
      "[Parallel(n_jobs=-1)]: Done   7 tasks      | elapsed:   23.7s\n",
      "[Parallel(n_jobs=-1)]: Done   8 tasks      | elapsed:   23.9s\n",
      "[Parallel(n_jobs=-1)]: Done   9 tasks      | elapsed:   28.8s\n",
      "[Parallel(n_jobs=-1)]: Done  10 tasks      | elapsed:   28.8s\n",
      "[Parallel(n_jobs=-1)]: Done  11 tasks      | elapsed:   33.5s\n",
      "[Parallel(n_jobs=-1)]: Done  12 tasks      | elapsed:   33.6s\n",
      "[Parallel(n_jobs=-1)]: Done  13 tasks      | elapsed:   38.5s\n",
      "[Parallel(n_jobs=-1)]: Done  14 tasks      | elapsed:   38.6s\n",
      "[Parallel(n_jobs=-1)]: Done  15 tasks      | elapsed:   43.7s\n",
      "[Parallel(n_jobs=-1)]: Done  16 tasks      | elapsed:   44.0s\n",
      "[Parallel(n_jobs=-1)]: Done  17 tasks      | elapsed:   48.6s\n",
      "[Parallel(n_jobs=-1)]: Done  18 tasks      | elapsed:   48.7s\n",
      "[Parallel(n_jobs=-1)]: Done  19 tasks      | elapsed:   53.3s\n",
      "[Parallel(n_jobs=-1)]: Done  20 tasks      | elapsed:   53.4s\n",
      "[Parallel(n_jobs=-1)]: Done  21 tasks      | elapsed:   58.3s\n",
      "[Parallel(n_jobs=-1)]: Done  22 tasks      | elapsed:   58.3s\n",
      "[Parallel(n_jobs=-1)]: Done  23 tasks      | elapsed:  1.1min\n",
      "[Parallel(n_jobs=-1)]: Done  24 tasks      | elapsed:  1.1min\n",
      "[Parallel(n_jobs=-1)]: Done  25 tasks      | elapsed:  1.1min\n",
      "[Parallel(n_jobs=-1)]: Done  26 tasks      | elapsed:  1.1min\n",
      "[Parallel(n_jobs=-1)]: Done  27 tasks      | elapsed:  1.2min\n",
      "[Parallel(n_jobs=-1)]: Done  28 tasks      | elapsed:  1.2min\n",
      "[Parallel(n_jobs=-1)]: Done  29 tasks      | elapsed:  1.3min\n",
      "[Parallel(n_jobs=-1)]: Done  30 tasks      | elapsed:  1.3min\n",
      "[Parallel(n_jobs=-1)]: Done  31 tasks      | elapsed:  1.4min\n",
      "[Parallel(n_jobs=-1)]: Done  32 tasks      | elapsed:  1.4min\n",
      "[Parallel(n_jobs=-1)]: Done  33 tasks      | elapsed:  1.4min\n",
      "[Parallel(n_jobs=-1)]: Done  34 tasks      | elapsed:  1.4min\n",
      "[Parallel(n_jobs=-1)]: Done  35 tasks      | elapsed:  1.5min\n",
      "[Parallel(n_jobs=-1)]: Done  36 tasks      | elapsed:  1.5min\n",
      "[Parallel(n_jobs=-1)]: Done  37 tasks      | elapsed:  1.6min\n",
      "[Parallel(n_jobs=-1)]: Done  38 tasks      | elapsed:  1.6min\n",
      "[Parallel(n_jobs=-1)]: Done  39 tasks      | elapsed:  1.7min\n",
      "[Parallel(n_jobs=-1)]: Done  40 tasks      | elapsed:  1.7min\n",
      "[Parallel(n_jobs=-1)]: Done  41 tasks      | elapsed:  1.8min\n",
      "[Parallel(n_jobs=-1)]: Done  42 tasks      | elapsed:  1.8min\n",
      "[Parallel(n_jobs=-1)]: Done  43 tasks      | elapsed:  1.8min\n",
      "[Parallel(n_jobs=-1)]: Done  44 tasks      | elapsed:  1.8min\n",
      "[Parallel(n_jobs=-1)]: Done  45 tasks      | elapsed:  1.9min\n",
      "[Parallel(n_jobs=-1)]: Done  46 tasks      | elapsed:  1.9min\n",
      "[Parallel(n_jobs=-1)]: Done  47 tasks      | elapsed:  2.0min\n",
      "[Parallel(n_jobs=-1)]: Done  48 tasks      | elapsed:  2.0min\n",
      "[Parallel(n_jobs=-1)]: Done  49 tasks      | elapsed:  2.1min\n",
      "[Parallel(n_jobs=-1)]: Done  50 tasks      | elapsed:  2.1min\n",
      "[Parallel(n_jobs=-1)]: Done  51 tasks      | elapsed:  2.2min\n",
      "[Parallel(n_jobs=-1)]: Done  52 tasks      | elapsed:  2.2min\n",
      "[Parallel(n_jobs=-1)]: Done  53 tasks      | elapsed:  2.2min\n",
      "[Parallel(n_jobs=-1)]: Done  54 tasks      | elapsed:  2.2min\n",
      "[Parallel(n_jobs=-1)]: Done  55 tasks      | elapsed:  2.3min\n",
      "[Parallel(n_jobs=-1)]: Done  56 tasks      | elapsed:  2.3min\n",
      "[Parallel(n_jobs=-1)]: Done  57 tasks      | elapsed:  2.4min\n",
      "[Parallel(n_jobs=-1)]: Done  58 tasks      | elapsed:  2.4min\n",
      "[Parallel(n_jobs=-1)]: Done  59 tasks      | elapsed:  2.5min\n",
      "[Parallel(n_jobs=-1)]: Done  60 tasks      | elapsed:  2.5min\n",
      "[Parallel(n_jobs=-1)]: Done  61 tasks      | elapsed:  2.6min\n",
      "[Parallel(n_jobs=-1)]: Done  62 tasks      | elapsed:  2.6min\n",
      "[Parallel(n_jobs=-1)]: Done  63 tasks      | elapsed:  2.6min\n",
      "[Parallel(n_jobs=-1)]: Done  64 tasks      | elapsed:  2.6min\n",
      "[Parallel(n_jobs=-1)]: Done  65 tasks      | elapsed:  2.7min\n",
      "[Parallel(n_jobs=-1)]: Done  66 tasks      | elapsed:  2.7min\n",
      "[Parallel(n_jobs=-1)]: Done  67 tasks      | elapsed:  2.8min\n",
      "[Parallel(n_jobs=-1)]: Done  68 tasks      | elapsed:  2.8min\n",
      "[Parallel(n_jobs=-1)]: Done  69 tasks      | elapsed:  2.9min\n",
      "[Parallel(n_jobs=-1)]: Done  70 tasks      | elapsed:  2.9min\n",
      "[Parallel(n_jobs=-1)]: Done  71 tasks      | elapsed:  3.0min\n",
      "[Parallel(n_jobs=-1)]: Done  72 tasks      | elapsed:  3.0min\n",
      "[Parallel(n_jobs=-1)]: Done  73 tasks      | elapsed:  3.1min\n",
      "[Parallel(n_jobs=-1)]: Done  74 tasks      | elapsed:  3.1min\n",
      "[Parallel(n_jobs=-1)]: Done  75 tasks      | elapsed:  3.1min\n",
      "[Parallel(n_jobs=-1)]: Done  76 tasks      | elapsed:  3.1min\n",
      "[Parallel(n_jobs=-1)]: Done  77 tasks      | elapsed:  3.2min\n",
      "[Parallel(n_jobs=-1)]: Done  78 tasks      | elapsed:  3.2min\n",
      "[Parallel(n_jobs=-1)]: Done  79 tasks      | elapsed:  3.3min\n",
      "[Parallel(n_jobs=-1)]: Done  80 tasks      | elapsed:  3.3min\n",
      "[Parallel(n_jobs=-1)]: Done  81 tasks      | elapsed:  3.4min\n",
      "[Parallel(n_jobs=-1)]: Done  82 tasks      | elapsed:  3.4min\n",
      "[Parallel(n_jobs=-1)]: Done  83 tasks      | elapsed:  3.4min\n",
      "[Parallel(n_jobs=-1)]: Done  84 tasks      | elapsed:  3.4min\n",
      "[Parallel(n_jobs=-1)]: Done  85 tasks      | elapsed:  3.5min\n",
      "[Parallel(n_jobs=-1)]: Done  86 tasks      | elapsed:  3.5min\n",
      "[Parallel(n_jobs=-1)]: Done  87 tasks      | elapsed:  3.6min\n",
      "[Parallel(n_jobs=-1)]: Done  88 tasks      | elapsed:  3.6min\n",
      "[Parallel(n_jobs=-1)]: Done  89 tasks      | elapsed:  3.7min\n",
      "[Parallel(n_jobs=-1)]: Done  90 tasks      | elapsed:  3.7min\n",
      "[Parallel(n_jobs=-1)]: Done  91 tasks      | elapsed:  3.8min\n",
      "[Parallel(n_jobs=-1)]: Done  92 tasks      | elapsed:  3.8min\n",
      "[Parallel(n_jobs=-1)]: Done  93 tasks      | elapsed:  3.8min\n",
      "[Parallel(n_jobs=-1)]: Done  96 out of  96 | elapsed:  3.9min finished\n",
      "\n",
      "Completed grid search in 234.707109 seconds\n"
     ]
    }
   ],
   "source": [
    "t0 = default_timer()\n",
    "\n",
    "# Set the maximum number of neighbors based on number of training samples in each folds to prevent ValueError.\n",
    "# Also, ensure number of neighbors is always an odd integer to avoid ties, using '2 * (N // 2) - 1' technique.\n",
    "neighbors_upper_bound = neighbors_upper_bound # Set by user based on system resources.\n",
    "maximum_number_of_neighbors = \\\n",
    "    min(2 * (neighbors_upper_bound // 2) - 1, (np.int(2 * ((X.shape[0] / number_of_folds) // 2) - 1 )))\n",
    "print('maximum_number_of_neighbors = %d' % (maximum_number_of_neighbors))\n",
    "\n",
    "# Make a pipeline.\n",
    "k_neighbors_pipeline = make_pipeline(StandardScaler(with_mean=False), KNeighborsClassifier(n_jobs=-1), verbose=False)\n",
    "\n",
    "# Use only odd numbers of neighbors to avoid ties.\n",
    "# Number of neighbors range starts high and ends low, allowing user to  monitor kernel messages for possible local maxima in score.\n",
    "grid_parameters = {'kneighborsclassifier__n_neighbors': range(maximum_number_of_neighbors, 1, -2)}\n",
    "scoring = ['recall_weighted']\n",
    "grid_search_cv = GridSearchCV(k_neighbors_pipeline, param_grid=grid_parameters, scoring=scoring, n_jobs=-1, refit='recall_weighted',\\\n",
    "                              cv=number_of_folds, verbose=50, error_score='raise', return_train_score=False)\n",
    "\n",
    "grid_search_cv.fit(X, y)\n",
    "\n",
    "print()\n",
    "print('Completed grid search in %f seconds' % (elapsed_time(t0)))"
   ]
  },
  {
   "cell_type": "code",
   "execution_count": 105,
   "metadata": {},
   "outputs": [
    {
     "name": "stdout",
     "output_type": "stream",
     "text": [
      "Best KNeighborsClassifier parameters:\n",
      "memory : None\n",
      "steps : [('standardscaler', StandardScaler(with_mean=False)), ('kneighborsclassifier', KNeighborsClassifier(n_jobs=-1, n_neighbors=43))]\n",
      "verbose : False\n",
      "standardscaler : StandardScaler(with_mean=False)\n",
      "kneighborsclassifier : KNeighborsClassifier(n_jobs=-1, n_neighbors=43)\n",
      "standardscaler__copy : True\n",
      "standardscaler__with_mean : False\n",
      "standardscaler__with_std : True\n",
      "kneighborsclassifier__algorithm : auto\n",
      "kneighborsclassifier__leaf_size : 30\n",
      "kneighborsclassifier__metric : minkowski\n",
      "kneighborsclassifier__metric_params : None\n",
      "kneighborsclassifier__n_jobs : -1\n",
      "kneighborsclassifier__n_neighbors : 43\n",
      "kneighborsclassifier__p : 2\n",
      "kneighborsclassifier__weights : uniform\n"
     ]
    }
   ],
   "source": [
    "# Store and print the best KNeighborsClassifier from GridSearchCV.\n",
    "k_neighbors_clf = grid_search_cv.best_estimator_\n",
    "print('Best KNeighborsClassifier parameters:')\n",
    "for key in k_neighbors_clf.get_params().keys():\n",
    "    print(key, ':', k_neighbors_clf.get_params()[key])"
   ]
  },
  {
   "cell_type": "code",
   "execution_count": 106,
   "metadata": {},
   "outputs": [
    {
     "name": "stdout",
     "output_type": "stream",
     "text": [
      "Classification Report for k-Nearest Neighbors on Unbalanced Test Data\n",
      "\n",
      "              precision    recall  f1-score   support\n",
      "\n",
      "       Major   0.076830  0.590741  0.135976       540\n",
      "       Minor   0.991406  0.869301  0.926347     29327\n",
      "\n",
      "    accuracy                       0.864265     29867\n",
      "   macro avg   0.534118  0.730021  0.531162     29867\n",
      "weighted avg   0.974870  0.864265  0.912057     29867\n",
      "\n"
     ]
    },
    {
     "data": {
      "image/png": "[encoded data removed]",
      "text/plain": [
       "<Figure size 1382.4x1036.8 with 8 Axes>"
      ]
     },
     "metadata": {
      "needs_background": "light"
     },
     "output_type": "display_data"
    },
    {
     "name": "stdout",
     "output_type": "stream",
     "text": [
      "\n",
      "k-Nearest Neighbors Classification Report and Confusion Matrices generated in 298.531476 seconds.\n"
     ]
    }
   ],
   "source": [
    "t0 = default_timer()\n",
    "\n",
    "# Use the fitted model to generate predictions based on test data.\n",
    "y_pred = k_neighbors_clf.predict(X_test)\n",
    "\n",
    "# Set display labels.\n",
    "labels = [True, False]\n",
    "target_names = ['Major', 'Minor']\n",
    "display_labels = target_names\n",
    "\n",
    "# Store and display the classification report for k-Nearest Neighbors model applied to unbalanced test data.\n",
    "k_neighbors_report = classification_report(y_test, y_pred, labels=labels, target_names=target_names, digits=6, output_dict=True)\n",
    "print('Classification Report for k-Nearest Neighbors on Unbalanced Test Data')\n",
    "print()\n",
    "print(classification_report(y_test, y_pred, labels=labels, target_names=target_names, digits=6))\n",
    "\n",
    "# Display the confusion matrices based on the unbalanced test data.\n",
    "# Create a figure.\n",
    "fig = plt.figure(figsize=(6.4 * 3, 4.8 * 3))\n",
    "fig.suptitle('Confusion Matrices for k-Nearest Neighbors on Unbalanced Test Data', fontsize=20)\n",
    "    \n",
    "ax = plt.subplot(2, 2, 1)\n",
    "ax.set_title('Normalized over True Severity', fontsize=12)\n",
    "plot_confusion_matrix(k_neighbors_clf, X_test, y_test, labels=labels, display_labels=display_labels, normalize='true', ax=ax)\n",
    "    \n",
    "ax = plt.subplot(2, 2, 2)\n",
    "ax.set_title('Normalized over Predicted Severity', fontsize=12)\n",
    "plot_confusion_matrix(k_neighbors_clf, X_test, y_test, labels=labels, display_labels=display_labels, normalize='pred', ax=ax)\n",
    "    \n",
    "ax = plt.subplot(2, 2, 3)\n",
    "ax.set_title('Normalized', fontsize=12)\n",
    "plot_confusion_matrix(k_neighbors_clf, X_test, y_test, labels=labels, display_labels=display_labels, normalize='all', ax=ax)\n",
    "\n",
    "ax = plt.subplot(2, 2, 4)\n",
    "ax.set_title('Not Normalized', fontsize=12)\n",
    "plot_confusion_matrix(k_neighbors_clf, X_test, y_test, labels=labels, display_labels=display_labels, normalize=None, ax=ax)\n",
    "\n",
    "plt.show()\n",
    "\n",
    "print()\n",
    "print('k-Nearest Neighbors Classification Report and Confusion Matrices generated in %f seconds.' % elapsed_time(t0))"
   ]
  },
  {
   "cell_type": "code",
   "execution_count": 107,
   "metadata": {},
   "outputs": [
    {
     "name": "stdout",
     "output_type": "stream",
     "text": [
      "Elapsed time is 588.1288563289563 seconds.\n"
     ]
    }
   ],
   "source": [
    "print_elapsed_time(notebook_start_time)"
   ]
  },
  {
   "cell_type": "markdown",
   "metadata": {},
   "source": [
    "<h2 id=\"decision_tree_classifier\">Building and Test a Decision Tree Classifier<\\h2>"
   ]
  },
  {
   "cell_type": "code",
   "execution_count": 108,
   "metadata": {},
   "outputs": [
    {
     "name": "stdout",
     "output_type": "stream",
     "text": [
      "Classification Report for Decision Tree on Unbalanced Test Data\n",
      "\n",
      "              precision    recall  f1-score   support\n",
      "\n",
      "       Major   0.058833  0.668519  0.108149       540\n",
      "       Minor   0.992457  0.803082  0.887783     29327\n",
      "\n",
      "    accuracy                       0.800650     29867\n",
      "   macro avg   0.525645  0.735801  0.497966     29867\n",
      "weighted avg   0.975577  0.800650  0.873687     29867\n",
      "\n"
     ]
    },
    {
     "data": {
      "image/png": "[encoded data removed]",
      "text/plain": [
       "<Figure size 1382.4x1036.8 with 8 Axes>"
      ]
     },
     "metadata": {
      "needs_background": "light"
     },
     "output_type": "display_data"
    },
    {
     "name": "stdout",
     "output_type": "stream",
     "text": [
      "\n",
      "Decision Tree Classification Report and Confusion Matrices generated in 4.079781 seconds.\n"
     ]
    }
   ],
   "source": [
    "t0 = default_timer()\n",
    "\n",
    "# Make a pipline.\n",
    "decision_tree_pipe = make_pipeline(StandardScaler(with_mean=False), DecisionTreeClassifier(random_state=seed), verbose=False)\n",
    "\n",
    "# Fit the model to the balanced training data.\n",
    "decision_tree_pipe.fit(X, y)\n",
    "\n",
    "# Use the fitted model to generate predictions based on test data.\n",
    "y_pred = decision_tree_pipe.predict(X_test)\n",
    "\n",
    "# Set display labels.\n",
    "labels = [True, False]\n",
    "target_names = ['Major', 'Minor']\n",
    "display_labels = target_names\n",
    "\n",
    "# Store and display the classification report for Decision Tree model applied to unbalanced test data.\n",
    "decision_tree_report = classification_report(y_test, y_pred, labels=labels, target_names=target_names, digits=6, output_dict=True)\n",
    "print('Classification Report for Decision Tree on Unbalanced Test Data')\n",
    "print()\n",
    "print(classification_report(y_test, y_pred, labels=labels, target_names=target_names, digits=6))\n",
    "\n",
    "# Display the confusion matrices based on the unbalanced test data.\n",
    "# Create a figure.\n",
    "fig = plt.figure(figsize=(6.4 * 3, 4.8 * 3))\n",
    "fig.suptitle('Confusion Matrices for Decision Tree on Unbalanced Test Data', fontsize=20)\n",
    "    \n",
    "ax = plt.subplot(2, 2, 1)\n",
    "ax.set_title('Normalized over True Severity', fontsize=12)\n",
    "plot_confusion_matrix(decision_tree_pipe, X_test, y_test, labels=labels, display_labels=display_labels, normalize='true', ax=ax)\n",
    "    \n",
    "ax = plt.subplot(2, 2, 2)\n",
    "ax.set_title('Normalized over Predicted Severity', fontsize=12)\n",
    "plot_confusion_matrix(decision_tree_pipe, X_test, y_test, labels=labels, display_labels=display_labels, normalize='pred', ax=ax)\n",
    "    \n",
    "ax = plt.subplot(2, 2, 3)\n",
    "ax.set_title('Normalized', fontsize=12)\n",
    "plot_confusion_matrix(decision_tree_pipe, X_test, y_test, labels=labels, display_labels=display_labels, normalize='all', ax=ax)\n",
    "\n",
    "ax = plt.subplot(2, 2, 4)\n",
    "ax.set_title('Not Normalized', fontsize=12)\n",
    "plot_confusion_matrix(decision_tree_pipe, X_test, y_test, labels=labels, display_labels=display_labels, normalize=None, ax=ax)\n",
    "\n",
    "plt.show()\n",
    "\n",
    "print()\n",
    "print('Decision Tree Classification Report and Confusion Matrices generated in %f seconds.' % elapsed_time(t0))"
   ]
  },
  {
   "cell_type": "code",
   "execution_count": 109,
   "metadata": {},
   "outputs": [
    {
     "name": "stdout",
     "output_type": "stream",
     "text": [
      "Elapsed time is 592.3641411329736 seconds.\n"
     ]
    }
   ],
   "source": [
    "print_elapsed_time(notebook_start_time)"
   ]
  },
  {
   "cell_type": "markdown",
   "metadata": {},
   "source": [
    "## Compare the Models"
   ]
  },
  {
   "cell_type": "code",
   "execution_count": 110,
   "metadata": {},
   "outputs": [],
   "source": [
    "# Define a list of names for the models in this report.\n",
    "model_names_list = ['Logistic Regression', 'Support Vector Machine', 'k-Nearest Neighbors', 'Decision Tree']"
   ]
  },
  {
   "cell_type": "code",
   "execution_count": 111,
   "metadata": {},
   "outputs": [],
   "source": [
    "# Define a dictionary mapping each model name to its corresponding classifier.\n",
    "model_classifiers = {'Logistic Regression': logistic_regression_pipe,\\\n",
    "                         'Support Vector Machine': support_vector_machine_pipe,\\\n",
    "                         'k-Nearest Neighbors': k_neighbors_clf,\\\n",
    "                         'Decision Tree': decision_tree_pipe}"
   ]
  },
  {
   "cell_type": "code",
   "execution_count": 112,
   "metadata": {},
   "outputs": [],
   "source": [
    "# Define a dictionary mapping each model name to its corresponding classification report.\n",
    "model_report_dict = {'Logistic Regression': logistic_regression_report,\\\n",
    "                         'Support Vector Machine': support_vector_machine_report,\\\n",
    "                         'k-Nearest Neighbors': k_neighbors_report,\\\n",
    "                         'Decision Tree': decision_tree_report}"
   ]
  },
  {
   "cell_type": "code",
   "execution_count": 113,
   "metadata": {},
   "outputs": [],
   "source": [
    "model_performance_df = pd.DataFrame()\n",
    "\n",
    "# This dict will serve as a mapper to rename the generic indices to the names of the models.\n",
    "new_index = dict()\n",
    "for index, name in enumerate(model_names_list):\n",
    "  #print(name, ':', model_report_dict[name]['weighted avg'])\n",
    "  new_index[index] = name\n",
    "  model_performance_df = model_performance_df.append(model_report_dict[name]['weighted avg'], ignore_index=True)\n",
    "\n",
    "model_performance_df.rename(index=new_index, inplace=True)\n",
    "model_performance_df = model_performance_df[['recall', 'precision', 'f1-score']]"
   ]
  },
  {
   "cell_type": "code",
   "execution_count": 114,
   "metadata": {},
   "outputs": [
    {
     "name": "stdout",
     "output_type": "stream",
     "text": [
      "Sort Models By Recall Score:\n"
     ]
    },
    {
     "data": {
      "text/html": [
       "<div>\n",
       "<style scoped>\n",
       "    .dataframe tbody tr th:only-of-type {\n",
       "        vertical-align: middle;\n",
       "    }\n",
       "\n",
       "    .dataframe tbody tr th {\n",
       "        vertical-align: top;\n",
       "    }\n",
       "\n",
       "    .dataframe thead th {\n",
       "        text-align: right;\n",
       "    }\n",
       "</style>\n",
       "<table border=\"1\" class=\"dataframe\">\n",
       "  <thead>\n",
       "    <tr style=\"text-align: right;\">\n",
       "      <th></th>\n",
       "      <th>recall</th>\n",
       "      <th>precision</th>\n",
       "      <th>f1-score</th>\n",
       "    </tr>\n",
       "  </thead>\n",
       "  <tbody>\n",
       "    <tr>\n",
       "      <th>k-Nearest Neighbors</th>\n",
       "      <td>0.864264908</td>\n",
       "      <td>0.974870130</td>\n",
       "      <td>0.912057122</td>\n",
       "    </tr>\n",
       "    <tr>\n",
       "      <th>Support Vector Machine</th>\n",
       "      <td>0.829410386</td>\n",
       "      <td>0.975755168</td>\n",
       "      <td>0.891363270</td>\n",
       "    </tr>\n",
       "    <tr>\n",
       "      <th>Logistic Regression</th>\n",
       "      <td>0.801285700</td>\n",
       "      <td>0.975846344</td>\n",
       "      <td>0.874087965</td>\n",
       "    </tr>\n",
       "    <tr>\n",
       "      <th>Decision Tree</th>\n",
       "      <td>0.800649546</td>\n",
       "      <td>0.975577056</td>\n",
       "      <td>0.873687266</td>\n",
       "    </tr>\n",
       "  </tbody>\n",
       "</table>\n",
       "<p>4 rows × 3 columns</p>\n",
       "</div>"
      ],
      "text/plain": [
       "                            recall   precision    f1-score\n",
       "k-Nearest Neighbors    0.864264908 0.974870130 0.912057122\n",
       "Support Vector Machine 0.829410386 0.975755168 0.891363270\n",
       "Logistic Regression    0.801285700 0.975846344 0.874087965\n",
       "Decision Tree          0.800649546 0.975577056 0.873687266\n",
       "\n",
       "[4 rows x 3 columns]"
      ]
     },
     "execution_count": 114,
     "metadata": {},
     "output_type": "execute_result"
    }
   ],
   "source": [
    "print(\"Sort Models By Recall Score:\")\n",
    "model_performance_df.sort_values(by='recall', axis='index', ascending=False, inplace=True)\n",
    "model_performance_df"
   ]
  },
  {
   "cell_type": "code",
   "execution_count": 115,
   "metadata": {},
   "outputs": [
    {
     "name": "stdout",
     "output_type": "stream",
     "text": [
      "Sort Models By Precision Score:\n"
     ]
    },
    {
     "data": {
      "text/html": [
       "<div>\n",
       "<style scoped>\n",
       "    .dataframe tbody tr th:only-of-type {\n",
       "        vertical-align: middle;\n",
       "    }\n",
       "\n",
       "    .dataframe tbody tr th {\n",
       "        vertical-align: top;\n",
       "    }\n",
       "\n",
       "    .dataframe thead th {\n",
       "        text-align: right;\n",
       "    }\n",
       "</style>\n",
       "<table border=\"1\" class=\"dataframe\">\n",
       "  <thead>\n",
       "    <tr style=\"text-align: right;\">\n",
       "      <th></th>\n",
       "      <th>recall</th>\n",
       "      <th>precision</th>\n",
       "      <th>f1-score</th>\n",
       "    </tr>\n",
       "  </thead>\n",
       "  <tbody>\n",
       "    <tr>\n",
       "      <th>Logistic Regression</th>\n",
       "      <td>0.801285700</td>\n",
       "      <td>0.975846344</td>\n",
       "      <td>0.874087965</td>\n",
       "    </tr>\n",
       "    <tr>\n",
       "      <th>Support Vector Machine</th>\n",
       "      <td>0.829410386</td>\n",
       "      <td>0.975755168</td>\n",
       "      <td>0.891363270</td>\n",
       "    </tr>\n",
       "    <tr>\n",
       "      <th>Decision Tree</th>\n",
       "      <td>0.800649546</td>\n",
       "      <td>0.975577056</td>\n",
       "      <td>0.873687266</td>\n",
       "    </tr>\n",
       "    <tr>\n",
       "      <th>k-Nearest Neighbors</th>\n",
       "      <td>0.864264908</td>\n",
       "      <td>0.974870130</td>\n",
       "      <td>0.912057122</td>\n",
       "    </tr>\n",
       "  </tbody>\n",
       "</table>\n",
       "<p>4 rows × 3 columns</p>\n",
       "</div>"
      ],
      "text/plain": [
       "                            recall   precision    f1-score\n",
       "Logistic Regression    0.801285700 0.975846344 0.874087965\n",
       "Support Vector Machine 0.829410386 0.975755168 0.891363270\n",
       "Decision Tree          0.800649546 0.975577056 0.873687266\n",
       "k-Nearest Neighbors    0.864264908 0.974870130 0.912057122\n",
       "\n",
       "[4 rows x 3 columns]"
      ]
     },
     "execution_count": 115,
     "metadata": {},
     "output_type": "execute_result"
    }
   ],
   "source": [
    "print(\"Sort Models By Precision Score:\")\n",
    "model_performance_df.sort_values(by='precision', axis='index', ascending=False, inplace=True)\n",
    "model_performance_df"
   ]
  },
  {
   "cell_type": "code",
   "execution_count": 116,
   "metadata": {},
   "outputs": [
    {
     "name": "stdout",
     "output_type": "stream",
     "text": [
      "Sort Models By F-1 Score:\n"
     ]
    },
    {
     "data": {
      "text/html": [
       "<div>\n",
       "<style scoped>\n",
       "    .dataframe tbody tr th:only-of-type {\n",
       "        vertical-align: middle;\n",
       "    }\n",
       "\n",
       "    .dataframe tbody tr th {\n",
       "        vertical-align: top;\n",
       "    }\n",
       "\n",
       "    .dataframe thead th {\n",
       "        text-align: right;\n",
       "    }\n",
       "</style>\n",
       "<table border=\"1\" class=\"dataframe\">\n",
       "  <thead>\n",
       "    <tr style=\"text-align: right;\">\n",
       "      <th></th>\n",
       "      <th>recall</th>\n",
       "      <th>precision</th>\n",
       "      <th>f1-score</th>\n",
       "    </tr>\n",
       "  </thead>\n",
       "  <tbody>\n",
       "    <tr>\n",
       "      <th>k-Nearest Neighbors</th>\n",
       "      <td>0.864264908</td>\n",
       "      <td>0.974870130</td>\n",
       "      <td>0.912057122</td>\n",
       "    </tr>\n",
       "    <tr>\n",
       "      <th>Support Vector Machine</th>\n",
       "      <td>0.829410386</td>\n",
       "      <td>0.975755168</td>\n",
       "      <td>0.891363270</td>\n",
       "    </tr>\n",
       "    <tr>\n",
       "      <th>Logistic Regression</th>\n",
       "      <td>0.801285700</td>\n",
       "      <td>0.975846344</td>\n",
       "      <td>0.874087965</td>\n",
       "    </tr>\n",
       "    <tr>\n",
       "      <th>Decision Tree</th>\n",
       "      <td>0.800649546</td>\n",
       "      <td>0.975577056</td>\n",
       "      <td>0.873687266</td>\n",
       "    </tr>\n",
       "  </tbody>\n",
       "</table>\n",
       "<p>4 rows × 3 columns</p>\n",
       "</div>"
      ],
      "text/plain": [
       "                            recall   precision    f1-score\n",
       "k-Nearest Neighbors    0.864264908 0.974870130 0.912057122\n",
       "Support Vector Machine 0.829410386 0.975755168 0.891363270\n",
       "Logistic Regression    0.801285700 0.975846344 0.874087965\n",
       "Decision Tree          0.800649546 0.975577056 0.873687266\n",
       "\n",
       "[4 rows x 3 columns]"
      ]
     },
     "execution_count": 116,
     "metadata": {},
     "output_type": "execute_result"
    }
   ],
   "source": [
    "print(\"Sort Models By F-1 Score:\")\n",
    "model_performance_df.sort_values(by='f1-score', axis='index', ascending=False, inplace=True)\n",
    "model_performance_df"
   ]
  },
  {
   "cell_type": "code",
   "execution_count": 117,
   "metadata": {},
   "outputs": [
    {
     "name": "stdout",
     "output_type": "stream",
     "text": [
      "Elapsed time is 593.4130362189608 seconds.\n"
     ]
    }
   ],
   "source": [
    "print_elapsed_time(notebook_start_time)"
   ]
  },
  {
   "cell_type": "raw",
   "metadata": {},
   "source": [
    "# Build a demo Decision Tree, fit it on all the training data, and print the tree.\n",
    "# This is only for demonstrative purposes.\n",
    "t0 = default_timer()\n",
    "scaler = StandardScaler(with_mean=False)\n",
    "demo_decision_tree_clf = DecisionTreeClassifier(random_state=seed)\n",
    "demo_decision_tree_clf.fit(scaler.fit_transform(X),y)\n",
    "vertical_scale_factor = 2\n",
    "horizontal_scale_factor = 3.5\n",
    "dpi = 10 * 100\n",
    "fig = plt.figure(figsize=[horizontal_scale_factor * 6.4, vertical_scale_factor * 4.8], dpi=dpi)\n",
    "_ = plot_tree(demo_decision_tree_clf, feature_names=encoder.get_feature_names(), filled=True, proportion=True, class_names=True)\n",
    "# Save decision tree figure to file with a unique name using the system time.\n",
    "fig.savefig('../decision_tree-{}x{}-{}dpi-{}.png'.format(str(horizontal_scale_factor), str(vertical_scale_factor), str(dpi),\\\n",
    "                                                      str(int(os.times()[4]))))\n",
    "plt.show()\n",
    "print('Decision Tree plotted in %f seconds.' % elapsed_time(t0))"
   ]
  },
  {
   "cell_type": "raw",
   "metadata": {},
   "source": [
    "# Print text representation of decision tree.\n",
    "t0 = default_timer()\n",
    "text_representation = export_text(demo_decision_tree_clf)#, feature_names=encoder.get_feature_names())#, show_weights=True)\n",
    "print(text_representation)\n",
    "print('Text Representation of Decision Tree plotted in %f seconds.' % elapsed_time(t0))"
   ]
  }
 ],
 "metadata": {
  "kernelspec": {
   "display_name": "Python 3",
   "language": "python",
   "name": "python3"
  },
  "language_info": {
   "codemirror_mode": {
    "name": "ipython",
    "version": 3
   },
   "file_extension": ".py",
   "mimetype": "text/x-python",
   "name": "python",
   "nbconvert_exporter": "python",
   "pygments_lexer": "ipython3",
   "version": "3.8.3"
  }
 },
 "nbformat": 4,
 "nbformat_minor": 4
}
